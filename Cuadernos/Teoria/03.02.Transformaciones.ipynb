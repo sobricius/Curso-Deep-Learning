{
  "nbformat": 4,
  "nbformat_minor": 0,
  "metadata": {
    "colab": {
      "provenance": []
    },
    "kernelspec": {
      "name": "python3",
      "display_name": "Python 3"
    },
    "language_info": {
      "name": "python"
    }
  },
  "cells": [
    {
      "cell_type": "markdown",
      "metadata": {
        "id": "KY4KKkdfiPLH"
      },
      "source": [
        "# Transformaciones habituales en Deep Learning"
      ]
    },
    {
      "cell_type": "code",
      "metadata": {
        "id": "01XKXrsPNi7u"
      },
      "source": [
        "from keras.utils import to_categorical, normalize\n",
        "from sklearn.preprocessing import LabelEncoder\n",
        "import pandas as pd\n",
        "import numpy as np\n",
        "from sklearn.preprocessing import MinMaxScaler, StandardScaler"
      ],
      "execution_count": 1,
      "outputs": []
    },
    {
      "cell_type": "markdown",
      "metadata": {
        "id": "QKZLbp67RkLg"
      },
      "source": [
        "## LabelEncoder\n",
        "\n",
        "Convierte array con valores de cualquier tipo a un array con de valores enteros, donde cada entero corresponde a uno de los valores presentes en el array original.\n",
        "\n",
        "Los enteros asignados comienzan en cero y son consecutivos."
      ]
    },
    {
      "cell_type": "code",
      "metadata": {
        "colab": {
          "base_uri": "https://localhost:8080/"
        },
        "id": "scM0vRCROsKU",
        "outputId": "3d6fb5ef-cc9b-4147-ba10-f482d10457bf"
      },
      "source": [
        "niveles = ['alto', 'medio', 'medio', 'bajo', 'nulo', 'bajo']\n",
        "labenc = LabelEncoder()\n",
        "# Entrenamiento: array con todos los valores posibles (clases):\n",
        "labenc.fit(niveles)\n",
        "\n",
        "# Codificación: conversión de un vector:\n",
        "niveles_enc = labenc.transform(niveles)\n",
        "print(niveles,'->',niveles_enc)\n",
        "\n",
        "# Listado de las clases detectadas -> el entero asignado a cada una coincide con su posición:\n",
        "print('Clases detectadas:', labenc.classes_)\n",
        "\n",
        "# Transformación inversa: dado un array de enteros devuelve el array con las clases correspondientes:\n",
        "cod = [0,1,1,2,1,3]\n",
        "print('Descodificación:',cod, '->', labenc.inverse_transform(cod))"
      ],
      "execution_count": 2,
      "outputs": [
        {
          "output_type": "stream",
          "name": "stdout",
          "text": [
            "['alto', 'medio', 'medio', 'bajo', 'nulo', 'bajo'] -> [0 2 2 1 3 1]\n",
            "Clases detectadas: ['alto' 'bajo' 'medio' 'nulo']\n",
            "Descodificación: [0, 1, 1, 2, 1, 3] -> ['alto' 'bajo' 'bajo' 'medio' 'bajo' 'nulo']\n"
          ]
        }
      ]
    },
    {
      "cell_type": "markdown",
      "metadata": {
        "id": "Wi7qaxKeSn--"
      },
      "source": [
        "## Codificación One-hot con Keras\n",
        "\n",
        "Genera una columna para cada valor detectado. La entrada debe ser un array de enteros comenzando en cero. También genera una columna para los valores enteros no detectados."
      ]
    },
    {
      "cell_type": "code",
      "metadata": {
        "colab": {
          "base_uri": "https://localhost:8080/"
        },
        "id": "GzpdOFX8OLns",
        "outputId": "e5c8dced-7d1b-48c4-9a10-ab5ce0159fb2"
      },
      "source": [
        "y = np.array(niveles_enc)\n",
        "yoh = to_categorical(y)\n",
        "print(y)\n",
        "print(yoh)"
      ],
      "execution_count": 3,
      "outputs": [
        {
          "output_type": "stream",
          "name": "stdout",
          "text": [
            "[0 2 2 1 3 1]\n",
            "[[1. 0. 0. 0.]\n",
            " [0. 0. 1. 0.]\n",
            " [0. 0. 1. 0.]\n",
            " [0. 1. 0. 0.]\n",
            " [0. 0. 0. 1.]\n",
            " [0. 1. 0. 0.]]\n"
          ]
        }
      ]
    },
    {
      "cell_type": "markdown",
      "source": [
        "![image.png](data:image/png;base64,iVBORw0KGgoAAAANSUhEUgAAAfsAAACcCAYAAAB4DQKEAAAfA0lEQVR4nO3df1Acdd4n8HcEwiDD8tP5gSiRCWTJIjl21eDFWSOYaJ6zyClrNmtdyqwx1vkIV8+Tuis1ezw5za2m6nkqz9Um0Suz7JJyy+SJ5mGl1s3GLITbkSdBH41BlAiZWYjIzBAIiZlZhjDI/UGmQ9M9/MjCfHt63q+qlNXfnun+gE1/+vuzF42Pj4+DiIiIdOsm0QEQERHRwmKyJyIi0jkmeyIiIp1jsiciItK5eLXCz/v+gs/7fJGOJSpsuMskOgTNOvihF3E3LRIdhibxugnvN6e8WBzP60bNhrtMOPzv/aLD0KRH7szEic5L8I+MiQ5Fc1YvS4cpJUFWpprsrwa/hS/AXyDNzfDVb0WHQFHoavBbXA2KjkK7eC9W9+044B8Z4+9Hxdi3ykl2bMYnIiLSOSZ7IiIinWOyJyIi0jkmeyIiIp1jsiciItI5JnsiIiKdi7pkn/HGq7DZs5Ho7BAdChERUVRQnWc/35JbjsPywpOK8oFtr+Dyo5sjEQLFiERnB3I2l8vKnI4+QdFQtMl9/B7Ee3rRW9eIEVuh6HA042BdJXy+64v7lK/biTzbaoERacfLTefRMxSQttcvz0RFYabAiNRFtGbv2XUATkcfnI4+DG2qRtbu7Uitr5vTMS4+8yKcjj7+IZJCcstx5Gwux8C2V6TrbHhFKWz2bNGhkcal1tfBZs9GvKdXdCias3+vHWZrEbZWObC1yoHiko1oPFoDl7NZdGjCbXvPBQCorSxAbWUB1i/PxLtfDKKhY1BwZErCmvEvPvMiAMDQ/rGoEEhnUg++juEVpbLWosG///nEvjk+VFLsSHR2IGv3dgxtqsbAtldEh6MprS37AABlD70kla1c9RyMRhO6z50QFZYmNHQM4nIgiI3Ft0hlFYWZyE034FO3X2Bk6jTXZ59d9Rhs9mzpn3lntWx/6Al8ap/95O/Y7Nm8ucegpDOnECi+W1Y2YitE0JLDh0oKa8RWCKejT6qA0HVedzvMliJFudlaBK+7XUBE2tE9NIJUQzwKspJk5blpibJmfa2ISJ+9mlAS95VVSGW5j98DQN7HarNnI877Nfr2/qvqcUJ9tL61lfDW7AFwfYxA3AU3/4BjxEwDNuO8X0coEiL98Pv6kWxUf4nT5D78WHQpMP0LHToHhhUPAiJFNNlPHqQXtOTIknpqfZ00MGaygW2vIGv3diQ6O1T76dPeeg1BS46U6AHAv2oNfGsrkXK8nsk+xozdYlWUjZpzBERCpA/GFGWyD/cAEGvSkpQpNF2lTAuEDNDz7DqAeE8vMt54VdoXd8ENAIqEHjTdCgBhB87Eeb9WvZmPmjnYJhaFrqPJEry8DohulO+Ksgbvj/FafcilYWXtfkilTAuE9NmHat7pb+6Z+cNEszDT7Iwx860RioRIP6arwRtjvHafZpi+Bq+lJnxA4AC9S0/8LQBItftQ8+vUvtf4/om+1qBFvSl2zHyras0twdsX9jukT8MrSmFo+0hWlujsQLynF4GiHwiKiih6ma1F8HqUA/G87naYrcqBe7FkSXoiLgeC6BwYlpX3XBpBbrpBUFThCUv2I7ZCDK8oRcrxegCQpktl/vPPpM+EpsT41laGrbn5yioUXQKp9XUwvn9EeqCg2OAvr0DSmVOymRiWF55E0JLDxZuIboAt/0EAQNOxHVJZ07Ed8Pn6UVzyhKiwNCG0cM6htgtS2YFPvOgZCqAsL01UWGEJHUngL69A1u7tSG45Dv+qNXA6+pD7+D2yRVCGNlVPO8jOv2oNeusakbO5XNYt4Nl1AP5VaxY0ftKWUELP2r0dWbu3A5io7YebyUEEqK+6GNqe6f6jd1mmZXh0wy9Rf/hpOLuapPKtVQ6BUWlHbWUBthzpxJYjnVLZ8/ffprkmfCBCyT6UyKe6/OhmRY2r5+0P53z80DxZIrVrimg6vH9ML8u0jMl9GrWVBaJDmBXNLaozE0P7xwhacrhcLhER0Sxpc0Kgiskv0+GSlkRERLMXNck+XFcAERERTS/qmvGJiIhobpjsiYiIdI7JnoiISOeY7ImIiHROdYBebqYBxsS4SMdCUa44x4hUjb7xibQrN9OA2zO0t7yoVtjztbcamxYkJtyEe5Z8B6Nj46JD0Ry1t/Gp3pl9I0F4vhlZ8ICiUb5ZeysjacVF/yiGR8dEh6FJvG7CuxIY4/0mjHxzEn83YdyekYh+31WMjH4rOhTNMX0nAUlTGu5Vk/2gL4gu77DarpjHp+zweod4UwqH1014F/2juOgfFR2GJtnz03gvDqPkthR0DwTgC7CCMdVS081InVK/YJ89ERGRzjHZExER6RyTPRERkc4x2RMREekckz0REZHOMdkTERHpnG6SfcM7z6LhnWdFh0FERKQ585rsW1v2Yf9eOwb6v1Td33RsB/bvtc/nKYmIiGgG87q2qS3/QbSdPgRn1x+RZVqm2O91t8OWXzafpyRSFXqo3FrlEBwJRQubPVu23VvXiBFboaBotKfhnWfh9bSjfN1O5NlWiw5HM15uOo+eoYC0vX55JioKMwVGpG5ea/ZZpmUwW4rg6mpS7HM5m+Hz9WPJ0gfm85REMqHWJaLZSnR2wGbPxtCmajgdfXA6+uBbW4mczeVIdHaIDk84l7MZ+/fa4fW0iw5Fc7a95wIA1FYWoLayAOuXZ+LdLwbR0DEoODKleX9ryR35D+CUYw9czmbZ01/3uRMwGk2ysoN1lfD5+qXtyU+MA/1fov7w0yhftxONR2sAAMUlG7Fy1XPSvpDiko2qsXx25jBOOfZI22ZLESp+9Pr8/KCkOS5nM9pOH0KpvRp/8V1A2+lDokOiKJD21msIWnJw8ZkXpTJvzR4Y3z+C5MbfxnztvvFoDWz5ZViy9AHpXkxAQ8cgLgeC+K8rrVJZRWEmPnX78anbr7na/bwn+ztXbMApxx5c8HwuS+zOriZZUt6/1y4lb2AiMTcerQGmNBE1Hq1RNBvVH34atvwylD30EoDrzUtmS5H0mdaWfWg7fUjWjHuwrhIN7zzLhK9TebbVyLv2/7u1ZZ/gaChaGNpaESheqSgfXlEKQ9tHAiLSltA91OVsFhyJtnQPjSDVEI+CLPki9LlpifjTny8Liiq8BRmNb8svkzXlf3bm8LXyBwFM3IiNRpOU6IGJhwSj0YTucydkxyou2ShL9KFjFZc8IZVV/Oh1WaIHINXwJisq+TG8nvawAwiJKPbEe3rD7kvwht9Hse1SIDjt/s4Bbb3AaEFePr5k6QNwdjVJTfkXPJ/DbCmSBu35ff3w+fpV+1bNU7ZvNt4i277g+RxGo0l1AGBIKJmfcuyRNeMTEakZNWcrysbMtzLZ07TU3hufrlKmBQsSVZ5tNVqv1dLzbKvh7GpS1LKNRhN+svnIQpxeUmqvxp0rNizoOYgo+iV4+xRlcd6vBURC0eTSsLJ2P6RSpgUL9ghithbB2dWEWyzfAwBZ0k02mmQD8+Yi3Hf9vn4kG00AINX6/+K7cEPnIKLYEbTkhN03ag6/j2JbmiFeNdmHTO3LF23BVtALTbE75dijmFsf6rufuuJdwzvPzjgIJPTdpmM7ZN+b+gBgyy9D2+lDsuO5nM1cZY+IZALFK2Foa1WUJ505hUDx3QIiomiwJD0RlwNBRd98z6UR5KYbBEUV3oLV7ENN+Wpz67NMy7C1yoH9e+2yfvtSe/WMizVkmZZJ0/Gc1wYBltqrYUwxwXflesIve+glJBtNaDxag8ZrZZHoOiCi6OIrq4Dx/SPIeONVafpddtVjACCbjkc0WUXhxJz6Q20X8A9ltwMADnziRc9QAD/9gUVwdEqLxsfHx6cWnj7vw+nzV0TEo3lP3Wed+UMx6lcfuIWe3+VsDjsPWPT4DV434Ym+bgAgueU4LC88KW0HLTnoeftDgRFNeOo+q/DfT7hFqiZPfxZhw10m/L59EL7AmLAYAGDLkU7Z9vP33ya8CX/dnZmwpi6WlWlz2CDRDZg8z55oLvyr1sDpUA7SIy45PZPaygLRIcyKbt56R0REROqY7ImIiHSOyZ6IiEjnmOyJiIh0jsmeiIhI55js9cRTBwQviY6CooH3N6IjIKIIUp16l2mMR75ZW0v90SwEuoEvfwp8r17I6XPSE5G0mM+PUaHrWeA7pUDSUtGRICM5AZlGzgIOh/didQlxi7Aky4CR0W9Fh6I5N6vch1X/woyJ8bB8J3HBA6IFMPBboPf/ADl/F/FTZyQnIFWjb3yiKcZ8QMdPgJKTwCKx/89SDHG830yDvxt1N920CCbjYoyOKdaFi3mL42aZ7HsGA1xBL4yoeMp2/Q8g9T4g5a6Inrat1xfR80UTTV43V/4d+POLQN4/Cg2jZzCAnsGA0Bi0Kt+cBEcXu+bUWFNN+LD7G+Er6GnRujszkbRYvoIe21z1aDwIfP4oMDogOhLSuq/+Cbj4B9FRENECY7LXq5Fe4Owm0VFQNPjyp8BVj+goiGgBMdnr2cU/AOd3iY6CtO6qZyLhE5FuMdnrXXcNcPkD0VGQ1l38w0STPhHpEodOa9mZB+b2+UC3smw8ODHq+gengYSs+YmLtGeu14qaP78IpK2O+MBOIlp4TPZadql5fo4T6r+/8+j8HI+0Zz6ulckPhnHGv/54RKQZbMaPFey/p9kYPjex4A4R6Ypukn3DO8+i4R3epKbF/nuaDe9vuJwukc7MazN+a8s+tJ0+hEc3/BJZpmWK/U3HdsDZ1YStVY75PC3N1ngQ+OLxiWbaxRbR0Syo/XvtAMBr7UZpaDndSLHZs2XbvXWNGLEVCopGexreeRZeTzvK1+1Enm216HA04+Wm8+gZur4o1PrlmagozBQYkbp5rdnb8h8EADi7/qi63+tuhy2/bD5PSXN11TPRfz8eFB3Jgmht2SclevorhJbT1el1MlmiswM2ezaGNlXD6eiD09EH39pK5GwuR6KzQ3R4wrmczdi/1w6vp110KJqz7T0XAKC2sgC1lQVYvzwT734xiIaOQcGRKc1rss8yLYPZUgRXV5Nin8vZDJ+vH0uWzsOoYfrrDP0R6PnfoqOYdy5nM9pOH0KpvRrFJRtFhxP9Qsvp6lzaW68haMnBxWeu/6zemj0AgOTG34oKSzMaj9bAll+G8nU7RYeiKQ0dg7gcCGJj8S1SWUVhJnLTDfjU7RcYmbp5H41/R/4DOOXYA5ezWdbU033uBIxGk6zsYF0lfL5+aXty89BA/5eoP/w0ytftROPRGgBAcclGrFz1nLQvJNyN/bMzh3HKsUfaNluKUPGj1+fnB412538+sX5++oOiI5k3ebbVyLvWbN/ask9wNDrx1T8BaeVAxsOiI1kwhrZWBIpXKsqHV5TC0PaRgIi0JdQV5nLO0+wgnegeGkGqIR4FWfL3XuSmJeJPf74sKKrw5n2A3p0rNgAALng+l5U7u5qQN6kJf/9eO/Lyy7C1yoGtVQ6U2qvReLRGcUE1Hq1B+bqd2FrlwMpVzwEA6g8/Dduk73rd7YomptaWfTjl2CN9ZmuVA35fPwfxhYwHJ16YQzQTndfu4z29YfcleMPvo9h2KTB9F1fnwHCEIpmdBRmNb8svkzXlf3bm8LXyiVpka8s+GI0mKXkDEw8JRqMJ3edOyI5VXLJR1hoQOlZxyRNSWcWPXofZUiT7Xqg5d7Kikh/D62nHQP+Xf82Ppw+L4oW/7YyixB2vio5gwY2asxVlY+ZbBURC0SRN5ZXe6Rp9zfeCRLVk6QNwdjVJTfkXPJ/DbCmSRuj7ff3w+fpVB1KZp2zfbLxFtn3B8zmMRpPqaP+QUDI/5dgja8anSW7/ma6a8GmB3Pbfdd2EH5Lg7VOUxXm/FhAJRZNLw8ra/ZBKmRYsSLLPs61G67Vaep5tNZxdTYpattFowk82H1mI00tK7dVStwJNkv4gkPs/RUdBWpdyV0zU6oOWnLD7Rs3h91FsSzPEqyb7kKl9+aIt2KI6ZmsRnF1NUrP75KSbbDTJBubNRbjv+ieVhWr9f/FduKFz6NpiC/DdNyea8YnCiTMChQdj4joJFK+Eoa1VUZ505hQCxXcLiIiiwZL0RFwOBBV98z2XRpCbbhAUVXgLluxDU+xOOfYo5taH+u6nDpZreOfZGUd8hr7bdGyH7HtTHwBs+WVoO31IdjyXszm2B+gtigeWv637BXVoHuS/HjML6vjKKhDv6UXGG9dbMbKrHgMA2XQ8oslCC+ccarteqTzwiRc9QwGU5aWJCiusBXtsDzXlq82tzzItw9YqB/bvtcv67Uvt1TOuzJRlWiZNx3NeGwRYaq+GMcUE35XrCb/soZeQbDSh8WgNGq+VRaLrQNOW7JyYbqdTLmezNE0zJHR9sUtnDsz/ZeJfjPCvWgPPrgOwvPAk0t+cGOMTtOTA6VD248eiqWOrQvdUW34Zyh56SUxQGlFbWYAtRzqx5UinVPb8/bdprgkfABaNj4+PTy08fd6H0+eviIhH8566zxq5k/2/RfN3rIyHF/ytd7/6wL2gx49mC37dzNe1krQ04m+943UT3lP3Wfn7CWPDXSb8vn0QvsCY6FA0Z92dmbCmLpaV6b9DLpqlzXH96UC3+jvtE3Mm+ulJv+Z6rai9EndR/EQ/PV9vS6Q7TPZatuLEzJ+ZrPt/AT1TmtVCN/CErPmLi7RnrteKWkvAHa9OjMAnIt3RzStuKQyd99PTPMl4eGJOPRHpEpO9nmU8DNz+gugoSOsWW4BlvxYdBREtICZ7vWI/Pc3Wsl9zOiaRzjHZ69GieOB79eynp5nFyHK4RLFOdYBeiiFOMWyfokjePwoZaJWRnIDE+HmcLkgLSyPL4RoNcUhJjBMdhmbxXqwu7qZFMKUsRkoip95NpXYfVk32ltTFSOYfX3TK+s9Azt8JOXW+OQkZyQlCzk1zpKHlcK2pi7HUdLPoMDTrP9yeIjoETVocvwjLs2/G2LeiI9Eeo0r+Vv1L7/IOc1GdMCK6qM5cGZYIS/QA0Or6Rti5tU5z142GlsPt8g6jy6utd39rxVP3WXH0s0HRYWjShrtMaP7yEhfVUcFFdfTOsll0BBQtYmg5XCLiAD0iIiLdY7InIiLSOSZ7IiIinWOyJyIi0jkmeyIiIp1jsiciItI5XSb73/3uQ9TWHhMdBhERkSYImWdfW3sMfn8A995biLvvLhARAunUy03n0TMUkLZXWI34b/8xW2BEFC1sdvl10lvXiBFboaBotOVgXSV8vn5pu3zdTuTZVguMSFt+8W99OOP2Yf3yTFQUZooOR1XEa/Znz34Fvz8AszkdLpcn0qcnHTvwiRdphnjUVhagtrIA65dn4ozbh1/8W5/o0EjDEp0dsNmzMbSpGk5HH5yOPvjWViJnczkSnR2iwxNu/147zNYibK1yYGuVA8UlG9F4tAYuZ7Po0ITrHBjGliOdOOP2iQ5lRhFP9ufOuZGXZ0VengVe7xDc7ouRDoF06snvm2W1+IrCTKQa4tE9qaZPNFXaW68haMnBxWdelMq8NXsAAMmNvxUVlia0tuwDAJQ99JJUtnLVczAaTeg+d0JUWJrxf1vdyE034Pn7bxMdyowi3ozvcrmxdu338d3v3oaTJztw9steWK0Z0v5/+Zc/wesdkn0nL8+KRx65B2fPfoX33/9E+n5Ibe0xmM3peOSReyL2cxCRPhjaWhEoXqkoH15RCkPbRwIi0g6vux1mS5Gi3GwtgtfdLiAibdn9n/IATNTwtS6iyf6jjzoBQErUZnM6XE43HlhdLH3mxz/+oezzJ092YOlSjb1EhKJC58AwLgeCWGE1ig6FNCze0wuoJHsASPD2RjgabfH7+pFsNKnum9yHT9oX0WZ8l8uDvLzriTsvzwK/P4CzZ79S/fzJkx3Iy7PKavFEs/WHzokWoocL0gVHQlo3alYO4hwz3yogEu0xpiiTfbgHANKuiCV7t/sivN4hmM1pUlloJP65c27F53/3uw8BgE3zdEMaOgal0bEFWUmiwyGNS/AqB3HGeb8WEIn2+K4oa/B+1uqjTsSa8c9+OdEcdvJkB06elI9wdbnkyf7s2a/gcrlx772c9kJz19AxiHe/GMQP70jV7DQY0o6gJSfsvlFz+H2xYLoavJG1+6gSsWTvcrqlgXaThQbdffRRp1TTb2n5AmZzumIOfmpqMgDgyhXtD4YgMT7o/kZK9E9+3yw6HIoCgeKVMLS1KsqTzpzC0KZqARFph9lahLbThxTlXnc7zFblwD3Srog044fm1qsNtAv1x3u9lwAAJ5rb4PcH8MMfKi8kqzUDyckG2fz80AI9RB90f4Nff+zBCquRiZ5mzVdWgXhPLzLeeFUqy656DABk0/FikS3/QQBA07EdUlnTsR3w+fpRXPKEqLDoBkSkZn/unBvJyYawA+3y8qxSU77LOfHft992SPuTkw3YsuUhAMDf/M3dePttB37xi3cBAPfeW8jFeQgA0OSaeGA84/Zhy5FO2T4tr2xFYvlXrYFn1wFYXngS6W9OzK8PWnLgdHAxpizTMjy64ZeoP/w0nF1NUvnWKsc034od295z4XIgKG2/+8VEF2JuugH/UHa7wMiUFo2Pj49PLTx93ofT56+IiEfznrqP0wDD+dUHyoGWNIHXTXi8bsJ76j4rfz9hbLjLhN+3D8IXGBMdiuasuzMT1tTFsjJdvgiHiIiIrmOyJyIi0jkmeyIiIp1jsiciItI5JnsiIiKdY7InIiLSOSZ7IiIinVOdZ090I9yXryrmdhLN5PR5H0pu52uIiRaS6gp6XFQnPC6OEt7RzwZFh6BZvG7CO33+Cu83YXBRnfC4qE54XFSHiIgoBjHZExER6RyTPRERkc4x2RMREekckz0REZHOMdkTERHpHJM9ERGRzkVdss9441XY7NlIdHaIDoWIiCgqqC6qM9+SW47D8sKTivKBba/g8qObIxECxYhEZwdyNpfLypyOPkHRULTJffwexHt60VvXiBFboehwNONgXSV8vn5pu3zdTuTZVguMSDtebjqPnqGAtL1+eSYqCjMFRqQuojV7z64DcDr64HT0YWhTNbJ2b0dqfd2cjnHxmRfhdPTxD5EUkluOI2dzOQa2vSJdZ8MrSmGzZ4sOjTQutb4ONns24j29okPRnP177TBbi7C1yoGtVQ4Ul2xE49EauJzNokMTbtt7LgBAbWUBaisLsH55Jt79YhANHdpbTVRYM/7FZ14EABjaPxYVAulM6sHXMbyiVNZaNPj3P5/YN8eHSoodic4OZO3ejqFN1RjY9orocDSltWUfAKDsoZekspWrnoPRaEL3uROiwtKEho5BXA4EsbH4FqmsojATuekGfOr2C4xMneb67LOrHoPNni39M++slu0PPYFP7bOf/B2bPZs39xiUdOYUAsV3y8pGbIUIWnL4UElhjdgK4XT0SRUQus7rbofZUqQoN1uL4HW3C4hIO7qHRpBqiEdBVpKsPDctUdasrxUR6bNXE0rivrIKqSz38XsAyPtYbfZsxHm/Rt/ef1U9TqiP1re2Et6aPQCujxGIu+DmH3CMmGnAZpz36whFQqQffl8/ko0m1X2T+/Bj0aVAcNr9nQPDigcBkSKa7CcP0gtacmRJPbW+ThoYM9nAtleQtXs7Ep0dqv30aW+9hqAlR0r0AOBftQa+tZVIOV7PZB9jxm5Rvl1u1JwjIBIifTCmKJN9uAeAWJOWpEyh6SplWiBkgJ5n1wHEe3qR8car0r64CxOvcZya0IOmWwEg7MCZOO/XqjfzUTMH28Si0HU0WYKX1wHRjfJdUdbg/TFeqw+5NKys3Q+plGmBkD77UM07/c09M3+YaBZmmp0xZr41QpEQ6cd0NXhjjNfu0wzT1+C11IQPCBygd+mJvwUAqXYfan6d2vca3z/R1xq0qDfFjplvVa25JXj7wn6H9Gl4RSkMbR/JyhKdHYj39CJQ9ANBURFFL7O1CF6PciCe190Os1U5cC+WLElPxOVAEJ0Dw7LynksjyE03CIoqPGHJfsRWiOEVpUg5Xg8A0nSpzH/+mfSZ0JQY39rKsDU3X1mFoksgtb4OxvePSA8UFBv85RVIOnNKNhPD8sKTCFpyuHgT0Q2w5T8IAGg6tkMqazq2Az5fP4pLnhAVliaEFs451HZBKjvwiRc9QwGU5aWJCissoSMJ/OUVyNq9Hcktx+FftQZORx9yH79HtgjK0KbqaQfZ+VetQW9dI3I2l8u6BTy7DsC/as2Cxk/aEkroWbu3I2v3dgATtf1wMzmIAPVVF0PbM91/9C7LtAyPbvgl6g8/DWdXk1S+tcohMCrtqK0swJYjndhypFMqe/7+2zTXhA9EKNmHEvlUlx/drKhx9bz94ZyPH5onS6R2TRFNh/eP6WWZljG5T6O2skB0CLOiuUV1ZmJo/xhBSw6XyyUiIpolbU4IVDH5ZTpc0pKIiGj2oibZh+sKICIioulFXTM+ERERzQ2TPRERkc4x2RMREekckz0REZHOLRofHx+fWng1+C2uBhXFBMBoiBMdgma5LgzDlLJYdBiaxOsmvFbXN/hedrLoMDTJaIiDLzAmOgxNujkxDsNXx6DMYJS0+CbE3bRIVqaa7ImIiEg/2IxPRESkc0z2REREOsdkT0REpHNM9kRERDr3/wGkbiMD5QtotgAAAABJRU5ErkJggg==)"
      ],
      "metadata": {
        "id": "uM-vt3tvv1X8"
      }
    },
    {
      "cell_type": "markdown",
      "metadata": {
        "id": "oCPqyPrYT83M"
      },
      "source": [
        "## Codificación One-hot con Pandas\n",
        "\n",
        "Genera una columna para cada valor detectado. La entrada puede ser de cualquier tipo y formato. A diferencia de `to_categorical`, no genera columnas innecesarias.\n"
      ]
    },
    {
      "cell_type": "markdown",
      "metadata": {
        "id": "LYw043iEWdke"
      },
      "source": [
        "#### A partir de una lista de valores (array, serie, etc.)"
      ]
    },
    {
      "cell_type": "code",
      "metadata": {
        "colab": {
          "base_uri": "https://localhost:8080/"
        },
        "id": "1PSTzWzhO7Bj",
        "outputId": "0e177c0a-d7e7-4511-ca69-ab58e860060a"
      },
      "source": [
        "niveles = ['alto', 'medio', 'medio', 'bajo', 'nulo', 'bajo', np.nan]\n",
        "print(niveles,\"\\n\")\n",
        "oh = pd.get_dummies(niveles) # devuelve dataframe\n",
        "print(oh,\"\\n\")"
      ],
      "execution_count": 4,
      "outputs": [
        {
          "output_type": "stream",
          "name": "stdout",
          "text": [
            "['alto', 'medio', 'medio', 'bajo', 'nulo', 'bajo', nan] \n",
            "\n",
            "   alto  bajo  medio  nulo\n",
            "0     1     0      0     0\n",
            "1     0     0      1     0\n",
            "2     0     0      1     0\n",
            "3     0     1      0     0\n",
            "4     0     0      0     1\n",
            "5     0     1      0     0\n",
            "6     0     0      0     0 \n",
            "\n"
          ]
        }
      ]
    },
    {
      "cell_type": "markdown",
      "metadata": {
        "id": "YczFkVO1ZRIJ"
      },
      "source": [
        "Con una columna propia para el valor NaN:"
      ]
    },
    {
      "cell_type": "code",
      "metadata": {
        "colab": {
          "base_uri": "https://localhost:8080/"
        },
        "id": "zZF1o_XCZRT_",
        "outputId": "732db860-275b-42e4-a7a4-37bf60706644"
      },
      "source": [
        "ohNan = pd.get_dummies(niveles, dummy_na=True)\n",
        "print(ohNan,\"\\n\")"
      ],
      "execution_count": 5,
      "outputs": [
        {
          "output_type": "stream",
          "name": "stdout",
          "text": [
            "   alto  bajo  medio  nulo  NaN\n",
            "0     1     0      0     0    0\n",
            "1     0     0      1     0    0\n",
            "2     0     0      1     0    0\n",
            "3     0     1      0     0    0\n",
            "4     0     0      0     1    0\n",
            "5     0     1      0     0    0\n",
            "6     0     0      0     0    1 \n",
            "\n"
          ]
        }
      ]
    },
    {
      "cell_type": "markdown",
      "metadata": {
        "id": "Nk2TZfQxWhz1"
      },
      "source": [
        "#### A partir de un DataFrame"
      ]
    },
    {
      "cell_type": "markdown",
      "metadata": {
        "id": "PdvBmLy6YlIp"
      },
      "source": [
        "Las columnas numéricas no se codifican:"
      ]
    },
    {
      "cell_type": "code",
      "metadata": {
        "colab": {
          "base_uri": "https://localhost:8080/"
        },
        "id": "ghSodqKpWhsW",
        "outputId": "18c25d1d-2254-4185-eae8-8f131f6c8f35"
      },
      "source": [
        "df = pd.DataFrame({'A': ['a', 'b', 'a'],\n",
        "                   'B': ['d', 'a', 'c'],\n",
        "                   'C': [1, 2, 3]})\n",
        "print(df,'\\n')\n",
        "print(pd.get_dummies(df))\n"
      ],
      "execution_count": 6,
      "outputs": [
        {
          "output_type": "stream",
          "name": "stdout",
          "text": [
            "   A  B  C\n",
            "0  a  d  1\n",
            "1  b  a  2\n",
            "2  a  c  3 \n",
            "\n",
            "   C  A_a  A_b  B_a  B_c  B_d\n",
            "0  1    1    0    0    0    1\n",
            "1  2    0    1    1    0    0\n",
            "2  3    1    0    0    1    0\n"
          ]
        }
      ]
    },
    {
      "cell_type": "markdown",
      "metadata": {
        "id": "7hW_Rkv6Yuri"
      },
      "source": [
        "Para que se codifiquen las columnas enteras, hay que especificar las columnas a usar:"
      ]
    },
    {
      "cell_type": "code",
      "metadata": {
        "colab": {
          "base_uri": "https://localhost:8080/"
        },
        "id": "rbg3jrPDVSu1",
        "outputId": "02817b39-dabb-4569-d6cc-99bd7a9e5cb4"
      },
      "source": [
        "print(df,'\\n')\n",
        "print(pd.get_dummies(df, columns=['B', 'C'])) # la columna A se excluye"
      ],
      "execution_count": 7,
      "outputs": [
        {
          "output_type": "stream",
          "name": "stdout",
          "text": [
            "   A  B  C\n",
            "0  a  d  1\n",
            "1  b  a  2\n",
            "2  a  c  3 \n",
            "\n",
            "   A  B_a  B_c  B_d  C_1  C_2  C_3\n",
            "0  a    0    0    1    1    0    0\n",
            "1  b    1    0    0    0    1    0\n",
            "2  a    0    1    0    0    0    1\n"
          ]
        }
      ]
    },
    {
      "cell_type": "markdown",
      "metadata": {
        "id": "L_PE9WoUZmwP"
      },
      "source": [
        "## Normalización\n",
        "\n",
        "Escalado de la información (por columnas) de forma que los valores estén en el intervalo [0,1].\n",
        "\n",
        "Esta técnica necesita una estimación precisa del los valores mínimos y máximos de las variables de entrada:\n",
        "\n",
        "*y = (x – min) / (max – min)*\n",
        "\n",
        "Los valores NaN no se tienen en cuenta en el entrenamiento y se mantienen en la transformación."
      ]
    },
    {
      "cell_type": "code",
      "metadata": {
        "id": "6XOY0xLpZmn3",
        "colab": {
          "base_uri": "https://localhost:8080/"
        },
        "outputId": "1533e3f0-0c39-4e61-e498-4d09b5ab0045"
      },
      "source": [
        "# datos de entrada\n",
        "datosEntr = np.array([[30, 0.3],\n",
        "\t\t\t\t              [3,  0.05],\n",
        "\t\t\t\t              [10, 0.001],\n",
        "\t\t\t\t              [15, 0.1],\n",
        "\t\t\t\t              [2,  0.9]])\n",
        "\n",
        "\n",
        "# se crea el normalizador\n",
        "escMM = MinMaxScaler()\n",
        "\n",
        "# entrenamiento del normalizador\n",
        "escMM.fit(datosEntr)\n",
        "\n",
        "# transformación de los datos\n",
        "datos = np.array([[20, 0.001],\n",
        "\t\t\t\t          [4,  0.15],\n",
        "\t\t\t\t          [2,  0.8]])\n",
        "print(datos,\"\\n\")\n",
        "\n",
        "datosNorm = escMM.transform(datos)\n",
        "print(datosNorm,\"\\n\")\n",
        "\n",
        "# entrenamiento y transformación simultáneos:\n",
        "# datosNorm = escMM.fit_transform(datos)\n",
        "\n",
        "# transformación inversa (recuperación de los datos originales):\n",
        "recup = escMM.inverse_transform(datosNorm)\n",
        "print(recup)"
      ],
      "execution_count": 8,
      "outputs": [
        {
          "output_type": "stream",
          "name": "stdout",
          "text": [
            "[[2.0e+01 1.0e-03]\n",
            " [4.0e+00 1.5e-01]\n",
            " [2.0e+00 8.0e-01]] \n",
            "\n",
            "[[0.64285714 0.        ]\n",
            " [0.07142857 0.16573971]\n",
            " [0.         0.88876529]] \n",
            "\n",
            "[[2.0e+01 1.0e-03]\n",
            " [4.0e+00 1.5e-01]\n",
            " [2.0e+00 8.0e-01]]\n"
          ]
        }
      ]
    },
    {
      "cell_type": "markdown",
      "metadata": {
        "id": "p6ovbOCkZl92"
      },
      "source": [
        "## Normalización con tensorflow.keras.utils.normalize\n",
        "\n",
        "Permite seleccionar el tipo de normalización a usar (L1, L2, etc.) con el argumento `order`, que por defecto vale 2:\n",
        "- L1: La suma de los valores absolutos de los valores es 1\n",
        "- L2: La suma de los cuadrados de los valores es 1\n"
      ]
    },
    {
      "cell_type": "code",
      "metadata": {
        "colab": {
          "base_uri": "https://localhost:8080/"
        },
        "id": "OFehTl-nZlmp",
        "outputId": "1b873a57-2398-4f68-d84a-5dec6dbf5f5f"
      },
      "source": [
        "print(\"\\nDatos de prueba:\")\n",
        "print(datosEntr)\n",
        "\n",
        "print(\"\\nMinMaxScaler:\")\n",
        "print(escMM.transform(datosEntr),\"\\n\")\n",
        "\n",
        "print(\"\\nL1 por columnas:\")\n",
        "print(normalize(datosEntr, axis=0, order=1),\"\\n\")\n",
        "\n",
        "print(\"\\nL1 por filas:\")\n",
        "print(normalize(datosEntr, axis=1, order=1),\"\\n\") # id: normalize(datosEntr, order=1)\n"
      ],
      "execution_count": 9,
      "outputs": [
        {
          "output_type": "stream",
          "name": "stdout",
          "text": [
            "\n",
            "Datos de prueba:\n",
            "[[3.0e+01 3.0e-01]\n",
            " [3.0e+00 5.0e-02]\n",
            " [1.0e+01 1.0e-03]\n",
            " [1.5e+01 1.0e-01]\n",
            " [2.0e+00 9.0e-01]]\n",
            "\n",
            "MinMaxScaler:\n",
            "[[1.         0.33259177]\n",
            " [0.03571429 0.05450501]\n",
            " [0.28571429 0.        ]\n",
            " [0.46428571 0.11012236]\n",
            " [0.         1.        ]] \n",
            "\n",
            "\n",
            "L1 por columnas:\n",
            "[[0.5        0.22205774]\n",
            " [0.05       0.03700962]\n",
            " [0.16666667 0.00074019]\n",
            " [0.25       0.07401925]\n",
            " [0.03333333 0.66617321]] \n",
            "\n",
            "\n",
            "L1 por filas:\n",
            "[[9.90099010e-01 9.90099010e-03]\n",
            " [9.83606557e-01 1.63934426e-02]\n",
            " [9.99900010e-01 9.99900010e-05]\n",
            " [9.93377483e-01 6.62251656e-03]\n",
            " [6.89655172e-01 3.10344828e-01]] \n",
            "\n"
          ]
        }
      ]
    },
    {
      "cell_type": "markdown",
      "metadata": {
        "id": "ba5_N69MZfla"
      },
      "source": [
        "## Estandarización con StandardScaler\n",
        "\n",
        "Escalado de los datos para que su media sea cero y su desviación estándar 1:\n",
        "\n",
        "-  *y = (x – promedio) / desviación_estándar*\n",
        "\n",
        "-  con *desviación_estándar = sqrt( sum( (x – promedio)^2 ) / count(x))*\n",
        "\n",
        "Es útil cuando la información de estrada viene en escalas diferentes. La estandarización solo se debe aplicar si los datos presentan una distribución gausiana.\n"
      ]
    },
    {
      "cell_type": "code",
      "metadata": {
        "id": "q4peY165ZCql",
        "colab": {
          "base_uri": "https://localhost:8080/"
        },
        "outputId": "beb9552d-4d2a-4788-f598-09d2ae306834"
      },
      "source": [
        "# datos de entrada: los mismos que en el ejemplo anterior\n",
        "\n",
        "# se crea el estandarizador\n",
        "escSS = StandardScaler()\n",
        "\n",
        "# entrenamiento del estandarizador\n",
        "escSS.fit(datosEntr)\n",
        "\n",
        "# transformación de los datos\n",
        "datos = np.array([[20, 0.001],\n",
        "\t\t\t\t          [4,  0.15],\n",
        "\t\t\t\t          [2,  0.8]])\n",
        "print(datos,\"\\n\")\n",
        "\n",
        "datosEst = escSS.transform(datos)\n",
        "print(datosEst,\"\\n\")\n",
        "\n",
        "# entrenamiento y transformación simultáneos:\n",
        "# datosEst = escSS.fit_transform(datos)\n",
        "\n",
        "# transformación inversa (recuperación de los datos originales):\n",
        "recup = escSS.inverse_transform(datosEst)\n",
        "print(recup)"
      ],
      "execution_count": 10,
      "outputs": [
        {
          "output_type": "stream",
          "name": "stdout",
          "text": [
            "[[2.0e+01 1.0e-03]\n",
            " [4.0e+00 1.5e-01]\n",
            " [2.0e+00 8.0e-01]] \n",
            "\n",
            "[[ 0.78597749 -0.81354868]\n",
            " [-0.78597749 -0.36325613]\n",
            " [-0.98247186  1.60110732]] \n",
            "\n",
            "[[2.0e+01 1.0e-03]\n",
            " [4.0e+00 1.5e-01]\n",
            " [2.0e+00 8.0e-01]]\n"
          ]
        }
      ]
    }
  ]
}