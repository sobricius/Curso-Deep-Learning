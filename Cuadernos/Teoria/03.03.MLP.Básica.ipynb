{
  "nbformat": 4,
  "nbformat_minor": 0,
  "metadata": {
    "colab": {
      "name": "04.01.MLP.Básica.ipynb",
      "provenance": [],
      "collapsed_sections": []
    },
    "kernelspec": {
      "name": "python3",
      "display_name": "Python 3"
    },
    "accelerator": "GPU"
  },
  "cells": [
    {
      "cell_type": "markdown",
      "metadata": {
        "id": "0HVU4bid_umG"
      },
      "source": [
        "# Ejemplo básico de red multicapa\n",
        "## (*Multilayer Perceptron* o MLP)"
      ]
    },
    {
      "cell_type": "markdown",
      "metadata": {
        "id": "NxAC0ThZAAXU"
      },
      "source": [
        "### Importaciones"
      ]
    },
    {
      "cell_type": "code",
      "metadata": {
        "id": "QoFYkiOZAFD_"
      },
      "source": [
        "from numpy import loadtxt\n",
        "from keras.models import Sequential\n",
        "from keras.layers import Dense\n",
        "import numpy as np"
      ],
      "execution_count": 19,
      "outputs": []
    },
    {
      "cell_type": "markdown",
      "metadata": {
        "id": "BhZn1QIpAHSf"
      },
      "source": [
        "### Carga del dataset\n",
        "Descripción del dataset [enlace](https://raw.githubusercontent.com/jbrownlee/Datasets/master/pima-indians-diabetes.names):"
      ]
    },
    {
      "cell_type": "markdown",
      "metadata": {
        "id": "WGfUpSyEBW14"
      },
      "source": [
        "Atributos (todos numéricos)\n",
        "   1. Number of times pregnant\n",
        "   2. Plasma glucose concentration a 2 hours in an oral glucose tolerance test\n",
        "   3. Diastolic blood pressure (mm Hg)\n",
        "   4. Triceps skin fold thickness (mm)\n",
        "   5. 2-Hour serum insulin (mu U/ml)\n",
        "   6. Body mass index (weight in kg/(height in m)^2)\n",
        "   7. Diabetes pedigree function\n",
        "   8. Age (years)\n",
        "   9. Class variable (0 or 1)"
      ]
    },
    {
      "cell_type": "code",
      "metadata": {
        "id": "CwwhjgVgCUKO"
      },
      "source": [
        "datasetURL = 'https://raw.githubusercontent.com/jbrownlee/Datasets/master/pima-indians-diabetes.data.csv'\n",
        "dataset = loadtxt(datasetURL, delimiter=',')"
      ],
      "execution_count": 2,
      "outputs": []
    },
    {
      "cell_type": "markdown",
      "metadata": {
        "id": "0dPBBdKLCWt6"
      },
      "source": [
        "### División del dataset entre las variables de entrada (x) y de salida (y)"
      ]
    },
    {
      "cell_type": "code",
      "metadata": {
        "colab": {
          "base_uri": "https://localhost:8080/"
        },
        "id": "OyJ5Rpv2CoKn",
        "outputId": "c9fd9803-bde4-48fa-c8d6-553736f66d26"
      },
      "source": [
        "x = dataset[:, 0:8]  # x: vista con las columnas 0 a 7\n",
        "y = dataset[:, 8]     # y: vista con solo última columna (9ª)\n",
        "\n",
        "print(len(x),\"filas en el dataset\")\n",
        "print(x[0:5,:])"
      ],
      "execution_count": 3,
      "outputs": [
        {
          "output_type": "stream",
          "text": [
            "768 filas en el dataset\n",
            "[[6.000e+00 1.480e+02 7.200e+01 3.500e+01 0.000e+00 3.360e+01 6.270e-01\n",
            "  5.000e+01]\n",
            " [1.000e+00 8.500e+01 6.600e+01 2.900e+01 0.000e+00 2.660e+01 3.510e-01\n",
            "  3.100e+01]\n",
            " [8.000e+00 1.830e+02 6.400e+01 0.000e+00 0.000e+00 2.330e+01 6.720e-01\n",
            "  3.200e+01]\n",
            " [1.000e+00 8.900e+01 6.600e+01 2.300e+01 9.400e+01 2.810e+01 1.670e-01\n",
            "  2.100e+01]\n",
            " [0.000e+00 1.370e+02 4.000e+01 3.500e+01 1.680e+02 4.310e+01 2.288e+00\n",
            "  3.300e+01]]\n"
          ],
          "name": "stdout"
        }
      ]
    },
    {
      "cell_type": "markdown",
      "metadata": {
        "id": "Td3rVwy3CqaB"
      },
      "source": [
        "### Construcción del modelo"
      ]
    },
    {
      "cell_type": "code",
      "metadata": {
        "id": "NTEUiaF3snAP"
      },
      "source": [
        "modelo = Sequential() "
      ],
      "execution_count": 4,
      "outputs": []
    },
    {
      "cell_type": "markdown",
      "metadata": {
        "id": "39fyT84Kr-MN"
      },
      "source": [
        "Alternativa 1: 3 capas => 16 + 16 + 16 unidades"
      ]
    },
    {
      "cell_type": "code",
      "metadata": {
        "id": "uCiVO1nlC1UA"
      },
      "source": [
        "modelo.add(Dense(16, input_dim=8, activation='relu'))  # capa de entrada\n",
        "modelo.add(Dense(16, activation='relu'))    # capa interna\n",
        "modelo.add(Dense(16, activation='relu'))    # capa interna\n",
        "modelo.add(Dense(1, activation='sigmoid'))  # capa de salida"
      ],
      "execution_count": 5,
      "outputs": []
    },
    {
      "cell_type": "markdown",
      "metadata": {
        "id": "e9nAq7aGsRV7"
      },
      "source": [
        "Alternativa 2: 2 capas 16 + 32 unidades"
      ]
    },
    {
      "cell_type": "code",
      "metadata": {
        "id": "NXHVKAZ4r0MU"
      },
      "source": [
        "# modelo.add(Dense(16, input_dim=8, activation='relu'))  # capa de entrada\n",
        "# modelo.add(Dense(32, activation='relu'))    # capa interna\n",
        "# modelo.add(Dense(1, activation='sigmoid'));  # capa de salida"
      ],
      "execution_count": 6,
      "outputs": []
    },
    {
      "cell_type": "markdown",
      "metadata": {
        "id": "Ix-bEYZVsbGP"
      },
      "source": [
        "Alternativa 3: 1 capa con 48 unidades"
      ]
    },
    {
      "cell_type": "code",
      "metadata": {
        "id": "kGlDbTb4r0I-"
      },
      "source": [
        "# modelo.add(Dense(48, input_dim=8, activation='relu'))  # capa de entrada\n",
        "# modelo.add(Dense(1, activation='sigmoid'))  # capa de salida"
      ],
      "execution_count": 7,
      "outputs": []
    },
    {
      "cell_type": "markdown",
      "metadata": {
        "id": "kyMXyQUsC1EL"
      },
      "source": [
        "### Compilación del modelo"
      ]
    },
    {
      "cell_type": "code",
      "metadata": {
        "id": "0kxRLcqfDIwR"
      },
      "source": [
        "historial=modelo.compile(loss='binary_crossentropy', optimizer='adam', metrics=['accuracy'])"
      ],
      "execution_count": 8,
      "outputs": []
    },
    {
      "cell_type": "markdown",
      "metadata": {
        "id": "dJtLw8P1DMuJ"
      },
      "source": [
        "### Entrenamiento de la red"
      ]
    },
    {
      "cell_type": "code",
      "metadata": {
        "id": "GShdk6NHDQ-D",
        "colab": {
          "base_uri": "https://localhost:8080/"
        },
        "outputId": "e030557b-169a-4318-866f-6784dd6c52c2"
      },
      "source": [
        "modelo.fit(x, y, epochs=150, batch_size=10)"
      ],
      "execution_count": 9,
      "outputs": [
        {
          "output_type": "stream",
          "text": [
            "Epoch 1/150\n",
            "77/77 [==============================] - 3s 2ms/step - loss: 12.3793 - accuracy: 0.6205\n",
            "Epoch 2/150\n",
            "77/77 [==============================] - 0s 2ms/step - loss: 1.2046 - accuracy: 0.5876\n",
            "Epoch 3/150\n",
            "77/77 [==============================] - 0s 2ms/step - loss: 0.9874 - accuracy: 0.6078\n",
            "Epoch 4/150\n",
            "77/77 [==============================] - 0s 2ms/step - loss: 0.9878 - accuracy: 0.5904\n",
            "Epoch 5/150\n",
            "77/77 [==============================] - 0s 2ms/step - loss: 0.7753 - accuracy: 0.6446\n",
            "Epoch 6/150\n",
            "77/77 [==============================] - 0s 2ms/step - loss: 0.7236 - accuracy: 0.6891\n",
            "Epoch 7/150\n",
            "77/77 [==============================] - 0s 2ms/step - loss: 0.6774 - accuracy: 0.6337\n",
            "Epoch 8/150\n",
            "77/77 [==============================] - 0s 2ms/step - loss: 0.6773 - accuracy: 0.6426\n",
            "Epoch 9/150\n",
            "77/77 [==============================] - 0s 2ms/step - loss: 0.7242 - accuracy: 0.6315\n",
            "Epoch 10/150\n",
            "77/77 [==============================] - 0s 2ms/step - loss: 0.7146 - accuracy: 0.6575\n",
            "Epoch 11/150\n",
            "77/77 [==============================] - 0s 2ms/step - loss: 0.6617 - accuracy: 0.6648\n",
            "Epoch 12/150\n",
            "77/77 [==============================] - 0s 2ms/step - loss: 0.6209 - accuracy: 0.6672\n",
            "Epoch 13/150\n",
            "77/77 [==============================] - 0s 2ms/step - loss: 0.6776 - accuracy: 0.6622\n",
            "Epoch 14/150\n",
            "77/77 [==============================] - 0s 2ms/step - loss: 0.5975 - accuracy: 0.7119\n",
            "Epoch 15/150\n",
            "77/77 [==============================] - 0s 2ms/step - loss: 0.6020 - accuracy: 0.7057\n",
            "Epoch 16/150\n",
            "77/77 [==============================] - 0s 2ms/step - loss: 0.6060 - accuracy: 0.7025\n",
            "Epoch 17/150\n",
            "77/77 [==============================] - 0s 2ms/step - loss: 0.6033 - accuracy: 0.6873\n",
            "Epoch 18/150\n",
            "77/77 [==============================] - 0s 2ms/step - loss: 0.6352 - accuracy: 0.6694\n",
            "Epoch 19/150\n",
            "77/77 [==============================] - 0s 2ms/step - loss: 0.5661 - accuracy: 0.7338\n",
            "Epoch 20/150\n",
            "77/77 [==============================] - 0s 2ms/step - loss: 0.5951 - accuracy: 0.6818\n",
            "Epoch 21/150\n",
            "77/77 [==============================] - 0s 2ms/step - loss: 0.7973 - accuracy: 0.6412\n",
            "Epoch 22/150\n",
            "77/77 [==============================] - 0s 2ms/step - loss: 0.5577 - accuracy: 0.7372\n",
            "Epoch 23/150\n",
            "77/77 [==============================] - 0s 2ms/step - loss: 0.6040 - accuracy: 0.6911\n",
            "Epoch 24/150\n",
            "77/77 [==============================] - 0s 2ms/step - loss: 0.5593 - accuracy: 0.7234\n",
            "Epoch 25/150\n",
            "77/77 [==============================] - 0s 2ms/step - loss: 0.5617 - accuracy: 0.7238\n",
            "Epoch 26/150\n",
            "77/77 [==============================] - 0s 2ms/step - loss: 0.6001 - accuracy: 0.6821\n",
            "Epoch 27/150\n",
            "77/77 [==============================] - 0s 2ms/step - loss: 0.6114 - accuracy: 0.7004\n",
            "Epoch 28/150\n",
            "77/77 [==============================] - 0s 2ms/step - loss: 0.5226 - accuracy: 0.7568\n",
            "Epoch 29/150\n",
            "77/77 [==============================] - 0s 2ms/step - loss: 0.5562 - accuracy: 0.7218\n",
            "Epoch 30/150\n",
            "77/77 [==============================] - 0s 2ms/step - loss: 0.5582 - accuracy: 0.7074\n",
            "Epoch 31/150\n",
            "77/77 [==============================] - 0s 2ms/step - loss: 0.5463 - accuracy: 0.7338\n",
            "Epoch 32/150\n",
            "77/77 [==============================] - 0s 2ms/step - loss: 0.5355 - accuracy: 0.7400\n",
            "Epoch 33/150\n",
            "77/77 [==============================] - 0s 2ms/step - loss: 0.5689 - accuracy: 0.7111\n",
            "Epoch 34/150\n",
            "77/77 [==============================] - 0s 2ms/step - loss: 0.5723 - accuracy: 0.7174\n",
            "Epoch 35/150\n",
            "77/77 [==============================] - 0s 2ms/step - loss: 0.6243 - accuracy: 0.6756\n",
            "Epoch 36/150\n",
            "77/77 [==============================] - 0s 2ms/step - loss: 0.5483 - accuracy: 0.7235\n",
            "Epoch 37/150\n",
            "77/77 [==============================] - 0s 2ms/step - loss: 0.5884 - accuracy: 0.6982\n",
            "Epoch 38/150\n",
            "77/77 [==============================] - 0s 2ms/step - loss: 0.5504 - accuracy: 0.7287\n",
            "Epoch 39/150\n",
            "77/77 [==============================] - 0s 2ms/step - loss: 0.5223 - accuracy: 0.7393\n",
            "Epoch 40/150\n",
            "77/77 [==============================] - 0s 2ms/step - loss: 0.5073 - accuracy: 0.7473\n",
            "Epoch 41/150\n",
            "77/77 [==============================] - 0s 2ms/step - loss: 0.5271 - accuracy: 0.7283\n",
            "Epoch 42/150\n",
            "77/77 [==============================] - 0s 2ms/step - loss: 0.5250 - accuracy: 0.7554\n",
            "Epoch 43/150\n",
            "77/77 [==============================] - 0s 2ms/step - loss: 0.5203 - accuracy: 0.7430\n",
            "Epoch 44/150\n",
            "77/77 [==============================] - 0s 2ms/step - loss: 0.5434 - accuracy: 0.7257\n",
            "Epoch 45/150\n",
            "77/77 [==============================] - 0s 2ms/step - loss: 0.5301 - accuracy: 0.7258\n",
            "Epoch 46/150\n",
            "77/77 [==============================] - 0s 2ms/step - loss: 0.5379 - accuracy: 0.7335\n",
            "Epoch 47/150\n",
            "77/77 [==============================] - 0s 2ms/step - loss: 0.5501 - accuracy: 0.7275\n",
            "Epoch 48/150\n",
            "77/77 [==============================] - 0s 2ms/step - loss: 0.5169 - accuracy: 0.7681\n",
            "Epoch 49/150\n",
            "77/77 [==============================] - 0s 2ms/step - loss: 0.5131 - accuracy: 0.7576\n",
            "Epoch 50/150\n",
            "77/77 [==============================] - 0s 2ms/step - loss: 0.5316 - accuracy: 0.7378\n",
            "Epoch 51/150\n",
            "77/77 [==============================] - 0s 2ms/step - loss: 0.5423 - accuracy: 0.7253\n",
            "Epoch 52/150\n",
            "77/77 [==============================] - 0s 2ms/step - loss: 0.5013 - accuracy: 0.7480\n",
            "Epoch 53/150\n",
            "77/77 [==============================] - 0s 2ms/step - loss: 0.5153 - accuracy: 0.7492\n",
            "Epoch 54/150\n",
            "77/77 [==============================] - 0s 2ms/step - loss: 0.5325 - accuracy: 0.7131\n",
            "Epoch 55/150\n",
            "77/77 [==============================] - 0s 2ms/step - loss: 0.5447 - accuracy: 0.7401\n",
            "Epoch 56/150\n",
            "77/77 [==============================] - 0s 2ms/step - loss: 0.5199 - accuracy: 0.7600\n",
            "Epoch 57/150\n",
            "77/77 [==============================] - 0s 2ms/step - loss: 0.5379 - accuracy: 0.7316\n",
            "Epoch 58/150\n",
            "77/77 [==============================] - 0s 2ms/step - loss: 0.5263 - accuracy: 0.7703\n",
            "Epoch 59/150\n",
            "77/77 [==============================] - 0s 2ms/step - loss: 0.5067 - accuracy: 0.7562\n",
            "Epoch 60/150\n",
            "77/77 [==============================] - 0s 2ms/step - loss: 0.5174 - accuracy: 0.7493\n",
            "Epoch 61/150\n",
            "77/77 [==============================] - 0s 2ms/step - loss: 0.5134 - accuracy: 0.7511\n",
            "Epoch 62/150\n",
            "77/77 [==============================] - 0s 2ms/step - loss: 0.5209 - accuracy: 0.7632\n",
            "Epoch 63/150\n",
            "77/77 [==============================] - 0s 2ms/step - loss: 0.5076 - accuracy: 0.7531\n",
            "Epoch 64/150\n",
            "77/77 [==============================] - 0s 2ms/step - loss: 0.4906 - accuracy: 0.7619\n",
            "Epoch 65/150\n",
            "77/77 [==============================] - 0s 2ms/step - loss: 0.5601 - accuracy: 0.7155\n",
            "Epoch 66/150\n",
            "77/77 [==============================] - 0s 2ms/step - loss: 0.5195 - accuracy: 0.7305\n",
            "Epoch 67/150\n",
            "77/77 [==============================] - 0s 2ms/step - loss: 0.5054 - accuracy: 0.7630\n",
            "Epoch 68/150\n",
            "77/77 [==============================] - 0s 2ms/step - loss: 0.4994 - accuracy: 0.7821\n",
            "Epoch 69/150\n",
            "77/77 [==============================] - 0s 2ms/step - loss: 0.4985 - accuracy: 0.7559\n",
            "Epoch 70/150\n",
            "77/77 [==============================] - 0s 2ms/step - loss: 0.4860 - accuracy: 0.7608\n",
            "Epoch 71/150\n",
            "77/77 [==============================] - 0s 2ms/step - loss: 0.5020 - accuracy: 0.7577\n",
            "Epoch 72/150\n",
            "77/77 [==============================] - 0s 2ms/step - loss: 0.5060 - accuracy: 0.7521\n",
            "Epoch 73/150\n",
            "77/77 [==============================] - 0s 2ms/step - loss: 0.4956 - accuracy: 0.7628\n",
            "Epoch 74/150\n",
            "77/77 [==============================] - 0s 2ms/step - loss: 0.4845 - accuracy: 0.7618\n",
            "Epoch 75/150\n",
            "77/77 [==============================] - 0s 2ms/step - loss: 0.4914 - accuracy: 0.7684\n",
            "Epoch 76/150\n",
            "77/77 [==============================] - 0s 2ms/step - loss: 0.4855 - accuracy: 0.7603\n",
            "Epoch 77/150\n",
            "77/77 [==============================] - 0s 2ms/step - loss: 0.4328 - accuracy: 0.7987\n",
            "Epoch 78/150\n",
            "77/77 [==============================] - 0s 2ms/step - loss: 0.4983 - accuracy: 0.7592\n",
            "Epoch 79/150\n",
            "77/77 [==============================] - 0s 2ms/step - loss: 0.4977 - accuracy: 0.7832\n",
            "Epoch 80/150\n",
            "77/77 [==============================] - 0s 2ms/step - loss: 0.5020 - accuracy: 0.7449\n",
            "Epoch 81/150\n",
            "77/77 [==============================] - 0s 2ms/step - loss: 0.4745 - accuracy: 0.7810\n",
            "Epoch 82/150\n",
            "77/77 [==============================] - 0s 2ms/step - loss: 0.4620 - accuracy: 0.7857\n",
            "Epoch 83/150\n",
            "77/77 [==============================] - 0s 2ms/step - loss: 0.5070 - accuracy: 0.7542\n",
            "Epoch 84/150\n",
            "77/77 [==============================] - 0s 2ms/step - loss: 0.5161 - accuracy: 0.7518\n",
            "Epoch 85/150\n",
            "77/77 [==============================] - 0s 2ms/step - loss: 0.5007 - accuracy: 0.7786\n",
            "Epoch 86/150\n",
            "77/77 [==============================] - 0s 2ms/step - loss: 0.4864 - accuracy: 0.7723\n",
            "Epoch 87/150\n",
            "77/77 [==============================] - 0s 2ms/step - loss: 0.5058 - accuracy: 0.7690\n",
            "Epoch 88/150\n",
            "77/77 [==============================] - 0s 2ms/step - loss: 0.4830 - accuracy: 0.7557\n",
            "Epoch 89/150\n",
            "77/77 [==============================] - 0s 2ms/step - loss: 0.4769 - accuracy: 0.7643\n",
            "Epoch 90/150\n",
            "77/77 [==============================] - 0s 2ms/step - loss: 0.4900 - accuracy: 0.7743\n",
            "Epoch 91/150\n",
            "77/77 [==============================] - 0s 2ms/step - loss: 0.4755 - accuracy: 0.7709\n",
            "Epoch 92/150\n",
            "77/77 [==============================] - 0s 2ms/step - loss: 0.5294 - accuracy: 0.7514\n",
            "Epoch 93/150\n",
            "77/77 [==============================] - 0s 2ms/step - loss: 0.4779 - accuracy: 0.7687\n",
            "Epoch 94/150\n",
            "77/77 [==============================] - 0s 2ms/step - loss: 0.4970 - accuracy: 0.7581\n",
            "Epoch 95/150\n",
            "77/77 [==============================] - 0s 2ms/step - loss: 0.5141 - accuracy: 0.7498\n",
            "Epoch 96/150\n",
            "77/77 [==============================] - 0s 2ms/step - loss: 0.4466 - accuracy: 0.7975\n",
            "Epoch 97/150\n",
            "77/77 [==============================] - 0s 2ms/step - loss: 0.4634 - accuracy: 0.7750\n",
            "Epoch 98/150\n",
            "77/77 [==============================] - 0s 2ms/step - loss: 0.4974 - accuracy: 0.7776\n",
            "Epoch 99/150\n",
            "77/77 [==============================] - 0s 2ms/step - loss: 0.4590 - accuracy: 0.7915\n",
            "Epoch 100/150\n",
            "77/77 [==============================] - 0s 2ms/step - loss: 0.4550 - accuracy: 0.8076\n",
            "Epoch 101/150\n",
            "77/77 [==============================] - 0s 2ms/step - loss: 0.4639 - accuracy: 0.7713\n",
            "Epoch 102/150\n",
            "77/77 [==============================] - 0s 2ms/step - loss: 0.4780 - accuracy: 0.7801\n",
            "Epoch 103/150\n",
            "77/77 [==============================] - 0s 2ms/step - loss: 0.4573 - accuracy: 0.7845\n",
            "Epoch 104/150\n",
            "77/77 [==============================] - 0s 2ms/step - loss: 0.4833 - accuracy: 0.7549\n",
            "Epoch 105/150\n",
            "77/77 [==============================] - 0s 2ms/step - loss: 0.4859 - accuracy: 0.7874\n",
            "Epoch 106/150\n",
            "77/77 [==============================] - 0s 2ms/step - loss: 0.5103 - accuracy: 0.7593\n",
            "Epoch 107/150\n",
            "77/77 [==============================] - 0s 2ms/step - loss: 0.4866 - accuracy: 0.7749\n",
            "Epoch 108/150\n",
            "77/77 [==============================] - 0s 2ms/step - loss: 0.4893 - accuracy: 0.7882\n",
            "Epoch 109/150\n",
            "77/77 [==============================] - 0s 2ms/step - loss: 0.4960 - accuracy: 0.7498\n",
            "Epoch 110/150\n",
            "77/77 [==============================] - 0s 2ms/step - loss: 0.4582 - accuracy: 0.7784\n",
            "Epoch 111/150\n",
            "77/77 [==============================] - 0s 2ms/step - loss: 0.4829 - accuracy: 0.7551\n",
            "Epoch 112/150\n",
            "77/77 [==============================] - 0s 2ms/step - loss: 0.4445 - accuracy: 0.7819\n",
            "Epoch 113/150\n",
            "77/77 [==============================] - 0s 2ms/step - loss: 0.4783 - accuracy: 0.7809\n",
            "Epoch 114/150\n",
            "77/77 [==============================] - 0s 2ms/step - loss: 0.4376 - accuracy: 0.8038\n",
            "Epoch 115/150\n",
            "77/77 [==============================] - 0s 2ms/step - loss: 0.4659 - accuracy: 0.7782\n",
            "Epoch 116/150\n",
            "77/77 [==============================] - 0s 2ms/step - loss: 0.4559 - accuracy: 0.7574\n",
            "Epoch 117/150\n",
            "77/77 [==============================] - 0s 2ms/step - loss: 0.4763 - accuracy: 0.7737\n",
            "Epoch 118/150\n",
            "77/77 [==============================] - 0s 2ms/step - loss: 0.4457 - accuracy: 0.7839\n",
            "Epoch 119/150\n",
            "77/77 [==============================] - 0s 2ms/step - loss: 0.4679 - accuracy: 0.7757\n",
            "Epoch 120/150\n",
            "77/77 [==============================] - 0s 2ms/step - loss: 0.4699 - accuracy: 0.7755\n",
            "Epoch 121/150\n",
            "77/77 [==============================] - 0s 2ms/step - loss: 0.4658 - accuracy: 0.7911\n",
            "Epoch 122/150\n",
            "77/77 [==============================] - 0s 2ms/step - loss: 0.4638 - accuracy: 0.7807\n",
            "Epoch 123/150\n",
            "77/77 [==============================] - 0s 2ms/step - loss: 0.4739 - accuracy: 0.7736\n",
            "Epoch 124/150\n",
            "77/77 [==============================] - 0s 2ms/step - loss: 0.4650 - accuracy: 0.7754\n",
            "Epoch 125/150\n",
            "77/77 [==============================] - 0s 2ms/step - loss: 0.4428 - accuracy: 0.7907\n",
            "Epoch 126/150\n",
            "77/77 [==============================] - 0s 2ms/step - loss: 0.4190 - accuracy: 0.8059\n",
            "Epoch 127/150\n",
            "77/77 [==============================] - 0s 2ms/step - loss: 0.4029 - accuracy: 0.8277\n",
            "Epoch 128/150\n",
            "77/77 [==============================] - 0s 2ms/step - loss: 0.4521 - accuracy: 0.7801\n",
            "Epoch 129/150\n",
            "77/77 [==============================] - 0s 2ms/step - loss: 0.4330 - accuracy: 0.7985\n",
            "Epoch 130/150\n",
            "77/77 [==============================] - 0s 2ms/step - loss: 0.4623 - accuracy: 0.7764\n",
            "Epoch 131/150\n",
            "77/77 [==============================] - 0s 2ms/step - loss: 0.4567 - accuracy: 0.7863\n",
            "Epoch 132/150\n",
            "77/77 [==============================] - 0s 2ms/step - loss: 0.4578 - accuracy: 0.7726\n",
            "Epoch 133/150\n",
            "77/77 [==============================] - 0s 2ms/step - loss: 0.4264 - accuracy: 0.7912\n",
            "Epoch 134/150\n",
            "77/77 [==============================] - 0s 2ms/step - loss: 0.4415 - accuracy: 0.8013\n",
            "Epoch 135/150\n",
            "77/77 [==============================] - 0s 2ms/step - loss: 0.4218 - accuracy: 0.8028\n",
            "Epoch 136/150\n",
            "77/77 [==============================] - 0s 2ms/step - loss: 0.4155 - accuracy: 0.8343\n",
            "Epoch 137/150\n",
            "77/77 [==============================] - 0s 2ms/step - loss: 0.4433 - accuracy: 0.7938\n",
            "Epoch 138/150\n",
            "77/77 [==============================] - 0s 2ms/step - loss: 0.4900 - accuracy: 0.7522\n",
            "Epoch 139/150\n",
            "77/77 [==============================] - 0s 2ms/step - loss: 0.4204 - accuracy: 0.8076\n",
            "Epoch 140/150\n",
            "77/77 [==============================] - 0s 2ms/step - loss: 0.4279 - accuracy: 0.7956\n",
            "Epoch 141/150\n",
            "77/77 [==============================] - 0s 2ms/step - loss: 0.4230 - accuracy: 0.8159\n",
            "Epoch 142/150\n",
            "77/77 [==============================] - 0s 2ms/step - loss: 0.4495 - accuracy: 0.7825\n",
            "Epoch 143/150\n",
            "77/77 [==============================] - 0s 2ms/step - loss: 0.4290 - accuracy: 0.7876\n",
            "Epoch 144/150\n",
            "77/77 [==============================] - 0s 2ms/step - loss: 0.4166 - accuracy: 0.8125\n",
            "Epoch 145/150\n",
            "77/77 [==============================] - 0s 2ms/step - loss: 0.4737 - accuracy: 0.7749\n",
            "Epoch 146/150\n",
            "77/77 [==============================] - 0s 2ms/step - loss: 0.4280 - accuracy: 0.7792\n",
            "Epoch 147/150\n",
            "77/77 [==============================] - 0s 2ms/step - loss: 0.4432 - accuracy: 0.7983\n",
            "Epoch 148/150\n",
            "77/77 [==============================] - 0s 2ms/step - loss: 0.4376 - accuracy: 0.8038\n",
            "Epoch 149/150\n",
            "77/77 [==============================] - 0s 2ms/step - loss: 0.4386 - accuracy: 0.7869\n",
            "Epoch 150/150\n",
            "77/77 [==============================] - 0s 2ms/step - loss: 0.4372 - accuracy: 0.7847\n"
          ],
          "name": "stdout"
        },
        {
          "output_type": "execute_result",
          "data": {
            "text/plain": [
              "<tensorflow.python.keras.callbacks.History at 0x7fc400201890>"
            ]
          },
          "metadata": {
            "tags": []
          },
          "execution_count": 9
        }
      ]
    },
    {
      "cell_type": "markdown",
      "metadata": {
        "id": "AsnW9MjCDT4N"
      },
      "source": [
        "### Evaluación del modelo"
      ]
    },
    {
      "cell_type": "code",
      "metadata": {
        "id": "x2AXP8ZMDZuk",
        "colab": {
          "base_uri": "https://localhost:8080/"
        },
        "outputId": "a71ce842-b793-42bd-b2d3-2a316ea8c07f"
      },
      "source": [
        "eva = modelo.evaluate(x, y)\n",
        "# modelo.metrics_names: lista con los nombres de las métricas utilizadas\n",
        "for i in range(len(modelo.metrics_names)):\n",
        "  print(modelo.metrics_names[i],\":\",'%.2f %%' % (eva[i]*100))"
      ],
      "execution_count": 16,
      "outputs": [
        {
          "output_type": "stream",
          "text": [
            "24/24 [==============================] - 0s 2ms/step - loss: 0.4117 - accuracy: 0.8086\n",
            "loss : 41.17 %\n",
            "accuracy : 80.86 %\n"
          ],
          "name": "stdout"
        }
      ]
    },
    {
      "cell_type": "markdown",
      "metadata": {
        "id": "Pk8OYZsTiY90"
      },
      "source": [
        "### Predicción\n"
      ]
    },
    {
      "cell_type": "code",
      "metadata": {
        "colab": {
          "base_uri": "https://localhost:8080/"
        },
        "id": "0F1JoaxFiYDf",
        "outputId": "eb42f636-3635-439d-b2a6-4e386f2a445a"
      },
      "source": [
        "# Predicción sobre los diez primeros ejemplos:\n",
        "xprueba = x[0:10,:] \n",
        "yreal   = y[0:10]\n",
        "ypred = modelo.predict(xprueba)\n",
        "print(\"Predicción:\", ypred.reshape(-1)) # convertir a 1D para mejor visualización\n",
        "print(\"Predicción:\", np.where(ypred >= 0.5, 1, 0).reshape(-1)) # convertir en 0 ó 1 según probabilidades\n",
        "print(\"Real:      \", yreal.astype(int))  # convertimos a enteros para visualización más cómoda\n"
      ],
      "execution_count": 32,
      "outputs": [
        {
          "output_type": "stream",
          "text": [
            "Predicción: [0.8181247  0.13818362 0.84317225 0.08764011 0.50430363 0.23069121\n",
            " 0.26743767 0.29007632 0.9612107  0.93729067]\n",
            "Predicción: [1 0 1 0 1 0 0 0 1 1]\n",
            "Real:       [1 0 1 0 1 0 1 0 1 1]\n"
          ],
          "name": "stdout"
        }
      ]
    }
  ]
}