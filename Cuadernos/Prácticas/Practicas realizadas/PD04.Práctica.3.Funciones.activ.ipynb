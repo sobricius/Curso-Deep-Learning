{
  "cells": [
    {
      "cell_type": "markdown",
      "metadata": {
        "id": "ZESgdcC6oB2b"
      },
      "source": [
        "# Práctica de Funciones de Activación"
      ]
    },
    {
      "cell_type": "markdown",
      "metadata": {
        "id": "EpTzIUzOhru1"
      },
      "source": [
        "### Importaciones"
      ]
    },
    {
      "cell_type": "code",
      "execution_count": 49,
      "metadata": {
        "id": "LzIitnmuht8t"
      },
      "outputs": [],
      "source": [
        "import matplotlib\n",
        "%matplotlib inline\n",
        "import matplotlib.pyplot as plt\n",
        "import keras\n",
        "from keras.datasets import mnist\n",
        "from keras.models import Sequential\n",
        "from keras.layers import Dense, Dropout\n",
        "from keras.optimizers import RMSprop\n",
        "from keras.utils import to_categorical"
      ]
    },
    {
      "cell_type": "markdown",
      "metadata": {
        "id": "eCUOXki2huft"
      },
      "source": [
        "### Carga de la información"
      ]
    },
    {
      "cell_type": "code",
      "execution_count": 50,
      "metadata": {},
      "outputs": [],
      "source": [
        "(x_train, y_train), (x_test, y_test) = keras.datasets.mnist.load_data()"
      ]
    },
    {
      "cell_type": "code",
      "execution_count": 51,
      "metadata": {
        "colab": {
          "base_uri": "https://localhost:8080/"
        },
        "id": "DykO3LS2hu20",
        "outputId": "82345112-af34-4391-c245-a3a74f657b97"
      },
      "outputs": [
        {
          "data": {
            "text/plain": [
              "((array([[[0, 0, 0, ..., 0, 0, 0],\n",
              "          [0, 0, 0, ..., 0, 0, 0],\n",
              "          [0, 0, 0, ..., 0, 0, 0],\n",
              "          ...,\n",
              "          [0, 0, 0, ..., 0, 0, 0],\n",
              "          [0, 0, 0, ..., 0, 0, 0],\n",
              "          [0, 0, 0, ..., 0, 0, 0]],\n",
              "  \n",
              "         [[0, 0, 0, ..., 0, 0, 0],\n",
              "          [0, 0, 0, ..., 0, 0, 0],\n",
              "          [0, 0, 0, ..., 0, 0, 0],\n",
              "          ...,\n",
              "          [0, 0, 0, ..., 0, 0, 0],\n",
              "          [0, 0, 0, ..., 0, 0, 0],\n",
              "          [0, 0, 0, ..., 0, 0, 0]],\n",
              "  \n",
              "         [[0, 0, 0, ..., 0, 0, 0],\n",
              "          [0, 0, 0, ..., 0, 0, 0],\n",
              "          [0, 0, 0, ..., 0, 0, 0],\n",
              "          ...,\n",
              "          [0, 0, 0, ..., 0, 0, 0],\n",
              "          [0, 0, 0, ..., 0, 0, 0],\n",
              "          [0, 0, 0, ..., 0, 0, 0]],\n",
              "  \n",
              "         ...,\n",
              "  \n",
              "         [[0, 0, 0, ..., 0, 0, 0],\n",
              "          [0, 0, 0, ..., 0, 0, 0],\n",
              "          [0, 0, 0, ..., 0, 0, 0],\n",
              "          ...,\n",
              "          [0, 0, 0, ..., 0, 0, 0],\n",
              "          [0, 0, 0, ..., 0, 0, 0],\n",
              "          [0, 0, 0, ..., 0, 0, 0]],\n",
              "  \n",
              "         [[0, 0, 0, ..., 0, 0, 0],\n",
              "          [0, 0, 0, ..., 0, 0, 0],\n",
              "          [0, 0, 0, ..., 0, 0, 0],\n",
              "          ...,\n",
              "          [0, 0, 0, ..., 0, 0, 0],\n",
              "          [0, 0, 0, ..., 0, 0, 0],\n",
              "          [0, 0, 0, ..., 0, 0, 0]],\n",
              "  \n",
              "         [[0, 0, 0, ..., 0, 0, 0],\n",
              "          [0, 0, 0, ..., 0, 0, 0],\n",
              "          [0, 0, 0, ..., 0, 0, 0],\n",
              "          ...,\n",
              "          [0, 0, 0, ..., 0, 0, 0],\n",
              "          [0, 0, 0, ..., 0, 0, 0],\n",
              "          [0, 0, 0, ..., 0, 0, 0]]], dtype=uint8),\n",
              "  array([5, 0, 4, ..., 5, 6, 8], dtype=uint8)),\n",
              " (array([[[0, 0, 0, ..., 0, 0, 0],\n",
              "          [0, 0, 0, ..., 0, 0, 0],\n",
              "          [0, 0, 0, ..., 0, 0, 0],\n",
              "          ...,\n",
              "          [0, 0, 0, ..., 0, 0, 0],\n",
              "          [0, 0, 0, ..., 0, 0, 0],\n",
              "          [0, 0, 0, ..., 0, 0, 0]],\n",
              "  \n",
              "         [[0, 0, 0, ..., 0, 0, 0],\n",
              "          [0, 0, 0, ..., 0, 0, 0],\n",
              "          [0, 0, 0, ..., 0, 0, 0],\n",
              "          ...,\n",
              "          [0, 0, 0, ..., 0, 0, 0],\n",
              "          [0, 0, 0, ..., 0, 0, 0],\n",
              "          [0, 0, 0, ..., 0, 0, 0]],\n",
              "  \n",
              "         [[0, 0, 0, ..., 0, 0, 0],\n",
              "          [0, 0, 0, ..., 0, 0, 0],\n",
              "          [0, 0, 0, ..., 0, 0, 0],\n",
              "          ...,\n",
              "          [0, 0, 0, ..., 0, 0, 0],\n",
              "          [0, 0, 0, ..., 0, 0, 0],\n",
              "          [0, 0, 0, ..., 0, 0, 0]],\n",
              "  \n",
              "         ...,\n",
              "  \n",
              "         [[0, 0, 0, ..., 0, 0, 0],\n",
              "          [0, 0, 0, ..., 0, 0, 0],\n",
              "          [0, 0, 0, ..., 0, 0, 0],\n",
              "          ...,\n",
              "          [0, 0, 0, ..., 0, 0, 0],\n",
              "          [0, 0, 0, ..., 0, 0, 0],\n",
              "          [0, 0, 0, ..., 0, 0, 0]],\n",
              "  \n",
              "         [[0, 0, 0, ..., 0, 0, 0],\n",
              "          [0, 0, 0, ..., 0, 0, 0],\n",
              "          [0, 0, 0, ..., 0, 0, 0],\n",
              "          ...,\n",
              "          [0, 0, 0, ..., 0, 0, 0],\n",
              "          [0, 0, 0, ..., 0, 0, 0],\n",
              "          [0, 0, 0, ..., 0, 0, 0]],\n",
              "  \n",
              "         [[0, 0, 0, ..., 0, 0, 0],\n",
              "          [0, 0, 0, ..., 0, 0, 0],\n",
              "          [0, 0, 0, ..., 0, 0, 0],\n",
              "          ...,\n",
              "          [0, 0, 0, ..., 0, 0, 0],\n",
              "          [0, 0, 0, ..., 0, 0, 0],\n",
              "          [0, 0, 0, ..., 0, 0, 0]]], dtype=uint8),\n",
              "  array([7, 2, 1, ..., 4, 5, 6], dtype=uint8)))"
            ]
          },
          "execution_count": 51,
          "metadata": {},
          "output_type": "execute_result"
        }
      ],
      "source": [
        "# 1.- Carga del dataset MNIST proporcionado por Keras: conjuntos de entrenamiento y validación\n",
        "\n",
        "#     Usar keras.datasets.mnist.load_data()\n",
        "keras.datasets.mnist.load_data()"
      ]
    },
    {
      "cell_type": "code",
      "execution_count": 52,
      "metadata": {},
      "outputs": [
        {
          "name": "stdout",
          "output_type": "stream",
          "text": [
            "(10000, 28, 28)\n",
            "(60000, 28, 28)\n"
          ]
        }
      ],
      "source": [
        "print(x_test.shape)\n",
        "print(x_train.shape)"
      ]
    },
    {
      "cell_type": "code",
      "execution_count": 53,
      "metadata": {},
      "outputs": [
        {
          "name": "stdout",
          "output_type": "stream",
          "text": [
            "uint8\n",
            "uint8\n",
            "uint8\n",
            "uint8\n"
          ]
        }
      ],
      "source": [
        "a=28*28\n",
        "a\n",
        "print(y_train.dtype)\n",
        "print(x_train.dtype)\n",
        "print(x_test.dtype)\n",
        "print(y_test.dtype)\n"
      ]
    },
    {
      "cell_type": "markdown",
      "metadata": {
        "id": "8BZ0ZDdwh6QE"
      },
      "source": [
        "### Preparación de datos"
      ]
    },
    {
      "cell_type": "code",
      "execution_count": 55,
      "metadata": {
        "colab": {
          "base_uri": "https://localhost:8080/"
        },
        "id": "hY7h87Ynh6A1",
        "outputId": "a6ea12c9-558a-4963-f518-8a643a3b9f42"
      },
      "outputs": [
        {
          "name": "stdout",
          "output_type": "stream",
          "text": [
            "(60000, 784)\n",
            "(10000, 784)\n",
            "(60000, 10)\n",
            "(10000, 10)\n"
          ]
        }
      ],
      "source": [
        "# 2.- Aplanar las imágenes con reshape: entrenamiento: 60000 filas x 784 columnas\n",
        "#                                       validación:    10000 filas x 784 columnas\n",
        "x_entr = x_train.reshape(60000,784)       # entrenamiento         \n",
        "x_val  = x_test.reshape(10000,784)      # validación\n",
        "\n",
        "# 3.- Convertir las entradas en formato 'float32'\n",
        "x_entr =   x_entr.astype('float32')  # entrenamiento\n",
        "x_val  =   x_val.astype('float32')  # validación\n",
        "\n",
        "\n",
        "\n",
        "# 4- Normalizar los valores de las entradas dividiéndolas por 255\n",
        "x_entr =     x_entr / 255.0  # entrenamiento\n",
        "x_val  =     x_val / 255.0  # validación    \n",
        "\n",
        "# 5.- Obtener la salida con codificación categórica (one-hot encoder)\n",
        "#     Usar keras.utils.to_categorical\n",
        "y_entr =  to_categorical(y_train, num_classes=10)  # entrenamiento\n",
        "y_val  =  to_categorical(y_test, num_classes=10)  # validación\n",
        "\n",
        "# 6.- Mostrar las dimensiones de las entradas (entrenamiento y validación)\n",
        "print(x_entr.shape)\n",
        "print(x_val.shape)\n",
        "print(y_entr.shape)\n",
        "print(y_val.shape)\n",
        "\n"
      ]
    },
    {
      "cell_type": "markdown",
      "metadata": {
        "id": "ujt7WCW6i09D"
      },
      "source": [
        "### Función de construcción y compilación del modelo:\n",
        "\n",
        "- Capa densa de entrada de 512 unidades\n",
        "- Capa densa de salida con activación softmax"
      ]
    },
    {
      "cell_type": "code",
      "execution_count": 57,
      "metadata": {
        "id": "D_R20GE5i0sr"
      },
      "outputs": [],
      "source": [
        "# 7.- La función de activación recibida por argumento: crea y compila\n",
        "def creaModelo ( funcion_activacion='relu' ):\n",
        "  modelo = Sequential()\n",
        "  # 7.- Añadir capas al modelo:\n",
        "  #        - Capa de entrada: 784 entradas, 512 neuronas, función de activación recibida por argumento\n",
        "  modelo.add( Dense(512, activation=funcion_activacion, input_shape=(784,)) )\n",
        "  #        - Capa oculta: 512 neuronas, función de activación recibida por argumento\n",
        "  modelo.add( Dense(10, activation='softmax') )\n",
        "  #        - Compilación:\n",
        "\n",
        "\n",
        "\n",
        "\n",
        "  # 8.- Compilación:\n",
        "  #        - optimizador: RMSprop\n",
        "  #        - métrica: Exactitud (accuracy)\n",
        "  #        - función de pérdidas: deducirla\n",
        "  modelo.compile(optimizer=RMSprop(), loss='categorical_crossentropy', metrics=['accuracy'])\n",
        "\n",
        "  return modelo\n"
      ]
    },
    {
      "cell_type": "markdown",
      "metadata": {
        "id": "D94QRy3Ljeei"
      },
      "source": [
        "### Bucle de creación y entrenamiento: una por cada activación. Guardar historiales en lista para visualización posterior.\n",
        "\n",
        "Probar funciones de activación: sigmoide, tanh, relu, selu"
      ]
    },
    {
      "cell_type": "code",
      "execution_count": 59,
      "metadata": {},
      "outputs": [
        {
          "name": "stdout",
          "output_type": "stream",
          "text": [
            "Entrenando con la activación:  relu\n"
          ]
        },
        {
          "name": "stderr",
          "output_type": "stream",
          "text": [
            "/home/sergio/venv_dl/lib/python3.12/site-packages/keras/src/layers/core/dense.py:87: UserWarning: Do not pass an `input_shape`/`input_dim` argument to a layer. When using Sequential models, prefer using an `Input(shape)` object as the first layer in the model instead.\n",
            "  super().__init__(activity_regularizer=activity_regularizer, **kwargs)\n",
            "2025-04-03 14:15:38.218352: E external/local_xla/xla/stream_executor/cuda/cuda_platform.cc:51] failed call to cuInit: INTERNAL: CUDA error: Failed call to cuInit: UNKNOWN ERROR (303)\n"
          ]
        },
        {
          "name": "stdout",
          "output_type": "stream",
          "text": [
            "Epoch 1/10\n",
            "\u001b[1m469/469\u001b[0m \u001b[32m━━━━━━━━━━━━━━━━━━━━\u001b[0m\u001b[37m\u001b[0m \u001b[1m3s\u001b[0m 5ms/step - accuracy: 0.8719 - loss: 0.4415 - val_accuracy: 0.9555 - val_loss: 0.1501\n",
            "Epoch 2/10\n",
            "\u001b[1m469/469\u001b[0m \u001b[32m━━━━━━━━━━━━━━━━━━━━\u001b[0m\u001b[37m\u001b[0m \u001b[1m2s\u001b[0m 4ms/step - accuracy: 0.9658 - loss: 0.1163 - val_accuracy: 0.9728 - val_loss: 0.0926\n",
            "Epoch 3/10\n",
            "\u001b[1m469/469\u001b[0m \u001b[32m━━━━━━━━━━━━━━━━━━━━\u001b[0m\u001b[37m\u001b[0m \u001b[1m2s\u001b[0m 4ms/step - accuracy: 0.9786 - loss: 0.0722 - val_accuracy: 0.9732 - val_loss: 0.0849\n",
            "Epoch 4/10\n",
            "\u001b[1m469/469\u001b[0m \u001b[32m━━━━━━━━━━━━━━━━━━━━\u001b[0m\u001b[37m\u001b[0m \u001b[1m2s\u001b[0m 5ms/step - accuracy: 0.9858 - loss: 0.0467 - val_accuracy: 0.9763 - val_loss: 0.0750\n",
            "Epoch 5/10\n",
            "\u001b[1m469/469\u001b[0m \u001b[32m━━━━━━━━━━━━━━━━━━━━\u001b[0m\u001b[37m\u001b[0m \u001b[1m2s\u001b[0m 4ms/step - accuracy: 0.9893 - loss: 0.0381 - val_accuracy: 0.9783 - val_loss: 0.0701\n",
            "Epoch 6/10\n",
            "\u001b[1m469/469\u001b[0m \u001b[32m━━━━━━━━━━━━━━━━━━━━\u001b[0m\u001b[37m\u001b[0m \u001b[1m2s\u001b[0m 5ms/step - accuracy: 0.9916 - loss: 0.0280 - val_accuracy: 0.9795 - val_loss: 0.0676\n",
            "Epoch 7/10\n",
            "\u001b[1m469/469\u001b[0m \u001b[32m━━━━━━━━━━━━━━━━━━━━\u001b[0m\u001b[37m\u001b[0m \u001b[1m2s\u001b[0m 4ms/step - accuracy: 0.9948 - loss: 0.0196 - val_accuracy: 0.9809 - val_loss: 0.0592\n",
            "Epoch 8/10\n",
            "\u001b[1m469/469\u001b[0m \u001b[32m━━━━━━━━━━━━━━━━━━━━\u001b[0m\u001b[37m\u001b[0m \u001b[1m2s\u001b[0m 5ms/step - accuracy: 0.9958 - loss: 0.0163 - val_accuracy: 0.9809 - val_loss: 0.0641\n",
            "Epoch 9/10\n",
            "\u001b[1m469/469\u001b[0m \u001b[32m━━━━━━━━━━━━━━━━━━━━\u001b[0m\u001b[37m\u001b[0m \u001b[1m2s\u001b[0m 4ms/step - accuracy: 0.9973 - loss: 0.0118 - val_accuracy: 0.9823 - val_loss: 0.0662\n",
            "Epoch 10/10\n",
            "\u001b[1m469/469\u001b[0m \u001b[32m━━━━━━━━━━━━━━━━━━━━\u001b[0m\u001b[37m\u001b[0m \u001b[1m2s\u001b[0m 4ms/step - accuracy: 0.9977 - loss: 0.0092 - val_accuracy: 0.9833 - val_loss: 0.0592\n",
            "Entrenamiento terminado con la activación:  relu\n",
            "----------------------------------------------------\n",
            "Entrenando con la activación:  sigmoid\n",
            "Epoch 1/10\n",
            "\u001b[1m469/469\u001b[0m \u001b[32m━━━━━━━━━━━━━━━━━━━━\u001b[0m\u001b[37m\u001b[0m \u001b[1m3s\u001b[0m 5ms/step - accuracy: 0.8122 - loss: 0.7281 - val_accuracy: 0.9211 - val_loss: 0.2798\n",
            "Epoch 2/10\n",
            "\u001b[1m469/469\u001b[0m \u001b[32m━━━━━━━━━━━━━━━━━━━━\u001b[0m\u001b[37m\u001b[0m \u001b[1m2s\u001b[0m 5ms/step - accuracy: 0.9187 - loss: 0.2820 - val_accuracy: 0.9328 - val_loss: 0.2345\n",
            "Epoch 3/10\n",
            "\u001b[1m469/469\u001b[0m \u001b[32m━━━━━━━━━━━━━━━━━━━━\u001b[0m\u001b[37m\u001b[0m \u001b[1m2s\u001b[0m 5ms/step - accuracy: 0.9340 - loss: 0.2293 - val_accuracy: 0.9423 - val_loss: 0.1928\n",
            "Epoch 4/10\n",
            "\u001b[1m469/469\u001b[0m \u001b[32m━━━━━━━━━━━━━━━━━━━━\u001b[0m\u001b[37m\u001b[0m \u001b[1m2s\u001b[0m 5ms/step - accuracy: 0.9473 - loss: 0.1862 - val_accuracy: 0.9522 - val_loss: 0.1596\n",
            "Epoch 5/10\n",
            "\u001b[1m469/469\u001b[0m \u001b[32m━━━━━━━━━━━━━━━━━━━━\u001b[0m\u001b[37m\u001b[0m \u001b[1m2s\u001b[0m 4ms/step - accuracy: 0.9572 - loss: 0.1462 - val_accuracy: 0.9604 - val_loss: 0.1356\n",
            "Epoch 6/10\n",
            "\u001b[1m469/469\u001b[0m \u001b[32m━━━━━━━━━━━━━━━━━━━━\u001b[0m\u001b[37m\u001b[0m \u001b[1m2s\u001b[0m 5ms/step - accuracy: 0.9625 - loss: 0.1270 - val_accuracy: 0.9609 - val_loss: 0.1242\n",
            "Epoch 7/10\n",
            "\u001b[1m469/469\u001b[0m \u001b[32m━━━━━━━━━━━━━━━━━━━━\u001b[0m\u001b[37m\u001b[0m \u001b[1m2s\u001b[0m 5ms/step - accuracy: 0.9687 - loss: 0.1061 - val_accuracy: 0.9669 - val_loss: 0.1076\n",
            "Epoch 8/10\n",
            "\u001b[1m469/469\u001b[0m \u001b[32m━━━━━━━━━━━━━━━━━━━━\u001b[0m\u001b[37m\u001b[0m \u001b[1m2s\u001b[0m 5ms/step - accuracy: 0.9744 - loss: 0.0921 - val_accuracy: 0.9675 - val_loss: 0.1042\n",
            "Epoch 9/10\n",
            "\u001b[1m469/469\u001b[0m \u001b[32m━━━━━━━━━━━━━━━━━━━━\u001b[0m\u001b[37m\u001b[0m \u001b[1m2s\u001b[0m 5ms/step - accuracy: 0.9774 - loss: 0.0809 - val_accuracy: 0.9718 - val_loss: 0.0926\n",
            "Epoch 10/10\n",
            "\u001b[1m469/469\u001b[0m \u001b[32m━━━━━━━━━━━━━━━━━━━━\u001b[0m\u001b[37m\u001b[0m \u001b[1m2s\u001b[0m 5ms/step - accuracy: 0.9795 - loss: 0.0710 - val_accuracy: 0.9747 - val_loss: 0.0842\n",
            "Entrenamiento terminado con la activación:  sigmoid\n",
            "----------------------------------------------------\n",
            "Entrenando con la activación:  tanh\n",
            "Epoch 1/10\n",
            "\u001b[1m469/469\u001b[0m \u001b[32m━━━━━━━━━━━━━━━━━━━━\u001b[0m\u001b[37m\u001b[0m \u001b[1m3s\u001b[0m 5ms/step - accuracy: 0.8532 - loss: 0.4933 - val_accuracy: 0.9333 - val_loss: 0.2321\n",
            "Epoch 2/10\n",
            "\u001b[1m469/469\u001b[0m \u001b[32m━━━━━━━━━━━━━━━━━━━━\u001b[0m\u001b[37m\u001b[0m \u001b[1m2s\u001b[0m 4ms/step - accuracy: 0.9403 - loss: 0.2073 - val_accuracy: 0.9513 - val_loss: 0.1598\n",
            "Epoch 3/10\n",
            "\u001b[1m469/469\u001b[0m \u001b[32m━━━━━━━━━━━━━━━━━━━━\u001b[0m\u001b[37m\u001b[0m \u001b[1m2s\u001b[0m 5ms/step - accuracy: 0.9614 - loss: 0.1353 - val_accuracy: 0.9613 - val_loss: 0.1264\n",
            "Epoch 4/10\n",
            "\u001b[1m469/469\u001b[0m \u001b[32m━━━━━━━━━━━━━━━━━━━━\u001b[0m\u001b[37m\u001b[0m \u001b[1m2s\u001b[0m 4ms/step - accuracy: 0.9722 - loss: 0.0957 - val_accuracy: 0.9717 - val_loss: 0.0964\n",
            "Epoch 5/10\n",
            "\u001b[1m469/469\u001b[0m \u001b[32m━━━━━━━━━━━━━━━━━━━━\u001b[0m\u001b[37m\u001b[0m \u001b[1m2s\u001b[0m 5ms/step - accuracy: 0.9789 - loss: 0.0720 - val_accuracy: 0.9737 - val_loss: 0.0860\n",
            "Epoch 6/10\n",
            "\u001b[1m469/469\u001b[0m \u001b[32m━━━━━━━━━━━━━━━━━━━━\u001b[0m\u001b[37m\u001b[0m \u001b[1m2s\u001b[0m 5ms/step - accuracy: 0.9847 - loss: 0.0541 - val_accuracy: 0.9777 - val_loss: 0.0706\n",
            "Epoch 7/10\n",
            "\u001b[1m469/469\u001b[0m \u001b[32m━━━━━━━━━━━━━━━━━━━━\u001b[0m\u001b[37m\u001b[0m \u001b[1m2s\u001b[0m 5ms/step - accuracy: 0.9876 - loss: 0.0422 - val_accuracy: 0.9780 - val_loss: 0.0699\n",
            "Epoch 8/10\n",
            "\u001b[1m469/469\u001b[0m \u001b[32m━━━━━━━━━━━━━━━━━━━━\u001b[0m\u001b[37m\u001b[0m \u001b[1m2s\u001b[0m 5ms/step - accuracy: 0.9904 - loss: 0.0344 - val_accuracy: 0.9790 - val_loss: 0.0678\n",
            "Epoch 9/10\n",
            "\u001b[1m469/469\u001b[0m \u001b[32m━━━━━━━━━━━━━━━━━━━━\u001b[0m\u001b[37m\u001b[0m \u001b[1m2s\u001b[0m 5ms/step - accuracy: 0.9926 - loss: 0.0265 - val_accuracy: 0.9796 - val_loss: 0.0663\n",
            "Epoch 10/10\n",
            "\u001b[1m469/469\u001b[0m \u001b[32m━━━━━━━━━━━━━━━━━━━━\u001b[0m\u001b[37m\u001b[0m \u001b[1m2s\u001b[0m 4ms/step - accuracy: 0.9944 - loss: 0.0217 - val_accuracy: 0.9806 - val_loss: 0.0657\n",
            "Entrenamiento terminado con la activación:  tanh\n",
            "----------------------------------------------------\n",
            "Entrenando con la activación:  selu\n",
            "Epoch 1/10\n",
            "\u001b[1m469/469\u001b[0m \u001b[32m━━━━━━━━━━━━━━━━━━━━\u001b[0m\u001b[37m\u001b[0m \u001b[1m2s\u001b[0m 5ms/step - accuracy: 0.8484 - loss: 0.5069 - val_accuracy: 0.9192 - val_loss: 0.2790\n",
            "Epoch 2/10\n",
            "\u001b[1m469/469\u001b[0m \u001b[32m━━━━━━━━━━━━━━━━━━━━\u001b[0m\u001b[37m\u001b[0m \u001b[1m2s\u001b[0m 5ms/step - accuracy: 0.9251 - loss: 0.2590 - val_accuracy: 0.9382 - val_loss: 0.2049\n",
            "Epoch 3/10\n",
            "\u001b[1m469/469\u001b[0m \u001b[32m━━━━━━━━━━━━━━━━━━━━\u001b[0m\u001b[37m\u001b[0m \u001b[1m2s\u001b[0m 4ms/step - accuracy: 0.9495 - loss: 0.1802 - val_accuracy: 0.9472 - val_loss: 0.1684\n",
            "Epoch 4/10\n",
            "\u001b[1m469/469\u001b[0m \u001b[32m━━━━━━━━━━━━━━━━━━━━\u001b[0m\u001b[37m\u001b[0m \u001b[1m2s\u001b[0m 5ms/step - accuracy: 0.9618 - loss: 0.1281 - val_accuracy: 0.9673 - val_loss: 0.1108\n",
            "Epoch 5/10\n",
            "\u001b[1m469/469\u001b[0m \u001b[32m━━━━━━━━━━━━━━━━━━━━\u001b[0m\u001b[37m\u001b[0m \u001b[1m2s\u001b[0m 5ms/step - accuracy: 0.9705 - loss: 0.1006 - val_accuracy: 0.9690 - val_loss: 0.1039\n",
            "Epoch 6/10\n",
            "\u001b[1m469/469\u001b[0m \u001b[32m━━━━━━━━━━━━━━━━━━━━\u001b[0m\u001b[37m\u001b[0m \u001b[1m2s\u001b[0m 5ms/step - accuracy: 0.9759 - loss: 0.0812 - val_accuracy: 0.9643 - val_loss: 0.1168\n",
            "Epoch 7/10\n",
            "\u001b[1m469/469\u001b[0m \u001b[32m━━━━━━━━━━━━━━━━━━━━\u001b[0m\u001b[37m\u001b[0m \u001b[1m2s\u001b[0m 4ms/step - accuracy: 0.9813 - loss: 0.0625 - val_accuracy: 0.9701 - val_loss: 0.0984\n",
            "Epoch 8/10\n",
            "\u001b[1m469/469\u001b[0m \u001b[32m━━━━━━━━━━━━━━━━━━━━\u001b[0m\u001b[37m\u001b[0m \u001b[1m2s\u001b[0m 5ms/step - accuracy: 0.9821 - loss: 0.0595 - val_accuracy: 0.9725 - val_loss: 0.0847\n",
            "Epoch 9/10\n",
            "\u001b[1m469/469\u001b[0m \u001b[32m━━━━━━━━━━━━━━━━━━━━\u001b[0m\u001b[37m\u001b[0m \u001b[1m2s\u001b[0m 5ms/step - accuracy: 0.9851 - loss: 0.0486 - val_accuracy: 0.9765 - val_loss: 0.0745\n",
            "Epoch 10/10\n",
            "\u001b[1m469/469\u001b[0m \u001b[32m━━━━━━━━━━━━━━━━━━━━\u001b[0m\u001b[37m\u001b[0m \u001b[1m2s\u001b[0m 5ms/step - accuracy: 0.9876 - loss: 0.0419 - val_accuracy: 0.9766 - val_loss: 0.0719\n",
            "Entrenamiento terminado con la activación:  selu\n",
            "----------------------------------------------------\n"
          ]
        }
      ],
      "source": [
        "# 9.- Bucle de entrenamiento: en cada iteración una de las siguientes funciones de activación:\n",
        "#                             'relu', 'sigmoid', 'tanh', 'selu'\n",
        "#     El entrenamiento será de 10 epochs con un tamaño de lote de 128. Utilizará el conjunto de dato de validación.\n",
        "#     La historia devuelta por cada entrenamiento se añade a una lista para luego poder hacer las gráficas de todas\n",
        "activaciones = ['relu', 'sigmoid', 'tanh', 'selu']\n",
        "historias = []\n",
        "for i in range(len(activaciones)):\n",
        "  print('Entrenando con la activación: ', activaciones[i])\n",
        "  modelo = creaModelo(activaciones[i])\n",
        "  historia = modelo.fit(x_entr, y_entr, batch_size=128, epochs=10, verbose=1, validation_data=(x_val, y_val))\n",
        "  historias.append(historia)\n",
        "  print('Entrenamiento terminado con la activación: ', activaciones[i])\n",
        "  print('----------------------------------------------------')\n"
      ]
    },
    {
      "cell_type": "code",
      "execution_count": null,
      "metadata": {
        "colab": {
          "base_uri": "https://localhost:8080/"
        },
        "id": "fOf2oqQvjfDC",
        "outputId": "76e31bf3-b885-4c11-8bf9-3c52d71e4690"
      },
      "outputs": [
        {
          "name": "stdout",
          "output_type": "stream",
          "text": [
            "Epoch 1/10\n",
            "469/469 [==============================] - 4s 4ms/step - loss: 0.4253 - accuracy: 0.8761 - val_loss: 0.1352 - val_accuracy: 0.9582\n",
            "Epoch 2/10\n",
            "469/469 [==============================] - 1s 3ms/step - loss: 0.1124 - accuracy: 0.9672 - val_loss: 0.0959 - val_accuracy: 0.9725\n",
            "Epoch 3/10\n",
            "469/469 [==============================] - 1s 3ms/step - loss: 0.0692 - accuracy: 0.9792 - val_loss: 0.0779 - val_accuracy: 0.9768\n",
            "Epoch 4/10\n",
            "469/469 [==============================] - 2s 3ms/step - loss: 0.0504 - accuracy: 0.9858 - val_loss: 0.0756 - val_accuracy: 0.9777\n",
            "Epoch 5/10\n",
            "469/469 [==============================] - 2s 3ms/step - loss: 0.0365 - accuracy: 0.9892 - val_loss: 0.0686 - val_accuracy: 0.9804\n",
            "Epoch 6/10\n",
            "469/469 [==============================] - 1s 3ms/step - loss: 0.0272 - accuracy: 0.9918 - val_loss: 0.0720 - val_accuracy: 0.9790\n",
            "Epoch 7/10\n",
            "469/469 [==============================] - 1s 3ms/step - loss: 0.0192 - accuracy: 0.9943 - val_loss: 0.0669 - val_accuracy: 0.9822\n",
            "Epoch 8/10\n",
            "469/469 [==============================] - 2s 3ms/step - loss: 0.0164 - accuracy: 0.9956 - val_loss: 0.0625 - val_accuracy: 0.9826\n",
            "Epoch 9/10\n",
            "469/469 [==============================] - 1s 3ms/step - loss: 0.0114 - accuracy: 0.9969 - val_loss: 0.0689 - val_accuracy: 0.9819\n",
            "Epoch 10/10\n",
            "469/469 [==============================] - 2s 3ms/step - loss: 0.0095 - accuracy: 0.9977 - val_loss: 0.0711 - val_accuracy: 0.9814\n",
            "Epoch 1/10\n",
            "469/469 [==============================] - 2s 4ms/step - loss: 0.6720 - accuracy: 0.8240 - val_loss: 0.2622 - val_accuracy: 0.9250\n",
            "Epoch 2/10\n",
            "469/469 [==============================] - 2s 3ms/step - loss: 0.2497 - accuracy: 0.9271 - val_loss: 0.1997 - val_accuracy: 0.9406\n",
            "Epoch 3/10\n",
            "469/469 [==============================] - 2s 3ms/step - loss: 0.1869 - accuracy: 0.9460 - val_loss: 0.1510 - val_accuracy: 0.9540\n",
            "Epoch 4/10\n",
            "469/469 [==============================] - 1s 3ms/step - loss: 0.1489 - accuracy: 0.9568 - val_loss: 0.1294 - val_accuracy: 0.9610\n",
            "Epoch 5/10\n",
            "469/469 [==============================] - 2s 3ms/step - loss: 0.1152 - accuracy: 0.9668 - val_loss: 0.1108 - val_accuracy: 0.9664\n",
            "Epoch 6/10\n",
            "469/469 [==============================] - 1s 3ms/step - loss: 0.0965 - accuracy: 0.9721 - val_loss: 0.1028 - val_accuracy: 0.9695\n",
            "Epoch 7/10\n",
            "469/469 [==============================] - 1s 3ms/step - loss: 0.0764 - accuracy: 0.9775 - val_loss: 0.0890 - val_accuracy: 0.9728\n",
            "Epoch 8/10\n",
            "469/469 [==============================] - 1s 3ms/step - loss: 0.0678 - accuracy: 0.9802 - val_loss: 0.0859 - val_accuracy: 0.9730\n",
            "Epoch 9/10\n",
            "469/469 [==============================] - 2s 3ms/step - loss: 0.0577 - accuracy: 0.9828 - val_loss: 0.0791 - val_accuracy: 0.9761\n",
            "Epoch 10/10\n",
            "469/469 [==============================] - 2s 3ms/step - loss: 0.0483 - accuracy: 0.9867 - val_loss: 0.0730 - val_accuracy: 0.9787\n",
            "Epoch 1/10\n",
            "469/469 [==============================] - 2s 4ms/step - loss: 0.4832 - accuracy: 0.8522 - val_loss: 0.2008 - val_accuracy: 0.9415\n",
            "Epoch 2/10\n",
            "469/469 [==============================] - 1s 3ms/step - loss: 0.1885 - accuracy: 0.9443 - val_loss: 0.1427 - val_accuracy: 0.9570\n",
            "Epoch 3/10\n",
            "469/469 [==============================] - 2s 3ms/step - loss: 0.1238 - accuracy: 0.9633 - val_loss: 0.1076 - val_accuracy: 0.9680\n",
            "Epoch 4/10\n",
            "469/469 [==============================] - 2s 3ms/step - loss: 0.0892 - accuracy: 0.9731 - val_loss: 0.0896 - val_accuracy: 0.9724\n",
            "Epoch 5/10\n",
            "469/469 [==============================] - 2s 3ms/step - loss: 0.0662 - accuracy: 0.9806 - val_loss: 0.0750 - val_accuracy: 0.9762\n",
            "Epoch 6/10\n",
            "469/469 [==============================] - 2s 3ms/step - loss: 0.0518 - accuracy: 0.9843 - val_loss: 0.0756 - val_accuracy: 0.9755\n",
            "Epoch 7/10\n",
            "469/469 [==============================] - 2s 3ms/step - loss: 0.0381 - accuracy: 0.9889 - val_loss: 0.0712 - val_accuracy: 0.9774\n",
            "Epoch 8/10\n",
            "469/469 [==============================] - 2s 3ms/step - loss: 0.0308 - accuracy: 0.9916 - val_loss: 0.0666 - val_accuracy: 0.9791\n",
            "Epoch 9/10\n",
            "469/469 [==============================] - 1s 3ms/step - loss: 0.0240 - accuracy: 0.9935 - val_loss: 0.0612 - val_accuracy: 0.9812\n",
            "Epoch 10/10\n",
            "469/469 [==============================] - 1s 3ms/step - loss: 0.0190 - accuracy: 0.9947 - val_loss: 0.0636 - val_accuracy: 0.9793\n",
            "Epoch 1/10\n",
            "469/469 [==============================] - 2s 3ms/step - loss: 0.5394 - accuracy: 0.8418 - val_loss: 0.3579 - val_accuracy: 0.8927\n",
            "Epoch 2/10\n",
            "469/469 [==============================] - 2s 3ms/step - loss: 0.2432 - accuracy: 0.9286 - val_loss: 0.1885 - val_accuracy: 0.9455\n",
            "Epoch 3/10\n",
            "469/469 [==============================] - 2s 3ms/step - loss: 0.1700 - accuracy: 0.9512 - val_loss: 0.1482 - val_accuracy: 0.9554\n",
            "Epoch 4/10\n",
            "469/469 [==============================] - 1s 3ms/step - loss: 0.1258 - accuracy: 0.9628 - val_loss: 0.1164 - val_accuracy: 0.9666\n",
            "Epoch 5/10\n",
            "469/469 [==============================] - 1s 3ms/step - loss: 0.0997 - accuracy: 0.9699 - val_loss: 0.1008 - val_accuracy: 0.9702\n",
            "Epoch 6/10\n",
            "469/469 [==============================] - 1s 3ms/step - loss: 0.0750 - accuracy: 0.9778 - val_loss: 0.0856 - val_accuracy: 0.9750\n",
            "Epoch 7/10\n",
            "469/469 [==============================] - 2s 3ms/step - loss: 0.0640 - accuracy: 0.9795 - val_loss: 0.0839 - val_accuracy: 0.9747\n",
            "Epoch 8/10\n",
            "469/469 [==============================] - 2s 3ms/step - loss: 0.0541 - accuracy: 0.9836 - val_loss: 0.0800 - val_accuracy: 0.9764\n",
            "Epoch 9/10\n",
            "469/469 [==============================] - 1s 3ms/step - loss: 0.0485 - accuracy: 0.9850 - val_loss: 0.0758 - val_accuracy: 0.9783\n",
            "Epoch 10/10\n",
            "469/469 [==============================] - 2s 3ms/step - loss: 0.0402 - accuracy: 0.9875 - val_loss: 0.0716 - val_accuracy: 0.9797\n"
          ]
        }
      ],
      "source": [
        "# 9.- Bucle de entrenamiento: en cada iteración una de las siguientes funciones de activación:\n",
        "#                             'relu', 'sigmoid', 'tanh', 'selu'\n",
        "#     El entrenamiento será de 10 epochs con un tamaño de lote de 128. Utilizará el conjunto de dato de validación.\n",
        "#     La historia devuelta por cada entrenamiento se añade a una lista para luego poder hacer las gráficas de todas\n",
        "\n",
        "activaciones = ['relu', 'sigmoid', 'tanh', 'selu']\n",
        "\n",
        "\n"
      ]
    },
    {
      "cell_type": "markdown",
      "metadata": {
        "id": "izmOi1eFkLnK"
      },
      "source": [
        "### Bucle de gráficas de historiales"
      ]
    },
    {
      "cell_type": "code",
      "execution_count": 60,
      "metadata": {
        "colab": {
          "base_uri": "https://localhost:8080/",
          "height": 470
        },
        "id": "A-U-1NoDoKFh",
        "outputId": "5c99549b-aece-4d48-ba3f-d2e7777bd503"
      },
      "outputs": [
        {
          "data": {
            "image/png": "[encoded data removed]",
            "text/plain": [
              "<Figure size 1200x800 with 1 Axes>"
            ]
          },
          "metadata": {},
          "output_type": "display_data"
        }
      ],
      "source": [
        "# 10.- Gráfica de exactitud ('accuracy')en validación (no entrenamiento) de cada entrenamiento superpuestas.\n",
        "#     Usar matplotlib\n",
        "plt.figure(figsize=(12, 8))\n",
        "for i in range(len(activaciones)):\n",
        "  plt.plot(historias[i].history['val_accuracy'], label=activaciones[i])\n",
        "plt.title('Exactitud en validación')\n",
        "plt.xlabel('Epochs')\n",
        "plt.ylabel('Exactitud')\n",
        "plt.legend()\n",
        "plt.show()\n",
        "\n",
        "\n",
        "\n",
        "\n"
      ]
    }
  ],
  "metadata": {
    "accelerator": "GPU",
    "colab": {
      "provenance": []
    },
    "kernelspec": {
      "display_name": "venv_dl",
      "language": "python",
      "name": "python3"
    },
    "language_info": {
      "codemirror_mode": {
        "name": "ipython",
        "version": 3
      },
      "file_extension": ".py",
      "mimetype": "text/x-python",
      "name": "python",
      "nbconvert_exporter": "python",
      "pygments_lexer": "ipython3",
      "version": "3.12.7"
    }
  },
  "nbformat": 4,
  "nbformat_minor": 0
}
