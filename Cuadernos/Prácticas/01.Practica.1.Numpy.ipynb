{
  "cells": [
    {
      "cell_type": "markdown",
      "metadata": {
        "id": "UQ0CNWIbs9ii"
      },
      "source": [
        "# PRÁCTICA DE NUMPY"
      ]
    },
    {
      "cell_type": "markdown",
      "metadata": {
        "id": "jW4HMtzC3jWZ"
      },
      "source": [
        "Para la realización de la práctica, debe buscarse información de las siguientes métodos de Numpy: nditer, unique, min, argmin, ravel, flatten, inner, percentile, astype, np.NaN, isnan, nonzero, stack, array_split, average, shuffle, normal, around."
      ]
    },
    {
      "cell_type": "markdown",
      "metadata": {
        "id": "ZMZKy_4ytqjN"
      },
      "source": [
        "0.- Importa el paquete numpy"
      ]
    },
    {
      "cell_type": "code",
      "execution_count": 2,
      "metadata": {
        "id": "iAb0xr1VtP2f"
      },
      "outputs": [],
      "source": [
        "import numpy as np"
      ]
    },
    {
      "cell_type": "markdown",
      "metadata": {
        "id": "Im2SLX__ObsW"
      },
      "source": [
        "1.- Crear dos array a partir de sendas listas de enteros. En el segundo de ellos, indicar que el array debe ser de tipo *float*"
      ]
    },
    {
      "cell_type": "code",
      "execution_count": 3,
      "metadata": {},
      "outputs": [
        {
          "name": "stdout",
          "output_type": "stream",
          "text": [
            "[1 3 5] \n",
            " [5. 7. 8.]\n"
          ]
        }
      ],
      "source": [
        "lista1=[1,3,5]\n",
        "lista2=[5,7,8]\n",
        "array1=np.array(lista1)\n",
        "array2=np.array(lista2,dtype=float)\n",
        "print(array1,'\\n' , array2)\n",
        "\n"
      ]
    },
    {
      "cell_type": "markdown",
      "metadata": {
        "id": "Ddr5pjSbtwyA"
      },
      "source": [
        "2.- Crea tres arrays: uno de ceros otro de unos y otro de cincos. Todos tendrán cuatro elementos. "
      ]
    },
    {
      "cell_type": "code",
      "execution_count": 4,
      "metadata": {},
      "outputs": [
        {
          "name": "stdout",
          "output_type": "stream",
          "text": [
            "[[0. 0. 0. 0.]] \n",
            " [[1. 1. 1. 1.]] \n",
            " [[5. 5. 5. 5.]]\n"
          ]
        }
      ],
      "source": [
        "print(np.zeros([1,4]), '\\n', np.ones([1,4]), '\\n' , np.ones([1,4])*5)"
      ]
    },
    {
      "cell_type": "markdown",
      "metadata": {
        "id": "gltv0l2tuVck"
      },
      "source": [
        "3.- Crea un array unidimensional de doce elementos (valores del 1 al 12) y reorganízalo como un array 2D de 3x4. Recórrelo y muestra sus elementos.\n",
        "Mostrar por pantalla las dimensiones de la matriz usando el campo *shape*"
      ]
    },
    {
      "cell_type": "code",
      "execution_count": 5,
      "metadata": {
        "colab": {
          "base_uri": "https://localhost:8080/"
        },
        "id": "qY31Wl2ru1tX",
        "outputId": "cf23ae60-58f5-49d6-e435-8b950be2b216"
      },
      "outputs": [
        {
          "name": "stdout",
          "output_type": "stream",
          "text": [
            "[[ 1  2  3  4]\n",
            " [ 5  6  7  8]\n",
            " [ 9 10 11 12]]\n",
            "(3, 4)\n"
          ]
        }
      ],
      "source": [
        "array1=np.arange(1,13,1)\n",
        "array1=array1.reshape(3,4)\n",
        "print(array1)\n",
        "print(array1.shape)\n",
        "\n"
      ]
    },
    {
      "cell_type": "markdown",
      "metadata": {
        "id": "BuFqP3UQvtRv"
      },
      "source": [
        "4.- Crear un array 1D con 20 valores aleatorios entre 0 y 10 y luego cámbiales el signo a los mayores de 5 (intenta evitar los bucles usando indexación buleana)."
      ]
    },
    {
      "cell_type": "code",
      "execution_count": 6,
      "metadata": {
        "colab": {
          "base_uri": "https://localhost:8080/"
        },
        "id": "m82gDROEvByo",
        "outputId": "cc78914a-d3aa-4276-b501-bcfa5dee6de2"
      },
      "outputs": [
        {
          "name": "stdout",
          "output_type": "stream",
          "text": [
            "[2 4 5 8 5 7 3 7 8 2 6 3 7 4 9 9 7 8 5 4]\n",
            "[ 2  4  5 -8  5 -7  3 -7 -8  2 -6  3 -7  4 -9 -9 -7 -8  5  4]\n"
          ]
        }
      ],
      "source": [
        "array1=np.random.randint(0,10,20)\n",
        "print(array1)\n",
        "array1[(array1>5)]=-array1[(array1>5)]\n",
        "print(array1)\n"
      ]
    },
    {
      "cell_type": "markdown",
      "metadata": {
        "id": "s5pLDzWBwkWr"
      },
      "source": [
        "5.- Crea un array 2x2 a partir de una lista y muestra lo siguiente:\n",
        "*   La suma de todos los elementos.\n",
        "*   La suma de cada columna\n",
        "*   La suma de cada fila"
      ]
    },
    {
      "cell_type": "code",
      "execution_count": 7,
      "metadata": {},
      "outputs": [
        {
          "name": "stdout",
          "output_type": "stream",
          "text": [
            "[[1 1]\n",
            " [1 0]]\n",
            "3\n",
            "[2 1]\n",
            "[2 1]\n"
          ]
        }
      ],
      "source": [
        "array1=np.random.randint(0,2,4)\n",
        "array1=array1.reshape(2,2)\n",
        "print(array1)\n",
        "print(array1.sum())\n",
        "print(array1.sum(axis=0))\n",
        "print(array1.sum(axis=1))"
      ]
    },
    {
      "cell_type": "markdown",
      "metadata": {
        "id": "Yv8mc0I1uVkq"
      },
      "source": [
        "6.- Convertir un array con grados Fahrenheit a centígrados, usando una operación de vector (por tanto, sin hacerlo elemento a elemento)."
      ]
    },
    {
      "cell_type": "code",
      "execution_count": 8,
      "metadata": {},
      "outputs": [
        {
          "name": "stdout",
          "output_type": "stream",
          "text": [
            "[ 0.   12.   45.21 34.   99.91]\n",
            "[-17.77777778 -11.11111111   7.33888889   1.11111111  37.72777778]\n"
          ]
        }
      ],
      "source": [
        "arrayF=np.array([0, 12, 45.21, 34, 99.91],dtype=float)\n",
        "print(arrayF)\n",
        "arrayC=(arrayF-32)*5/9\n",
        "print(arrayC)"
      ]
    },
    {
      "cell_type": "markdown",
      "metadata": {
        "id": "sTXbkSRZvUeF"
      },
      "source": [
        "7.- Devuelve los elementos de un array 2D, eliminando los repetidos."
      ]
    },
    {
      "cell_type": "code",
      "execution_count": 9,
      "metadata": {
        "colab": {
          "base_uri": "https://localhost:8080/"
        },
        "id": "0qujnj9avmz5",
        "outputId": "b317640f-08e3-40e4-a496-03da52abc6f7"
      },
      "outputs": [
        {
          "name": "stdout",
          "output_type": "stream",
          "text": [
            "[10 10 20 20 30 30]\n",
            "[10 20 30]\n"
          ]
        }
      ],
      "source": [
        "array1=np.array([10,10,20,20,30,30])\n",
        "print(array1)\n",
        "array1=np.unique(array1)\n",
        "print(array1)\n"
      ]
    },
    {
      "cell_type": "markdown",
      "metadata": {
        "id": "CjPfp6Zkvyww"
      },
      "source": [
        "8.- Crear un array unidimensional con 6 de enteros aleatorios entre 1 y 49 y mostrar las posiciones del máximo y del mínimo."
      ]
    },
    {
      "cell_type": "code",
      "execution_count": 17,
      "metadata": {
        "colab": {
          "base_uri": "https://localhost:8080/"
        },
        "id": "CzI6O1mYwNnX",
        "outputId": "37530fa9-067e-4275-8063-ff4950157477"
      },
      "outputs": [
        {
          "name": "stdout",
          "output_type": "stream",
          "text": [
            "[40 26 31 10 34 25]\n",
            "0\n",
            "3\n"
          ]
        }
      ],
      "source": [
        "array1=np.random.randint(1,49,6)\n",
        "print(array1)\n",
        "print(array1.argmax())\n",
        "print(array1.argmin())\n",
        "\n",
        "\n"
      ]
    },
    {
      "cell_type": "markdown",
      "metadata": {
        "id": "MFz_C-ssyffk"
      },
      "source": [
        "9.- Crear un array bidimensional y calcular la posición del máximo de cada fila y del mínimo de cada columna."
      ]
    },
    {
      "cell_type": "code",
      "execution_count": 23,
      "metadata": {},
      "outputs": [
        {
          "name": "stdout",
          "output_type": "stream",
          "text": [
            "[[ 4 18  7]\n",
            " [ 2 23 34]]\n",
            "[0 1 1]\n",
            "[0 0]\n"
          ]
        }
      ],
      "source": [
        "array1=np.random.randint(1,49,6)\n",
        "array1=array1.reshape(2,3)\n",
        "print(array1)\n",
        "print(array1.argmax(axis=0))\n",
        "print(array1.argmin(axis=1))\n"
      ]
    },
    {
      "cell_type": "markdown",
      "metadata": {
        "id": "9gi_6IGtwlX2"
      },
      "source": [
        "10.- Usa las funciones `reshape`, `flatten` o `ravel` para aplanar un vector: guardar los mismos valores en el mismo orden en un vector 1D."
      ]
    },
    {
      "cell_type": "code",
      "execution_count": 36,
      "metadata": {},
      "outputs": [
        {
          "name": "stdout",
          "output_type": "stream",
          "text": [
            "[[3 5 1]\n",
            " [2 7 0]]\n",
            "[3 5 1 2 7 0]\n",
            "[3 5 1 2 7 0]\n",
            "[3 5 1 2 7 0]\n"
          ]
        }
      ],
      "source": [
        "array1=np.array([[3,5,1],[2,7,0]])\n",
        "print(array1)\n",
        "print(array1.reshape(6))\n",
        "print(array1.flatten())\n",
        "print(array1.ravel())\n",
        "\n",
        "\n"
      ]
    },
    {
      "cell_type": "markdown",
      "metadata": {
        "id": "f2Y4a3QS4e35"
      },
      "source": [
        "11.- Calcular el producto matricial (fila por columna) y la suma de dos arrays 2x2."
      ]
    },
    {
      "cell_type": "code",
      "execution_count": null,
      "metadata": {
        "colab": {
          "base_uri": "https://localhost:8080/"
        },
        "id": "G2GqFXFV4fD5",
        "outputId": "136942b0-fea1-4626-c089-28c2137613bc"
      },
      "outputs": [
        {
          "name": "stdout",
          "output_type": "stream",
          "text": [
            "Producto:\n",
            " [[18  5]\n",
            " [30  9]]\n",
            "\n",
            "Suma:\n",
            " [[1 5]\n",
            " [8 6]]\n"
          ]
        }
      ],
      "source": [
        "\n",
        "\n",
        "\n"
      ]
    },
    {
      "cell_type": "markdown",
      "metadata": {
        "id": "JQdFZjmgxj7R"
      },
      "source": [
        "12.- Calcula la inversa y el determinante de una matriz cuadrada 2D:"
      ]
    },
    {
      "cell_type": "code",
      "execution_count": null,
      "metadata": {
        "colab": {
          "base_uri": "https://localhost:8080/"
        },
        "id": "RNQMOL1t0Iya",
        "outputId": "04e52171-7da3-4de0-89fd-fd80744f25c7"
      },
      "outputs": [
        {
          "name": "stdout",
          "output_type": "stream",
          "text": [
            "[[1 3 5]\n",
            " [2 2 4]\n",
            " [6 7 8]]\n",
            "\n",
            "Determinante: 21.999999999999996\n",
            "\n",
            "Inversa:\n",
            " [[-0.54545455  0.5         0.09090909]\n",
            " [ 0.36363636 -1.          0.27272727]\n",
            " [ 0.09090909  0.5        -0.18181818]]\n"
          ]
        }
      ],
      "source": [
        "\n",
        "\n",
        "\n"
      ]
    },
    {
      "cell_type": "markdown",
      "metadata": {
        "id": "P_pvb5FJ5UyA"
      },
      "source": [
        "13.- Calcula el producto interno de dos arrays unidimensionales de 3 elementos."
      ]
    },
    {
      "cell_type": "code",
      "execution_count": null,
      "metadata": {
        "colab": {
          "base_uri": "https://localhost:8080/"
        },
        "id": "PEktxKXr5Uin",
        "outputId": "539d6728-1fc9-41c5-d22a-08667f526f79"
      },
      "outputs": [
        {
          "name": "stdout",
          "output_type": "stream",
          "text": [
            "Producto interno: 44\n"
          ]
        }
      ],
      "source": [
        "\n",
        "\n"
      ]
    },
    {
      "cell_type": "markdown",
      "metadata": {
        "id": "gXG8RAzS0gg5"
      },
      "source": [
        "14.- Ordenar un array unidimensional."
      ]
    },
    {
      "cell_type": "code",
      "execution_count": null,
      "metadata": {
        "colab": {
          "base_uri": "https://localhost:8080/"
        },
        "id": "akD8g5BZ1MfD",
        "outputId": "bcc7f674-7104-479c-d4fe-0d8894d6143d"
      },
      "outputs": [
        {
          "name": "stdout",
          "output_type": "stream",
          "text": [
            "[43 33  5 35 38 35]\n",
            "[ 5 33 35 35 38 43]\n"
          ]
        }
      ],
      "source": [
        "\n",
        "\n"
      ]
    },
    {
      "cell_type": "markdown",
      "metadata": {
        "id": "0tfUvC7Z1tgK"
      },
      "source": [
        "15.- Calcular el percentil 80 de los elementos de un array unidimensional de once elementos."
      ]
    },
    {
      "cell_type": "code",
      "execution_count": null,
      "metadata": {
        "colab": {
          "base_uri": "https://localhost:8080/"
        },
        "id": "5avKFVYw2hql",
        "outputId": "bb959b7e-0e4b-4d17-871a-cf17734b4bc3"
      },
      "outputs": [
        {
          "name": "stdout",
          "output_type": "stream",
          "text": [
            "[ 2  8 15 30 34 45 65 71 77 82 91] -> 77.0\n"
          ]
        }
      ],
      "source": [
        "\n",
        "\n"
      ]
    },
    {
      "cell_type": "markdown",
      "metadata": {
        "id": "O9bXm1tP3VH7"
      },
      "source": [
        "16.- Calcular el promedio y la varianza de array del ejercicio anterior. "
      ]
    },
    {
      "cell_type": "code",
      "execution_count": null,
      "metadata": {
        "colab": {
          "base_uri": "https://localhost:8080/"
        },
        "id": "OfxzNa1K4Co-",
        "outputId": "34df9af0-385e-4d71-e1f0-8c7146af135a"
      },
      "outputs": [
        {
          "name": "stdout",
          "output_type": "stream",
          "text": [
            "Promedio: 47.27272727272727\n",
            "Varianza: 908.3801652892562\n"
          ]
        }
      ],
      "source": [
        "\n"
      ]
    },
    {
      "cell_type": "markdown",
      "metadata": {
        "id": "kVSFgd1C7MOk"
      },
      "source": [
        "17.- Cambiar el tipo de dato de los elementos del array del ejercicio anterior a *float*."
      ]
    },
    {
      "cell_type": "code",
      "execution_count": null,
      "metadata": {
        "colab": {
          "base_uri": "https://localhost:8080/"
        },
        "id": "mWRYvdS04NgZ",
        "outputId": "de7122ee-3298-4ea9-ce6f-c088b0b7b6a9"
      },
      "outputs": [
        {
          "name": "stdout",
          "output_type": "stream",
          "text": [
            "[ 2  8 15 30 34 45 65 71 77 82 91] \n",
            " [ 2.  8. 15. 30. 34. 45. 65. 71. 77. 82. 91.]\n"
          ]
        }
      ],
      "source": [
        "\n"
      ]
    },
    {
      "cell_type": "markdown",
      "metadata": {
        "id": "Z9Mk98Uz7cYT"
      },
      "source": [
        "18.- Al array de valores reales (*float*) del ejercicio anterior, asignar el valor NaN a tres posciones cualesquiera. Usa indexación lógica (buleana) para mostrar los distintos a NaN."
      ]
    },
    {
      "cell_type": "code",
      "execution_count": null,
      "metadata": {
        "colab": {
          "base_uri": "https://localhost:8080/"
        },
        "id": "pZhmzwLO8MQn",
        "outputId": "173ffd02-7138-4f71-86e9-8fabb64cd5e3"
      },
      "outputs": [
        {
          "name": "stdout",
          "output_type": "stream",
          "text": [
            "[ 2.  8. nan 30. nan 45. 65. 71. nan 82. 91.]\n",
            "[ 2.  8. 30. 45. 65. 71. 82. 91.]\n"
          ]
        }
      ],
      "source": [
        "\n",
        "\n"
      ]
    },
    {
      "cell_type": "markdown",
      "metadata": {
        "id": "5H4zPga68guj"
      },
      "source": [
        "19.- Indicar las posiciones distintas de cero de un array 3x2, usando la función `np.nonzero`."
      ]
    },
    {
      "cell_type": "code",
      "execution_count": null,
      "metadata": {
        "colab": {
          "base_uri": "https://localhost:8080/"
        },
        "id": "Y50_NPZv-ZzP",
        "outputId": "226089a8-ff6a-4079-f8b2-f3f26bc4be5b"
      },
      "outputs": [
        {
          "name": "stdout",
          "output_type": "stream",
          "text": [
            "[[5 2]\n",
            " [0 8]\n",
            " [7 0]]\n",
            "(array([0, 0, 1, 2]), array([0, 1, 1, 0]))\n"
          ]
        }
      ],
      "source": [
        "\n"
      ]
    },
    {
      "cell_type": "markdown",
      "metadata": {
        "id": "wQLkAnT3-l-y"
      },
      "source": [
        "20.- Usar el método `np.stack` para apilar tres arrays unidimensionales de dos elementos para formar una array 3x2  (los arrays serán las filas)."
      ]
    },
    {
      "cell_type": "code",
      "execution_count": null,
      "metadata": {
        "colab": {
          "base_uri": "https://localhost:8080/"
        },
        "id": "6zzcOB0zAhv9",
        "outputId": "ec971f38-ee96-45de-a7e2-befab9db0786"
      },
      "outputs": [
        {
          "name": "stdout",
          "output_type": "stream",
          "text": [
            "[[1 6]\n",
            " [2 7]\n",
            " [3 8]]\n"
          ]
        }
      ],
      "source": [
        "\n",
        "\n"
      ]
    },
    {
      "cell_type": "markdown",
      "metadata": {
        "id": "h8BusLNvA0Wh"
      },
      "source": [
        "21.- Usar el método `np.stack` para apilar tres arrays unidimensionales de dos elementos para formar una array 2x3 (los arrays serán las columnas)."
      ]
    },
    {
      "cell_type": "code",
      "execution_count": null,
      "metadata": {
        "colab": {
          "base_uri": "https://localhost:8080/"
        },
        "id": "EDiXtlH-BG4r",
        "outputId": "1c2d37a8-f8f7-45fe-f5e0-94b7d1c00aed"
      },
      "outputs": [
        {
          "name": "stdout",
          "output_type": "stream",
          "text": [
            "[[1 2 3]\n",
            " [6 7 8]]\n"
          ]
        }
      ],
      "source": [
        "\n"
      ]
    },
    {
      "cell_type": "markdown",
      "metadata": {
        "id": "kf5ttyb2CWvH"
      },
      "source": [
        "22.- Usar el método `np.hstack` para generar un nuevo array unidimensional como la concatenación de los tres anteriores (a1, a2 y a3)."
      ]
    },
    {
      "cell_type": "code",
      "execution_count": null,
      "metadata": {
        "colab": {
          "base_uri": "https://localhost:8080/"
        },
        "id": "zHbAe0KcBLbD",
        "outputId": "73ad4cd0-67fe-4fb1-9506-1250c9a4c32d"
      },
      "outputs": [
        {
          "name": "stdout",
          "output_type": "stream",
          "text": [
            "[1 6 2 7 3 8]\n"
          ]
        }
      ],
      "source": [
        "\n"
      ]
    },
    {
      "cell_type": "markdown",
      "metadata": {
        "id": "py1R719ZO3ab"
      },
      "source": [
        "23.- Dividir por la mitad un array de seis posiciones. Dividirlo también en tres arrays de igual tamaño y mostrarlos uno por uno iterando la lista de nuevos arrays."
      ]
    },
    {
      "cell_type": "code",
      "execution_count": null,
      "metadata": {
        "colab": {
          "base_uri": "https://localhost:8080/"
        },
        "id": "-dKjVQe_CNPN",
        "outputId": "7f4be7ba-f0ce-45f2-84b4-8fe9b9ba0ff0"
      },
      "outputs": [
        {
          "name": "stdout",
          "output_type": "stream",
          "text": [
            "[1 2 3 4 5 6]\n",
            "[array([1, 2, 3]), array([4, 5, 6])]\n",
            "[1 2]\n",
            "[3 4]\n",
            "[5 6]\n"
          ]
        }
      ],
      "source": [
        "\n",
        "\n"
      ]
    },
    {
      "cell_type": "markdown",
      "metadata": {
        "id": "-VqV4y0mR1KG"
      },
      "source": [
        "24.- Crear un array bidimensional de 2 filas y 3 columnas y calcular la media ponderada de cada columna, como el 70% del elemento de la primera fila y el 30% del elemento de la segunda."
      ]
    },
    {
      "cell_type": "code",
      "execution_count": null,
      "metadata": {
        "colab": {
          "base_uri": "https://localhost:8080/"
        },
        "id": "hFCAsiAaPSxk",
        "outputId": "98a3984a-35be-49ea-9a59-c445c65c3dcb"
      },
      "outputs": [
        {
          "name": "stdout",
          "output_type": "stream",
          "text": [
            "Media ponderada: [8.3 2.7 6.1]\n"
          ]
        }
      ],
      "source": [
        "\n"
      ]
    },
    {
      "cell_type": "markdown",
      "metadata": {
        "id": "yrvUStSISwsQ"
      },
      "source": [
        "25.- Dado un array unidimensional, desordena de forma aleatoria sus elementos."
      ]
    },
    {
      "cell_type": "code",
      "execution_count": null,
      "metadata": {
        "colab": {
          "base_uri": "https://localhost:8080/"
        },
        "id": "h629YQYGTA0K",
        "outputId": "d46f7117-a307-40b6-e263-b3242e18e562"
      },
      "outputs": [
        {
          "name": "stdout",
          "output_type": "stream",
          "text": [
            "[5 2 0 3 4 1]\n"
          ]
        }
      ],
      "source": [
        "\n",
        "\n"
      ]
    },
    {
      "cell_type": "markdown",
      "metadata": {
        "id": "qI5szu6_TTR1"
      },
      "source": [
        "26.- Genera un array 2x3 de valores aleatorios con distribución normal de media=2 y desviación estándar=3."
      ]
    },
    {
      "cell_type": "code",
      "execution_count": null,
      "metadata": {
        "colab": {
          "base_uri": "https://localhost:8080/"
        },
        "id": "k-HobJ1nTk4Y",
        "outputId": "b58f6e83-3c66-41f4-93f5-8af9aac9eca2"
      },
      "outputs": [
        {
          "name": "stdout",
          "output_type": "stream",
          "text": [
            "[[ 3.68951384  2.03430092 -1.46480026]\n",
            " [ 0.189432    9.25526573  4.30121563]]\n"
          ]
        }
      ],
      "source": [
        "\n"
      ]
    },
    {
      "cell_type": "markdown",
      "metadata": {
        "id": "knYOpfT8_CZU"
      },
      "source": [
        "27.- Simula una neurona artificial (*perceptrón*): tendremos n entradas numéricas entre 0 y 1 (array), n pesos entre 0 y 1 (*array*). Para calcular la salida de la neurona se hará la suma de las entradas, cada una de ellas ponderada por su peso y si el resultado es mayor que n*0.25, la neurona producirá un uno, en caso contrario, un cero.\n",
        "<p><br></p>\n",
        "<img src=\"https://www.llipe.com/wp-content/uploads/2017/04/modelo-perceptron-simple-740.jpg\" width=\"500\">"
      ]
    },
    {
      "cell_type": "code",
      "execution_count": null,
      "metadata": {
        "colab": {
          "base_uri": "https://localhost:8080/"
        },
        "id": "DICBnjUl_5e6",
        "outputId": "52b3ad30-3bcc-4da1-e582-c8923fdb893d"
      },
      "outputs": [
        {
          "name": "stdout",
          "output_type": "stream",
          "text": [
            "Entradas: [0.852 0.726 0.627 0.569]\n",
            "Pesos:    [0.556 0.607 0.683 0.046]\n",
            "Suma ponderada: 1.369\n",
            "Resultado 1\n"
          ]
        }
      ],
      "source": [
        "\n",
        "\n"
      ]
    }
  ],
  "metadata": {
    "colab": {
      "provenance": []
    },
    "kernelspec": {
      "display_name": "Python 3",
      "name": "python3"
    },
    "language_info": {
      "codemirror_mode": {
        "name": "ipython",
        "version": 3
      },
      "file_extension": ".py",
      "mimetype": "text/x-python",
      "name": "python",
      "nbconvert_exporter": "python",
      "pygments_lexer": "ipython3",
      "version": "3.13.2"
    }
  },
  "nbformat": 4,
  "nbformat_minor": 0
}
