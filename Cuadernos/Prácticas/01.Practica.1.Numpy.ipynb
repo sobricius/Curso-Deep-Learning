{
  "cells": [
    {
      "cell_type": "markdown",
      "metadata": {
        "id": "UQ0CNWIbs9ii"
      },
      "source": [
        "# PRÁCTICA DE NUMPY"
      ]
    },
    {
      "cell_type": "markdown",
      "metadata": {
        "id": "jW4HMtzC3jWZ"
      },
      "source": [
        "Para la realización de la práctica, debe buscarse información de las siguientes métodos de Numpy: nditer, unique, min, argmin, ravel, flatten, inner, percentile, astype, np.NaN, isnan, nonzero, stack, array_split, average, shuffle, normal, around."
      ]
    },
    {
      "cell_type": "markdown",
      "metadata": {
        "id": "ZMZKy_4ytqjN"
      },
      "source": [
        "0.- Importa el paquete numpy"
      ]
    },
    {
      "cell_type": "code",
      "execution_count": 2,
      "metadata": {
        "id": "iAb0xr1VtP2f"
      },
      "outputs": [],
      "source": [
        "import numpy as np"
      ]
    },
    {
      "cell_type": "markdown",
      "metadata": {
        "id": "Im2SLX__ObsW"
      },
      "source": [
        "1.- Crear dos array a partir de sendas listas de enteros. En el segundo de ellos, indicar que el array debe ser de tipo *float*"
      ]
    },
    {
      "cell_type": "code",
      "execution_count": 3,
      "metadata": {},
      "outputs": [
        {
          "name": "stdout",
          "output_type": "stream",
          "text": [
            "[1 3 5] \n",
            " [5. 7. 8.]\n"
          ]
        }
      ],
      "source": [
        "lista1=[1,3,5]\n",
        "lista2=[5,7,8]\n",
        "array1=np.array(lista1)\n",
        "array2=np.array(lista2,dtype=float)\n",
        "print(array1,'\\n' , array2)\n",
        "\n"
      ]
    },
    {
      "cell_type": "markdown",
      "metadata": {
        "id": "Ddr5pjSbtwyA"
      },
      "source": [
        "2.- Crea tres arrays: uno de ceros otro de unos y otro de cincos. Todos tendrán cuatro elementos. "
      ]
    },
    {
      "cell_type": "code",
      "execution_count": 4,
      "metadata": {},
      "outputs": [
        {
          "name": "stdout",
          "output_type": "stream",
          "text": [
            "[[0. 0. 0. 0.]] \n",
            " [[1. 1. 1. 1.]] \n",
            " [[5. 5. 5. 5.]]\n"
          ]
        }
      ],
      "source": [
        "print(np.zeros([1,4]), '\\n', np.ones([1,4]), '\\n' , np.ones([1,4])*5)"
      ]
    },
    {
      "cell_type": "markdown",
      "metadata": {
        "id": "gltv0l2tuVck"
      },
      "source": [
        "3.- Crea un array unidimensional de doce elementos (valores del 1 al 12) y reorganízalo como un array 2D de 3x4. Recórrelo y muestra sus elementos.\n",
        "Mostrar por pantalla las dimensiones de la matriz usando el campo *shape*"
      ]
    },
    {
      "cell_type": "code",
      "execution_count": 5,
      "metadata": {
        "colab": {
          "base_uri": "https://localhost:8080/"
        },
        "id": "qY31Wl2ru1tX",
        "outputId": "cf23ae60-58f5-49d6-e435-8b950be2b216"
      },
      "outputs": [
        {
          "name": "stdout",
          "output_type": "stream",
          "text": [
            "[[ 1  2  3  4]\n",
            " [ 5  6  7  8]\n",
            " [ 9 10 11 12]]\n",
            "(3, 4)\n"
          ]
        }
      ],
      "source": [
        "array1=np.arange(1,13,1)\n",
        "array1=array1.reshape(3,4)\n",
        "print(array1)\n",
        "print(array1.shape)\n",
        "\n"
      ]
    },
    {
      "cell_type": "markdown",
      "metadata": {
        "id": "BuFqP3UQvtRv"
      },
      "source": [
        "4.- Crear un array 1D con 20 valores aleatorios entre 0 y 10 y luego cámbiales el signo a los mayores de 5 (intenta evitar los bucles usando indexación buleana)."
      ]
    },
    {
      "cell_type": "code",
      "execution_count": 6,
      "metadata": {
        "colab": {
          "base_uri": "https://localhost:8080/"
        },
        "id": "m82gDROEvByo",
        "outputId": "cc78914a-d3aa-4276-b501-bcfa5dee6de2"
      },
      "outputs": [
        {
          "name": "stdout",
          "output_type": "stream",
          "text": [
            "[0 0 7 8 9 6 5 3 6 2 7 1 8 0 6 0 2 1 9 1]\n",
            "[ 0  0 -7 -8 -9 -6  5  3 -6  2 -7  1 -8  0 -6  0  2  1 -9  1]\n"
          ]
        }
      ],
      "source": [
        "array1=np.random.randint(0,10,20)\n",
        "print(array1)\n",
        "array1[(array1>5)]=-array1[(array1>5)]\n",
        "print(array1)\n"
      ]
    },
    {
      "cell_type": "markdown",
      "metadata": {
        "id": "s5pLDzWBwkWr"
      },
      "source": [
        "5.- Crea un array 2x2 a partir de una lista y muestra lo siguiente:\n",
        "*   La suma de todos los elementos.\n",
        "*   La suma de cada columna\n",
        "*   La suma de cada fila"
      ]
    },
    {
      "cell_type": "code",
      "execution_count": 7,
      "metadata": {},
      "outputs": [
        {
          "name": "stdout",
          "output_type": "stream",
          "text": [
            "[[0 1]\n",
            " [1 0]]\n",
            "2\n",
            "[1 1]\n",
            "[1 1]\n"
          ]
        }
      ],
      "source": [
        "array1=np.random.randint(0,2,4)\n",
        "array1=array1.reshape(2,2)\n",
        "print(array1)\n",
        "print(array1.sum())\n",
        "print(array1.sum(axis=0))\n",
        "print(array1.sum(axis=1))"
      ]
    },
    {
      "cell_type": "markdown",
      "metadata": {
        "id": "Yv8mc0I1uVkq"
      },
      "source": [
        "6.- Convertir un array con grados Fahrenheit a centígrados, usando una operación de vector (por tanto, sin hacerlo elemento a elemento)."
      ]
    },
    {
      "cell_type": "code",
      "execution_count": 8,
      "metadata": {},
      "outputs": [
        {
          "name": "stdout",
          "output_type": "stream",
          "text": [
            "[ 0.   12.   45.21 34.   99.91]\n",
            "[-17.77777778 -11.11111111   7.33888889   1.11111111  37.72777778]\n"
          ]
        }
      ],
      "source": [
        "arrayF=np.array([0, 12, 45.21, 34, 99.91],dtype=float)\n",
        "print(arrayF)\n",
        "arrayC=(arrayF-32)*5/9\n",
        "print(arrayC)"
      ]
    },
    {
      "cell_type": "markdown",
      "metadata": {
        "id": "sTXbkSRZvUeF"
      },
      "source": [
        "7.- Devuelve los elementos de un array 2D, eliminando los repetidos."
      ]
    },
    {
      "cell_type": "code",
      "execution_count": 9,
      "metadata": {
        "colab": {
          "base_uri": "https://localhost:8080/"
        },
        "id": "0qujnj9avmz5",
        "outputId": "b317640f-08e3-40e4-a496-03da52abc6f7"
      },
      "outputs": [
        {
          "name": "stdout",
          "output_type": "stream",
          "text": [
            "[10 10 20 20 30 30]\n",
            "[10 20 30]\n"
          ]
        }
      ],
      "source": [
        "array1=np.array([10,10,20,20,30,30])\n",
        "print(array1)\n",
        "array1=np.unique(array1)\n",
        "print(array1)\n"
      ]
    },
    {
      "cell_type": "markdown",
      "metadata": {
        "id": "CjPfp6Zkvyww"
      },
      "source": [
        "8.- Crear un array unidimensional con 6 de enteros aleatorios entre 1 y 49 y mostrar las posiciones del máximo y del mínimo."
      ]
    },
    {
      "cell_type": "code",
      "execution_count": 10,
      "metadata": {
        "colab": {
          "base_uri": "https://localhost:8080/"
        },
        "id": "CzI6O1mYwNnX",
        "outputId": "37530fa9-067e-4275-8063-ff4950157477"
      },
      "outputs": [
        {
          "name": "stdout",
          "output_type": "stream",
          "text": [
            "[20 29 11 47 41  3]\n",
            "3\n",
            "5\n"
          ]
        }
      ],
      "source": [
        "array1=np.random.randint(1,49,6)\n",
        "print(array1)\n",
        "print(array1.argmax())\n",
        "print(array1.argmin())\n",
        "\n",
        "\n"
      ]
    },
    {
      "cell_type": "markdown",
      "metadata": {
        "id": "MFz_C-ssyffk"
      },
      "source": [
        "9.- Crear un array bidimensional y calcular la posición del máximo de cada fila y del mínimo de cada columna."
      ]
    },
    {
      "cell_type": "code",
      "execution_count": 11,
      "metadata": {},
      "outputs": [
        {
          "name": "stdout",
          "output_type": "stream",
          "text": [
            "[[11 13 34]\n",
            " [10  3 37]]\n",
            "[0 0 1]\n",
            "[0 1]\n"
          ]
        }
      ],
      "source": [
        "array1=np.random.randint(1,49,6)\n",
        "array1=array1.reshape(2,3)\n",
        "print(array1)\n",
        "print(array1.argmax(axis=0))\n",
        "print(array1.argmin(axis=1))\n"
      ]
    },
    {
      "cell_type": "markdown",
      "metadata": {
        "id": "9gi_6IGtwlX2"
      },
      "source": [
        "10.- Usa las funciones `reshape`, `flatten` o `ravel` para aplanar un vector: guardar los mismos valores en el mismo orden en un vector 1D."
      ]
    },
    {
      "cell_type": "code",
      "execution_count": 12,
      "metadata": {},
      "outputs": [
        {
          "name": "stdout",
          "output_type": "stream",
          "text": [
            "[[3 5 1]\n",
            " [2 7 0]]\n",
            "[3 5 1 2 7 0]\n",
            "[3 5 1 2 7 0]\n",
            "[3 5 1 2 7 0]\n"
          ]
        }
      ],
      "source": [
        "array1=np.array([[3,5,1],[2,7,0]])\n",
        "print(array1)\n",
        "print(array1.reshape(6))\n",
        "print(array1.flatten())\n",
        "print(array1.ravel())\n",
        "\n",
        "\n"
      ]
    },
    {
      "cell_type": "markdown",
      "metadata": {
        "id": "f2Y4a3QS4e35"
      },
      "source": [
        "11.- Calcular el producto matricial (fila por columna) y la suma de dos arrays 2x2."
      ]
    },
    {
      "cell_type": "code",
      "execution_count": 13,
      "metadata": {},
      "outputs": [
        {
          "name": "stdout",
          "output_type": "stream",
          "text": [
            "[[1 2]\n",
            " [3 4]]\n",
            "[[5 6]\n",
            " [7 8]]\n",
            "[[19 22]\n",
            " [43 50]]\n",
            "[[19 22]\n",
            " [43 50]]\n",
            "[[ 6  8]\n",
            " [10 12]]\n",
            "[[ 6  8]\n",
            " [10 12]]\n"
          ]
        }
      ],
      "source": [
        "array1=np.array([[1,2],[3,4]])\n",
        "print(array1)\n",
        "array2=np.array([[5,6],[7,8]])\n",
        "print(array2)\n",
        "\n",
        "print(np.matmul(array1,array2))\n",
        "print(np.dot(array1,array2))\n",
        "print(np.add(array2,array1))\n",
        "print(array2+array1)\n"
      ]
    },
    {
      "cell_type": "markdown",
      "metadata": {
        "id": "JQdFZjmgxj7R"
      },
      "source": [
        "12.- Calcula la inversa y el determinante de una matriz cuadrada 2D:"
      ]
    },
    {
      "cell_type": "code",
      "execution_count": 14,
      "metadata": {
        "colab": {
          "base_uri": "https://localhost:8080/"
        },
        "id": "RNQMOL1t0Iya",
        "outputId": "04e52171-7da3-4de0-89fd-fd80744f25c7"
      },
      "outputs": [
        {
          "name": "stdout",
          "output_type": "stream",
          "text": [
            "[[1 3 5]\n",
            " [2 2 4]\n",
            " [6 7 8]]\n",
            "[[-0.54545455  0.5         0.09090909]\n",
            " [ 0.36363636 -1.          0.27272727]\n",
            " [ 0.09090909  0.5        -0.18181818]]\n",
            "21.999999999999996\n"
          ]
        }
      ],
      "source": [
        "\n",
        "array1=np.array([[1,3,5],[2,2,4],[6,7,8]])\n",
        "print(array1)\n",
        "\n",
        "print(np.linalg.inv(array1))\n",
        "print(np.linalg.det(array1))\n",
        "\n"
      ]
    },
    {
      "cell_type": "markdown",
      "metadata": {
        "id": "P_pvb5FJ5UyA"
      },
      "source": [
        "13.- Calcula el producto interno de dos arrays unidimensionales de 3 elementos."
      ]
    },
    {
      "cell_type": "code",
      "execution_count": 15,
      "metadata": {
        "colab": {
          "base_uri": "https://localhost:8080/"
        },
        "id": "PEktxKXr5Uin",
        "outputId": "539d6728-1fc9-41c5-d22a-08667f526f79"
      },
      "outputs": [
        {
          "name": "stdout",
          "output_type": "stream",
          "text": [
            "44\n"
          ]
        }
      ],
      "source": [
        "a1 = np.array([1,3,5])\n",
        "a2 = np.array([2,4,6])\n",
        "\n",
        "print(np.inner(a1,a2))\n",
        "\n"
      ]
    },
    {
      "cell_type": "markdown",
      "metadata": {
        "id": "gXG8RAzS0gg5"
      },
      "source": [
        "14.- Ordenar un array unidimensional."
      ]
    },
    {
      "cell_type": "code",
      "execution_count": 16,
      "metadata": {
        "colab": {
          "base_uri": "https://localhost:8080/"
        },
        "id": "akD8g5BZ1MfD",
        "outputId": "bcc7f674-7104-479c-d4fe-0d8894d6143d"
      },
      "outputs": [
        {
          "name": "stdout",
          "output_type": "stream",
          "text": [
            "[36 51  2 25 48 80]\n",
            "\n",
            "[ 2 25 36 48 51 80]\n"
          ]
        }
      ],
      "source": [
        "a = np.random.randint(1, 100, size=6)\n",
        "print(a)\n",
        "print()\n",
        "print(np.sort(a))\n",
        "\n"
      ]
    },
    {
      "cell_type": "markdown",
      "metadata": {
        "id": "0tfUvC7Z1tgK"
      },
      "source": [
        "15.- Calcular el percentil 80 de los elementos de un array unidimensional de once elementos."
      ]
    },
    {
      "cell_type": "code",
      "execution_count": 17,
      "metadata": {
        "colab": {
          "base_uri": "https://localhost:8080/"
        },
        "id": "5avKFVYw2hql",
        "outputId": "bb959b7e-0e4b-4d17-871a-cf17734b4bc3"
      },
      "outputs": [
        {
          "name": "stdout",
          "output_type": "stream",
          "text": [
            "77.0\n"
          ]
        }
      ],
      "source": [
        "a = np.array([2, 8, 15, 30, 34, 45, 65, 71, 77, 82, 91])\n",
        "print(np.percentile(a,80))\n"
      ]
    },
    {
      "cell_type": "markdown",
      "metadata": {
        "id": "O9bXm1tP3VH7"
      },
      "source": [
        "16.- Calcular el promedio y la varianza de array del ejercicio anterior. "
      ]
    },
    {
      "cell_type": "code",
      "execution_count": 18,
      "metadata": {
        "colab": {
          "base_uri": "https://localhost:8080/"
        },
        "id": "OfxzNa1K4Co-",
        "outputId": "34df9af0-385e-4d71-e1f0-8c7146af135a"
      },
      "outputs": [
        {
          "name": "stdout",
          "output_type": "stream",
          "text": [
            "47.27272727272727\n",
            "908.3801652892562\n"
          ]
        }
      ],
      "source": [
        "a = np.array([2, 8, 15, 30, 34, 45, 65, 71, 77, 82, 91])\n",
        "print(np.average(a))\n",
        "print(np.var(a))\n",
        "\n"
      ]
    },
    {
      "cell_type": "markdown",
      "metadata": {
        "id": "kVSFgd1C7MOk"
      },
      "source": [
        "17.- Cambiar el tipo de dato de los elementos del array del ejercicio anterior a *float*."
      ]
    },
    {
      "cell_type": "code",
      "execution_count": 19,
      "metadata": {
        "colab": {
          "base_uri": "https://localhost:8080/"
        },
        "id": "mWRYvdS04NgZ",
        "outputId": "de7122ee-3298-4ea9-ce6f-c088b0b7b6a9"
      },
      "outputs": [
        {
          "name": "stdout",
          "output_type": "stream",
          "text": [
            "[ 2.  8. 15. 30. 34. 45. 65. 71. 77. 82. 91.]\n"
          ]
        }
      ],
      "source": [
        "a = np.array([2, 8, 15, 30, 34, 45, 65, 71, 77, 82, 91])\n",
        "print(np.float64(a))\n"
      ]
    },
    {
      "cell_type": "markdown",
      "metadata": {
        "id": "Z9Mk98Uz7cYT"
      },
      "source": [
        "18.- Al array de valores reales (*float*) del ejercicio anterior, asignar el valor NaN a tres posciones cualesquiera. Usa indexación lógica (buleana) para mostrar los distintos a NaN."
      ]
    },
    {
      "cell_type": "code",
      "execution_count": 26,
      "metadata": {
        "colab": {
          "base_uri": "https://localhost:8080/"
        },
        "id": "pZhmzwLO8MQn",
        "outputId": "173ffd02-7138-4f71-86e9-8fabb64cd5e3"
      },
      "outputs": [
        {
          "name": "stdout",
          "output_type": "stream",
          "text": [
            "[ 2.  8. 30. 45. 65. 71. 82. 91.]\n"
          ]
        }
      ],
      "source": [
        "a = np.array([2, 8, 15, 30, 34, 45, 65, 71, 77, 82, 91])\n",
        "afloat=np.float64(a)\n",
        "afloat[2]=afloat[4]=afloat[8]=np.nan\n",
        "print(afloat[~np.isnan(afloat)])"
      ]
    },
    {
      "cell_type": "markdown",
      "metadata": {
        "id": "5H4zPga68guj"
      },
      "source": [
        "19.- Indicar las posiciones distintas de cero de un array 3x2, usando la función `np.nonzero`."
      ]
    },
    {
      "cell_type": "code",
      "execution_count": 32,
      "metadata": {},
      "outputs": [
        {
          "name": "stdout",
          "output_type": "stream",
          "text": [
            "(array([0, 0, 1, 2]), array([0, 1, 1, 0]))\n"
          ]
        }
      ],
      "source": [
        "a = np.array([[5,2],[0,8],[7,0]])\n",
        "print(np.nonzero(a))"
      ]
    },
    {
      "cell_type": "markdown",
      "metadata": {
        "id": "wQLkAnT3-l-y"
      },
      "source": [
        "20.- Usar el método `np.stack` para apilar tres arrays unidimensionales de dos elementos para formar una array 3x2  (los arrays serán las filas)."
      ]
    },
    {
      "cell_type": "code",
      "execution_count": null,
      "metadata": {
        "colab": {
          "base_uri": "https://localhost:8080/"
        },
        "id": "6zzcOB0zAhv9",
        "outputId": "ec971f38-ee96-45de-a7e2-befab9db0786"
      },
      "outputs": [
        {
          "name": "stdout",
          "output_type": "stream",
          "text": [
            "[[1 6]\n",
            " [2 7]\n",
            " [3 8]]\n"
          ]
        }
      ],
      "source": [
        "\n",
        "\n"
      ]
    },
    {
      "cell_type": "markdown",
      "metadata": {
        "id": "h8BusLNvA0Wh"
      },
      "source": [
        "21.- Usar el método `np.stack` para apilar tres arrays unidimensionales de dos elementos para formar una array 2x3 (los arrays serán las columnas)."
      ]
    },
    {
      "cell_type": "code",
      "execution_count": 36,
      "metadata": {},
      "outputs": [
        {
          "name": "stdout",
          "output_type": "stream",
          "text": [
            "[[1 2 3]\n",
            " [6 7 8]]\n"
          ]
        }
      ],
      "source": [
        "a1 = np.array([1,6])\n",
        "a2 = np.array([2,7])\n",
        "a3 = np.array([3,8])\n",
        "print(np.stack(arrays=[a1,a2,a3],axis=1))\n"
      ]
    },
    {
      "cell_type": "markdown",
      "metadata": {
        "id": "kf5ttyb2CWvH"
      },
      "source": [
        "22.- Usar el método `np.hstack` para generar un nuevo array unidimensional como la concatenación de los tres anteriores (a1, a2 y a3)."
      ]
    },
    {
      "cell_type": "code",
      "execution_count": 39,
      "metadata": {},
      "outputs": [
        {
          "name": "stdout",
          "output_type": "stream",
          "text": [
            "[1 6 2 7 3 8]\n"
          ]
        }
      ],
      "source": [
        "a1 = np.array([1,6])\n",
        "a2 = np.array([2,7])\n",
        "a3 = np.array([3,8])\n",
        "print(np.hstack([a1,a2,a3]))\n"
      ]
    },
    {
      "cell_type": "markdown",
      "metadata": {
        "id": "py1R719ZO3ab"
      },
      "source": [
        "23.- Dividir por la mitad un array de seis posiciones. Dividirlo también en tres arrays de igual tamaño y mostrarlos uno por uno iterando la lista de nuevos arrays."
      ]
    },
    {
      "cell_type": "code",
      "execution_count": 49,
      "metadata": {},
      "outputs": [
        {
          "name": "stdout",
          "output_type": "stream",
          "text": [
            "[1 2 3 4 5 6]\n",
            "[array([1, 2, 3]), array([4, 5, 6])]\n",
            "[1 2]\n",
            "[3 4]\n",
            "[5 6]\n"
          ]
        }
      ],
      "source": [
        "a = np.arange(1,7)\n",
        "print(a)\n",
        "print(np.array_split(a,2))\n",
        "aslpit=np.array_split(a,3)\n",
        "for a in aslpit:\n",
        "    print(a)"
      ]
    },
    {
      "cell_type": "markdown",
      "metadata": {
        "id": "-VqV4y0mR1KG"
      },
      "source": [
        "24.- Crear un array bidimensional de 2 filas y 3 columnas y calcular la media ponderada de cada columna, como el 70% del elemento de la primera fila y el 30% del elemento de la segunda."
      ]
    },
    {
      "cell_type": "code",
      "execution_count": 55,
      "metadata": {
        "colab": {
          "base_uri": "https://localhost:8080/"
        },
        "id": "hFCAsiAaPSxk",
        "outputId": "98a3984a-35be-49ea-9a59-c445c65c3dcb"
      },
      "outputs": [
        {
          "name": "stdout",
          "output_type": "stream",
          "text": [
            "[8.3 2.7 6.1]\n"
          ]
        }
      ],
      "source": [
        "a = np.array([[8,3,7],[9,2,4]])\n",
        "pesos = np.array([0.7,0.3])\n",
        "print(np.average(a=a,weights=pesos,axis=0))\n"
      ]
    },
    {
      "cell_type": "markdown",
      "metadata": {
        "id": "yrvUStSISwsQ"
      },
      "source": [
        "25.- Dado un array unidimensional, desordena de forma aleatoria sus elementos."
      ]
    },
    {
      "cell_type": "code",
      "execution_count": 63,
      "metadata": {
        "colab": {
          "base_uri": "https://localhost:8080/"
        },
        "id": "h629YQYGTA0K",
        "outputId": "d46f7117-a307-40b6-e263-b3242e18e562"
      },
      "outputs": [
        {
          "name": "stdout",
          "output_type": "stream",
          "text": [
            "[9 6 3 7 4 4 3 9 1 9]\n",
            "None [4 3 3 9 7 9 9 1 4 6]\n"
          ]
        }
      ],
      "source": [
        "a=np.random.randint(1,10,10)\n",
        "print(a)\n",
        "print(np.random.shuffle(a),a)\n",
        "\n"
      ]
    },
    {
      "cell_type": "markdown",
      "metadata": {
        "id": "qI5szu6_TTR1"
      },
      "source": [
        "26.- Genera un array 2x3 de valores aleatorios con distribución normal de media=2 y desviación estándar=3."
      ]
    },
    {
      "cell_type": "code",
      "execution_count": 72,
      "metadata": {},
      "outputs": [
        {
          "name": "stdout",
          "output_type": "stream",
          "text": [
            "[[-2.55750744  1.4404088  12.49123315]\n",
            " [ 8.14898667 -4.01308928  2.73791853]]\n"
          ]
        }
      ],
      "source": [
        "a=np.random.normal(loc=2,scale=3,size=[2,3])\n",
        "print(a)\n"
      ]
    },
    {
      "cell_type": "markdown",
      "metadata": {
        "id": "knYOpfT8_CZU"
      },
      "source": [
        "27.- Simula una neurona artificial (*perceptrón*): tendremos n entradas numéricas entre 0 y 1 (array), n pesos entre 0 y 1 (*array*). Para calcular la salida de la neurona se hará la suma de las entradas, cada una de ellas ponderada por su peso y si el resultado es mayor que n*0.25, la neurona producirá un uno, en caso contrario, un cero.\n",
        "<p><br></p>\n",
        "<img src=\"https://www.startpage.com/av/proxy-image?piurl=https%3A%2F%2Flive.staticflickr.com%2F65535%2F51549981077_3a7a520c81_b.jpg&sp=1742736257T55930d7d1ef3db1c6c744e968c426ea1d4c571bf3c7b4eac433a51ba955663e5\" width=\"500\">"
      ]
    },
    {
      "cell_type": "code",
      "execution_count": 226,
      "metadata": {},
      "outputs": [
        {
          "name": "stdout",
          "output_type": "stream",
          "text": [
            "[[2.10450042]]\n",
            "[[2.105]]\n",
            "1\n"
          ]
        }
      ],
      "source": [
        "entradas=np.random.rand(1,4)\n",
        "pesos=np.random.rand(1,4)\n",
        "suma_ponderada= np.inner(entradas,pesos)\n",
        "print(suma_ponderada)\n",
        "suma_ponderada= np.around(suma_ponderada,decimals=3)\n",
        "print(suma_ponderada)\n",
        "\n",
        "\n",
        "\n",
        "if suma_ponderada > 0.25*len(entradas[0]):\n",
        "        salida=1\n",
        "else:\n",
        "        salida=0\n",
        "\n",
        "print(salida)\n",
        "\n",
        "\n",
        "\n"
      ]
    }
  ],
  "metadata": {
    "colab": {
      "provenance": []
    },
    "kernelspec": {
      "display_name": "venv_dl",
      "language": "python",
      "name": "python3"
    },
    "language_info": {
      "codemirror_mode": {
        "name": "ipython",
        "version": 3
      },
      "file_extension": ".py",
      "mimetype": "text/x-python",
      "name": "python",
      "nbconvert_exporter": "python",
      "pygments_lexer": "ipython3",
      "version": "3.12.7"
    }
  },
  "nbformat": 4,
  "nbformat_minor": 0
}
