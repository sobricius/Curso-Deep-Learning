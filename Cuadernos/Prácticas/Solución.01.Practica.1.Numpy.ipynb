{
 "cells": [
  {
   "cell_type": "markdown",
   "metadata": {
    "id": "UQ0CNWIbs9ii"
   },
   "source": [
    "# PRÁCTICA DE NUMPY"
   ]
  },
  {
   "cell_type": "markdown",
   "metadata": {
    "id": "OS4ECBXjtVI3"
   },
   "source": []
  },
  {
   "cell_type": "markdown",
   "metadata": {
    "id": "ZMZKy_4ytqjN"
   },
   "source": [
    "## Resumen de métodos y funciones utilizados"
   ]
  },
  {
   "cell_type": "code",
   "execution_count": 24,
   "metadata": {
    "executionInfo": {
     "elapsed": 9,
     "status": "ok",
     "timestamp": 1740046470188,
     "user": {
      "displayName": "momentum uvigo",
      "userId": "17476504355103610358"
     },
     "user_tz": -60
    },
    "id": "iAb0xr1VtP2f"
   },
   "outputs": [],
   "source": [
    "# Importa numpy:\n",
    "import numpy as np"
   ]
  },
  {
   "cell_type": "markdown",
   "metadata": {
    "id": "Im2SLX__ObsW"
   },
   "source": [
    "1.- Crear dos array a partir de sendas listas de enteros. En el segundo de ellos, indicar que el array debe ser de tipo *float*"
   ]
  },
  {
   "cell_type": "code",
   "execution_count": 25,
   "metadata": {
    "colab": {
     "base_uri": "https://localhost:8080/"
    },
    "executionInfo": {
     "elapsed": 99,
     "status": "ok",
     "timestamp": 1740046470318,
     "user": {
      "displayName": "momentum uvigo",
      "userId": "17476504355103610358"
     },
     "user_tz": -60
    },
    "id": "ZAj2lfvyOBG4",
    "outputId": "977ce8d4-8e65-45e1-f5d3-1e03948a9182"
   },
   "outputs": [
    {
     "name": "stdout",
     "output_type": "stream",
     "text": [
      "[1 3 5] \n",
      " [5. 7. 8.]\n"
     ]
    }
   ],
   "source": [
    "a = np.array([1,3,5])\n",
    "b = np.array([5,7,8], dtype=float)\n",
    "print(a,\"\\n\",b)"
   ]
  },
  {
   "cell_type": "markdown",
   "metadata": {
    "id": "Ddr5pjSbtwyA"
   },
   "source": [
    "2.- Crea tres arrays: uno de ceros otro de unos y otro de cincos. Todos tendrán cuatro elementos."
   ]
  },
  {
   "cell_type": "code",
   "execution_count": 26,
   "metadata": {
    "colab": {
     "base_uri": "https://localhost:8080/"
    },
    "executionInfo": {
     "elapsed": 35,
     "status": "ok",
     "timestamp": 1740046470356,
     "user": {
      "displayName": "momentum uvigo",
      "userId": "17476504355103610358"
     },
     "user_tz": -60
    },
    "id": "Ddo5ErHUuE4I",
    "outputId": "d809dfde-c9df-4dc5-ff6c-95794da3e31d"
   },
   "outputs": [
    {
     "name": "stdout",
     "output_type": "stream",
     "text": [
      "Array de 4 ceros: [0. 0. 0. 0.]\n",
      "Array de 4 unos: [1. 1. 1. 1.]\n",
      "Array de 4 cincos: [5. 5. 5. 5.]\n"
     ]
    }
   ],
   "source": [
    "a1 = np.zeros(4)\n",
    "print(\"Array de 4 ceros:\", a1)\n",
    "a2 = np.ones(4)\n",
    "print(\"Array de 4 unos:\", a2)\n",
    "a3 = np.ones(4)*5\n",
    "print(\"Array de 4 cincos:\", a3)\n"
   ]
  },
  {
   "cell_type": "markdown",
   "metadata": {
    "id": "gltv0l2tuVck"
   },
   "source": [
    "3.- Crea un array unidimensional de doce elementos (valores del 1 al 12) y reorganízalo como un array 2D de 3x4. Recórrelo y muestra sus elementos.\n",
    "Mostrar por pantalla las dimensiones de la matriz usando el campo *shape*"
   ]
  },
  {
   "cell_type": "code",
   "execution_count": 27,
   "metadata": {
    "colab": {
     "base_uri": "https://localhost:8080/"
    },
    "executionInfo": {
     "elapsed": 126,
     "status": "ok",
     "timestamp": 1740046470484,
     "user": {
      "displayName": "momentum uvigo",
      "userId": "17476504355103610358"
     },
     "user_tz": -60
    },
    "id": "qY31Wl2ru1tX",
    "outputId": "421e583c-3905-496f-c0c9-ad5fdf97eea9"
   },
   "outputs": [
    {
     "name": "stdout",
     "output_type": "stream",
     "text": [
      "Array:\n",
      " [[ 1  2  3  4]\n",
      " [ 5  6  7  8]\n",
      " [ 9 10 11 12]]\n",
      "Elementos:\n",
      "1 2 3 4 5 6 7 8 9 10 11 12 \n",
      "Dimensiones: (3, 4)\n"
     ]
    }
   ],
   "source": [
    "a = np.arange(1,13).reshape((3, 4))\n",
    "print(\"Array:\\n\", a)\n",
    "print(\"Elementos:\")\n",
    "for x in np.nditer(a):\n",
    "  print(x,end=\" \")\n",
    "print(\"\\nDimensiones:\",a.shape)\n"
   ]
  },
  {
   "cell_type": "markdown",
   "metadata": {
    "id": "BuFqP3UQvtRv"
   },
   "source": [
    "4.- Crear un array 1D con 20 valores aleatorios entre 0 y 10 y luego cámbiales el signo a los mayores de 5 (intenta evitar los bucles usando indexación buleana)."
   ]
  },
  {
   "cell_type": "code",
   "execution_count": 28,
   "metadata": {
    "colab": {
     "base_uri": "https://localhost:8080/"
    },
    "executionInfo": {
     "elapsed": 38,
     "status": "ok",
     "timestamp": 1740046470527,
     "user": {
      "displayName": "momentum uvigo",
      "userId": "17476504355103610358"
     },
     "user_tz": -60
    },
    "id": "m82gDROEvByo",
    "outputId": "b064c2f2-d95e-4bd0-9cd9-aa5272e795c1"
   },
   "outputs": [
    {
     "data": {
      "text/plain": [
       "array([-8,  2,  2, -5, -8, -6,  3,  1, -5, -8, -6,  3, -8, -7, -8, -7,  1,\n",
       "        2,  0,  4])"
      ]
     },
     "execution_count": 28,
     "metadata": {},
     "output_type": "execute_result"
    }
   ],
   "source": [
    "a = np.random.randint(0, 10, size=20)\n",
    "a[(a >= 5)] *= -1\n",
    "a"
   ]
  },
  {
   "cell_type": "markdown",
   "metadata": {
    "id": "s5pLDzWBwkWr"
   },
   "source": [
    "5.- Crea un array 2x2 a partir de una lista y muestra lo siguiente:\n",
    "*   La suma de todos los elementos.\n",
    "*   La suma de cada columna\n",
    "*   La suma de cada fila"
   ]
  },
  {
   "cell_type": "code",
   "execution_count": 29,
   "metadata": {
    "colab": {
     "base_uri": "https://localhost:8080/"
    },
    "executionInfo": {
     "elapsed": 32,
     "status": "ok",
     "timestamp": 1740046470593,
     "user": {
      "displayName": "momentum uvigo",
      "userId": "17476504355103610358"
     },
     "user_tz": -60
    },
    "id": "0fDmEimrxPdR",
    "outputId": "c4b05d95-e705-4ed9-8503-c0d8ab37f257"
   },
   "outputs": [
    {
     "name": "stdout",
     "output_type": "stream",
     "text": [
      "Suma de todos los elementos: 6\n",
      "Promedio de cada columna: [1. 2.]\n",
      "Máximo de cada fila: [1 3]\n"
     ]
    }
   ],
   "source": [
    "x = np.array([[0,1],[2,3]])\n",
    "print(\"Suma de todos los elementos:\", np.sum(x))\n",
    "print(\"Promedio de cada columna:\", np.mean(x, axis=0))\n",
    "print(\"Máximo de cada fila:\", np.max(x, axis=1))\n"
   ]
  },
  {
   "cell_type": "markdown",
   "metadata": {
    "id": "Yv8mc0I1uVkq"
   },
   "source": [
    "6.- Convertir un array con grados Fahrenheit a centígrados, usando una operación de vector (por tanto, sin hacerlo elemento a elemento)."
   ]
  },
  {
   "cell_type": "code",
   "execution_count": 30,
   "metadata": {
    "colab": {
     "base_uri": "https://localhost:8080/"
    },
    "executionInfo": {
     "elapsed": 14,
     "status": "ok",
     "timestamp": 1740046470609,
     "user": {
      "displayName": "momentum uvigo",
      "userId": "17476504355103610358"
     },
     "user_tz": -60
    },
    "id": "H3c8aG5wxU3b",
    "outputId": "49a22637-6045-4503-f739-732d3407c9a9"
   },
   "outputs": [
    {
     "name": "stdout",
     "output_type": "stream",
     "text": [
      "Valores en ºF: [ 0.   12.   45.21 34.   99.91]\n",
      "Valores en ºC: [-17.77777778 -11.11111111   7.33888889   1.11111111  37.72777778]\n"
     ]
    }
   ],
   "source": [
    "af = np.array([0, 12, 45.21, 34, 99.91])\n",
    "print(\"Valores en ºF:\", af)\n",
    "print(\"Valores en ºC:\", (af-32)*5/9)\n"
   ]
  },
  {
   "cell_type": "markdown",
   "metadata": {
    "id": "sTXbkSRZvUeF"
   },
   "source": [
    "7.- Devuelve los elementos de un array 2D, eliminando los repetidos."
   ]
  },
  {
   "cell_type": "code",
   "execution_count": 31,
   "metadata": {
    "colab": {
     "base_uri": "https://localhost:8080/"
    },
    "executionInfo": {
     "elapsed": 41,
     "status": "ok",
     "timestamp": 1740046470653,
     "user": {
      "displayName": "momentum uvigo",
      "userId": "17476504355103610358"
     },
     "user_tz": -60
    },
    "id": "0qujnj9avmz5",
    "outputId": "daf0fab5-6abf-4079-e0de-9a738f1befb3"
   },
   "outputs": [
    {
     "name": "stdout",
     "output_type": "stream",
     "text": [
      "Array original: [10 10 20 20 30 30]\n",
      "Elementos únicos (sin repetidos): [10 20 30]\n"
     ]
    }
   ],
   "source": [
    "x = np.array([10, 10, 20, 20, 30, 30])\n",
    "print(\"Array original:\",x)\n",
    "print(\"Elementos únicos (sin repetidos):\", np.unique(x))\n"
   ]
  },
  {
   "cell_type": "markdown",
   "metadata": {
    "id": "CjPfp6Zkvyww"
   },
   "source": [
    "8.- Crear un array unidimensional con 6 de enteros aleatorios entre 1 y 49 y mostrar las posiciones del máximo y del mínimo."
   ]
  },
  {
   "cell_type": "code",
   "execution_count": 32,
   "metadata": {
    "colab": {
     "base_uri": "https://localhost:8080/"
    },
    "executionInfo": {
     "elapsed": 9,
     "status": "ok",
     "timestamp": 1740046470695,
     "user": {
      "displayName": "momentum uvigo",
      "userId": "17476504355103610358"
     },
     "user_tz": -60
    },
    "id": "CzI6O1mYwNnX",
    "outputId": "40566813-47f7-49a6-f2e9-d7ed9374ac13"
   },
   "outputs": [
    {
     "name": "stdout",
     "output_type": "stream",
     "text": [
      "[ 1 19 31  2 22 31]\n",
      "Índice del mínimo 0\n",
      "Índice del máximo 2\n"
     ]
    }
   ],
   "source": [
    "a = np.random.randint(1, 49, size=6)\n",
    "print(a)\n",
    "print('Índice del mínimo', np.argmin(a))\n",
    "print('Índice del máximo', np.argmax(a))\n"
   ]
  },
  {
   "cell_type": "markdown",
   "metadata": {
    "id": "MFz_C-ssyffk"
   },
   "source": [
    "9.- Crear un array bidimensional y calcular la posición del máximo de cada fila y del mínimo de cada columna."
   ]
  },
  {
   "cell_type": "code",
   "execution_count": 33,
   "metadata": {
    "colab": {
     "base_uri": "https://localhost:8080/"
    },
    "executionInfo": {
     "elapsed": 91,
     "status": "ok",
     "timestamp": 1740046470789,
     "user": {
      "displayName": "momentum uvigo",
      "userId": "17476504355103610358"
     },
     "user_tz": -60
    },
    "id": "QawUW1m1yftk",
    "outputId": "66539262-6743-43f0-f253-e1753078146e"
   },
   "outputs": [
    {
     "name": "stdout",
     "output_type": "stream",
     "text": [
      "Mínimo de cada columna             : [2 5 0]\n",
      "Posición del mínimo de cada columna: [1 0 1]\n",
      "\n",
      "Máximo de cada fila             : [5 7]\n",
      "Posición del máximo de cada fila: [1 1]\n"
     ]
    }
   ],
   "source": [
    "x = np.array([[3, 5, 1], [2, 7, 0]])\n",
    "\n",
    "print(\"Mínimo de cada columna             :\", np.min(x, axis=0))\n",
    "print(\"Posición del mínimo de cada columna:\", np.argmin(x, axis=0))\n",
    "print(\"\\nMáximo de cada fila             :\", np.max(x, axis=1))\n",
    "print(\"Posición del máximo de cada fila:\", np.argmax(x, axis=1))"
   ]
  },
  {
   "cell_type": "markdown",
   "metadata": {
    "id": "9gi_6IGtwlX2"
   },
   "source": [
    "10.- Usa las funciones `reshape`, `flatten` o `ravel` para aplanar un vector: guardar los mismos valores en el mismo orden en un vector 1D."
   ]
  },
  {
   "cell_type": "code",
   "execution_count": 34,
   "metadata": {
    "colab": {
     "base_uri": "https://localhost:8080/"
    },
    "executionInfo": {
     "elapsed": 10,
     "status": "ok",
     "timestamp": 1740046470802,
     "user": {
      "displayName": "momentum uvigo",
      "userId": "17476504355103610358"
     },
     "user_tz": -60
    },
    "id": "aT1wkCiUxR6I",
    "outputId": "b1c55d41-abb7-4f26-c10c-5b29224c95b0"
   },
   "outputs": [
    {
     "name": "stdout",
     "output_type": "stream",
     "text": [
      "Array aplanado con 'ravel':   [3 5 1 2 7 0]\n",
      "Array aplanado con 'flatten': [3 5 1 2 7 0]\n",
      "Array aplanado con 'flatten': [3 5 1 2 7 0]\n",
      "\n",
      "Array original:\n",
      " [[3 5 1]\n",
      " [2 7 0]]\n"
     ]
    }
   ],
   "source": [
    "plano1 = np.ravel(x)\n",
    "print(\"Array aplanado con 'ravel':  \", plano1)\n",
    "plano2 = x.flatten()\n",
    "print(\"Array aplanado con 'flatten':\", plano2)\n",
    "plano3 = x.reshape(-1)\n",
    "print(\"Array aplanado con 'flatten':\", plano3)\n",
    "print(\"\\nArray original:\\n\",x)\n"
   ]
  },
  {
   "cell_type": "markdown",
   "metadata": {
    "id": "f2Y4a3QS4e35"
   },
   "source": [
    "11.- Calcular el producto matricial (fila por columna) y la suma de dos arrays 2x2."
   ]
  },
  {
   "cell_type": "code",
   "execution_count": 35,
   "metadata": {
    "colab": {
     "base_uri": "https://localhost:8080/"
    },
    "executionInfo": {
     "elapsed": 10,
     "status": "ok",
     "timestamp": 1740046470813,
     "user": {
      "displayName": "momentum uvigo",
      "userId": "17476504355103610358"
     },
     "user_tz": -60
    },
    "id": "G2GqFXFV4fD5",
    "outputId": "82ba86fc-ee14-4e0d-872e-6fc4d092564e"
   },
   "outputs": [
    {
     "name": "stdout",
     "output_type": "stream",
     "text": [
      "Producto:\n",
      " [[18  5]\n",
      " [30  9]]\n",
      "\n",
      "Suma:\n",
      " [[1 5]\n",
      " [8 6]]\n"
     ]
    }
   ],
   "source": [
    "m1 = np.array([[1,3],[2,5]])\n",
    "m2 = np.array([[0,2],[6,1]])\n",
    "print(\"Producto:\\n\", np.dot(m1,m2))\n",
    "print(\"\\nSuma:\\n\", np.add(m1,m2))"
   ]
  },
  {
   "cell_type": "markdown",
   "metadata": {
    "id": "JQdFZjmgxj7R"
   },
   "source": [
    "12.- Calcula la inversa y el determinante de una matriz cuadrada 2D:"
   ]
  },
  {
   "cell_type": "code",
   "execution_count": 36,
   "metadata": {
    "colab": {
     "base_uri": "https://localhost:8080/"
    },
    "executionInfo": {
     "elapsed": 43,
     "status": "ok",
     "timestamp": 1740046470858,
     "user": {
      "displayName": "momentum uvigo",
      "userId": "17476504355103610358"
     },
     "user_tz": -60
    },
    "id": "RNQMOL1t0Iya",
    "outputId": "93ef04b1-d7bb-4118-bc22-58e813e5c0b0"
   },
   "outputs": [
    {
     "name": "stdout",
     "output_type": "stream",
     "text": [
      "[[1 3 5]\n",
      " [2 2 4]\n",
      " [6 7 8]]\n",
      "\n",
      "Determinante: 21.999999999999996\n",
      "\n",
      "Inversa:\n",
      " [[-0.54545455  0.5         0.09090909]\n",
      " [ 0.36363636 -1.          0.27272727]\n",
      " [ 0.09090909  0.5        -0.18181818]]\n"
     ]
    }
   ],
   "source": [
    "m = np.array([[1,3,5],[2,2,4],[6,7,8]])\n",
    "print(m)\n",
    "print('\\nDeterminante:',np.linalg.det(m))\n",
    "inversa = np.linalg.inv(m)\n",
    "print('\\nInversa:\\n',np.linalg.inv(m))\n"
   ]
  },
  {
   "cell_type": "markdown",
   "metadata": {
    "id": "P_pvb5FJ5UyA"
   },
   "source": [
    "13.- Calcula el producto interno de dos arrays unidimensionales de 3 elementos."
   ]
  },
  {
   "cell_type": "code",
   "execution_count": 37,
   "metadata": {
    "colab": {
     "base_uri": "https://localhost:8080/"
    },
    "executionInfo": {
     "elapsed": 11,
     "status": "ok",
     "timestamp": 1740046470872,
     "user": {
      "displayName": "momentum uvigo",
      "userId": "17476504355103610358"
     },
     "user_tz": -60
    },
    "id": "PEktxKXr5Uin",
    "outputId": "7a3afdff-77b0-4155-e214-2dc9c794e375"
   },
   "outputs": [
    {
     "name": "stdout",
     "output_type": "stream",
     "text": [
      "Producto interno: 44\n"
     ]
    }
   ],
   "source": [
    "a1 = np.array([1,3,5])\n",
    "a2 = np.array([2,4,6])\n",
    "print(\"Producto interno:\", np.inner(a1, a2))"
   ]
  },
  {
   "cell_type": "markdown",
   "metadata": {
    "id": "gXG8RAzS0gg5"
   },
   "source": [
    "14.- Ordenar un array unidimensional."
   ]
  },
  {
   "cell_type": "code",
   "execution_count": 38,
   "metadata": {
    "colab": {
     "base_uri": "https://localhost:8080/"
    },
    "executionInfo": {
     "elapsed": 21,
     "status": "ok",
     "timestamp": 1740046470895,
     "user": {
      "displayName": "momentum uvigo",
      "userId": "17476504355103610358"
     },
     "user_tz": -60
    },
    "id": "akD8g5BZ1MfD",
    "outputId": "71129d0e-eefc-44a0-c295-0c3660fa42b5"
   },
   "outputs": [
    {
     "name": "stdout",
     "output_type": "stream",
     "text": [
      "[90 63 47 68 90 18]\n",
      "\n",
      "[18 47 63 68 90 90]\n"
     ]
    }
   ],
   "source": [
    "a = np.random.randint(1, 100, size=6)\n",
    "print(a)\n",
    "print()\n",
    "a.sort()\n",
    "print(a)"
   ]
  },
  {
   "cell_type": "markdown",
   "metadata": {
    "id": "0tfUvC7Z1tgK"
   },
   "source": [
    "15.- Calcular el percentil 80 de los elementos de un array unidimensional de once elementos."
   ]
  },
  {
   "cell_type": "code",
   "execution_count": 39,
   "metadata": {
    "colab": {
     "base_uri": "https://localhost:8080/"
    },
    "executionInfo": {
     "elapsed": 10,
     "status": "ok",
     "timestamp": 1740046470908,
     "user": {
      "displayName": "momentum uvigo",
      "userId": "17476504355103610358"
     },
     "user_tz": -60
    },
    "id": "5avKFVYw2hql",
    "outputId": "e02d6fcf-bcaf-4a83-c739-4cb8db365f50"
   },
   "outputs": [
    {
     "name": "stdout",
     "output_type": "stream",
     "text": [
      "[ 2  8 15 30 34 45 65 71 77 82 91] -> 77.0\n"
     ]
    }
   ],
   "source": [
    "a = np.array([2, 8, 15, 30, 34, 45, 65, 71, 77, 82, 91])\n",
    "p80 = np.percentile(a,80)\n",
    "print(a,'->',p80)"
   ]
  },
  {
   "cell_type": "markdown",
   "metadata": {
    "id": "O9bXm1tP3VH7"
   },
   "source": [
    "16.- Calcular el promedio y la varianza de array del ejercicio anterior."
   ]
  },
  {
   "cell_type": "code",
   "execution_count": 40,
   "metadata": {
    "colab": {
     "base_uri": "https://localhost:8080/"
    },
    "executionInfo": {
     "elapsed": 36,
     "status": "ok",
     "timestamp": 1740046470946,
     "user": {
      "displayName": "momentum uvigo",
      "userId": "17476504355103610358"
     },
     "user_tz": -60
    },
    "id": "OfxzNa1K4Co-",
    "outputId": "978a889a-be45-4bc1-88a8-c29862e189d4"
   },
   "outputs": [
    {
     "name": "stdout",
     "output_type": "stream",
     "text": [
      "Promedio: 47.27272727272727\n",
      "Varianza: 908.3801652892562\n"
     ]
    }
   ],
   "source": [
    "print('Promedio:', a.mean())\n",
    "print('Varianza:', a.var())"
   ]
  },
  {
   "cell_type": "markdown",
   "metadata": {
    "id": "kVSFgd1C7MOk"
   },
   "source": [
    "17.- Cambiar el tipo de dato de los elementos del array del ejercicio anterior a *float*."
   ]
  },
  {
   "cell_type": "code",
   "execution_count": 41,
   "metadata": {
    "colab": {
     "base_uri": "https://localhost:8080/"
    },
    "executionInfo": {
     "elapsed": 13,
     "status": "ok",
     "timestamp": 1740046470964,
     "user": {
      "displayName": "momentum uvigo",
      "userId": "17476504355103610358"
     },
     "user_tz": -60
    },
    "id": "mWRYvdS04NgZ",
    "outputId": "cdf7d5d5-d390-4af5-ee95-9ae041c7538d"
   },
   "outputs": [
    {
     "name": "stdout",
     "output_type": "stream",
     "text": [
      "[ 2  8 15 30 34 45 65 71 77 82 91] \n",
      " [ 2.  8. 15. 30. 34. 45. 65. 71. 77. 82. 91.]\n"
     ]
    }
   ],
   "source": [
    "afloat = a.astype(float)\n",
    "print(a,'\\n',afloat)"
   ]
  },
  {
   "cell_type": "markdown",
   "metadata": {
    "id": "Z9Mk98Uz7cYT"
   },
   "source": [
    "18.- Al array de valores reales (*float*) del ejercicio anterior, asignar el valor NaN a tres posciones cualesquiera. Usa indexación lógica (buleana) para mostrar los distintos a NaN."
   ]
  },
  {
   "cell_type": "code",
   "execution_count": 42,
   "metadata": {
    "colab": {
     "base_uri": "https://localhost:8080/"
    },
    "executionInfo": {
     "elapsed": 11,
     "status": "ok",
     "timestamp": 1740046470978,
     "user": {
      "displayName": "momentum uvigo",
      "userId": "17476504355103610358"
     },
     "user_tz": -60
    },
    "id": "pZhmzwLO8MQn",
    "outputId": "7f5c847e-b597-4d71-88f6-5c319944fdc8"
   },
   "outputs": [
    {
     "name": "stdout",
     "output_type": "stream",
     "text": [
      "[ 2.  8. nan 30. nan 45. 65. 71. nan 82. 91.]\n",
      "[ 2.  8. 30. 45. 65. 71. 82. 91.]\n"
     ]
    }
   ],
   "source": [
    "afloat[2] = afloat[4] = afloat[8] = np.nan\n",
    "print(afloat)\n",
    "print(afloat[~np.isnan(afloat)])\n"
   ]
  },
  {
   "cell_type": "markdown",
   "metadata": {
    "id": "5H4zPga68guj"
   },
   "source": [
    "19.- Indicar las posiciones distintas de cero de un array 3x2, usando la función `np.nonzero`."
   ]
  },
  {
   "cell_type": "code",
   "execution_count": 43,
   "metadata": {
    "colab": {
     "base_uri": "https://localhost:8080/"
    },
    "executionInfo": {
     "elapsed": 43,
     "status": "ok",
     "timestamp": 1740046471028,
     "user": {
      "displayName": "momentum uvigo",
      "userId": "17476504355103610358"
     },
     "user_tz": -60
    },
    "id": "Y50_NPZv-ZzP",
    "outputId": "992edbad-e42d-4303-e50f-3ec7503703ec"
   },
   "outputs": [
    {
     "name": "stdout",
     "output_type": "stream",
     "text": [
      "[[5 2]\n",
      " [0 8]\n",
      " [7 0]]\n",
      "(array([0, 0, 1, 2]), array([0, 1, 1, 0]))\n"
     ]
    }
   ],
   "source": [
    "a = np.array([[5,2],[0,8],[7,0]])\n",
    "print (a)\n",
    "print(np.nonzero(a))"
   ]
  },
  {
   "cell_type": "markdown",
   "metadata": {
    "id": "wQLkAnT3-l-y"
   },
   "source": [
    "20.- Usar el método `np.stack` para apilar tres arrays unidimensionales de dos elementos para formar una array 3x2  (los arrays serán las filas)."
   ]
  },
  {
   "cell_type": "code",
   "execution_count": 44,
   "metadata": {
    "colab": {
     "base_uri": "https://localhost:8080/"
    },
    "executionInfo": {
     "elapsed": 16,
     "status": "ok",
     "timestamp": 1740046471045,
     "user": {
      "displayName": "momentum uvigo",
      "userId": "17476504355103610358"
     },
     "user_tz": -60
    },
    "id": "6zzcOB0zAhv9",
    "outputId": "f1f58837-425b-4432-9a0f-377115a4645c"
   },
   "outputs": [
    {
     "name": "stdout",
     "output_type": "stream",
     "text": [
      "[[1 6]\n",
      " [2 7]\n",
      " [3 8]]\n"
     ]
    }
   ],
   "source": [
    "a1 = np.array([1,6])\n",
    "a2 = np.array([2,7])\n",
    "a3 = np.array([3,8])\n",
    "m  = np.stack((a1,a2,a3)) # ojo a los dobles paréntesis\n",
    "print(m)"
   ]
  },
  {
   "cell_type": "markdown",
   "metadata": {
    "id": "h8BusLNvA0Wh"
   },
   "source": [
    "21.- Usar el método `np.stack` para apilar tres arrays unidimensionales de dos elementos para formar una array 2x3 (los arrays serán las columnas)."
   ]
  },
  {
   "cell_type": "code",
   "execution_count": 45,
   "metadata": {
    "colab": {
     "base_uri": "https://localhost:8080/"
    },
    "executionInfo": {
     "elapsed": 19,
     "status": "ok",
     "timestamp": 1740046471066,
     "user": {
      "displayName": "momentum uvigo",
      "userId": "17476504355103610358"
     },
     "user_tz": -60
    },
    "id": "EDiXtlH-BG4r",
    "outputId": "68187ccc-b733-4196-f94b-0e1ebfb848e3"
   },
   "outputs": [
    {
     "name": "stdout",
     "output_type": "stream",
     "text": [
      "[[1 2 3]\n",
      " [6 7 8]]\n"
     ]
    }
   ],
   "source": [
    "m2  = np.stack((a1,a2,a3),axis=1) # ojo a los dobles paréntesis\n",
    "print(m2)"
   ]
  },
  {
   "cell_type": "markdown",
   "metadata": {
    "id": "kf5ttyb2CWvH"
   },
   "source": [
    "22.- Usar el método `np.hstack` para generar un nuevo array unidimensional como la concatenación de los tres anteriores (a1, a2 y a3)."
   ]
  },
  {
   "cell_type": "code",
   "execution_count": 46,
   "metadata": {
    "colab": {
     "base_uri": "https://localhost:8080/"
    },
    "executionInfo": {
     "elapsed": 51,
     "status": "ok",
     "timestamp": 1740046471119,
     "user": {
      "displayName": "momentum uvigo",
      "userId": "17476504355103610358"
     },
     "user_tz": -60
    },
    "id": "zHbAe0KcBLbD",
    "outputId": "0d05f8d8-0978-4527-f118-3b38d5fb1216"
   },
   "outputs": [
    {
     "name": "stdout",
     "output_type": "stream",
     "text": [
      "[1 6 2 7 3 8]\n"
     ]
    }
   ],
   "source": [
    "m3 = np.hstack((a1,a2,a3))\n",
    "print(m3)"
   ]
  },
  {
   "cell_type": "markdown",
   "metadata": {
    "id": "py1R719ZO3ab"
   },
   "source": [
    "23.- Dividir por la mitad un array de seis posiciones. Dividirlo también en tres arrays de igual tamaño y mostrarlos uno por uno iterando la lista de nuevos arrays."
   ]
  },
  {
   "cell_type": "code",
   "execution_count": 47,
   "metadata": {
    "colab": {
     "base_uri": "https://localhost:8080/"
    },
    "executionInfo": {
     "elapsed": 38,
     "status": "ok",
     "timestamp": 1740046471159,
     "user": {
      "displayName": "momentum uvigo",
      "userId": "17476504355103610358"
     },
     "user_tz": -60
    },
    "id": "-dKjVQe_CNPN",
    "outputId": "177cb15c-8e6b-4def-d8ad-f76a52b39ff0"
   },
   "outputs": [
    {
     "name": "stdout",
     "output_type": "stream",
     "text": [
      "[1 2 3 4 5 6]\n",
      "[array([1, 2, 3]), array([4, 5, 6])]\n",
      "[1 2]\n",
      "[3 4]\n",
      "[5 6]\n"
     ]
    }
   ],
   "source": [
    "a = np.arange(1,7)\n",
    "print(a)\n",
    "amitad = np.array_split(a,2)\n",
    "print(amitad)\n",
    "entres = np.array_split(a,3)\n",
    "for a3 in entres:\n",
    "  print(a3)"
   ]
  },
  {
   "cell_type": "markdown",
   "metadata": {
    "id": "-VqV4y0mR1KG"
   },
   "source": [
    "24.- Crear un array bidimensional de 2 filas y 3 columnas y calcular la media ponderada de cada columna, como el 70% del elemento de la primera fila y el 30% del elemento de la segunda."
   ]
  },
  {
   "cell_type": "code",
   "execution_count": 48,
   "metadata": {
    "colab": {
     "base_uri": "https://localhost:8080/"
    },
    "executionInfo": {
     "elapsed": 18,
     "status": "ok",
     "timestamp": 1740046471179,
     "user": {
      "displayName": "momentum uvigo",
      "userId": "17476504355103610358"
     },
     "user_tz": -60
    },
    "id": "hFCAsiAaPSxk",
    "outputId": "c4f7048d-db25-40c0-849f-65a12f66341f"
   },
   "outputs": [
    {
     "name": "stdout",
     "output_type": "stream",
     "text": [
      "Media ponderada: [8.3 2.7 6.1]\n"
     ]
    }
   ],
   "source": [
    "a = np.array([[8,3,7],[9,2,4]])\n",
    "pesos = np.array([0.7,0.3])\n",
    "mp = np.average(a,weights=pesos, axis=0)\n",
    "# suma ponderada dividida por la suma de los pesos: (8*0.7 + 9*0.3)/(0.7+0.3)=8.3\n",
    "print('Media ponderada:', mp)"
   ]
  },
  {
   "cell_type": "markdown",
   "metadata": {
    "id": "yrvUStSISwsQ"
   },
   "source": [
    "25.- Dado un array unidimensional, desordena de forma aleatoria sus elementos."
   ]
  },
  {
   "cell_type": "code",
   "execution_count": 49,
   "metadata": {
    "colab": {
     "base_uri": "https://localhost:8080/"
    },
    "executionInfo": {
     "elapsed": 12,
     "status": "ok",
     "timestamp": 1740046471193,
     "user": {
      "displayName": "momentum uvigo",
      "userId": "17476504355103610358"
     },
     "user_tz": -60
    },
    "id": "h629YQYGTA0K",
    "outputId": "cd2e40b3-d281-4229-f5c6-1774bbe8211d"
   },
   "outputs": [
    {
     "name": "stdout",
     "output_type": "stream",
     "text": [
      "[3 1 5 4 2 0]\n"
     ]
    }
   ],
   "source": [
    "a = np.array([0, 1, 2, 3, 4, 5])\n",
    "np.random.shuffle(a)\n",
    "print(a)\n",
    "# np.random.permutation(a) -> devuelve copia y no modifica original"
   ]
  },
  {
   "cell_type": "markdown",
   "metadata": {
    "id": "qI5szu6_TTR1"
   },
   "source": [
    "26.- Genera un array 2x3 de valores aleatorios con distribución normal de media=2 y desviación estándar=3."
   ]
  },
  {
   "cell_type": "code",
   "execution_count": 50,
   "metadata": {
    "colab": {
     "base_uri": "https://localhost:8080/"
    },
    "executionInfo": {
     "elapsed": 63,
     "status": "ok",
     "timestamp": 1740046471258,
     "user": {
      "displayName": "momentum uvigo",
      "userId": "17476504355103610358"
     },
     "user_tz": -60
    },
    "id": "k-HobJ1nTk4Y",
    "outputId": "e998156c-a5c5-4f83-beec-3ab20c98cbcd"
   },
   "outputs": [
    {
     "name": "stdout",
     "output_type": "stream",
     "text": [
      "[[ 3.8600168  -1.92214677  7.00690227]\n",
      " [ 2.06853292  1.38409584  1.91665055]]\n"
     ]
    }
   ],
   "source": [
    "a = np.random.normal(loc=2, scale=3, size=(2, 3)) # media=2, desv. std=3\n",
    "print(a)"
   ]
  },
  {
   "cell_type": "markdown",
   "metadata": {
    "id": "knYOpfT8_CZU"
   },
   "source": [
    "27.- Simula una neurona artificial (*perceptrón*): tendremos n entradas numéricas entre 0 y 1 (array), n pesos entre 0 y 1 (*array*). Para calcular la salida de la neurona se hará la suma de las entradas, cada una de ellas ponderada por su peso y si el resultado es mayor que n*0.25, la neurona producirá un uno, en caso contrario, un cero.\n",
    "<p><br></p>\n",
    "<img src=\"https://www.llipe.com/wp-content/uploads/2017/04/modelo-perceptron-simple-740.jpg\" width=\"500\">"
   ]
  },
  {
   "cell_type": "code",
   "execution_count": 59,
   "metadata": {
    "colab": {
     "base_uri": "https://localhost:8080/"
    },
    "executionInfo": {
     "elapsed": 31,
     "status": "ok",
     "timestamp": 1740046471291,
     "user": {
      "displayName": "momentum uvigo",
      "userId": "17476504355103610358"
     },
     "user_tz": -60
    },
    "id": "DICBnjUl_5e6",
    "outputId": "8735ffae-9ae3-4723-b8ab-b4b0f3da19bc"
   },
   "outputs": [
    {
     "name": "stdout",
     "output_type": "stream",
     "text": [
      "Entradas: [0.38  0.818 0.37  0.582]\n",
      "Pesos:    [0.712 0.052 0.793 0.999]\n",
      "Suma ponderada: 1.188\n",
      "Resultado 1\n"
     ]
    }
   ],
   "source": [
    "n = 4\n",
    "entradas = np.random.rand(n)\n",
    "entradas = np.around(entradas, decimals=3)\n",
    "print(\"Entradas:\", entradas)\n",
    "\n",
    "pesos = np.around(np.random.rand(n), decimals=3)\n",
    "print(\"Pesos:   \", pesos)\n",
    "\n",
    "sumaPonderada = np.inner(pesos, entradas)\n",
    "sumaPonderada = np.around(sumaPonderada, decimals=3)\n",
    "print(\"Suma ponderada:\", sumaPonderada)\n",
    "\n",
    "if (sumaPonderada >= 0.25*n):\n",
    "  resultado = 1\n",
    "else:\n",
    "  resultado = 0\n",
    "\n",
    "print('Resultado', resultado)"
   ]
  },
  {
   "cell_type": "code",
   "execution_count": 28,
   "metadata": {
    "executionInfo": {
     "elapsed": 2,
     "status": "ok",
     "timestamp": 1740046471295,
     "user": {
      "displayName": "momentum uvigo",
      "userId": "17476504355103610358"
     },
     "user_tz": -60
    },
    "id": "vghuQUpzAtBD"
   },
   "outputs": [],
   "source": []
  }
 ],
 "metadata": {
  "colab": {
   "provenance": []
  },
  "kernelspec": {
   "display_name": "venv_dl",
   "language": "python",
   "name": "python3"
  },
  "language_info": {
   "codemirror_mode": {
    "name": "ipython",
    "version": 3
   },
   "file_extension": ".py",
   "mimetype": "text/x-python",
   "name": "python",
   "nbconvert_exporter": "python",
   "pygments_lexer": "ipython3",
   "version": "3.12.7"
  }
 },
 "nbformat": 4,
 "nbformat_minor": 0
}
