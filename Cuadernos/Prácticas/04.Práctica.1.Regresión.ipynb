{
 "cells": [
  {
   "cell_type": "markdown",
   "metadata": {
    "id": "HFVBNfHtj_In"
   },
   "source": [
    "# Práctica 04.01: Regresión"
   ]
  },
  {
   "cell_type": "markdown",
   "metadata": {
    "id": "Gihy4hcQIsVt"
   },
   "source": [
    "### Importaciones"
   ]
  },
  {
   "cell_type": "code",
   "execution_count": 99,
   "metadata": {
    "id": "91L-g4rxIsMV"
   },
   "outputs": [],
   "source": [
    "import pandas as pd\n",
    "import matplotlib\n",
    "%matplotlib inline\n",
    "import matplotlib.pyplot as plt\n",
    "from sklearn.model_selection import train_test_split\n",
    "from keras import Sequential\n",
    "from keras.layers import Dense\n",
    "from keras.callbacks import History \n",
    "from sklearn.metrics import mean_squared_error, mean_absolute_error"
   ]
  },
  {
   "cell_type": "markdown",
   "metadata": {
    "id": "QbHUj_c7I099"
   },
   "source": [
    "### Lectura de la información"
   ]
  },
  {
   "cell_type": "markdown",
   "metadata": {
    "id": "4-p9mFDrI45d"
   },
   "source": [
    "#### Carga de los datos\n",
    "\n",
    "Dataset: rossmann_curso.csv"
   ]
  },
  {
   "cell_type": "code",
   "execution_count": 100,
   "metadata": {},
   "outputs": [
    {
     "name": "stdout",
     "output_type": "stream",
     "text": [
      "(1017209, 45)\n",
      "   Customers  Open  Promo  Promo2  StateHoliday  SchoolHoliday  \\\n",
      "0        555     1      1       0             0              1   \n",
      "1        546     1      1       0             0              1   \n",
      "2        523     1      1       0             0              1   \n",
      "3        560     1      1       0             0              1   \n",
      "4        612     1      1       0             0              1   \n",
      "\n",
      "   CompetitionDistance  DayOfWeek_1  DayOfWeek_2  DayOfWeek_3  ...  \\\n",
      "0               1270.0          0.0          0.0          0.0  ...   \n",
      "1               1270.0          0.0          0.0          0.0  ...   \n",
      "2               1270.0          0.0          0.0          1.0  ...   \n",
      "3               1270.0          0.0          1.0          0.0  ...   \n",
      "4               1270.0          1.0          0.0          0.0  ...   \n",
      "\n",
      "   StoreType_c  StoreType_d  Assortment_a  Assortment_b  Assortment_c  \\\n",
      "0          1.0          0.0           1.0           0.0           0.0   \n",
      "1          1.0          0.0           1.0           0.0           0.0   \n",
      "2          1.0          0.0           1.0           0.0           0.0   \n",
      "3          1.0          0.0           1.0           0.0           0.0   \n",
      "4          1.0          0.0           1.0           0.0           0.0   \n",
      "\n",
      "   Season_Fall  Season_Spring  Season_Summer  Season_Winter  Sales  \n",
      "0          0.0            0.0            1.0            0.0   5263  \n",
      "1          0.0            0.0            1.0            0.0   5020  \n",
      "2          0.0            0.0            1.0            0.0   4782  \n",
      "3          0.0            0.0            1.0            0.0   5011  \n",
      "4          0.0            0.0            1.0            0.0   6102  \n",
      "\n",
      "[5 rows x 45 columns]\n"
     ]
    }
   ],
   "source": [
    "df=pd.read_csv('rossmann_curso.csv')\n",
    "print(df.shape)\n",
    "print(df.head(5))"
   ]
  },
  {
   "cell_type": "code",
   "execution_count": 101,
   "metadata": {
    "colab": {
     "base_uri": "https://localhost:8080/"
    },
    "executionInfo": {
     "elapsed": 4489,
     "status": "ok",
     "timestamp": 1614762122853,
     "user": {
      "displayName": "Amador Rodríguez Diéguez",
      "photoUrl": "",
      "userId": "06500271424076672652"
     },
     "user_tz": -60
    },
    "id": "InBgz4tgI5Dc",
    "outputId": "7bdde1dd-dca9-48c5-9f00-8062462c52f2"
   },
   "outputs": [],
   "source": [
    "# 1.- Cargar el dataset completo en un dataframe, usando read_csv\n",
    "\n",
    "# 2.- Mostrar las dimensiones del dataset\n",
    "\n",
    "# 3.- Mostrar las 5 primeras filas del dataset\n"
   ]
  },
  {
   "cell_type": "markdown",
   "metadata": {
    "id": "qjg5dEZfJBHV"
   },
   "source": [
    "### Preparación de los datos"
   ]
  },
  {
   "cell_type": "code",
   "execution_count": 102,
   "metadata": {},
   "outputs": [
    {
     "name": "stdout",
     "output_type": "stream",
     "text": [
      "(813767, 44)\n",
      "(203442, 44)\n",
      "(813767, 1)\n",
      "(203442, 1)\n",
      "(732390, 44)\n",
      "(81377, 44)\n",
      "(732390, 1)\n",
      "(81377, 1)\n",
      "(203442, 44)\n",
      "(203442, 1)\n",
      "(732390, 44)\n",
      "(732390, 1)\n",
      "(81377, 44)\n",
      "(81377, 1)\n",
      "5777.71205232185\n",
      "2885.4067950497615\n"
     ]
    }
   ],
   "source": [
    "sales=df['Sales']\n",
    "df.drop(['Sales'], axis=1, inplace=True)\n",
    "# 6.- Crear los conjuntos de entrenamiento y test con una relación 80/20\n",
    "X_train, X_test, y_train, y_test = train_test_split(df, sales, test_size=0.2, random_state=42)\n",
    "y_train=y_train.values.reshape(-1,1)\n",
    "y_test=y_test.values.reshape(-1,1)\n",
    "\n",
    "print(X_train.shape)\n",
    "print(X_test.shape)\n",
    "print(y_train.shape)\n",
    "print(y_test.shape)\n",
    "\n",
    "X_train, X_val, y_train, y_val = train_test_split(X_train, y_train, test_size=0.1, random_state=42)\n",
    "print(X_train.shape)\n",
    "print(X_val.shape)\n",
    "print(y_train.shape)\n",
    "# 8.- Mostrar las dimensiones de los tres nuevos conjuntos: entrenamiento, validación y test\n",
    "print(y_val.shape)\n",
    "print(X_test.shape)\n",
    "print(y_test.shape)\n",
    "print(X_train.shape)\n",
    "print(y_train.shape)\n",
    "print(X_val.shape)\n",
    "print(y_val.shape)\n",
    "\n",
    "# 9.- Calcular el promedio del objetivo del conjunto de entrenamiento\n",
    "avg_conjunto_entrenamiento = y_train.mean()\n",
    "print(avg_conjunto_entrenamiento)\n",
    "\n",
    "# 10.- Calcular el error medio absoluto (MAE) sobre el conjunto de test\n",
    "avg_conjunto_test = y_test.mean()\n",
    "mae = mean_absolute_error(y_test, [avg_conjunto_test]*len(y_test))\n",
    "print(mae)\n"
   ]
  },
  {
   "cell_type": "code",
   "execution_count": 103,
   "metadata": {
    "colab": {
     "base_uri": "https://localhost:8080/"
    },
    "executionInfo": {
     "elapsed": 4832,
     "status": "ok",
     "timestamp": 1614762123207,
     "user": {
      "displayName": "Amador Rodríguez Diéguez",
      "photoUrl": "",
      "userId": "06500271424076672652"
     },
     "user_tz": -60
    },
    "id": "CvOHd_luJa40",
    "outputId": "c6ad8a93-9923-47b5-a356-71807a4ff296"
   },
   "outputs": [],
   "source": [
    "# 4.- Crear un nuevo dataframe con la columna objetivo (la última: 'Sales')\n",
    "\n",
    "# 5.- Eliminar la columna objetivo del dataframe del dataset\n",
    "\n",
    "# 6.- Crear los conjuntos de entrenamiento y test con una relación 80/20\n",
    "\n",
    "# 7.- Dividir el conjunto de entrenamiento en entrenamiento y validación (relación 90/10)\n",
    "\n",
    "# 8.- Mostrar las dimensiones de los tres nuevos conjuntos: entrenamiento, validación y test\n",
    "\n",
    "# 9.- Calcular el promedio del objetivo del conjunto de entrenamiento\n",
    "\n",
    "# 10.- Calcular el error medio absoluto (MAE) sobre el conjunto de test\n"
   ]
  },
  {
   "cell_type": "markdown",
   "metadata": {
    "id": "yUdtH03eJiP8"
   },
   "source": [
    "### Costrucción del modelo: MLP profunda"
   ]
  },
  {
   "cell_type": "code",
   "execution_count": 104,
   "metadata": {},
   "outputs": [
    {
     "name": "stderr",
     "output_type": "stream",
     "text": [
      "/home/sergio/venv_dl/lib/python3.12/site-packages/keras/src/layers/core/dense.py:87: UserWarning: Do not pass an `input_shape`/`input_dim` argument to a layer. When using Sequential models, prefer using an `Input(shape)` object as the first layer in the model instead.\n",
      "  super().__init__(activity_regularizer=activity_regularizer, **kwargs)\n"
     ]
    }
   ],
   "source": [
    "modelo = Sequential() # crea modelo\n",
    "\n",
    "modelo.add(Dense(350, activation='relu', input_shape=(X_train.shape[1],)))\n",
    "modelo.add(Dense(350, activation='relu'))\n",
    "modelo.add(Dense(350, activation='relu'))\n",
    "modelo.add(Dense(350, activation='relu'))\n",
    "modelo.add(Dense(350, activation='relu'))\n",
    "\n",
    "\n",
    "modelo.add(Dense(1, activation='linear'))\n",
    "\n"
   ]
  },
  {
   "cell_type": "code",
   "execution_count": 105,
   "metadata": {
    "id": "-lx3fCRFJ4xT"
   },
   "outputs": [],
   "source": [
    "# 11.- Crear el modelo secuencial\n",
    "\n",
    "# 12.- Añadir la capa de entrada: densa de 350 unidades y función de activación ReLU\n",
    "\n",
    "# 13.- Añadir cuatro capas densas de 350 unidades con función de activación ReLU\n",
    "\n",
    "# 14.- Añadir una capa densa de salida con activación lineal\n"
   ]
  },
  {
   "cell_type": "markdown",
   "metadata": {
    "id": "K9mSuPzJJ7MK"
   },
   "source": [
    "### Compilación y entrenamiento"
   ]
  },
  {
   "cell_type": "code",
   "execution_count": 106,
   "metadata": {},
   "outputs": [
    {
     "name": "stdout",
     "output_type": "stream",
     "text": [
      "Epoch 1/15\n",
      "\u001b[1m19135/45775\u001b[0m \u001b[32m━━━━━━━━\u001b[0m\u001b[37m━━━━━━━━━━━━\u001b[0m \u001b[1m3:50\u001b[0m 9ms/step - loss: 2673164.5000 - mae: 1040.4341"
     ]
    },
    {
     "ename": "KeyboardInterrupt",
     "evalue": "",
     "output_type": "error",
     "traceback": [
      "\u001b[31m---------------------------------------------------------------------------\u001b[39m",
      "\u001b[31mKeyboardInterrupt\u001b[39m                         Traceback (most recent call last)",
      "\u001b[36mCell\u001b[39m\u001b[36m \u001b[39m\u001b[32mIn[106]\u001b[39m\u001b[32m, line 7\u001b[39m\n\u001b[32m      1\u001b[39m \u001b[38;5;66;03m# 15. Compilar el modelo usado:\u001b[39;00m\n\u001b[32m      2\u001b[39m \u001b[38;5;66;03m# - optimizador: adam\u001b[39;00m\n\u001b[32m      3\u001b[39m \u001b[38;5;66;03m# - función de perdida: error médio cuadrático\u001b[39;00m\n\u001b[32m      4\u001b[39m \u001b[38;5;66;03m# - métrica: promedio del error absoluto\u001b[39;00m\n\u001b[32m      6\u001b[39m modelo.compile(optimizer=\u001b[33m'\u001b[39m\u001b[33madam\u001b[39m\u001b[33m'\u001b[39m, loss=\u001b[33m'\u001b[39m\u001b[33mmean_squared_error\u001b[39m\u001b[33m'\u001b[39m, metrics=[\u001b[33m'\u001b[39m\u001b[33mmae\u001b[39m\u001b[33m'\u001b[39m])\n\u001b[32m----> \u001b[39m\u001b[32m7\u001b[39m historial = \u001b[43mmodelo\u001b[49m\u001b[43m.\u001b[49m\u001b[43mfit\u001b[49m\u001b[43m(\u001b[49m\u001b[43mX_train\u001b[49m\u001b[43m,\u001b[49m\u001b[43my_train\u001b[49m\u001b[43m,\u001b[49m\u001b[43m \u001b[49m\u001b[43mvalidation_data\u001b[49m\u001b[43m=\u001b[49m\u001b[43m(\u001b[49m\u001b[43mX_val\u001b[49m\u001b[43m,\u001b[49m\u001b[43my_val\u001b[49m\u001b[43m)\u001b[49m\u001b[43m,\u001b[49m\u001b[43m \u001b[49m\u001b[43mepochs\u001b[49m\u001b[43m=\u001b[49m\u001b[32;43m15\u001b[39;49m\u001b[43m,\u001b[49m\u001b[43mbatch_size\u001b[49m\u001b[43m=\u001b[49m\u001b[32;43m16\u001b[39;49m\u001b[43m)\u001b[49m\n",
      "\u001b[36mFile \u001b[39m\u001b[32m~/venv_dl/lib/python3.12/site-packages/keras/src/utils/traceback_utils.py:117\u001b[39m, in \u001b[36mfilter_traceback.<locals>.error_handler\u001b[39m\u001b[34m(*args, **kwargs)\u001b[39m\n\u001b[32m    115\u001b[39m filtered_tb = \u001b[38;5;28;01mNone\u001b[39;00m\n\u001b[32m    116\u001b[39m \u001b[38;5;28;01mtry\u001b[39;00m:\n\u001b[32m--> \u001b[39m\u001b[32m117\u001b[39m     \u001b[38;5;28;01mreturn\u001b[39;00m \u001b[43mfn\u001b[49m\u001b[43m(\u001b[49m\u001b[43m*\u001b[49m\u001b[43margs\u001b[49m\u001b[43m,\u001b[49m\u001b[43m \u001b[49m\u001b[43m*\u001b[49m\u001b[43m*\u001b[49m\u001b[43mkwargs\u001b[49m\u001b[43m)\u001b[49m\n\u001b[32m    118\u001b[39m \u001b[38;5;28;01mexcept\u001b[39;00m \u001b[38;5;167;01mException\u001b[39;00m \u001b[38;5;28;01mas\u001b[39;00m e:\n\u001b[32m    119\u001b[39m     filtered_tb = _process_traceback_frames(e.__traceback__)\n",
      "\u001b[36mFile \u001b[39m\u001b[32m~/venv_dl/lib/python3.12/site-packages/keras/src/backend/tensorflow/trainer.py:372\u001b[39m, in \u001b[36mTensorFlowTrainer.fit\u001b[39m\u001b[34m(self, x, y, batch_size, epochs, verbose, callbacks, validation_split, validation_data, shuffle, class_weight, sample_weight, initial_epoch, steps_per_epoch, validation_steps, validation_batch_size, validation_freq)\u001b[39m\n\u001b[32m    370\u001b[39m callbacks.on_train_batch_begin(step)\n\u001b[32m    371\u001b[39m logs = \u001b[38;5;28mself\u001b[39m.train_function(iterator)\n\u001b[32m--> \u001b[39m\u001b[32m372\u001b[39m \u001b[43mcallbacks\u001b[49m\u001b[43m.\u001b[49m\u001b[43mon_train_batch_end\u001b[49m\u001b[43m(\u001b[49m\u001b[43mstep\u001b[49m\u001b[43m,\u001b[49m\u001b[43m \u001b[49m\u001b[43mlogs\u001b[49m\u001b[43m)\u001b[49m\n\u001b[32m    373\u001b[39m \u001b[38;5;28;01mif\u001b[39;00m \u001b[38;5;28mself\u001b[39m.stop_training:\n\u001b[32m    374\u001b[39m     \u001b[38;5;28;01mbreak\u001b[39;00m\n",
      "\u001b[36mFile \u001b[39m\u001b[32m~/venv_dl/lib/python3.12/site-packages/keras/src/callbacks/callback_list.py:172\u001b[39m, in \u001b[36mCallbackList.on_train_batch_end\u001b[39m\u001b[34m(self, batch, logs)\u001b[39m\n\u001b[32m    170\u001b[39m     \u001b[38;5;28mself\u001b[39m._async_dispatch(\u001b[38;5;28mself\u001b[39m._on_train_batch_end, batch, logs)\n\u001b[32m    171\u001b[39m \u001b[38;5;28;01melse\u001b[39;00m:\n\u001b[32m--> \u001b[39m\u001b[32m172\u001b[39m     \u001b[38;5;28;43mself\u001b[39;49m\u001b[43m.\u001b[49m\u001b[43m_on_train_batch_end\u001b[49m\u001b[43m(\u001b[49m\u001b[43mbatch\u001b[49m\u001b[43m,\u001b[49m\u001b[43m \u001b[49m\u001b[43mlogs\u001b[49m\u001b[43m)\u001b[49m\n",
      "\u001b[36mFile \u001b[39m\u001b[32m~/venv_dl/lib/python3.12/site-packages/keras/src/callbacks/callback_list.py:194\u001b[39m, in \u001b[36mCallbackList._on_train_batch_end\u001b[39m\u001b[34m(self, batch, logs)\u001b[39m\n\u001b[32m    192\u001b[39m logs = python_utils.pythonify_logs(logs)\n\u001b[32m    193\u001b[39m \u001b[38;5;28;01mfor\u001b[39;00m callback \u001b[38;5;129;01min\u001b[39;00m \u001b[38;5;28mself\u001b[39m.callbacks:\n\u001b[32m--> \u001b[39m\u001b[32m194\u001b[39m     \u001b[43mcallback\u001b[49m\u001b[43m.\u001b[49m\u001b[43mon_train_batch_end\u001b[49m\u001b[43m(\u001b[49m\u001b[43mbatch\u001b[49m\u001b[43m,\u001b[49m\u001b[43m \u001b[49m\u001b[43mlogs\u001b[49m\u001b[43m=\u001b[49m\u001b[43mlogs\u001b[49m\u001b[43m)\u001b[49m\n",
      "\u001b[36mFile \u001b[39m\u001b[32m~/venv_dl/lib/python3.12/site-packages/keras/src/callbacks/progbar_logger.py:58\u001b[39m, in \u001b[36mProgbarLogger.on_train_batch_end\u001b[39m\u001b[34m(self, batch, logs)\u001b[39m\n\u001b[32m     57\u001b[39m \u001b[38;5;28;01mdef\u001b[39;00m\u001b[38;5;250m \u001b[39m\u001b[34mon_train_batch_end\u001b[39m(\u001b[38;5;28mself\u001b[39m, batch, logs=\u001b[38;5;28;01mNone\u001b[39;00m):\n\u001b[32m---> \u001b[39m\u001b[32m58\u001b[39m     \u001b[38;5;28;43mself\u001b[39;49m\u001b[43m.\u001b[49m\u001b[43m_update_progbar\u001b[49m\u001b[43m(\u001b[49m\u001b[43mbatch\u001b[49m\u001b[43m,\u001b[49m\u001b[43m \u001b[49m\u001b[43mlogs\u001b[49m\u001b[43m)\u001b[49m\n",
      "\u001b[36mFile \u001b[39m\u001b[32m~/venv_dl/lib/python3.12/site-packages/keras/src/callbacks/progbar_logger.py:95\u001b[39m, in \u001b[36mProgbarLogger._update_progbar\u001b[39m\u001b[34m(self, batch, logs)\u001b[39m\n\u001b[32m     92\u001b[39m \u001b[38;5;28mself\u001b[39m.seen = batch + \u001b[32m1\u001b[39m  \u001b[38;5;66;03m# One-indexed.\u001b[39;00m\n\u001b[32m     94\u001b[39m \u001b[38;5;28;01mif\u001b[39;00m \u001b[38;5;28mself\u001b[39m.verbose == \u001b[32m1\u001b[39m:\n\u001b[32m---> \u001b[39m\u001b[32m95\u001b[39m     \u001b[38;5;28;43mself\u001b[39;49m\u001b[43m.\u001b[49m\u001b[43mprogbar\u001b[49m\u001b[43m.\u001b[49m\u001b[43mupdate\u001b[49m\u001b[43m(\u001b[49m\u001b[38;5;28;43mself\u001b[39;49m\u001b[43m.\u001b[49m\u001b[43mseen\u001b[49m\u001b[43m,\u001b[49m\u001b[43m \u001b[49m\u001b[38;5;28;43mlist\u001b[39;49m\u001b[43m(\u001b[49m\u001b[43mlogs\u001b[49m\u001b[43m.\u001b[49m\u001b[43mitems\u001b[49m\u001b[43m(\u001b[49m\u001b[43m)\u001b[49m\u001b[43m)\u001b[49m\u001b[43m,\u001b[49m\u001b[43m \u001b[49m\u001b[43mfinalize\u001b[49m\u001b[43m=\u001b[49m\u001b[38;5;28;43;01mFalse\u001b[39;49;00m\u001b[43m)\u001b[49m\n",
      "\u001b[36mFile \u001b[39m\u001b[32m~/venv_dl/lib/python3.12/site-packages/keras/src/utils/progbar.py:182\u001b[39m, in \u001b[36mProgbar.update\u001b[39m\u001b[34m(self, current, values, finalize)\u001b[39m\n\u001b[32m    179\u001b[39m \u001b[38;5;28;01mif\u001b[39;00m finalize:\n\u001b[32m    180\u001b[39m     message += \u001b[33m\"\u001b[39m\u001b[38;5;130;01m\\n\u001b[39;00m\u001b[33m\"\u001b[39m\n\u001b[32m--> \u001b[39m\u001b[32m182\u001b[39m \u001b[43mio_utils\u001b[49m\u001b[43m.\u001b[49m\u001b[43mprint_msg\u001b[49m\u001b[43m(\u001b[49m\u001b[43mmessage\u001b[49m\u001b[43m,\u001b[49m\u001b[43m \u001b[49m\u001b[43mline_break\u001b[49m\u001b[43m=\u001b[49m\u001b[38;5;28;43;01mFalse\u001b[39;49;00m\u001b[43m)\u001b[49m\n\u001b[32m    183\u001b[39m \u001b[38;5;28mself\u001b[39m._prev_total_width = total_width\n\u001b[32m    184\u001b[39m message = \u001b[33m\"\u001b[39m\u001b[33m\"\u001b[39m\n",
      "\u001b[36mFile \u001b[39m\u001b[32m~/venv_dl/lib/python3.12/site-packages/keras/src/utils/io_utils.py:107\u001b[39m, in \u001b[36mprint_msg\u001b[39m\u001b[34m(message, line_break)\u001b[39m\n\u001b[32m    105\u001b[39m         message = message_bytes.decode(sys.stdout.encoding)\n\u001b[32m    106\u001b[39m         sys.stdout.write(message)\n\u001b[32m--> \u001b[39m\u001b[32m107\u001b[39m     \u001b[43msys\u001b[49m\u001b[43m.\u001b[49m\u001b[43mstdout\u001b[49m\u001b[43m.\u001b[49m\u001b[43mflush\u001b[49m\u001b[43m(\u001b[49m\u001b[43m)\u001b[49m\n\u001b[32m    108\u001b[39m \u001b[38;5;28;01melse\u001b[39;00m:\n\u001b[32m    109\u001b[39m     logging.info(message)\n",
      "\u001b[36mFile \u001b[39m\u001b[32m~/venv_dl/lib/python3.12/site-packages/ipykernel/iostream.py:609\u001b[39m, in \u001b[36mOutStream.flush\u001b[39m\u001b[34m(self)\u001b[39m\n\u001b[32m    607\u001b[39m     \u001b[38;5;28mself\u001b[39m.pub_thread.schedule(evt.set)\n\u001b[32m    608\u001b[39m     \u001b[38;5;66;03m# and give a timeout to avoid\u001b[39;00m\n\u001b[32m--> \u001b[39m\u001b[32m609\u001b[39m     \u001b[38;5;28;01mif\u001b[39;00m \u001b[38;5;129;01mnot\u001b[39;00m \u001b[43mevt\u001b[49m\u001b[43m.\u001b[49m\u001b[43mwait\u001b[49m\u001b[43m(\u001b[49m\u001b[38;5;28;43mself\u001b[39;49m\u001b[43m.\u001b[49m\u001b[43mflush_timeout\u001b[49m\u001b[43m)\u001b[49m:\n\u001b[32m    610\u001b[39m         \u001b[38;5;66;03m# write directly to __stderr__ instead of warning because\u001b[39;00m\n\u001b[32m    611\u001b[39m         \u001b[38;5;66;03m# if this is happening sys.stderr may be the problem.\u001b[39;00m\n\u001b[32m    612\u001b[39m         \u001b[38;5;28mprint\u001b[39m(\u001b[33m\"\u001b[39m\u001b[33mIOStream.flush timed out\u001b[39m\u001b[33m\"\u001b[39m, file=sys.__stderr__)\n\u001b[32m    613\u001b[39m \u001b[38;5;28;01melse\u001b[39;00m:\n",
      "\u001b[36mFile \u001b[39m\u001b[32m/usr/lib/python3.12/threading.py:655\u001b[39m, in \u001b[36mEvent.wait\u001b[39m\u001b[34m(self, timeout)\u001b[39m\n\u001b[32m    653\u001b[39m signaled = \u001b[38;5;28mself\u001b[39m._flag\n\u001b[32m    654\u001b[39m \u001b[38;5;28;01mif\u001b[39;00m \u001b[38;5;129;01mnot\u001b[39;00m signaled:\n\u001b[32m--> \u001b[39m\u001b[32m655\u001b[39m     signaled = \u001b[38;5;28;43mself\u001b[39;49m\u001b[43m.\u001b[49m\u001b[43m_cond\u001b[49m\u001b[43m.\u001b[49m\u001b[43mwait\u001b[49m\u001b[43m(\u001b[49m\u001b[43mtimeout\u001b[49m\u001b[43m)\u001b[49m\n\u001b[32m    656\u001b[39m \u001b[38;5;28;01mreturn\u001b[39;00m signaled\n",
      "\u001b[36mFile \u001b[39m\u001b[32m/usr/lib/python3.12/threading.py:359\u001b[39m, in \u001b[36mCondition.wait\u001b[39m\u001b[34m(self, timeout)\u001b[39m\n\u001b[32m    357\u001b[39m \u001b[38;5;28;01melse\u001b[39;00m:\n\u001b[32m    358\u001b[39m     \u001b[38;5;28;01mif\u001b[39;00m timeout > \u001b[32m0\u001b[39m:\n\u001b[32m--> \u001b[39m\u001b[32m359\u001b[39m         gotit = \u001b[43mwaiter\u001b[49m\u001b[43m.\u001b[49m\u001b[43macquire\u001b[49m\u001b[43m(\u001b[49m\u001b[38;5;28;43;01mTrue\u001b[39;49;00m\u001b[43m,\u001b[49m\u001b[43m \u001b[49m\u001b[43mtimeout\u001b[49m\u001b[43m)\u001b[49m\n\u001b[32m    360\u001b[39m     \u001b[38;5;28;01melse\u001b[39;00m:\n\u001b[32m    361\u001b[39m         gotit = waiter.acquire(\u001b[38;5;28;01mFalse\u001b[39;00m)\n",
      "\u001b[31mKeyboardInterrupt\u001b[39m: "
     ]
    }
   ],
   "source": [
    "# 15. Compilar el modelo usado:\n",
    "# - optimizador: adam\n",
    "# - función de perdida: error médio cuadrático\n",
    "# - métrica: promedio del error absoluto\n",
    "\n",
    "modelo.compile(optimizer='adam', loss='mean_squared_error', metrics=['mae'])\n",
    "historial = modelo.fit(X_train,y_train, validation_data=(X_val,y_val), epochs=15,batch_size=16)"
   ]
  },
  {
   "cell_type": "code",
   "execution_count": null,
   "metadata": {
    "colab": {
     "base_uri": "https://localhost:8080/"
    },
    "executionInfo": {
     "elapsed": 2547681,
     "status": "ok",
     "timestamp": 1614764666068,
     "user": {
      "displayName": "Amador Rodríguez Diéguez",
      "photoUrl": "",
      "userId": "06500271424076672652"
     },
     "user_tz": -60
    },
    "id": "Zo5e0spZKOc6",
    "outputId": "e155e2c5-4b46-4f35-a3a8-d00949c84ff7"
   },
   "outputs": [
    {
     "name": "stdout",
     "output_type": "stream",
     "text": [
      "Epoch 1/15\n",
      "45775/45775 [==============================] - 170s 4ms/step - loss: 2075287.7349 - mean_absolute_error: 927.5801 - val_loss: 1485987.1250 - val_mean_absolute_error: 784.1970\n",
      "Epoch 2/15\n",
      "45775/45775 [==============================] - 169s 4ms/step - loss: 1211385.0152 - mean_absolute_error: 735.3630 - val_loss: 1069735.0000 - val_mean_absolute_error: 687.5973\n",
      "Epoch 3/15\n",
      "45775/45775 [==============================] - 171s 4ms/step - loss: 1135274.2480 - mean_absolute_error: 710.9550 - val_loss: 1181392.3750 - val_mean_absolute_error: 713.9583\n",
      "Epoch 4/15\n",
      "45775/45775 [==============================] - 171s 4ms/step - loss: 1093493.1733 - mean_absolute_error: 700.1766 - val_loss: 1020034.3125 - val_mean_absolute_error: 665.8757\n",
      "Epoch 5/15\n",
      "45775/45775 [==============================] - 170s 4ms/step - loss: 1056875.0489 - mean_absolute_error: 686.7417 - val_loss: 1001308.0625 - val_mean_absolute_error: 667.3304\n",
      "Epoch 6/15\n",
      "45775/45775 [==============================] - 170s 4ms/step - loss: 1033581.5260 - mean_absolute_error: 681.0580 - val_loss: 941759.2500 - val_mean_absolute_error: 649.4421\n",
      "Epoch 7/15\n",
      "45775/45775 [==============================] - 169s 4ms/step - loss: 1013408.6252 - mean_absolute_error: 674.1430 - val_loss: 968022.1250 - val_mean_absolute_error: 650.9454\n",
      "Epoch 8/15\n",
      "45775/45775 [==============================] - 169s 4ms/step - loss: 990867.1479 - mean_absolute_error: 667.9730 - val_loss: 1009825.4375 - val_mean_absolute_error: 668.1573\n",
      "Epoch 9/15\n",
      "45775/45775 [==============================] - 169s 4ms/step - loss: 976327.7146 - mean_absolute_error: 663.0736 - val_loss: 1090114.6250 - val_mean_absolute_error: 673.6093\n",
      "Epoch 10/15\n",
      "45775/45775 [==============================] - 170s 4ms/step - loss: 961613.3127 - mean_absolute_error: 657.7904 - val_loss: 932848.5000 - val_mean_absolute_error: 644.1863\n",
      "Epoch 11/15\n",
      "45775/45775 [==============================] - 171s 4ms/step - loss: 950822.1584 - mean_absolute_error: 654.6231 - val_loss: 912203.2500 - val_mean_absolute_error: 640.8217\n",
      "Epoch 12/15\n",
      "45775/45775 [==============================] - 170s 4ms/step - loss: 927626.2762 - mean_absolute_error: 648.4872 - val_loss: 882612.4375 - val_mean_absolute_error: 626.0811\n",
      "Epoch 13/15\n",
      "45775/45775 [==============================] - 169s 4ms/step - loss: 914093.9181 - mean_absolute_error: 642.9473 - val_loss: 868384.8125 - val_mean_absolute_error: 625.5970\n",
      "Epoch 14/15\n",
      "45775/45775 [==============================] - 167s 4ms/step - loss: 900264.2150 - mean_absolute_error: 637.1428 - val_loss: 866309.1875 - val_mean_absolute_error: 623.0812\n",
      "Epoch 15/15\n",
      "45775/45775 [==============================] - 167s 4ms/step - loss: 886545.9254 - mean_absolute_error: 632.7087 - val_loss: 823040.0625 - val_mean_absolute_error: 606.4291\n"
     ]
    }
   ],
   "source": [
    "# 15. Compilar el modelo usado:\n",
    "# - optimizador: adam\n",
    "# - función de perdida: error médio cuadrático\n",
    "# - métrica: promedio del error absoluto\n",
    "\n",
    "\n",
    "# 16.- Entrenar la red usando los datasets de entrenamiento y validación, durante 15 iteraciones (epochs)\n",
    "#      y un lote de 16 ejemplos.\n",
    "historial = modelo.fit(x_entr,y_entr, validation_data=(x_val,y_val), epochs=15,batch_size=16)"
   ]
  },
  {
   "cell_type": "markdown",
   "metadata": {
    "id": "vIxXCwkJKRFC"
   },
   "source": [
    "### Evaluar la red usando los datos de *test*"
   ]
  },
  {
   "cell_type": "code",
   "execution_count": null,
   "metadata": {
    "colab": {
     "base_uri": "https://localhost:8080/"
    },
    "executionInfo": {
     "elapsed": 2561960,
     "status": "ok",
     "timestamp": 1614764680355,
     "user": {
      "displayName": "Amador Rodríguez Diéguez",
      "photoUrl": "",
      "userId": "06500271424076672652"
     },
     "user_tz": -60
    },
    "id": "kbn0mSjTKZBp",
    "outputId": "4f4b7e87-eb70-4097-949a-4d6524b0f056"
   },
   "outputs": [
    {
     "name": "stdout",
     "output_type": "stream",
     "text": [
      "6358/6358 [==============================] - 14s 2ms/step - loss: 825782.3125 - mean_absolute_error: 609.6304\n",
      "Métrica  loss : 825782.31\n",
      "Métrica  mean_absolute_error : 609.63\n"
     ]
    }
   ],
   "source": [
    "# 17.- Evaluar el modelo usando el conjunto de test y mostrar\n"
   ]
  },
  {
   "cell_type": "markdown",
   "metadata": {
    "id": "iVXgTzWjKbQI"
   },
   "source": [
    "### Gráficas de pérdidas en la historia de entrenamiento"
   ]
  },
  {
   "cell_type": "code",
   "execution_count": null,
   "metadata": {
    "colab": {
     "base_uri": "https://localhost:8080/",
     "height": 290
    },
    "executionInfo": {
     "elapsed": 1179,
     "status": "ok",
     "timestamp": 1614764998050,
     "user": {
      "displayName": "Amador Rodríguez Diéguez",
      "photoUrl": "",
      "userId": "06500271424076672652"
     },
     "user_tz": -60
    },
    "id": "lifOqDH89TiG",
    "outputId": "16cfac52-14a2-4d55-e565-1fbfb7a8b6d6"
   },
   "outputs": [
    {
     "data": {
      "image/png": "[encoded data removed]",
      "text/plain": [
       "<Figure size 432x288 with 1 Axes>"
      ]
     },
     "metadata": {
      "needs_background": "light",
      "tags": []
     },
     "output_type": "display_data"
    }
   ],
   "source": [
    "# 18.- Visualización de la historia: pérdidas en entrenamiento y validación\n",
    "\n"
   ]
  },
  {
   "cell_type": "markdown",
   "metadata": {
    "id": "j-6eoVkYV-C0"
   },
   "source": [
    "### Predicción sobre los datos de evaluación (test)"
   ]
  },
  {
   "cell_type": "code",
   "execution_count": null,
   "metadata": {
    "colab": {
     "base_uri": "https://localhost:8080/",
     "height": 520
    },
    "executionInfo": {
     "elapsed": 6833,
     "status": "ok",
     "timestamp": 1614764796048,
     "user": {
      "displayName": "Amador Rodríguez Diéguez",
      "photoUrl": "",
      "userId": "06500271424076672652"
     },
     "user_tz": -60
    },
    "id": "ZLkWP-IHSQaT",
    "outputId": "6fc0e8be-226b-407e-c118-7416ad38c102"
   },
   "outputs": [
    {
     "data": {
      "text/html": [
       "<div>\n",
       "<style scoped>\n",
       "    .dataframe tbody tr th:only-of-type {\n",
       "        vertical-align: middle;\n",
       "    }\n",
       "\n",
       "    .dataframe tbody tr th {\n",
       "        vertical-align: top;\n",
       "    }\n",
       "\n",
       "    .dataframe thead th {\n",
       "        text-align: right;\n",
       "    }\n",
       "</style>\n",
       "<table border=\"1\" class=\"dataframe\">\n",
       "  <thead>\n",
       "    <tr style=\"text-align: right;\">\n",
       "      <th></th>\n",
       "      <th>Ventas</th>\n",
       "      <th>Prediccion</th>\n",
       "    </tr>\n",
       "  </thead>\n",
       "  <tbody>\n",
       "    <tr>\n",
       "      <th>647815</th>\n",
       "      <td>8525</td>\n",
       "      <td>7708.216797</td>\n",
       "    </tr>\n",
       "    <tr>\n",
       "      <th>531526</th>\n",
       "      <td>5888</td>\n",
       "      <td>5343.245605</td>\n",
       "    </tr>\n",
       "    <tr>\n",
       "      <th>325910</th>\n",
       "      <td>0</td>\n",
       "      <td>0.416154</td>\n",
       "    </tr>\n",
       "    <tr>\n",
       "      <th>251929</th>\n",
       "      <td>7569</td>\n",
       "      <td>7887.126465</td>\n",
       "    </tr>\n",
       "    <tr>\n",
       "      <th>518525</th>\n",
       "      <td>4828</td>\n",
       "      <td>5359.786621</td>\n",
       "    </tr>\n",
       "    <tr>\n",
       "      <th>532594</th>\n",
       "      <td>5339</td>\n",
       "      <td>6007.212891</td>\n",
       "    </tr>\n",
       "    <tr>\n",
       "      <th>508691</th>\n",
       "      <td>2502</td>\n",
       "      <td>3118.690186</td>\n",
       "    </tr>\n",
       "    <tr>\n",
       "      <th>939654</th>\n",
       "      <td>8377</td>\n",
       "      <td>7798.310059</td>\n",
       "    </tr>\n",
       "    <tr>\n",
       "      <th>302974</th>\n",
       "      <td>13402</td>\n",
       "      <td>14376.632812</td>\n",
       "    </tr>\n",
       "    <tr>\n",
       "      <th>738619</th>\n",
       "      <td>3305</td>\n",
       "      <td>4177.998047</td>\n",
       "    </tr>\n",
       "    <tr>\n",
       "      <th>636128</th>\n",
       "      <td>12385</td>\n",
       "      <td>12495.728516</td>\n",
       "    </tr>\n",
       "    <tr>\n",
       "      <th>902240</th>\n",
       "      <td>10260</td>\n",
       "      <td>9407.184570</td>\n",
       "    </tr>\n",
       "    <tr>\n",
       "      <th>24229</th>\n",
       "      <td>7436</td>\n",
       "      <td>6192.207520</td>\n",
       "    </tr>\n",
       "    <tr>\n",
       "      <th>719820</th>\n",
       "      <td>5651</td>\n",
       "      <td>5629.889648</td>\n",
       "    </tr>\n",
       "    <tr>\n",
       "      <th>503066</th>\n",
       "      <td>4093</td>\n",
       "      <td>4412.112305</td>\n",
       "    </tr>\n",
       "  </tbody>\n",
       "</table>\n",
       "</div>"
      ],
      "text/plain": [
       "        Ventas    Prediccion\n",
       "647815    8525   7708.216797\n",
       "531526    5888   5343.245605\n",
       "325910       0      0.416154\n",
       "251929    7569   7887.126465\n",
       "518525    4828   5359.786621\n",
       "532594    5339   6007.212891\n",
       "508691    2502   3118.690186\n",
       "939654    8377   7798.310059\n",
       "302974   13402  14376.632812\n",
       "738619    3305   4177.998047\n",
       "636128   12385  12495.728516\n",
       "902240   10260   9407.184570\n",
       "24229     7436   6192.207520\n",
       "719820    5651   5629.889648\n",
       "503066    4093   4412.112305"
      ]
     },
     "execution_count": 37,
     "metadata": {
      "tags": []
     },
     "output_type": "execute_result"
    }
   ],
   "source": [
    "# 19.- Uso del método 'predict' sobre los datos de test\n",
    "\n",
    "# 20.- Mostrar las ventas reales y las predichas de las 15 primeras filas del conjunto de test\n"
   ]
  },
  {
   "cell_type": "code",
   "execution_count": null,
   "metadata": {
    "colab": {
     "base_uri": "https://localhost:8080/"
    },
    "executionInfo": {
     "elapsed": 889,
     "status": "ok",
     "timestamp": 1614764847057,
     "user": {
      "displayName": "Amador Rodríguez Diéguez",
      "photoUrl": "",
      "userId": "06500271424076672652"
     },
     "user_tz": -60
    },
    "id": "EPN8rv2GWQls",
    "outputId": "2844c828-15e7-49ea-8a95-0970452ff260"
   },
   "outputs": [
    {
     "name": "stdout",
     "output_type": "stream",
     "text": [
      "Error cuadrático medio (MSE): 825781.3036572566\n",
      "Error medio absoluto (MAE): 609.6301651128529\n"
     ]
    }
   ],
   "source": [
    "# 21.- Cálculo del error cuadrático medio sobre los valores de la predicción:\n",
    "#      Usar la función de sklearn 'mean_squared_error'\n",
    "\n",
    "\n",
    "# 22.- Cálculo del promedio del error absoluto sobre los valores de la predicción:\n",
    "#      Usar la función de sklearn 'mean_absolute_error'\n"
   ]
  }
 ],
 "metadata": {
  "accelerator": "GPU",
  "colab": {
   "provenance": []
  },
  "kernelspec": {
   "display_name": "venv_dl",
   "language": "python",
   "name": "python3"
  },
  "language_info": {
   "codemirror_mode": {
    "name": "ipython",
    "version": 3
   },
   "file_extension": ".py",
   "mimetype": "text/x-python",
   "name": "python",
   "nbconvert_exporter": "python",
   "pygments_lexer": "ipython3",
   "version": "3.12.7"
  }
 },
 "nbformat": 4,
 "nbformat_minor": 0
}
