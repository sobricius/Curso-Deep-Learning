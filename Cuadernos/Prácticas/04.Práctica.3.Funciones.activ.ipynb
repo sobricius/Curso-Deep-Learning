{
  "nbformat": 4,
  "nbformat_minor": 0,
  "metadata": {
    "colab": {
      "provenance": []
    },
    "kernelspec": {
      "name": "python3",
      "display_name": "Python 3"
    },
    "accelerator": "GPU"
  },
  "cells": [
    {
      "cell_type": "markdown",
      "metadata": {
        "id": "ZESgdcC6oB2b"
      },
      "source": [
        "# Práctica de Funciones de Activación"
      ]
    },
    {
      "cell_type": "markdown",
      "metadata": {
        "id": "EpTzIUzOhru1"
      },
      "source": [
        "### Importaciones"
      ]
    },
    {
      "cell_type": "code",
      "metadata": {
        "id": "LzIitnmuht8t"
      },
      "source": [
        "import matplotlib\n",
        "%matplotlib inline\n",
        "import matplotlib.pyplot as plt\n",
        "import keras\n",
        "from keras.datasets import mnist\n",
        "from keras.models import Sequential\n",
        "from keras.layers import Dense, Dropout\n",
        "from keras.optimizers import RMSprop"
      ],
      "execution_count": null,
      "outputs": []
    },
    {
      "cell_type": "markdown",
      "metadata": {
        "id": "eCUOXki2huft"
      },
      "source": [
        "### Carga de la información"
      ]
    },
    {
      "cell_type": "code",
      "metadata": {
        "id": "DykO3LS2hu20",
        "colab": {
          "base_uri": "https://localhost:8080/"
        },
        "outputId": "82345112-af34-4391-c245-a3a74f657b97"
      },
      "source": [
        "# 1.- Carga del dataset MNIST proporcionado por Keras: conjuntos de entrenamiento y validación\n",
        "#     Usar keras.datasets.mnist.load_data()\n"
      ],
      "execution_count": null,
      "outputs": [
        {
          "output_type": "stream",
          "text": [
            "Downloading data from https://storage.googleapis.com/tensorflow/tf-keras-datasets/mnist.npz\n",
            "11493376/11490434 [==============================] - 0s 0us/step\n"
          ],
          "name": "stdout"
        }
      ]
    },
    {
      "cell_type": "markdown",
      "metadata": {
        "id": "8BZ0ZDdwh6QE"
      },
      "source": [
        "### Preparación de datos"
      ]
    },
    {
      "cell_type": "code",
      "metadata": {
        "colab": {
          "base_uri": "https://localhost:8080/"
        },
        "id": "hY7h87Ynh6A1",
        "outputId": "a6ea12c9-558a-4963-f518-8a643a3b9f42"
      },
      "source": [
        "# 2.- Aplanar las imágenes con reshape: entrenamiento: 60000 filas x 784 columnas\n",
        "#                                       validación:    10000 filas x 784 columnas\n",
        "x_entr =          # entrenamiento\n",
        "x_val  =          # validación\n",
        "\n",
        "# 3.- Convertir las entradas en formato 'float32'\n",
        "x_entr =          # entrenamiento\n",
        "x_val  =          # validación\n",
        "\n",
        "# 4- Normalizar los valores de las entradas dividiéndolas por 255\n",
        "x_entr =          # entrenamiento\n",
        "x_val  =          # validación\n",
        "\n",
        "# 5.- Obtener la salida con codificación categórica (one-hot encoder)\n",
        "#     Usar keras.utils.to_categorical\n",
        "y_entr =          # entrenamiento\n",
        "y_val  =          # validación\n",
        "\n",
        "# 6.- Mostrar las dimensiones de las entradas (entrenamiento y validación)\n",
        "\n"
      ],
      "execution_count": null,
      "outputs": [
        {
          "output_type": "stream",
          "text": [
            "Dimensiones entradas de entrenamiento: 60000\n",
            "Dimensiones entradas de validación: 10000\n"
          ],
          "name": "stdout"
        }
      ]
    },
    {
      "cell_type": "markdown",
      "metadata": {
        "id": "ujt7WCW6i09D"
      },
      "source": [
        "### Función de construcción y compilación del modelo:\n",
        "\n",
        "- Capa densa de entrada de 512 unidades\n",
        "- Capa densa de salida con activación softmax"
      ]
    },
    {
      "cell_type": "code",
      "metadata": {
        "id": "D_R20GE5i0sr"
      },
      "source": [
        "# 7.- La función de activación recibida por argumento: crea y compila\n",
        "def creaModelo ( ¿? ):\n",
        "  modelo = ...\n",
        "\n",
        "\n",
        "  # 8.- Compilación:\n",
        "  #        - optimizador: RMSprop\n",
        "  #        - métrica: Exactitud (accuracy)\n",
        "  #        - función de pérdidas: deducirla\n",
        "  modelo.compile( ¿? )\n",
        "\n",
        "  return modelo\n",
        ""
      ],
      "execution_count": null,
      "outputs": []
    },
    {
      "cell_type": "markdown",
      "metadata": {
        "id": "D94QRy3Ljeei"
      },
      "source": [
        "### Bucle de creación y entrenamiento: una por cada activación. Guardar historiales en lista para visualización posterior.\n",
        "\n",
        "Probar funciones de activación: sigmoide, tanh, relu, selu"
      ]
    },
    {
      "cell_type": "code",
      "metadata": {
        "colab": {
          "base_uri": "https://localhost:8080/"
        },
        "id": "fOf2oqQvjfDC",
        "outputId": "76e31bf3-b885-4c11-8bf9-3c52d71e4690"
      },
      "source": [
        "# 9.- Bucle de entrenamiento: en cada iteración una de las siguientes funciones de activación:\n",
        "#                             'relu', 'sigmoid', 'tanh', 'selu'\n",
        "#     El entrenamiento será de 10 epochs con un tamaño de lote de 128. Utilizará el conjunto de dato de validación.\n",
        "#     La historia devuelta por cada entrenamiento se añade a una lista para luego poder hacer las gráficas de todas\n",
        "\n",
        "activaciones = ['relu', 'sigmoid', 'tanh', 'selu']\n",
        "\n",
        "\n"
      ],
      "execution_count": null,
      "outputs": [
        {
          "output_type": "stream",
          "text": [
            "Epoch 1/10\n",
            "469/469 [==============================] - 4s 4ms/step - loss: 0.4253 - accuracy: 0.8761 - val_loss: 0.1352 - val_accuracy: 0.9582\n",
            "Epoch 2/10\n",
            "469/469 [==============================] - 1s 3ms/step - loss: 0.1124 - accuracy: 0.9672 - val_loss: 0.0959 - val_accuracy: 0.9725\n",
            "Epoch 3/10\n",
            "469/469 [==============================] - 1s 3ms/step - loss: 0.0692 - accuracy: 0.9792 - val_loss: 0.0779 - val_accuracy: 0.9768\n",
            "Epoch 4/10\n",
            "469/469 [==============================] - 2s 3ms/step - loss: 0.0504 - accuracy: 0.9858 - val_loss: 0.0756 - val_accuracy: 0.9777\n",
            "Epoch 5/10\n",
            "469/469 [==============================] - 2s 3ms/step - loss: 0.0365 - accuracy: 0.9892 - val_loss: 0.0686 - val_accuracy: 0.9804\n",
            "Epoch 6/10\n",
            "469/469 [==============================] - 1s 3ms/step - loss: 0.0272 - accuracy: 0.9918 - val_loss: 0.0720 - val_accuracy: 0.9790\n",
            "Epoch 7/10\n",
            "469/469 [==============================] - 1s 3ms/step - loss: 0.0192 - accuracy: 0.9943 - val_loss: 0.0669 - val_accuracy: 0.9822\n",
            "Epoch 8/10\n",
            "469/469 [==============================] - 2s 3ms/step - loss: 0.0164 - accuracy: 0.9956 - val_loss: 0.0625 - val_accuracy: 0.9826\n",
            "Epoch 9/10\n",
            "469/469 [==============================] - 1s 3ms/step - loss: 0.0114 - accuracy: 0.9969 - val_loss: 0.0689 - val_accuracy: 0.9819\n",
            "Epoch 10/10\n",
            "469/469 [==============================] - 2s 3ms/step - loss: 0.0095 - accuracy: 0.9977 - val_loss: 0.0711 - val_accuracy: 0.9814\n",
            "Epoch 1/10\n",
            "469/469 [==============================] - 2s 4ms/step - loss: 0.6720 - accuracy: 0.8240 - val_loss: 0.2622 - val_accuracy: 0.9250\n",
            "Epoch 2/10\n",
            "469/469 [==============================] - 2s 3ms/step - loss: 0.2497 - accuracy: 0.9271 - val_loss: 0.1997 - val_accuracy: 0.9406\n",
            "Epoch 3/10\n",
            "469/469 [==============================] - 2s 3ms/step - loss: 0.1869 - accuracy: 0.9460 - val_loss: 0.1510 - val_accuracy: 0.9540\n",
            "Epoch 4/10\n",
            "469/469 [==============================] - 1s 3ms/step - loss: 0.1489 - accuracy: 0.9568 - val_loss: 0.1294 - val_accuracy: 0.9610\n",
            "Epoch 5/10\n",
            "469/469 [==============================] - 2s 3ms/step - loss: 0.1152 - accuracy: 0.9668 - val_loss: 0.1108 - val_accuracy: 0.9664\n",
            "Epoch 6/10\n",
            "469/469 [==============================] - 1s 3ms/step - loss: 0.0965 - accuracy: 0.9721 - val_loss: 0.1028 - val_accuracy: 0.9695\n",
            "Epoch 7/10\n",
            "469/469 [==============================] - 1s 3ms/step - loss: 0.0764 - accuracy: 0.9775 - val_loss: 0.0890 - val_accuracy: 0.9728\n",
            "Epoch 8/10\n",
            "469/469 [==============================] - 1s 3ms/step - loss: 0.0678 - accuracy: 0.9802 - val_loss: 0.0859 - val_accuracy: 0.9730\n",
            "Epoch 9/10\n",
            "469/469 [==============================] - 2s 3ms/step - loss: 0.0577 - accuracy: 0.9828 - val_loss: 0.0791 - val_accuracy: 0.9761\n",
            "Epoch 10/10\n",
            "469/469 [==============================] - 2s 3ms/step - loss: 0.0483 - accuracy: 0.9867 - val_loss: 0.0730 - val_accuracy: 0.9787\n",
            "Epoch 1/10\n",
            "469/469 [==============================] - 2s 4ms/step - loss: 0.4832 - accuracy: 0.8522 - val_loss: 0.2008 - val_accuracy: 0.9415\n",
            "Epoch 2/10\n",
            "469/469 [==============================] - 1s 3ms/step - loss: 0.1885 - accuracy: 0.9443 - val_loss: 0.1427 - val_accuracy: 0.9570\n",
            "Epoch 3/10\n",
            "469/469 [==============================] - 2s 3ms/step - loss: 0.1238 - accuracy: 0.9633 - val_loss: 0.1076 - val_accuracy: 0.9680\n",
            "Epoch 4/10\n",
            "469/469 [==============================] - 2s 3ms/step - loss: 0.0892 - accuracy: 0.9731 - val_loss: 0.0896 - val_accuracy: 0.9724\n",
            "Epoch 5/10\n",
            "469/469 [==============================] - 2s 3ms/step - loss: 0.0662 - accuracy: 0.9806 - val_loss: 0.0750 - val_accuracy: 0.9762\n",
            "Epoch 6/10\n",
            "469/469 [==============================] - 2s 3ms/step - loss: 0.0518 - accuracy: 0.9843 - val_loss: 0.0756 - val_accuracy: 0.9755\n",
            "Epoch 7/10\n",
            "469/469 [==============================] - 2s 3ms/step - loss: 0.0381 - accuracy: 0.9889 - val_loss: 0.0712 - val_accuracy: 0.9774\n",
            "Epoch 8/10\n",
            "469/469 [==============================] - 2s 3ms/step - loss: 0.0308 - accuracy: 0.9916 - val_loss: 0.0666 - val_accuracy: 0.9791\n",
            "Epoch 9/10\n",
            "469/469 [==============================] - 1s 3ms/step - loss: 0.0240 - accuracy: 0.9935 - val_loss: 0.0612 - val_accuracy: 0.9812\n",
            "Epoch 10/10\n",
            "469/469 [==============================] - 1s 3ms/step - loss: 0.0190 - accuracy: 0.9947 - val_loss: 0.0636 - val_accuracy: 0.9793\n",
            "Epoch 1/10\n",
            "469/469 [==============================] - 2s 3ms/step - loss: 0.5394 - accuracy: 0.8418 - val_loss: 0.3579 - val_accuracy: 0.8927\n",
            "Epoch 2/10\n",
            "469/469 [==============================] - 2s 3ms/step - loss: 0.2432 - accuracy: 0.9286 - val_loss: 0.1885 - val_accuracy: 0.9455\n",
            "Epoch 3/10\n",
            "469/469 [==============================] - 2s 3ms/step - loss: 0.1700 - accuracy: 0.9512 - val_loss: 0.1482 - val_accuracy: 0.9554\n",
            "Epoch 4/10\n",
            "469/469 [==============================] - 1s 3ms/step - loss: 0.1258 - accuracy: 0.9628 - val_loss: 0.1164 - val_accuracy: 0.9666\n",
            "Epoch 5/10\n",
            "469/469 [==============================] - 1s 3ms/step - loss: 0.0997 - accuracy: 0.9699 - val_loss: 0.1008 - val_accuracy: 0.9702\n",
            "Epoch 6/10\n",
            "469/469 [==============================] - 1s 3ms/step - loss: 0.0750 - accuracy: 0.9778 - val_loss: 0.0856 - val_accuracy: 0.9750\n",
            "Epoch 7/10\n",
            "469/469 [==============================] - 2s 3ms/step - loss: 0.0640 - accuracy: 0.9795 - val_loss: 0.0839 - val_accuracy: 0.9747\n",
            "Epoch 8/10\n",
            "469/469 [==============================] - 2s 3ms/step - loss: 0.0541 - accuracy: 0.9836 - val_loss: 0.0800 - val_accuracy: 0.9764\n",
            "Epoch 9/10\n",
            "469/469 [==============================] - 1s 3ms/step - loss: 0.0485 - accuracy: 0.9850 - val_loss: 0.0758 - val_accuracy: 0.9783\n",
            "Epoch 10/10\n",
            "469/469 [==============================] - 2s 3ms/step - loss: 0.0402 - accuracy: 0.9875 - val_loss: 0.0716 - val_accuracy: 0.9797\n"
          ],
          "name": "stdout"
        }
      ]
    },
    {
      "cell_type": "markdown",
      "metadata": {
        "id": "izmOi1eFkLnK"
      },
      "source": [
        "### Bucle de gráficas de historiales"
      ]
    },
    {
      "cell_type": "code",
      "metadata": {
        "id": "A-U-1NoDoKFh",
        "colab": {
          "base_uri": "https://localhost:8080/",
          "height": 470
        },
        "outputId": "5c99549b-aece-4d48-ba3f-d2e7777bd503"
      },
      "source": [
        "# 10.- Gráfica de exactitud ('accuracy')en validación (no entrenamiento) de cada entrenamiento superpuestas.\n",
        "\n",
        "\n",
        "\n"
      ],
      "execution_count": null,
      "outputs": [
        {
          "output_type": "display_data",
          "data": {
            "image/png": "[encoded data removed]",
            "text/plain": [
              "<Figure size 691.2x518.4 with 1 Axes>"
            ]
          },
          "metadata": {
            "tags": [],
            "needs_background": "light"
          }
        }
      ]
    }
  ]
}