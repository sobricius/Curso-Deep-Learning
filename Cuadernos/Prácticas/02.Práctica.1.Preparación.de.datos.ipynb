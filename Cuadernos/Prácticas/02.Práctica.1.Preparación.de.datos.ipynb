{
 "cells": [
  {
   "cell_type": "markdown",
   "metadata": {
    "id": "t3wQoAjmERnH"
   },
   "source": [
    "## Preparación de datos"
   ]
  },
  {
   "cell_type": "markdown",
   "metadata": {
    "id": "TuY9Co_4EfWN"
   },
   "source": [
    "### Importaciones"
   ]
  },
  {
   "cell_type": "code",
   "execution_count": 3,
   "metadata": {
    "id": "4BizLLxtDzZO"
   },
   "outputs": [],
   "source": [
    "import pandas as pd\n",
    "import matplotlib.pyplot as plt\n",
    "from matplotlib.cbook import boxplot_stats  \n",
    "import seaborn as sns\n",
    "import numpy as np\n",
    "import numpy.random as nr\n",
    "import math\n",
    "\n",
    "%matplotlib inline"
   ]
  },
  {
   "cell_type": "markdown",
   "metadata": {
    "id": "iwyHd_4BDzZN"
   },
   "source": [
    "### Carga del dataset\n",
    "\n",
    "Leer en un dataframe de pandas el dataset contenido en el fichero **Automobile_price.csv** y Muestra las primeras 10 líneas.\n",
    "#### Función `read_csv()`\n",
    "\n",
    "La función `read_csv()` de pandas se utiliza para leer un archivo CSV y cargarlo en un DataFrame. Permite especificar varios parámetros, como el delimitador, la codificación y si hay encabezados en el archivo.\n",
    "\n",
    "```python\n",
    "df = pd.read_csv('nombre_del_archivo.csv')\n",
    "```\n",
    "\n",
    "#### Función `head()`\n",
    "\n",
    "El método `head()` se utiliza para mostrar las primeras filas de un DataFrame. Por defecto, devuelve las primeras 5 filas, pero puedes especificar un número diferente como argumento.\n",
    "\n",
    "```python\n",
    "df.head(n)  # donde n es el número de filas que deseas mostrar\n",
    "```\n",
    "```"
   ]
  },
  {
   "cell_type": "code",
   "execution_count": 4,
   "metadata": {},
   "outputs": [
    {
     "data": {
      "text/html": [
       "<div>\n",
       "<style scoped>\n",
       "    .dataframe tbody tr th:only-of-type {\n",
       "        vertical-align: middle;\n",
       "    }\n",
       "\n",
       "    .dataframe tbody tr th {\n",
       "        vertical-align: top;\n",
       "    }\n",
       "\n",
       "    .dataframe thead th {\n",
       "        text-align: right;\n",
       "    }\n",
       "</style>\n",
       "<table border=\"1\" class=\"dataframe\">\n",
       "  <thead>\n",
       "    <tr style=\"text-align: right;\">\n",
       "      <th></th>\n",
       "      <th>symboling</th>\n",
       "      <th>normalized-losses</th>\n",
       "      <th>make</th>\n",
       "      <th>fuel-type</th>\n",
       "      <th>aspiration</th>\n",
       "      <th>num-of-doors</th>\n",
       "      <th>body-style</th>\n",
       "      <th>drive-wheels</th>\n",
       "      <th>engine-location</th>\n",
       "      <th>wheel-base</th>\n",
       "      <th>...</th>\n",
       "      <th>engine-size</th>\n",
       "      <th>fuel-system</th>\n",
       "      <th>bore</th>\n",
       "      <th>stroke</th>\n",
       "      <th>compression-ratio</th>\n",
       "      <th>horsepower</th>\n",
       "      <th>peak-rpm</th>\n",
       "      <th>city-mpg</th>\n",
       "      <th>highway-mpg</th>\n",
       "      <th>price</th>\n",
       "    </tr>\n",
       "  </thead>\n",
       "  <tbody>\n",
       "    <tr>\n",
       "      <th>0</th>\n",
       "      <td>3</td>\n",
       "      <td>?</td>\n",
       "      <td>alfa-romero</td>\n",
       "      <td>gas</td>\n",
       "      <td>std</td>\n",
       "      <td>two</td>\n",
       "      <td>convertible</td>\n",
       "      <td>rwd</td>\n",
       "      <td>front</td>\n",
       "      <td>8860</td>\n",
       "      <td>...</td>\n",
       "      <td>130</td>\n",
       "      <td>mpfi</td>\n",
       "      <td>3.47</td>\n",
       "      <td>2.68</td>\n",
       "      <td>900</td>\n",
       "      <td>111</td>\n",
       "      <td>5000</td>\n",
       "      <td>21</td>\n",
       "      <td>27</td>\n",
       "      <td>12495€</td>\n",
       "    </tr>\n",
       "    <tr>\n",
       "      <th>1</th>\n",
       "      <td>3</td>\n",
       "      <td>?</td>\n",
       "      <td>alfa-romero</td>\n",
       "      <td>gas</td>\n",
       "      <td>std</td>\n",
       "      <td>two</td>\n",
       "      <td>convertible</td>\n",
       "      <td>rwd</td>\n",
       "      <td>front</td>\n",
       "      <td>8860</td>\n",
       "      <td>...</td>\n",
       "      <td>130</td>\n",
       "      <td>mpfi</td>\n",
       "      <td>3.47</td>\n",
       "      <td>2.68</td>\n",
       "      <td>900</td>\n",
       "      <td>111</td>\n",
       "      <td>5000</td>\n",
       "      <td>21</td>\n",
       "      <td>27</td>\n",
       "      <td>15278€</td>\n",
       "    </tr>\n",
       "    <tr>\n",
       "      <th>2</th>\n",
       "      <td>1</td>\n",
       "      <td>?</td>\n",
       "      <td>alfa-romero</td>\n",
       "      <td>gas</td>\n",
       "      <td>std</td>\n",
       "      <td>two</td>\n",
       "      <td>hatchback</td>\n",
       "      <td>rwd</td>\n",
       "      <td>front</td>\n",
       "      <td>9450</td>\n",
       "      <td>...</td>\n",
       "      <td>152</td>\n",
       "      <td>mpfi</td>\n",
       "      <td>2.68</td>\n",
       "      <td>3.47</td>\n",
       "      <td>900</td>\n",
       "      <td>154</td>\n",
       "      <td>5000</td>\n",
       "      <td>19</td>\n",
       "      <td>26</td>\n",
       "      <td>15278€</td>\n",
       "    </tr>\n",
       "    <tr>\n",
       "      <th>3</th>\n",
       "      <td>2</td>\n",
       "      <td>164</td>\n",
       "      <td>audi</td>\n",
       "      <td>gas</td>\n",
       "      <td>std</td>\n",
       "      <td>four</td>\n",
       "      <td>sedan</td>\n",
       "      <td>fwd</td>\n",
       "      <td>front</td>\n",
       "      <td>9980</td>\n",
       "      <td>...</td>\n",
       "      <td>109</td>\n",
       "      <td>mpfi</td>\n",
       "      <td>3.19</td>\n",
       "      <td>3.40</td>\n",
       "      <td>1000</td>\n",
       "      <td>102</td>\n",
       "      <td>5500</td>\n",
       "      <td>24</td>\n",
       "      <td>30</td>\n",
       "      <td>12917€</td>\n",
       "    </tr>\n",
       "    <tr>\n",
       "      <th>4</th>\n",
       "      <td>2</td>\n",
       "      <td>164</td>\n",
       "      <td>audi</td>\n",
       "      <td>gas</td>\n",
       "      <td>std</td>\n",
       "      <td>four</td>\n",
       "      <td>sedan</td>\n",
       "      <td>4wd</td>\n",
       "      <td>front</td>\n",
       "      <td>9940</td>\n",
       "      <td>...</td>\n",
       "      <td>136</td>\n",
       "      <td>mpfi</td>\n",
       "      <td>3.19</td>\n",
       "      <td>3.40</td>\n",
       "      <td>800</td>\n",
       "      <td>115</td>\n",
       "      <td>5500</td>\n",
       "      <td>18</td>\n",
       "      <td>22</td>\n",
       "      <td>16157€</td>\n",
       "    </tr>\n",
       "    <tr>\n",
       "      <th>5</th>\n",
       "      <td>2</td>\n",
       "      <td>?</td>\n",
       "      <td>audi</td>\n",
       "      <td>gas</td>\n",
       "      <td>std</td>\n",
       "      <td>two</td>\n",
       "      <td>sedan</td>\n",
       "      <td>fwd</td>\n",
       "      <td>front</td>\n",
       "      <td>9980</td>\n",
       "      <td>...</td>\n",
       "      <td>136</td>\n",
       "      <td>mpfi</td>\n",
       "      <td>3.19</td>\n",
       "      <td>3.40</td>\n",
       "      <td>850</td>\n",
       "      <td>110</td>\n",
       "      <td>5500</td>\n",
       "      <td>19</td>\n",
       "      <td>25</td>\n",
       "      <td>14120€</td>\n",
       "    </tr>\n",
       "    <tr>\n",
       "      <th>6</th>\n",
       "      <td>1</td>\n",
       "      <td>158</td>\n",
       "      <td>audi</td>\n",
       "      <td>gas</td>\n",
       "      <td>std</td>\n",
       "      <td>four</td>\n",
       "      <td>sedan</td>\n",
       "      <td>fwd</td>\n",
       "      <td>front</td>\n",
       "      <td>10580</td>\n",
       "      <td>...</td>\n",
       "      <td>136</td>\n",
       "      <td>mpfi</td>\n",
       "      <td>3.19</td>\n",
       "      <td>3.40</td>\n",
       "      <td>850</td>\n",
       "      <td>110</td>\n",
       "      <td>5500</td>\n",
       "      <td>19</td>\n",
       "      <td>25</td>\n",
       "      <td>16398€</td>\n",
       "    </tr>\n",
       "    <tr>\n",
       "      <th>7</th>\n",
       "      <td>1</td>\n",
       "      <td>?</td>\n",
       "      <td>audi</td>\n",
       "      <td>gas</td>\n",
       "      <td>std</td>\n",
       "      <td>four</td>\n",
       "      <td>wagon</td>\n",
       "      <td>fwd</td>\n",
       "      <td>front</td>\n",
       "      <td>10580</td>\n",
       "      <td>...</td>\n",
       "      <td>136</td>\n",
       "      <td>mpfi</td>\n",
       "      <td>3.19</td>\n",
       "      <td>3.40</td>\n",
       "      <td>850</td>\n",
       "      <td>110</td>\n",
       "      <td>5500</td>\n",
       "      <td>19</td>\n",
       "      <td>25</td>\n",
       "      <td>17519€</td>\n",
       "    </tr>\n",
       "    <tr>\n",
       "      <th>8</th>\n",
       "      <td>1</td>\n",
       "      <td>158</td>\n",
       "      <td>audi</td>\n",
       "      <td>gas</td>\n",
       "      <td>turbo</td>\n",
       "      <td>four</td>\n",
       "      <td>sedan</td>\n",
       "      <td>fwd</td>\n",
       "      <td>front</td>\n",
       "      <td>10580</td>\n",
       "      <td>...</td>\n",
       "      <td>131</td>\n",
       "      <td>mpfi</td>\n",
       "      <td>3.13</td>\n",
       "      <td>3.40</td>\n",
       "      <td>830</td>\n",
       "      <td>140</td>\n",
       "      <td>5500</td>\n",
       "      <td>17</td>\n",
       "      <td>20</td>\n",
       "      <td>22106€</td>\n",
       "    </tr>\n",
       "    <tr>\n",
       "      <th>9</th>\n",
       "      <td>0</td>\n",
       "      <td>?</td>\n",
       "      <td>audi</td>\n",
       "      <td>gas</td>\n",
       "      <td>turbo</td>\n",
       "      <td>two</td>\n",
       "      <td>hatchback</td>\n",
       "      <td>4wd</td>\n",
       "      <td>front</td>\n",
       "      <td>9950</td>\n",
       "      <td>...</td>\n",
       "      <td>131</td>\n",
       "      <td>mpfi</td>\n",
       "      <td>3.13</td>\n",
       "      <td>3.40</td>\n",
       "      <td>700</td>\n",
       "      <td>160</td>\n",
       "      <td>5500</td>\n",
       "      <td>16</td>\n",
       "      <td>22</td>\n",
       "      <td>?</td>\n",
       "    </tr>\n",
       "  </tbody>\n",
       "</table>\n",
       "<p>10 rows × 26 columns</p>\n",
       "</div>"
      ],
      "text/plain": [
       "   symboling normalized-losses         make fuel-type aspiration num-of-doors  \\\n",
       "0          3                 ?  alfa-romero       gas        std          two   \n",
       "1          3                 ?  alfa-romero       gas        std          two   \n",
       "2          1                 ?  alfa-romero       gas        std          two   \n",
       "3          2               164         audi       gas        std         four   \n",
       "4          2               164         audi       gas        std         four   \n",
       "5          2                 ?         audi       gas        std          two   \n",
       "6          1               158         audi       gas        std         four   \n",
       "7          1                 ?         audi       gas        std         four   \n",
       "8          1               158         audi       gas      turbo         four   \n",
       "9          0                 ?         audi       gas      turbo          two   \n",
       "\n",
       "    body-style drive-wheels engine-location  wheel-base  ...  engine-size  \\\n",
       "0  convertible          rwd           front        8860  ...          130   \n",
       "1  convertible          rwd           front        8860  ...          130   \n",
       "2    hatchback          rwd           front        9450  ...          152   \n",
       "3        sedan          fwd           front        9980  ...          109   \n",
       "4        sedan          4wd           front        9940  ...          136   \n",
       "5        sedan          fwd           front        9980  ...          136   \n",
       "6        sedan          fwd           front       10580  ...          136   \n",
       "7        wagon          fwd           front       10580  ...          136   \n",
       "8        sedan          fwd           front       10580  ...          131   \n",
       "9    hatchback          4wd           front        9950  ...          131   \n",
       "\n",
       "   fuel-system  bore  stroke compression-ratio horsepower  peak-rpm city-mpg  \\\n",
       "0         mpfi  3.47    2.68               900        111      5000       21   \n",
       "1         mpfi  3.47    2.68               900        111      5000       21   \n",
       "2         mpfi  2.68    3.47               900        154      5000       19   \n",
       "3         mpfi  3.19    3.40              1000        102      5500       24   \n",
       "4         mpfi  3.19    3.40               800        115      5500       18   \n",
       "5         mpfi  3.19    3.40               850        110      5500       19   \n",
       "6         mpfi  3.19    3.40               850        110      5500       19   \n",
       "7         mpfi  3.19    3.40               850        110      5500       19   \n",
       "8         mpfi  3.13    3.40               830        140      5500       17   \n",
       "9         mpfi  3.13    3.40               700        160      5500       16   \n",
       "\n",
       "  highway-mpg   price  \n",
       "0          27  12495€  \n",
       "1          27  15278€  \n",
       "2          26  15278€  \n",
       "3          30  12917€  \n",
       "4          22  16157€  \n",
       "5          25  14120€  \n",
       "6          25  16398€  \n",
       "7          25  17519€  \n",
       "8          20  22106€  \n",
       "9          22       ?  \n",
       "\n",
       "[10 rows x 26 columns]"
      ]
     },
     "execution_count": 4,
     "metadata": {},
     "output_type": "execute_result"
    }
   ],
   "source": [
    "# Leer el archivo CSV\n",
    "df = pd.read_csv('02.1.auto_prices.csv')\n",
    "\n",
    "# Mostrar las primeras 10 lineas\n",
    "df.head(10)"
   ]
  },
  {
   "cell_type": "markdown",
   "metadata": {
    "id": "4K6WLSEvtfhf"
   },
   "source": [
    "### Eliminación de las filas duplicadas\n",
    "\n",
    "Mostrar las dimensiones del dataset antes y después de eliminar las filas repetidas:\n",
    "\n",
    "#### Propiedad `shape`\n",
    "\n",
    "La propiedad `shape` de un DataFrame en pandas se utiliza para obtener las dimensiones del DataFrame. Devuelve una tupla que contiene dos elementos:\n",
    "\n",
    "- El primer elemento es el número de filas.\n",
    "- El segundo elemento es el número de columnas.\n",
    "\n",
    "\n",
    "Esto es útil para entender la estructura del dataset y verificar cuántos registros y características contiene.\n",
    "\n",
    "---\n",
    "\n",
    "#### Método `drop_duplicates()`\n",
    "\n",
    "El método `drop_duplicates()` se utiliza para eliminar filas duplicadas de un DataFrame. Devuelve un nuevo DataFrame sin duplicados. Puedes especificar si deseas mantener la primera o la última ocurrencia de los duplicados y también puedes eliminar duplicados basados en columnas específicas.\n",
    "\n",
    "\n",
    "\n",
    "#### Parámetros importantes:\n",
    "\n",
    "- `keep`: Determina qué duplicados mantener. Puede ser `'first'` (predeterminado), `'last'` o `False` (eliminar todos los duplicados).\n",
    "- `subset`: Permite especificar una lista de columnas para considerar al identificar duplicados.\n",
    "\n",
    "Esto es útil para limpiar el dataset y asegurarte de que cada fila sea única."
   ]
  },
  {
   "cell_type": "code",
   "execution_count": 5,
   "metadata": {},
   "outputs": [
    {
     "name": "stdout",
     "output_type": "stream",
     "text": [
      "Dimensiones del dataset con duplicados: (228, 26)\n",
      "Dimensiones del dataset sin duplicados: (205, 26)\n"
     ]
    }
   ],
   "source": [
    "print('Dimensiones del dataset con duplicados: ' + str(df.shape))\n",
    "df = df.drop_duplicates()\n",
    "print('Dimensiones del dataset sin duplicados: '+ str(df.shape))"
   ]
  },
  {
   "cell_type": "markdown",
   "metadata": {
    "id": "el0Lae_rufxz"
   },
   "source": [
    "### Información del dataset\n",
    "Mostrar la información del dataset ofrecida por las instrucciones *describe* e *info*.\n",
    "\n",
    "#### Método `describe()`\n",
    "\n",
    "El método `describe()` en pandas se utiliza para generar estadísticas descriptivas de las columnas numéricas de un DataFrame. Proporciona un resumen que incluye:\n",
    "\n",
    "- **count**: Número de valores no nulos.\n",
    "- **mean**: Promedio de los valores.\n",
    "- **std**: Desviación estándar, que mide la dispersión de los valores.\n",
    "- **min**: Valor mínimo.\n",
    "- **25%**: Primer cuartil (25% de los datos son menores que este valor).\n",
    "- **50%**: Mediana (50% de los datos son menores que este valor).\n",
    "- **75%**: Tercer cuartil (75% de los datos son menores que este valor).\n",
    "- **max**: Valor máximo.\n",
    "\n",
    "Este método es útil para obtener una visión general de la distribución y características de los datos numéricos en el DataFrame.\n",
    "\n",
    "---\n",
    "\n",
    "#### Método `info()`\n",
    "\n",
    "El método `info()` se utiliza para obtener un resumen conciso del DataFrame. Proporciona información sobre:\n",
    "\n",
    "- **Número de entradas**: Total de filas en el DataFrame.\n",
    "- **Número de columnas**: Total de columnas en el DataFrame.\n",
    "- **Nombres de las columnas**: Lista de nombres de las columnas.\n",
    "- **Tipos de datos**: Tipo de datos de cada columna (por ejemplo, `int64`, `float64`, `object`).\n",
    "- **Cantidad de valores no nulos**: Número de valores no nulos en cada columna.\n",
    "\n",
    "Este método es útil para entender la estructura del DataFrame y verificar la calidad de los datos."
   ]
  },
  {
   "cell_type": "code",
   "execution_count": 6,
   "metadata": {},
   "outputs": [
    {
     "name": "stdout",
     "output_type": "stream",
     "text": [
      "<class 'pandas.core.frame.DataFrame'>\n",
      "Index: 205 entries, 0 to 204\n",
      "Data columns (total 26 columns):\n",
      " #   Column             Non-Null Count  Dtype \n",
      "---  ------             --------------  ----- \n",
      " 0   symboling          205 non-null    int64 \n",
      " 1   normalized-losses  205 non-null    object\n",
      " 2   make               205 non-null    object\n",
      " 3   fuel-type          205 non-null    object\n",
      " 4   aspiration         205 non-null    object\n",
      " 5   num-of-doors       205 non-null    object\n",
      " 6   body-style         205 non-null    object\n",
      " 7   drive-wheels       205 non-null    object\n",
      " 8   engine-location    205 non-null    object\n",
      " 9   wheel-base         205 non-null    int64 \n",
      " 10  length             205 non-null    int64 \n",
      " 11  width              205 non-null    int64 \n",
      " 12  height             205 non-null    int64 \n",
      " 13  curb-weight        205 non-null    int64 \n",
      " 14  engine-type        205 non-null    object\n",
      " 15  num-of-cylinders   205 non-null    object\n",
      " 16  engine-size        205 non-null    int64 \n",
      " 17  fuel-system        205 non-null    object\n",
      " 18  bore               205 non-null    object\n",
      " 19  stroke             205 non-null    object\n",
      " 20  compression-ratio  205 non-null    int64 \n",
      " 21  horsepower         205 non-null    object\n",
      " 22  peak-rpm           205 non-null    object\n",
      " 23  city-mpg           205 non-null    int64 \n",
      " 24  highway-mpg        205 non-null    int64 \n",
      " 25  price              205 non-null    object\n",
      "dtypes: int64(10), object(16)\n",
      "memory usage: 43.2+ KB\n"
     ]
    }
   ],
   "source": [
    "df.info()\n"
   ]
  },
  {
   "cell_type": "code",
   "execution_count": 7,
   "metadata": {},
   "outputs": [
    {
     "data": {
      "text/html": [
       "<div>\n",
       "<style scoped>\n",
       "    .dataframe tbody tr th:only-of-type {\n",
       "        vertical-align: middle;\n",
       "    }\n",
       "\n",
       "    .dataframe tbody tr th {\n",
       "        vertical-align: top;\n",
       "    }\n",
       "\n",
       "    .dataframe thead th {\n",
       "        text-align: right;\n",
       "    }\n",
       "</style>\n",
       "<table border=\"1\" class=\"dataframe\">\n",
       "  <thead>\n",
       "    <tr style=\"text-align: right;\">\n",
       "      <th></th>\n",
       "      <th>symboling</th>\n",
       "      <th>wheel-base</th>\n",
       "      <th>length</th>\n",
       "      <th>width</th>\n",
       "      <th>height</th>\n",
       "      <th>curb-weight</th>\n",
       "      <th>engine-size</th>\n",
       "      <th>compression-ratio</th>\n",
       "      <th>city-mpg</th>\n",
       "      <th>highway-mpg</th>\n",
       "    </tr>\n",
       "  </thead>\n",
       "  <tbody>\n",
       "    <tr>\n",
       "      <th>count</th>\n",
       "      <td>205.000000</td>\n",
       "      <td>205.000000</td>\n",
       "      <td>205.000000</td>\n",
       "      <td>205.000000</td>\n",
       "      <td>205.000000</td>\n",
       "      <td>205.000000</td>\n",
       "      <td>205.000000</td>\n",
       "      <td>205.000000</td>\n",
       "      <td>205.000000</td>\n",
       "      <td>205.000000</td>\n",
       "    </tr>\n",
       "    <tr>\n",
       "      <th>mean</th>\n",
       "      <td>0.834146</td>\n",
       "      <td>9830.746341</td>\n",
       "      <td>17404.926829</td>\n",
       "      <td>6590.780488</td>\n",
       "      <td>5372.487805</td>\n",
       "      <td>2555.565854</td>\n",
       "      <td>126.907317</td>\n",
       "      <td>1014.253659</td>\n",
       "      <td>25.219512</td>\n",
       "      <td>30.751220</td>\n",
       "    </tr>\n",
       "    <tr>\n",
       "      <th>std</th>\n",
       "      <td>1.245307</td>\n",
       "      <td>909.992337</td>\n",
       "      <td>1233.728853</td>\n",
       "      <td>214.520385</td>\n",
       "      <td>244.352197</td>\n",
       "      <td>520.680204</td>\n",
       "      <td>41.642693</td>\n",
       "      <td>397.204032</td>\n",
       "      <td>6.542142</td>\n",
       "      <td>6.886443</td>\n",
       "    </tr>\n",
       "    <tr>\n",
       "      <th>min</th>\n",
       "      <td>-2.000000</td>\n",
       "      <td>93.000000</td>\n",
       "      <td>14110.000000</td>\n",
       "      <td>6030.000000</td>\n",
       "      <td>4780.000000</td>\n",
       "      <td>1488.000000</td>\n",
       "      <td>61.000000</td>\n",
       "      <td>700.000000</td>\n",
       "      <td>13.000000</td>\n",
       "      <td>16.000000</td>\n",
       "    </tr>\n",
       "    <tr>\n",
       "      <th>25%</th>\n",
       "      <td>0.000000</td>\n",
       "      <td>9450.000000</td>\n",
       "      <td>16630.000000</td>\n",
       "      <td>6410.000000</td>\n",
       "      <td>5200.000000</td>\n",
       "      <td>2145.000000</td>\n",
       "      <td>97.000000</td>\n",
       "      <td>860.000000</td>\n",
       "      <td>19.000000</td>\n",
       "      <td>25.000000</td>\n",
       "    </tr>\n",
       "    <tr>\n",
       "      <th>50%</th>\n",
       "      <td>1.000000</td>\n",
       "      <td>9700.000000</td>\n",
       "      <td>17320.000000</td>\n",
       "      <td>6550.000000</td>\n",
       "      <td>5410.000000</td>\n",
       "      <td>2414.000000</td>\n",
       "      <td>120.000000</td>\n",
       "      <td>900.000000</td>\n",
       "      <td>24.000000</td>\n",
       "      <td>30.000000</td>\n",
       "    </tr>\n",
       "    <tr>\n",
       "      <th>75%</th>\n",
       "      <td>2.000000</td>\n",
       "      <td>10240.000000</td>\n",
       "      <td>18310.000000</td>\n",
       "      <td>6690.000000</td>\n",
       "      <td>5550.000000</td>\n",
       "      <td>2935.000000</td>\n",
       "      <td>141.000000</td>\n",
       "      <td>940.000000</td>\n",
       "      <td>30.000000</td>\n",
       "      <td>34.000000</td>\n",
       "    </tr>\n",
       "    <tr>\n",
       "      <th>max</th>\n",
       "      <td>3.000000</td>\n",
       "      <td>12090.000000</td>\n",
       "      <td>20810.000000</td>\n",
       "      <td>7230.000000</td>\n",
       "      <td>5980.000000</td>\n",
       "      <td>4066.000000</td>\n",
       "      <td>326.000000</td>\n",
       "      <td>2300.000000</td>\n",
       "      <td>49.000000</td>\n",
       "      <td>54.000000</td>\n",
       "    </tr>\n",
       "  </tbody>\n",
       "</table>\n",
       "</div>"
      ],
      "text/plain": [
       "        symboling    wheel-base        length        width       height  \\\n",
       "count  205.000000    205.000000    205.000000   205.000000   205.000000   \n",
       "mean     0.834146   9830.746341  17404.926829  6590.780488  5372.487805   \n",
       "std      1.245307    909.992337   1233.728853   214.520385   244.352197   \n",
       "min     -2.000000     93.000000  14110.000000  6030.000000  4780.000000   \n",
       "25%      0.000000   9450.000000  16630.000000  6410.000000  5200.000000   \n",
       "50%      1.000000   9700.000000  17320.000000  6550.000000  5410.000000   \n",
       "75%      2.000000  10240.000000  18310.000000  6690.000000  5550.000000   \n",
       "max      3.000000  12090.000000  20810.000000  7230.000000  5980.000000   \n",
       "\n",
       "       curb-weight  engine-size  compression-ratio    city-mpg  highway-mpg  \n",
       "count   205.000000   205.000000         205.000000  205.000000   205.000000  \n",
       "mean   2555.565854   126.907317        1014.253659   25.219512    30.751220  \n",
       "std     520.680204    41.642693         397.204032    6.542142     6.886443  \n",
       "min    1488.000000    61.000000         700.000000   13.000000    16.000000  \n",
       "25%    2145.000000    97.000000         860.000000   19.000000    25.000000  \n",
       "50%    2414.000000   120.000000         900.000000   24.000000    30.000000  \n",
       "75%    2935.000000   141.000000         940.000000   30.000000    34.000000  \n",
       "max    4066.000000   326.000000        2300.000000   49.000000    54.000000  "
      ]
     },
     "execution_count": 7,
     "metadata": {},
     "output_type": "execute_result"
    }
   ],
   "source": [
    "df.describe()"
   ]
  },
  {
   "cell_type": "markdown",
   "metadata": {
    "id": "QkpI3ohUDzZQ"
   },
   "source": [
    "### Modificación de nombres de columnas\n",
    "\n",
    "Se deben eliminar o sustituir los caracteres en los nombres de las columnas que puedan generar errores en Python. Por ejemplo '`-`' , '`,`' , '`*`' , '`/`' , '`|`' , '`>`' , '`<`' , '`@`' , '`!`' etc.\n",
    "\n",
    "Recorrer los nombres de las columnas reemplazándo el carácter '`-`' por '`_`':\n",
    "\n",
    "#### Método `str.replace()`\n",
    "\n",
    "El método `str.replace()` en pandas se utiliza para reemplazar ocurrencias de un substring en una serie de cadenas. Este método es especialmente útil para modificar los nombres de las columnas o los valores de las celdas en un DataFrame.\n",
    "\n",
    "#### Parámetros:\n",
    "\n",
    "- **pat**: El patrón o substring que deseas reemplazar. Puede ser una cadena de texto o una expresión regular.\n",
    "- **repl**: La cadena de texto que reemplazará al patrón especificado.\n",
    "- **n**: (opcional) Número de ocurrencias a reemplazar. Si no se especifica, se reemplazarán todas las ocurrencias.\n",
    "- **regex**: (opcional) Si se establece en `True`, el patrón se interpretará como una expresión regular.\n",
    "\n",
    "#### Uso:\n",
    "\n",
    "Este método devuelve una nueva serie con las ocurrencias del patrón reemplazadas por la cadena especificada. Es útil para limpiar datos, como eliminar caracteres no deseados o estandarizar nombres.\n",
    "\n",
    "Por ejemplo, al usar `df.columns.str.replace('-', '_')`, se reemplazan todos los guiones `-` en los nombres de las columnas por guiones bajos `_`, facilitando el acceso a las columnas en el DataFrame."
   ]
  },
  {
   "cell_type": "code",
   "execution_count": 8,
   "metadata": {
    "id": "Iire6oJFDzZR"
   },
   "outputs": [
    {
     "name": "stdout",
     "output_type": "stream",
     "text": [
      "Index(['symboling', 'normalized_losses', 'make', 'fuel_type', 'aspiration',\n",
      "       'num_of_doors', 'body_style', 'drive_wheels', 'engine_location',\n",
      "       'wheel_base', 'length', 'width', 'height', 'curb_weight', 'engine_type',\n",
      "       'num_of_cylinders', 'engine_size', 'fuel_system', 'bore', 'stroke',\n",
      "       'compression_ratio', 'horsepower', 'peak_rpm', 'city_mpg',\n",
      "       'highway_mpg', 'price'],\n",
      "      dtype='object')\n"
     ]
    }
   ],
   "source": [
    "df.columns = df.columns.str.replace('-','_')\n",
    "print(df.columns)"
   ]
  },
  {
   "cell_type": "markdown",
   "metadata": {
    "id": "iuzvS1MyDzZR"
   },
   "source": [
    "### Valores ausentes (*missing values*)\n",
    "\n",
    "En este dataset, los valores ausentes están representados por un signo de interrogación (?). Se deben reemplazar por `np.nan`."
   ]
  },
  {
   "cell_type": "code",
   "execution_count": 9,
   "metadata": {},
   "outputs": [
    {
     "data": {
      "text/html": [
       "<div>\n",
       "<style scoped>\n",
       "    .dataframe tbody tr th:only-of-type {\n",
       "        vertical-align: middle;\n",
       "    }\n",
       "\n",
       "    .dataframe tbody tr th {\n",
       "        vertical-align: top;\n",
       "    }\n",
       "\n",
       "    .dataframe thead th {\n",
       "        text-align: right;\n",
       "    }\n",
       "</style>\n",
       "<table border=\"1\" class=\"dataframe\">\n",
       "  <thead>\n",
       "    <tr style=\"text-align: right;\">\n",
       "      <th></th>\n",
       "      <th>symboling</th>\n",
       "      <th>normalized_losses</th>\n",
       "      <th>make</th>\n",
       "      <th>fuel_type</th>\n",
       "      <th>aspiration</th>\n",
       "      <th>num_of_doors</th>\n",
       "      <th>body_style</th>\n",
       "      <th>drive_wheels</th>\n",
       "      <th>engine_location</th>\n",
       "      <th>wheel_base</th>\n",
       "      <th>...</th>\n",
       "      <th>engine_size</th>\n",
       "      <th>fuel_system</th>\n",
       "      <th>bore</th>\n",
       "      <th>stroke</th>\n",
       "      <th>compression_ratio</th>\n",
       "      <th>horsepower</th>\n",
       "      <th>peak_rpm</th>\n",
       "      <th>city_mpg</th>\n",
       "      <th>highway_mpg</th>\n",
       "      <th>price</th>\n",
       "    </tr>\n",
       "  </thead>\n",
       "  <tbody>\n",
       "    <tr>\n",
       "      <th>0</th>\n",
       "      <td>3</td>\n",
       "      <td>?</td>\n",
       "      <td>alfa-romero</td>\n",
       "      <td>gas</td>\n",
       "      <td>std</td>\n",
       "      <td>two</td>\n",
       "      <td>convertible</td>\n",
       "      <td>rwd</td>\n",
       "      <td>front</td>\n",
       "      <td>8860</td>\n",
       "      <td>...</td>\n",
       "      <td>130</td>\n",
       "      <td>mpfi</td>\n",
       "      <td>3.47</td>\n",
       "      <td>2.68</td>\n",
       "      <td>900</td>\n",
       "      <td>111</td>\n",
       "      <td>5000</td>\n",
       "      <td>21</td>\n",
       "      <td>27</td>\n",
       "      <td>12495€</td>\n",
       "    </tr>\n",
       "    <tr>\n",
       "      <th>1</th>\n",
       "      <td>3</td>\n",
       "      <td>?</td>\n",
       "      <td>alfa-romero</td>\n",
       "      <td>gas</td>\n",
       "      <td>std</td>\n",
       "      <td>two</td>\n",
       "      <td>convertible</td>\n",
       "      <td>rwd</td>\n",
       "      <td>front</td>\n",
       "      <td>8860</td>\n",
       "      <td>...</td>\n",
       "      <td>130</td>\n",
       "      <td>mpfi</td>\n",
       "      <td>3.47</td>\n",
       "      <td>2.68</td>\n",
       "      <td>900</td>\n",
       "      <td>111</td>\n",
       "      <td>5000</td>\n",
       "      <td>21</td>\n",
       "      <td>27</td>\n",
       "      <td>15278€</td>\n",
       "    </tr>\n",
       "    <tr>\n",
       "      <th>2</th>\n",
       "      <td>1</td>\n",
       "      <td>?</td>\n",
       "      <td>alfa-romero</td>\n",
       "      <td>gas</td>\n",
       "      <td>std</td>\n",
       "      <td>two</td>\n",
       "      <td>hatchback</td>\n",
       "      <td>rwd</td>\n",
       "      <td>front</td>\n",
       "      <td>9450</td>\n",
       "      <td>...</td>\n",
       "      <td>152</td>\n",
       "      <td>mpfi</td>\n",
       "      <td>2.68</td>\n",
       "      <td>3.47</td>\n",
       "      <td>900</td>\n",
       "      <td>154</td>\n",
       "      <td>5000</td>\n",
       "      <td>19</td>\n",
       "      <td>26</td>\n",
       "      <td>15278€</td>\n",
       "    </tr>\n",
       "    <tr>\n",
       "      <th>3</th>\n",
       "      <td>2</td>\n",
       "      <td>164</td>\n",
       "      <td>audi</td>\n",
       "      <td>gas</td>\n",
       "      <td>std</td>\n",
       "      <td>four</td>\n",
       "      <td>sedan</td>\n",
       "      <td>fwd</td>\n",
       "      <td>front</td>\n",
       "      <td>9980</td>\n",
       "      <td>...</td>\n",
       "      <td>109</td>\n",
       "      <td>mpfi</td>\n",
       "      <td>3.19</td>\n",
       "      <td>3.40</td>\n",
       "      <td>1000</td>\n",
       "      <td>102</td>\n",
       "      <td>5500</td>\n",
       "      <td>24</td>\n",
       "      <td>30</td>\n",
       "      <td>12917€</td>\n",
       "    </tr>\n",
       "    <tr>\n",
       "      <th>4</th>\n",
       "      <td>2</td>\n",
       "      <td>164</td>\n",
       "      <td>audi</td>\n",
       "      <td>gas</td>\n",
       "      <td>std</td>\n",
       "      <td>four</td>\n",
       "      <td>sedan</td>\n",
       "      <td>4wd</td>\n",
       "      <td>front</td>\n",
       "      <td>9940</td>\n",
       "      <td>...</td>\n",
       "      <td>136</td>\n",
       "      <td>mpfi</td>\n",
       "      <td>3.19</td>\n",
       "      <td>3.40</td>\n",
       "      <td>800</td>\n",
       "      <td>115</td>\n",
       "      <td>5500</td>\n",
       "      <td>18</td>\n",
       "      <td>22</td>\n",
       "      <td>16157€</td>\n",
       "    </tr>\n",
       "    <tr>\n",
       "      <th>...</th>\n",
       "      <td>...</td>\n",
       "      <td>...</td>\n",
       "      <td>...</td>\n",
       "      <td>...</td>\n",
       "      <td>...</td>\n",
       "      <td>...</td>\n",
       "      <td>...</td>\n",
       "      <td>...</td>\n",
       "      <td>...</td>\n",
       "      <td>...</td>\n",
       "      <td>...</td>\n",
       "      <td>...</td>\n",
       "      <td>...</td>\n",
       "      <td>...</td>\n",
       "      <td>...</td>\n",
       "      <td>...</td>\n",
       "      <td>...</td>\n",
       "      <td>...</td>\n",
       "      <td>...</td>\n",
       "      <td>...</td>\n",
       "      <td>...</td>\n",
       "    </tr>\n",
       "    <tr>\n",
       "      <th>200</th>\n",
       "      <td>-1</td>\n",
       "      <td>95</td>\n",
       "      <td>volvo</td>\n",
       "      <td>gas</td>\n",
       "      <td>std</td>\n",
       "      <td>four</td>\n",
       "      <td>sedan</td>\n",
       "      <td>rwd</td>\n",
       "      <td>front</td>\n",
       "      <td>10910</td>\n",
       "      <td>...</td>\n",
       "      <td>141</td>\n",
       "      <td>mpfi</td>\n",
       "      <td>3.78</td>\n",
       "      <td>3.15</td>\n",
       "      <td>950</td>\n",
       "      <td>114</td>\n",
       "      <td>5400</td>\n",
       "      <td>23</td>\n",
       "      <td>28</td>\n",
       "      <td>15597€</td>\n",
       "    </tr>\n",
       "    <tr>\n",
       "      <th>201</th>\n",
       "      <td>-1</td>\n",
       "      <td>95</td>\n",
       "      <td>volvo</td>\n",
       "      <td>gas</td>\n",
       "      <td>turbo</td>\n",
       "      <td>four</td>\n",
       "      <td>sedan</td>\n",
       "      <td>rwd</td>\n",
       "      <td>front</td>\n",
       "      <td>10910</td>\n",
       "      <td>...</td>\n",
       "      <td>141</td>\n",
       "      <td>mpfi</td>\n",
       "      <td>3.78</td>\n",
       "      <td>3.15</td>\n",
       "      <td>870</td>\n",
       "      <td>160</td>\n",
       "      <td>5300</td>\n",
       "      <td>19</td>\n",
       "      <td>25</td>\n",
       "      <td>19045$</td>\n",
       "    </tr>\n",
       "    <tr>\n",
       "      <th>202</th>\n",
       "      <td>-1</td>\n",
       "      <td>95</td>\n",
       "      <td>volvo</td>\n",
       "      <td>gas</td>\n",
       "      <td>std</td>\n",
       "      <td>four</td>\n",
       "      <td>sedan</td>\n",
       "      <td>rwd</td>\n",
       "      <td>front</td>\n",
       "      <td>10910</td>\n",
       "      <td>...</td>\n",
       "      <td>173</td>\n",
       "      <td>mpfi</td>\n",
       "      <td>3.58</td>\n",
       "      <td>2.87</td>\n",
       "      <td>880</td>\n",
       "      <td>134</td>\n",
       "      <td>5500</td>\n",
       "      <td>18</td>\n",
       "      <td>23</td>\n",
       "      <td>21485$</td>\n",
       "    </tr>\n",
       "    <tr>\n",
       "      <th>203</th>\n",
       "      <td>-1</td>\n",
       "      <td>95</td>\n",
       "      <td>volvo</td>\n",
       "      <td>diesel</td>\n",
       "      <td>turbo</td>\n",
       "      <td>four</td>\n",
       "      <td>sedan</td>\n",
       "      <td>rwd</td>\n",
       "      <td>front</td>\n",
       "      <td>10910</td>\n",
       "      <td>...</td>\n",
       "      <td>145</td>\n",
       "      <td>idi</td>\n",
       "      <td>3.01</td>\n",
       "      <td>3.40</td>\n",
       "      <td>2300</td>\n",
       "      <td>106</td>\n",
       "      <td>4800</td>\n",
       "      <td>26</td>\n",
       "      <td>27</td>\n",
       "      <td>22470$</td>\n",
       "    </tr>\n",
       "    <tr>\n",
       "      <th>204</th>\n",
       "      <td>-1</td>\n",
       "      <td>95</td>\n",
       "      <td>volvo</td>\n",
       "      <td>gas</td>\n",
       "      <td>turbo</td>\n",
       "      <td>four</td>\n",
       "      <td>sedan</td>\n",
       "      <td>rwd</td>\n",
       "      <td>front</td>\n",
       "      <td>10910</td>\n",
       "      <td>...</td>\n",
       "      <td>141</td>\n",
       "      <td>mpfi</td>\n",
       "      <td>3.78</td>\n",
       "      <td>3.15</td>\n",
       "      <td>950</td>\n",
       "      <td>114</td>\n",
       "      <td>5400</td>\n",
       "      <td>19</td>\n",
       "      <td>25</td>\n",
       "      <td>22625$</td>\n",
       "    </tr>\n",
       "  </tbody>\n",
       "</table>\n",
       "<p>205 rows × 26 columns</p>\n",
       "</div>"
      ],
      "text/plain": [
       "     symboling normalized_losses         make fuel_type aspiration  \\\n",
       "0            3                 ?  alfa-romero       gas        std   \n",
       "1            3                 ?  alfa-romero       gas        std   \n",
       "2            1                 ?  alfa-romero       gas        std   \n",
       "3            2               164         audi       gas        std   \n",
       "4            2               164         audi       gas        std   \n",
       "..         ...               ...          ...       ...        ...   \n",
       "200         -1                95        volvo       gas        std   \n",
       "201         -1                95        volvo       gas      turbo   \n",
       "202         -1                95        volvo       gas        std   \n",
       "203         -1                95        volvo    diesel      turbo   \n",
       "204         -1                95        volvo       gas      turbo   \n",
       "\n",
       "    num_of_doors   body_style drive_wheels engine_location  wheel_base  ...  \\\n",
       "0            two  convertible          rwd           front        8860  ...   \n",
       "1            two  convertible          rwd           front        8860  ...   \n",
       "2            two    hatchback          rwd           front        9450  ...   \n",
       "3           four        sedan          fwd           front        9980  ...   \n",
       "4           four        sedan          4wd           front        9940  ...   \n",
       "..           ...          ...          ...             ...         ...  ...   \n",
       "200         four        sedan          rwd           front       10910  ...   \n",
       "201         four        sedan          rwd           front       10910  ...   \n",
       "202         four        sedan          rwd           front       10910  ...   \n",
       "203         four        sedan          rwd           front       10910  ...   \n",
       "204         four        sedan          rwd           front       10910  ...   \n",
       "\n",
       "     engine_size  fuel_system  bore  stroke compression_ratio horsepower  \\\n",
       "0            130         mpfi  3.47    2.68               900        111   \n",
       "1            130         mpfi  3.47    2.68               900        111   \n",
       "2            152         mpfi  2.68    3.47               900        154   \n",
       "3            109         mpfi  3.19    3.40              1000        102   \n",
       "4            136         mpfi  3.19    3.40               800        115   \n",
       "..           ...          ...   ...     ...               ...        ...   \n",
       "200          141         mpfi  3.78    3.15               950        114   \n",
       "201          141         mpfi  3.78    3.15               870        160   \n",
       "202          173         mpfi  3.58    2.87               880        134   \n",
       "203          145          idi  3.01    3.40              2300        106   \n",
       "204          141         mpfi  3.78    3.15               950        114   \n",
       "\n",
       "     peak_rpm city_mpg highway_mpg   price  \n",
       "0        5000       21          27  12495€  \n",
       "1        5000       21          27  15278€  \n",
       "2        5000       19          26  15278€  \n",
       "3        5500       24          30  12917€  \n",
       "4        5500       18          22  16157€  \n",
       "..        ...      ...         ...     ...  \n",
       "200      5400       23          28  15597€  \n",
       "201      5300       19          25  19045$  \n",
       "202      5500       18          23  21485$  \n",
       "203      4800       26          27  22470$  \n",
       "204      5400       19          25  22625$  \n",
       "\n",
       "[205 rows x 26 columns]"
      ]
     },
     "execution_count": 9,
     "metadata": {},
     "output_type": "execute_result"
    }
   ],
   "source": [
    "df"
   ]
  },
  {
   "cell_type": "code",
   "execution_count": 10,
   "metadata": {
    "id": "_wG5CXWXxwNb"
   },
   "outputs": [
    {
     "data": {
      "text/html": [
       "<div>\n",
       "<style scoped>\n",
       "    .dataframe tbody tr th:only-of-type {\n",
       "        vertical-align: middle;\n",
       "    }\n",
       "\n",
       "    .dataframe tbody tr th {\n",
       "        vertical-align: top;\n",
       "    }\n",
       "\n",
       "    .dataframe thead th {\n",
       "        text-align: right;\n",
       "    }\n",
       "</style>\n",
       "<table border=\"1\" class=\"dataframe\">\n",
       "  <thead>\n",
       "    <tr style=\"text-align: right;\">\n",
       "      <th></th>\n",
       "      <th>symboling</th>\n",
       "      <th>normalized_losses</th>\n",
       "      <th>make</th>\n",
       "      <th>fuel_type</th>\n",
       "      <th>aspiration</th>\n",
       "      <th>num_of_doors</th>\n",
       "      <th>body_style</th>\n",
       "      <th>drive_wheels</th>\n",
       "      <th>engine_location</th>\n",
       "      <th>wheel_base</th>\n",
       "      <th>...</th>\n",
       "      <th>engine_size</th>\n",
       "      <th>fuel_system</th>\n",
       "      <th>bore</th>\n",
       "      <th>stroke</th>\n",
       "      <th>compression_ratio</th>\n",
       "      <th>horsepower</th>\n",
       "      <th>peak_rpm</th>\n",
       "      <th>city_mpg</th>\n",
       "      <th>highway_mpg</th>\n",
       "      <th>price</th>\n",
       "    </tr>\n",
       "  </thead>\n",
       "  <tbody>\n",
       "    <tr>\n",
       "      <th>0</th>\n",
       "      <td>3</td>\n",
       "      <td>NaN</td>\n",
       "      <td>alfa-romero</td>\n",
       "      <td>gas</td>\n",
       "      <td>std</td>\n",
       "      <td>two</td>\n",
       "      <td>convertible</td>\n",
       "      <td>rwd</td>\n",
       "      <td>front</td>\n",
       "      <td>8860</td>\n",
       "      <td>...</td>\n",
       "      <td>130</td>\n",
       "      <td>mpfi</td>\n",
       "      <td>3.47</td>\n",
       "      <td>2.68</td>\n",
       "      <td>900</td>\n",
       "      <td>111</td>\n",
       "      <td>5000</td>\n",
       "      <td>21</td>\n",
       "      <td>27</td>\n",
       "      <td>12495€</td>\n",
       "    </tr>\n",
       "    <tr>\n",
       "      <th>1</th>\n",
       "      <td>3</td>\n",
       "      <td>NaN</td>\n",
       "      <td>alfa-romero</td>\n",
       "      <td>gas</td>\n",
       "      <td>std</td>\n",
       "      <td>two</td>\n",
       "      <td>convertible</td>\n",
       "      <td>rwd</td>\n",
       "      <td>front</td>\n",
       "      <td>8860</td>\n",
       "      <td>...</td>\n",
       "      <td>130</td>\n",
       "      <td>mpfi</td>\n",
       "      <td>3.47</td>\n",
       "      <td>2.68</td>\n",
       "      <td>900</td>\n",
       "      <td>111</td>\n",
       "      <td>5000</td>\n",
       "      <td>21</td>\n",
       "      <td>27</td>\n",
       "      <td>15278€</td>\n",
       "    </tr>\n",
       "    <tr>\n",
       "      <th>2</th>\n",
       "      <td>1</td>\n",
       "      <td>NaN</td>\n",
       "      <td>alfa-romero</td>\n",
       "      <td>gas</td>\n",
       "      <td>std</td>\n",
       "      <td>two</td>\n",
       "      <td>hatchback</td>\n",
       "      <td>rwd</td>\n",
       "      <td>front</td>\n",
       "      <td>9450</td>\n",
       "      <td>...</td>\n",
       "      <td>152</td>\n",
       "      <td>mpfi</td>\n",
       "      <td>2.68</td>\n",
       "      <td>3.47</td>\n",
       "      <td>900</td>\n",
       "      <td>154</td>\n",
       "      <td>5000</td>\n",
       "      <td>19</td>\n",
       "      <td>26</td>\n",
       "      <td>15278€</td>\n",
       "    </tr>\n",
       "    <tr>\n",
       "      <th>3</th>\n",
       "      <td>2</td>\n",
       "      <td>164</td>\n",
       "      <td>audi</td>\n",
       "      <td>gas</td>\n",
       "      <td>std</td>\n",
       "      <td>four</td>\n",
       "      <td>sedan</td>\n",
       "      <td>fwd</td>\n",
       "      <td>front</td>\n",
       "      <td>9980</td>\n",
       "      <td>...</td>\n",
       "      <td>109</td>\n",
       "      <td>mpfi</td>\n",
       "      <td>3.19</td>\n",
       "      <td>3.40</td>\n",
       "      <td>1000</td>\n",
       "      <td>102</td>\n",
       "      <td>5500</td>\n",
       "      <td>24</td>\n",
       "      <td>30</td>\n",
       "      <td>12917€</td>\n",
       "    </tr>\n",
       "    <tr>\n",
       "      <th>4</th>\n",
       "      <td>2</td>\n",
       "      <td>164</td>\n",
       "      <td>audi</td>\n",
       "      <td>gas</td>\n",
       "      <td>std</td>\n",
       "      <td>four</td>\n",
       "      <td>sedan</td>\n",
       "      <td>4wd</td>\n",
       "      <td>front</td>\n",
       "      <td>9940</td>\n",
       "      <td>...</td>\n",
       "      <td>136</td>\n",
       "      <td>mpfi</td>\n",
       "      <td>3.19</td>\n",
       "      <td>3.40</td>\n",
       "      <td>800</td>\n",
       "      <td>115</td>\n",
       "      <td>5500</td>\n",
       "      <td>18</td>\n",
       "      <td>22</td>\n",
       "      <td>16157€</td>\n",
       "    </tr>\n",
       "    <tr>\n",
       "      <th>...</th>\n",
       "      <td>...</td>\n",
       "      <td>...</td>\n",
       "      <td>...</td>\n",
       "      <td>...</td>\n",
       "      <td>...</td>\n",
       "      <td>...</td>\n",
       "      <td>...</td>\n",
       "      <td>...</td>\n",
       "      <td>...</td>\n",
       "      <td>...</td>\n",
       "      <td>...</td>\n",
       "      <td>...</td>\n",
       "      <td>...</td>\n",
       "      <td>...</td>\n",
       "      <td>...</td>\n",
       "      <td>...</td>\n",
       "      <td>...</td>\n",
       "      <td>...</td>\n",
       "      <td>...</td>\n",
       "      <td>...</td>\n",
       "      <td>...</td>\n",
       "    </tr>\n",
       "    <tr>\n",
       "      <th>200</th>\n",
       "      <td>-1</td>\n",
       "      <td>95</td>\n",
       "      <td>volvo</td>\n",
       "      <td>gas</td>\n",
       "      <td>std</td>\n",
       "      <td>four</td>\n",
       "      <td>sedan</td>\n",
       "      <td>rwd</td>\n",
       "      <td>front</td>\n",
       "      <td>10910</td>\n",
       "      <td>...</td>\n",
       "      <td>141</td>\n",
       "      <td>mpfi</td>\n",
       "      <td>3.78</td>\n",
       "      <td>3.15</td>\n",
       "      <td>950</td>\n",
       "      <td>114</td>\n",
       "      <td>5400</td>\n",
       "      <td>23</td>\n",
       "      <td>28</td>\n",
       "      <td>15597€</td>\n",
       "    </tr>\n",
       "    <tr>\n",
       "      <th>201</th>\n",
       "      <td>-1</td>\n",
       "      <td>95</td>\n",
       "      <td>volvo</td>\n",
       "      <td>gas</td>\n",
       "      <td>turbo</td>\n",
       "      <td>four</td>\n",
       "      <td>sedan</td>\n",
       "      <td>rwd</td>\n",
       "      <td>front</td>\n",
       "      <td>10910</td>\n",
       "      <td>...</td>\n",
       "      <td>141</td>\n",
       "      <td>mpfi</td>\n",
       "      <td>3.78</td>\n",
       "      <td>3.15</td>\n",
       "      <td>870</td>\n",
       "      <td>160</td>\n",
       "      <td>5300</td>\n",
       "      <td>19</td>\n",
       "      <td>25</td>\n",
       "      <td>19045$</td>\n",
       "    </tr>\n",
       "    <tr>\n",
       "      <th>202</th>\n",
       "      <td>-1</td>\n",
       "      <td>95</td>\n",
       "      <td>volvo</td>\n",
       "      <td>gas</td>\n",
       "      <td>std</td>\n",
       "      <td>four</td>\n",
       "      <td>sedan</td>\n",
       "      <td>rwd</td>\n",
       "      <td>front</td>\n",
       "      <td>10910</td>\n",
       "      <td>...</td>\n",
       "      <td>173</td>\n",
       "      <td>mpfi</td>\n",
       "      <td>3.58</td>\n",
       "      <td>2.87</td>\n",
       "      <td>880</td>\n",
       "      <td>134</td>\n",
       "      <td>5500</td>\n",
       "      <td>18</td>\n",
       "      <td>23</td>\n",
       "      <td>21485$</td>\n",
       "    </tr>\n",
       "    <tr>\n",
       "      <th>203</th>\n",
       "      <td>-1</td>\n",
       "      <td>95</td>\n",
       "      <td>volvo</td>\n",
       "      <td>diesel</td>\n",
       "      <td>turbo</td>\n",
       "      <td>four</td>\n",
       "      <td>sedan</td>\n",
       "      <td>rwd</td>\n",
       "      <td>front</td>\n",
       "      <td>10910</td>\n",
       "      <td>...</td>\n",
       "      <td>145</td>\n",
       "      <td>idi</td>\n",
       "      <td>3.01</td>\n",
       "      <td>3.40</td>\n",
       "      <td>2300</td>\n",
       "      <td>106</td>\n",
       "      <td>4800</td>\n",
       "      <td>26</td>\n",
       "      <td>27</td>\n",
       "      <td>22470$</td>\n",
       "    </tr>\n",
       "    <tr>\n",
       "      <th>204</th>\n",
       "      <td>-1</td>\n",
       "      <td>95</td>\n",
       "      <td>volvo</td>\n",
       "      <td>gas</td>\n",
       "      <td>turbo</td>\n",
       "      <td>four</td>\n",
       "      <td>sedan</td>\n",
       "      <td>rwd</td>\n",
       "      <td>front</td>\n",
       "      <td>10910</td>\n",
       "      <td>...</td>\n",
       "      <td>141</td>\n",
       "      <td>mpfi</td>\n",
       "      <td>3.78</td>\n",
       "      <td>3.15</td>\n",
       "      <td>950</td>\n",
       "      <td>114</td>\n",
       "      <td>5400</td>\n",
       "      <td>19</td>\n",
       "      <td>25</td>\n",
       "      <td>22625$</td>\n",
       "    </tr>\n",
       "  </tbody>\n",
       "</table>\n",
       "<p>205 rows × 26 columns</p>\n",
       "</div>"
      ],
      "text/plain": [
       "     symboling normalized_losses         make fuel_type aspiration  \\\n",
       "0            3               NaN  alfa-romero       gas        std   \n",
       "1            3               NaN  alfa-romero       gas        std   \n",
       "2            1               NaN  alfa-romero       gas        std   \n",
       "3            2               164         audi       gas        std   \n",
       "4            2               164         audi       gas        std   \n",
       "..         ...               ...          ...       ...        ...   \n",
       "200         -1                95        volvo       gas        std   \n",
       "201         -1                95        volvo       gas      turbo   \n",
       "202         -1                95        volvo       gas        std   \n",
       "203         -1                95        volvo    diesel      turbo   \n",
       "204         -1                95        volvo       gas      turbo   \n",
       "\n",
       "    num_of_doors   body_style drive_wheels engine_location  wheel_base  ...  \\\n",
       "0            two  convertible          rwd           front        8860  ...   \n",
       "1            two  convertible          rwd           front        8860  ...   \n",
       "2            two    hatchback          rwd           front        9450  ...   \n",
       "3           four        sedan          fwd           front        9980  ...   \n",
       "4           four        sedan          4wd           front        9940  ...   \n",
       "..           ...          ...          ...             ...         ...  ...   \n",
       "200         four        sedan          rwd           front       10910  ...   \n",
       "201         four        sedan          rwd           front       10910  ...   \n",
       "202         four        sedan          rwd           front       10910  ...   \n",
       "203         four        sedan          rwd           front       10910  ...   \n",
       "204         four        sedan          rwd           front       10910  ...   \n",
       "\n",
       "     engine_size  fuel_system  bore  stroke compression_ratio horsepower  \\\n",
       "0            130         mpfi  3.47    2.68               900        111   \n",
       "1            130         mpfi  3.47    2.68               900        111   \n",
       "2            152         mpfi  2.68    3.47               900        154   \n",
       "3            109         mpfi  3.19    3.40              1000        102   \n",
       "4            136         mpfi  3.19    3.40               800        115   \n",
       "..           ...          ...   ...     ...               ...        ...   \n",
       "200          141         mpfi  3.78    3.15               950        114   \n",
       "201          141         mpfi  3.78    3.15               870        160   \n",
       "202          173         mpfi  3.58    2.87               880        134   \n",
       "203          145          idi  3.01    3.40              2300        106   \n",
       "204          141         mpfi  3.78    3.15               950        114   \n",
       "\n",
       "     peak_rpm city_mpg highway_mpg   price  \n",
       "0        5000       21          27  12495€  \n",
       "1        5000       21          27  15278€  \n",
       "2        5000       19          26  15278€  \n",
       "3        5500       24          30  12917€  \n",
       "4        5500       18          22  16157€  \n",
       "..        ...      ...         ...     ...  \n",
       "200      5400       23          28  15597€  \n",
       "201      5300       19          25  19045$  \n",
       "202      5500       18          23  21485$  \n",
       "203      4800       26          27  22470$  \n",
       "204      5400       19          25  22625$  \n",
       "\n",
       "[205 rows x 26 columns]"
      ]
     },
     "execution_count": 10,
     "metadata": {},
     "output_type": "execute_result"
    }
   ],
   "source": [
    "df=df.replace('?',np.nan)\n",
    "df"
   ]
  },
  {
   "cell_type": "markdown",
   "metadata": {
    "id": "xq4m0ReVysad"
   },
   "source": [
    "Mostrar cuantos valores ausentes (np.nan) hay en cada columna.\n",
    "\n",
    "#### Opción 1: Usar `apply()`\n",
    "\n",
    "El método `apply()` en pandas se utiliza para aplicar una función a lo largo de un eje del DataFrame (filas o columnas). En el contexto de contar valores ausentes, puedes usar `apply()` para aplicar una función que cuente los valores NaN en cada columna.\n",
    "\n",
    "#### Ejemplo de uso:\n",
    "\n",
    "```python\n",
    "valores_ausentes = df.apply(lambda x: x.isna().sum())\n",
    "```\n",
    "\n",
    "- **`lambda x: x.isna().sum()`**: Esta es una función anónima que toma una columna (representada por `x`) y cuenta cuántos valores son NaN utilizando `isna()` y `sum()`.\n",
    "- **Resultado**: `apply()` devuelve una serie con el número de valores ausentes para cada columna del DataFrame.\n",
    "\n",
    "Este método es eficiente y permite realizar operaciones en todo el DataFrame sin necesidad de un bucle explícito.\n",
    "\n",
    "---\n",
    "\n",
    "### Opción 2: Usar `pd.Series` con `isna()`\n",
    "\n",
    "Otra forma de contar los valores ausentes en un DataFrame es utilizando la función `isna()` de pandas y luego convirtiendo el resultado en una serie. Este enfoque permite obtener un conteo directo de los valores NaN en cada columna.\n",
    "\n",
    "#### Ejemplo de uso:\n",
    "\n",
    "```python\n",
    "valores_ausentes = pd.Series(df.isna().sum())\n",
    "```\n",
    "\n",
    "- **`df.isna()`**: Este método genera un DataFrame booleano donde cada valor es `True` si es NaN y `False` en caso contrario.\n",
    "- **`sum()`**: Al aplicar `sum()` a este DataFrame booleano, se cuentan los valores `True` en cada columna, lo que equivale a contar los valores ausentes.\n",
    "- **`pd.Series(...)`**: El resultado se convierte en una serie, que muestra el número de valores ausentes por columna.\n",
    "\n",
    "Este método es directo y aprovecha las capacidades de pandas para trabajar con datos de manera eficiente."
   ]
  },
  {
   "cell_type": "markdown",
   "metadata": {},
   "source": [
    "Opcion apply()"
   ]
  },
  {
   "cell_type": "code",
   "execution_count": 11,
   "metadata": {},
   "outputs": [
    {
     "name": "stdout",
     "output_type": "stream",
     "text": [
      "symboling             0\n",
      "normalized_losses    41\n",
      "make                  0\n",
      "fuel_type             0\n",
      "aspiration            0\n",
      "num_of_doors          2\n",
      "body_style            0\n",
      "drive_wheels          0\n",
      "engine_location       0\n",
      "wheel_base            0\n",
      "length                0\n",
      "width                 0\n",
      "height                0\n",
      "curb_weight           0\n",
      "engine_type           0\n",
      "num_of_cylinders      0\n",
      "engine_size           0\n",
      "fuel_system           0\n",
      "bore                  4\n",
      "stroke                4\n",
      "compression_ratio     0\n",
      "horsepower            2\n",
      "peak_rpm              2\n",
      "city_mpg              0\n",
      "highway_mpg           0\n",
      "price                 4\n",
      "dtype: int64\n"
     ]
    }
   ],
   "source": [
    "valores_avalores_ausentes = df.apply(lambda x: x.isna().sum())\n",
    "print(valores_avalores_ausentes)"
   ]
  },
  {
   "cell_type": "markdown",
   "metadata": {},
   "source": [
    "Opcion pd.Series"
   ]
  },
  {
   "cell_type": "code",
   "execution_count": 12,
   "metadata": {},
   "outputs": [
    {
     "name": "stdout",
     "output_type": "stream",
     "text": [
      "symboling             0\n",
      "normalized_losses    41\n",
      "make                  0\n",
      "fuel_type             0\n",
      "aspiration            0\n",
      "num_of_doors          2\n",
      "body_style            0\n",
      "drive_wheels          0\n",
      "engine_location       0\n",
      "wheel_base            0\n",
      "length                0\n",
      "width                 0\n",
      "height                0\n",
      "curb_weight           0\n",
      "engine_type           0\n",
      "num_of_cylinders      0\n",
      "engine_size           0\n",
      "fuel_system           0\n",
      "bore                  4\n",
      "stroke                4\n",
      "compression_ratio     0\n",
      "horsepower            2\n",
      "peak_rpm              2\n",
      "city_mpg              0\n",
      "highway_mpg           0\n",
      "price                 4\n",
      "dtype: int64\n"
     ]
    }
   ],
   "source": [
    "valores_ausentes = pd.Series(df.isna().sum())\n",
    "print(valores_ausentes)"
   ]
  },
  {
   "cell_type": "markdown",
   "metadata": {
    "id": "cxrwYn-1JbfG"
   },
   "source": [
    "Se debe eliminar la  columna normalize_losses ya que tiene muchos valores ausentes."
   ]
  },
  {
   "cell_type": "code",
   "execution_count": 13,
   "metadata": {
    "id": "2dDWsFS9JqGp"
   },
   "outputs": [
    {
     "data": {
      "text/plain": [
       "(205, 25)"
      ]
     },
     "execution_count": 13,
     "metadata": {},
     "output_type": "execute_result"
    }
   ],
   "source": [
    "df=df.drop(df.columns[1],axis=1)\n",
    "df.shape\n"
   ]
  },
  {
   "cell_type": "markdown",
   "metadata": {
    "id": "kgdkcXUcDzZT"
   },
   "source": [
    "\n",
    "Eliminar las filas que contengan `np.nan` y mostrar las dimensiones del dataset."
   ]
  },
  {
   "cell_type": "code",
   "execution_count": 14,
   "metadata": {},
   "outputs": [
    {
     "data": {
      "text/plain": [
       "(193, 25)"
      ]
     },
     "execution_count": 14,
     "metadata": {},
     "output_type": "execute_result"
    }
   ],
   "source": [
    "df.dropna(axis=0,inplace=True)\n",
    "df.shape"
   ]
  },
  {
   "cell_type": "markdown",
   "metadata": {
    "id": "tft7qiVHDzZS"
   },
   "source": [
    "Mostrar los tipos de todas las columnas."
   ]
  },
  {
   "cell_type": "markdown",
   "metadata": {
    "id": "T-jFJsqpIBwM"
   },
   "source": [
    "La columna *price* contiene valores en dólares y en euros. Unificar el precio en dólares omitiendo el símbolo $.\n",
    "\n",
    "Mostrar las primeras filas para verificar el cambio.\n",
    "\n",
    "#### Explicación del Código\n",
    "\n",
    "1. **`tipo_cambio = 1.08`**:\n",
    "   - Se define una variable llamada `tipo_cambio` que representa el tipo de cambio de euros a dólares. En este caso, se establece que 1 euro equivale a 1.08 dólares.\n",
    "\n",
    "2. **`def convertir_precio(precio):`**:\n",
    "   - Se define una función llamada `convertir_precio` que toma un argumento `precio`. Esta función se encargará de convertir los precios de euros a dólares.\n",
    "\n",
    "3. **`if '€' in precio:`**:\n",
    "   - Esta línea verifica si el símbolo de euro (`'€'`) está presente en el string `precio`. Si es así, se procede a convertir el precio de euros a dólares.\n",
    "\n",
    "4. **`return float(precio.replace('€', '').strip()) * tipo_cambio`**:\n",
    "   - Si el precio está en euros, se elimina el símbolo de euro y se convierte el string a un número flotante. Luego, se multiplica por el `tipo_cambio` para obtener el precio en dólares.\n",
    "\n",
    "5. **`elif '$' in precio:`**:\n",
    "   - Esta línea verifica si el símbolo de dólar (`'$'`) está presente en el string `precio`. Si es así, se procede a convertir el precio a un número flotante sin cambios adicionales.\n",
    "\n",
    "6. **`df['price'] = df['price'].apply(convertir_precio)`**:\n",
    "   - Se aplica la función `convertir_precio` a cada elemento de la columna `'price'` del DataFrame `df`. El resultado de la conversión se almacena nuevamente en la columna `'price'`.\n",
    "\n",
    "7. **`print(df['price'].head(12))`**:\n",
    "   - Esta línea imprime las primeras 12 filas de la columna `'price'` del DataFrame, mostrando los precios convertidos.\n",
    "\n",
    "8. **`df.dtypes`**:\n",
    "   - Este atributo devuelve los tipos de datos de cada columna en el DataFrame `df`, permitiendo verificar que la columna `'price'` ahora contiene valores numéricos después de la conversión.\n"
   ]
  },
  {
   "cell_type": "code",
   "execution_count": 15,
   "metadata": {
    "colab": {
     "base_uri": "https://localhost:8080/",
     "height": 308
    },
    "executionInfo": {
     "elapsed": 271,
     "status": "ok",
     "timestamp": 1707931266781,
     "user": {
      "displayName": "momentum uvigo",
      "userId": "17476504355103610358"
     },
     "user_tz": -60
    },
    "id": "PD9lkVneIjfj",
    "outputId": "7ed1970b-15cd-4de6-e53c-348f733e9686"
   },
   "outputs": [
    {
     "name": "stdout",
     "output_type": "stream",
     "text": [
      "Antes de la modificación:\n",
      "0     12495€\n",
      "1     15278€\n",
      "2     15278€\n",
      "3     12917€\n",
      "4     16157€\n",
      "5     14120€\n",
      "6     16398€\n",
      "7     17519€\n",
      "8     22106€\n",
      "10    16430$\n",
      "11    16925$\n",
      "12    20970$\n",
      "Name: price, dtype: object\n"
     ]
    },
    {
     "data": {
      "text/plain": [
       "symboling             int64\n",
       "make                 object\n",
       "fuel_type            object\n",
       "aspiration           object\n",
       "num_of_doors         object\n",
       "body_style           object\n",
       "drive_wheels         object\n",
       "engine_location      object\n",
       "wheel_base            int64\n",
       "length                int64\n",
       "width                 int64\n",
       "height                int64\n",
       "curb_weight           int64\n",
       "engine_type          object\n",
       "num_of_cylinders     object\n",
       "engine_size           int64\n",
       "fuel_system          object\n",
       "bore                 object\n",
       "stroke               object\n",
       "compression_ratio     int64\n",
       "horsepower           object\n",
       "peak_rpm             object\n",
       "city_mpg              int64\n",
       "highway_mpg           int64\n",
       "price                object\n",
       "dtype: object"
      ]
     },
     "execution_count": 15,
     "metadata": {},
     "output_type": "execute_result"
    }
   ],
   "source": [
    "print(\"Antes de la modificación:\")\n",
    "print(df['price'].head(12))\n",
    "df.dtypes"
   ]
  },
  {
   "cell_type": "code",
   "execution_count": 16,
   "metadata": {},
   "outputs": [
    {
     "name": "stdout",
     "output_type": "stream",
     "text": [
      "0     13494.60\n",
      "1     16500.24\n",
      "2     16500.24\n",
      "3     13950.36\n",
      "4     17449.56\n",
      "5     15249.60\n",
      "6     17709.84\n",
      "7     18920.52\n",
      "8     23874.48\n",
      "10    16430.00\n",
      "11    16925.00\n",
      "12    20970.00\n",
      "Name: price, dtype: float64\n"
     ]
    },
    {
     "data": {
      "text/plain": [
       "symboling              int64\n",
       "make                  object\n",
       "fuel_type             object\n",
       "aspiration            object\n",
       "num_of_doors          object\n",
       "body_style            object\n",
       "drive_wheels          object\n",
       "engine_location       object\n",
       "wheel_base             int64\n",
       "length                 int64\n",
       "width                  int64\n",
       "height                 int64\n",
       "curb_weight            int64\n",
       "engine_type           object\n",
       "num_of_cylinders      object\n",
       "engine_size            int64\n",
       "fuel_system           object\n",
       "bore                  object\n",
       "stroke                object\n",
       "compression_ratio      int64\n",
       "horsepower            object\n",
       "peak_rpm              object\n",
       "city_mpg               int64\n",
       "highway_mpg            int64\n",
       "price                float64\n",
       "dtype: object"
      ]
     },
     "execution_count": 16,
     "metadata": {},
     "output_type": "execute_result"
    }
   ],
   "source": [
    "# Definir el tipo de cambio\n",
    "tipo_cambio = 1.08  # 1 euro = 1.1 dólares\n",
    " \n",
    "# Función para convertir precios\n",
    "def convertir_precio(precio):\n",
    "    if '€' in precio:\n",
    "        return float(precio.replace('€', '').strip()) * tipo_cambio\n",
    "    elif '$' in precio:\n",
    "        return float(precio.replace('$', '').strip())\n",
    "\n",
    "# Aplicar la conversión a la columna 'price'\n",
    "df['price'] = df['price'].apply(convertir_precio)\n",
    "print(df['price'].head(12))\n",
    "df.dtypes\n"
   ]
  },
  {
   "cell_type": "markdown",
   "metadata": {
    "id": "J1QRaahbDzZU"
   },
   "source": [
    "### Transformación del tipo de dato de las columnas\n",
    "\n",
    "Las columnas *bore*, *stroke*, *horsepower* y *peak_rpm* se cargaron como tipo `object` en lugar de numéricas porque contenían el símbolo `?`.\n",
    "\n",
    "Convertir dichas columnas a tipo numérico y mostrar los nuevos tipos."
   ]
  },
  {
   "cell_type": "code",
   "execution_count": 17,
   "metadata": {
    "colab": {
     "base_uri": "https://localhost:8080/"
    },
    "executionInfo": {
     "elapsed": 288,
     "status": "ok",
     "timestamp": 1707931286763,
     "user": {
      "displayName": "momentum uvigo",
      "userId": "17476504355103610358"
     },
     "user_tz": -60
    },
    "id": "vAa46cfkDzZU",
    "outputId": "2d94bc96-9fd2-4a69-837f-468b4b42f3e9"
   },
   "outputs": [
    {
     "name": "stdout",
     "output_type": "stream",
     "text": [
      "symboling              int64\n",
      "make                  object\n",
      "fuel_type             object\n",
      "aspiration            object\n",
      "num_of_doors          object\n",
      "body_style            object\n",
      "drive_wheels          object\n",
      "engine_location       object\n",
      "wheel_base             int64\n",
      "length                 int64\n",
      "width                  int64\n",
      "height                 int64\n",
      "curb_weight            int64\n",
      "engine_type           object\n",
      "num_of_cylinders      object\n",
      "engine_size            int64\n",
      "fuel_system           object\n",
      "bore                 float64\n",
      "stroke               float64\n",
      "compression_ratio      int64\n",
      "horsepower           float64\n",
      "peak_rpm             float64\n",
      "city_mpg               int64\n",
      "highway_mpg            int64\n",
      "price                float64\n",
      "dtype: object\n"
     ]
    }
   ],
   "source": [
    "df['bore'] = df['bore'].astype(float)\n",
    "df['stroke'] = df['stroke'].astype(float)\n",
    "df['horsepower'] = df['horsepower'].astype(float)\n",
    "df['peak_rpm'] = df['peak_rpm'].astype(float)\n",
    "print(df.dtypes)"
   ]
  },
  {
   "cell_type": "markdown",
   "metadata": {
    "id": "4BSQqHrSDzZU"
   },
   "source": [
    "### *Feature engineering* y transformación de variables"
   ]
  },
  {
   "cell_type": "markdown",
   "metadata": {
    "id": "H6-m0kPGDzZU"
   },
   "source": [
    "#### Agregación de variables categóricas\n",
    "\n",
    "Calcular y mostrar la tabla de frecuencias de la columna `num_of_cylinders`. Interpreta el resultado.\n",
    "\n",
    "#### Explicación del Código\n",
    "\n",
    "1. **`pd.Series(df['num_of_cylinders'].value_counts())`**:\n",
    "   - Este método cuenta la frecuencia de cada valor único en la columna `'num_of_cylinders'` del DataFrame `df`. Devuelve una serie donde los índices son los valores únicos de la columna y los valores son las cantidades de ocurrencias de cada uno. El resultado se almacena en la variable `cil_ctr`.\n",
    "\n",
    "2. **`print(cil_ctr)`**:\n",
    "   - Esta línea imprime el contenido de la variable `cil_ctr`, mostrando la frecuencia de cada tipo de cilindro en la consola.\n"
   ]
  },
  {
   "cell_type": "code",
   "execution_count": 18,
   "metadata": {},
   "outputs": [
    {
     "name": "stdout",
     "output_type": "stream",
     "text": [
      "num_of_cylinders\n",
      "four      153\n",
      "six        24\n",
      "five       10\n",
      "eight       4\n",
      "three       1\n",
      "twelve      1\n",
      "Name: count, dtype: int64\n"
     ]
    }
   ],
   "source": [
    "cil_ctr=pd.Series(df['num_of_cylinders'].value_counts())\n",
    "print(cil_ctr)"
   ]
  },
  {
   "cell_type": "markdown",
   "metadata": {
    "id": "YdnsmmBODzZU"
   },
   "source": [
    "Las categorías con muy pocas instancias (`three`, `five`, `eight` y `twelve`), son estadísticamente muy poco relevantes, por lo que se agregarán en un número menor de categorías: `three_four`, `five_six` y `eight_twelve`.\n",
    "\n",
    "Mostrar las nuevas categorías y sus frecuencias.\n",
    "\n",
    "#### Explicación del Código\n",
    "\n",
    "1. **`df['num_of_cylinders'].replace({...})`**:\n",
    "   - Este método se utiliza para reemplazar valores en la columna `'num_of_cylinders'` del DataFrame `df`. En este caso, se están agrupando los valores de cilindros en categorías más amplias: `'three'` y `'four'` se reemplazan por `'three_four'`, `'five'` y `'six'` por `'five_six'`, y `'eight'` y `'twelve'` por `'eight_twelve'`. El resultado de esta operación se asigna a una nueva columna llamada `'gruped_num_of_cylinders'`.\n",
    "\n",
    "2. **`pd.Series(df['gruped_num_of_cylinders'].value_counts())`**:\n",
    "   - Este método cuenta la frecuencia de cada valor único en la columna `'gruped_num_of_cylinders'`. Devuelve una serie donde los índices son los valores únicos de la columna agrupada y los valores son las cantidades de ocurrencias de cada uno. El resultado se almacena en la variable `cil_ctr`.\n",
    "\n",
    "3. **`print(cil_ctr)`**:\n",
    "   - Esta línea imprime el contenido de la variable `cil_ctr`, mostrando la frecuencia de cada grupo de cilindros en la consola.\n"
   ]
  },
  {
   "cell_type": "code",
   "execution_count": 19,
   "metadata": {
    "colab": {
     "base_uri": "https://localhost:8080/"
    },
    "executionInfo": {
     "elapsed": 267,
     "status": "ok",
     "timestamp": 1707931305482,
     "user": {
      "displayName": "momentum uvigo",
      "userId": "17476504355103610358"
     },
     "user_tz": -60
    },
    "id": "FocDI99UDzZV",
    "outputId": "6918af39-7a19-4aea-be4c-33c038b2d9dc"
   },
   "outputs": [
    {
     "name": "stdout",
     "output_type": "stream",
     "text": [
      "gruped_num_of_cylinders\n",
      "three_four      154\n",
      "five_six         34\n",
      "eight_twelve      5\n",
      "Name: count, dtype: int64\n"
     ]
    }
   ],
   "source": [
    "df['gruped_num_of_cylinders'] = df['num_of_cylinders'].replace({'three': 'three_four', 'four': 'three_four', 'five': 'five_six', 'six': 'five_six', 'eight': 'eight_twelve', 'twelve': 'eight_twelve'})\n",
    "cil_ctr=pd.Series(df['gruped_num_of_cylinders'].value_counts())\n",
    "print(cil_ctr)\n",
    "\n"
   ]
  },
  {
   "cell_type": "markdown",
   "metadata": {
    "id": "ijnbUOc6DzZV"
   },
   "source": [
    "Mostrar con diagramas de cajas (*boxplot*) la distribución de precios para cada una de las tres categorias de la columna `num_of_cylinders`.\n",
    "\n",
    "#### Explicación del Código\n",
    "\n",
    "**`sns.boxplot(y, x)`**:\n",
    "- Esta función de Seaborn se utiliza para crear un boxplot (diagrama de caja) que visualiza la distribución de un conjunto de datos. En este caso, se está creando un boxplot para mostrar la relación entre el número de cilindros agrupados y los precios de los vehículos.\n",
    "\n",
    "  - **`y=df['gruped_num_of_cylinders']`**: Especifica que los valores del eje y del boxplot serán el número de cilindros agrupados, que se obtienen de la columna `'gruped_num_of_cylinders'` del DataFrame `df`.\n",
    "  \n",
    "  - **`x=df['price']`**: Especifica que los valores del eje x del boxplot serán los precios de los vehículos, que se obtienen de la columna `'price'` del DataFrame `df`."
   ]
  },
  {
   "cell_type": "code",
   "execution_count": 20,
   "metadata": {},
   "outputs": [
    {
     "data": {
      "text/plain": [
       "<Axes: xlabel='price', ylabel='gruped_num_of_cylinders'>"
      ]
     },
     "execution_count": 20,
     "metadata": {},
     "output_type": "execute_result"
    },
    {
     "data": {
      "image/png": "[encoded data removed]",
      "text/plain": [
       "<Figure size 640x480 with 1 Axes>"
      ]
     },
     "metadata": {},
     "output_type": "display_data"
    }
   ],
   "source": [
    "sns.boxplot(y=df['gruped_num_of_cylinders'],x=df['price'])"
   ]
  },
  {
   "cell_type": "markdown",
   "metadata": {
    "id": "5aLXOXcbDzZV"
   },
   "source": [
    "Calcular la frecuencia de cada categoría de la columna 'body_style'.\n",
    "\n",
    "#### Explicación del Código\n",
    "\n",
    "1. **`df['body_style'].value_counts()`**:\n",
    "   - Este método cuenta la frecuencia de cada valor único en la columna `'body_style'` del DataFrame `df`. Devuelve una serie donde los índices son los valores únicos de la columna y los valores son las cantidades de ocurrencias de cada uno. Esto permite identificar cuántos vehículos hay de cada tipo de carrocería.\n",
    "\n",
    "2. **`bodystyle_ctr`**:\n",
    "   - Esta línea almacena el resultado de `value_counts()` en la variable `bodystyle_ctr`, que contendrá la frecuencia de cada estilo de carrocería en el DataFrame.\n",
    "\n"
   ]
  },
  {
   "cell_type": "code",
   "execution_count": 21,
   "metadata": {},
   "outputs": [
    {
     "data": {
      "text/plain": [
       "body_style\n",
       "sedan          92\n",
       "hatchback      63\n",
       "wagon          24\n",
       "hardtop         8\n",
       "convertible     6\n",
       "Name: count, dtype: int64"
      ]
     },
     "execution_count": 21,
     "metadata": {},
     "output_type": "execute_result"
    }
   ],
   "source": [
    "bodystyle_ctr= df['body_style'].value_counts()\n",
    "bodystyle_ctr"
   ]
  },
  {
   "cell_type": "markdown",
   "metadata": {
    "id": "EXjDutCuDzZV"
   },
   "source": [
    "Dos de las categorías tienen un número bajo de ocurrencias. Estas categorías  se pueden agregar de forma similar a cómo se hizo con la columna '`num_of_cylinders`'.\n",
    "\n",
    "Los valores '`hardtop`' y '`convertible`' se agruparán en '`hardtop_convert`.\n",
    "\n",
    "### Explicación del Código\n",
    "\n",
    "1. **`df['body_style'].replace({...})`**:\n",
    "   - Este método se utiliza para reemplazar valores en la columna `'body_style'` del DataFrame `df`. En este caso, se están reemplazando los valores `'hardtop'` y `'convertible'` por `'hardtop_convert'`. El resultado de esta operación se asigna a una nueva columna llamada `'grouped_bodystyle'`.\n",
    "\n",
    "2. **`df['grouped_bodystyle']`**:\n",
    "   - Esta línea accede a la nueva columna `'grouped_bodystyle'` que contiene los valores modificados de la columna `'body_style'`. \n",
    "\n",
    "3. **`value_counts()`**:\n",
    "   - Este método cuenta la frecuencia de cada valor único en la columna `'grouped_bodystyle'`. Devuelve una serie con los valores únicos como índices y sus respectivas frecuencias como valores. El resultado se almacena en la variable `bodystyle_ctr`.\n"
   ]
  },
  {
   "cell_type": "code",
   "execution_count": 22,
   "metadata": {},
   "outputs": [
    {
     "data": {
      "text/plain": [
       "grouped_bodystyle\n",
       "sedan              92\n",
       "hatchback          63\n",
       "wagon              24\n",
       "hardtop_convert    14\n",
       "Name: count, dtype: int64"
      ]
     },
     "execution_count": 22,
     "metadata": {},
     "output_type": "execute_result"
    }
   ],
   "source": [
    "df['grouped_bodystyle']=df['body_style'].replace({'hardtop':'hardtop_convert','convertible':'hardtop_convert'})\n",
    "bodystyle_ctr= df['grouped_bodystyle'].value_counts()\n",
    "bodystyle_ctr"
   ]
  },
  {
   "cell_type": "markdown",
   "metadata": {
    "id": "PL5tlLS2DzZW"
   },
   "source": [
    "Mostrar con diagramas de cajas (boxplot) la distribución de precios para cada una de las categorias de la columna `body_style`.\n",
    "\n",
    "#### Explicación del Código\n",
    "\n",
    "**`sns.boxplot(x, y)`**:\n",
    "- Esta función de Seaborn se utiliza para crear un boxplot (diagrama de caja) que visualiza la distribución de un conjunto de datos. En este caso, se está creando un boxplot para mostrar la relación entre los precios de los vehículos y su estilo de carrocería.\n",
    "\n",
    "  - **`x=df['price']`**: Especifica que los valores del eje x del boxplot serán los precios de los vehículos, que se obtienen de la columna `'price'` del DataFrame `df`.\n",
    "  \n",
    "  - **`y=df['grouped_bodystyle']`**: Especifica que los valores del eje y del boxplot serán los estilos de carrocería agrupados, que se obtienen de la columna `'grouped_bodystyle'` del DataFrame `df`.\n",
    "\n"
   ]
  },
  {
   "cell_type": "code",
   "execution_count": 23,
   "metadata": {},
   "outputs": [
    {
     "data": {
      "image/png": "[encoded data removed]",
      "text/plain": [
       "<Figure size 640x480 with 1 Axes>"
      ]
     },
     "metadata": {},
     "output_type": "display_data"
    }
   ],
   "source": [
    "bodystyle_price_plot=sns.boxplot(x=df['price'],y=df['grouped_bodystyle'])"
   ]
  },
  {
   "cell_type": "markdown",
   "metadata": {
    "id": "k9q2tQ-PAp7s"
   },
   "source": [
    "Usar `matplotlib.cbook.boxplot_stats` para mostrar la información del precio del las filas con valor '*sedan*' en la columna '*body_style*'."
   ]
  },
  {
   "cell_type": "markdown",
   "metadata": {},
   "source": [
    "#### Explicación del Código\n",
    "\n",
    "1. **`df[df['body_style']=='sedan']`**:\n",
    "   - Esta expresión filtra el DataFrame `df` para seleccionar solo las filas donde la columna `'body_style'` es igual a `'sedan'`. El resultado es un nuevo DataFrame llamado `sedan_data` que contiene únicamente los datos de los vehículos de tipo sedan.\n",
    "\n",
    "2. **`boxplot_stats(sedan_data['price'])`**:\n",
    "   - La función `boxplot_stats()` de la biblioteca `matplotlib.cbook` calcula estadísticas descriptivas para la columna `'price'` del DataFrame `sedan_data`. Estas estadísticas incluyen valores como la mediana, los cuartiles, y los límites de los bigotes, que son útiles para identificar valores atípicos en un boxplot. El resultado se almacena en la variable `stats_sedan`.\n",
    "\n",
    "3. **`stats_sedan`**:\n",
    "   - Esta línea simplemente muestra el contenido de la variable `stats_sedan`, que contiene las estadísticas calculadas para los precios de los vehículos de tipo sedan. Esto permite visualizar los resultados de las estadísticas descriptivas.\n",
    "\n",
    "4. **`df.shape`**:\n",
    "   - Este atributo devuelve una tupla que representa las dimensiones del DataFrame `df`, donde el primer elemento es el número de filas y el segundo elemento es el número de columnas. Se utiliza para verificar el tamaño del DataFrame original antes de realizar cualquier operación adicional.\n",
    "\n",
    "### Resumen\n",
    "El código filtra el DataFrame `df` para obtener solo los datos de los vehículos de tipo `'sedan'`, calcula las estadísticas descriptivas de los precios de estos vehículos utilizando `boxplot_stats()`, y finalmente muestra las dimensiones del DataFrame original."
   ]
  },
  {
   "cell_type": "code",
   "execution_count": 24,
   "metadata": {
    "colab": {
     "base_uri": "https://localhost:8080/"
    },
    "executionInfo": {
     "elapsed": 298,
     "status": "ok",
     "timestamp": 1707931335328,
     "user": {
      "displayName": "momentum uvigo",
      "userId": "17476504355103610358"
     },
     "user_tz": -60
    },
    "id": "CNRRPAL38txG",
    "outputId": "98f97f6a-059d-434a-af4d-3b32e9f666e9"
   },
   "outputs": [
    {
     "data": {
      "text/plain": [
       "(193, 27)"
      ]
     },
     "execution_count": 24,
     "metadata": {},
     "output_type": "execute_result"
    }
   ],
   "source": [
    "sedan_data=df[df['body_style']=='sedan']\n",
    "stats_sedan=boxplot_stats(sedan_data['price'])\n",
    "stats_sedan\n",
    "df.shape"
   ]
  },
  {
   "cell_type": "markdown",
   "metadata": {
    "id": "TvLmBKshBI0I"
   },
   "source": [
    "Usando el valor '`whishi`' recién calculado, eliminar las filas que tienen ese precio cuando en la columna '*body_style*' se encuentra el valor '*sedan*'."
   ]
  },
  {
   "cell_type": "markdown",
   "metadata": {},
   "source": [
    "#### Explicación del Código\n",
    "\n",
    "1. **`stats_sedan[0]['whishi']`**:\n",
    "   - Accede al primer elemento de la lista `stats_sedan` y obtiene el valor asociado a la clave `'whishi'`. Este valor representa el límite superior de los \"bigotes\" en un boxplot, que se utiliza para identificar valores atípicos en la columna de precios para el grupo de estilo de carrocería `'sedan'`.\n",
    "\n",
    "2. **`DataFrame.drop(index)`**:\n",
    "   - El método `drop()` se utiliza para eliminar filas o columnas de un DataFrame. En este caso, se está eliminando un subconjunto de filas del DataFrame `df`. El parámetro `index` especifica las filas que se deben eliminar, que son aquellas donde el estilo de carrocería es `'sedan'` y el precio es mayor o igual al valor de `whishi`.\n",
    "\n",
    "3. **`df[(df['grouped_bodystyle']=='sedan') & (df['price']>=whishi)].index`**:\n",
    "   - Esta expresión crea un filtro que selecciona las filas del DataFrame `df` donde la columna `'grouped_bodystyle'` es igual a `'sedan'` y la columna `'price'` es mayor o igual a `whishi`. El resultado es un objeto `Index` que contiene los índices de las filas que cumplen con estas condiciones.\n",
    "\n",
    "4. **`df.shape`**:\n",
    "   - Este atributo devuelve una tupla que representa las dimensiones del DataFrame `df`, donde el primer elemento es el número de filas y el segundo elemento es el número de columnas. Se utiliza para verificar el tamaño del DataFrame después de realizar la operación de eliminación.\n",
    "\n",
    "### Resumen\n",
    "El código obtiene el valor de `whishi` de las estadísticas de los precios para los vehículos de tipo `'sedan'`, elimina las filas del DataFrame `df` donde el precio es mayor o igual a `whishi` para esos vehículos, y finalmente muestra las dimensiones del DataFrame resultante."
   ]
  },
  {
   "cell_type": "code",
   "execution_count": 25,
   "metadata": {
    "id": "pus2kFT198i3"
   },
   "outputs": [
    {
     "data": {
      "text/plain": [
       "(186, 27)"
      ]
     },
     "execution_count": 25,
     "metadata": {},
     "output_type": "execute_result"
    }
   ],
   "source": [
    "whishi = stats_sedan[0]['whishi']\n",
    "df = df.drop(df[(df['grouped_bodystyle']=='sedan')&(df['price']>=whishi)].index)\n",
    "df.shape"
   ]
  },
  {
   "cell_type": "markdown",
   "metadata": {
    "id": "7FwGJVeDBnaA"
   },
   "source": [
    "Comprobar el efecto volviendo a mostrar el diagrama de cajas del precio en función de la columna '*body_style*'."
   ]
  },
  {
   "cell_type": "code",
   "execution_count": 26,
   "metadata": {},
   "outputs": [
    {
     "data": {
      "image/png": "[encoded data removed]",
      "text/plain": [
       "<Figure size 640x480 with 1 Axes>"
      ]
     },
     "metadata": {},
     "output_type": "display_data"
    }
   ],
   "source": [
    "bodystyle_price_plot=sns.boxplot(x=df['price'],y=df['grouped_bodystyle'])"
   ]
  },
  {
   "cell_type": "markdown",
   "metadata": {
    "id": "IXOj7UYhfdJb"
   },
   "source": [
    "### Mostrar un mapa de calor de las columnas numéricas\n"
   ]
  },
  {
   "cell_type": "markdown",
   "metadata": {},
   "source": [
    "#### Explicación de la Función\n",
    "\n",
    "**`DataFrame.select_dtypes(include)`**:\n",
    "- Selecciona columnas de un DataFrame basándose en su tipo de datos. El parámetro `include` permite especificar qué tipos de datos se deben incluir en la selección. Por ejemplo, `np.number` selecciona todas las columnas que son de tipo numérico (tanto enteros como flotantes). Esta función es útil para filtrar columnas y trabajar solo con aquellas que cumplen con ciertos criterios de tipo de datos."
   ]
  },
  {
   "cell_type": "code",
   "execution_count": 27,
   "metadata": {},
   "outputs": [
    {
     "name": "stdout",
     "output_type": "stream",
     "text": [
      "['symboling', 'wheel_base', 'length', 'width', 'height', 'curb_weight', 'engine_size', 'bore', 'stroke', 'compression_ratio', 'horsepower', 'peak_rpm', 'city_mpg', 'highway_mpg', 'price']\n"
     ]
    }
   ],
   "source": [
    "numeric_columns= df.select_dtypes(np.number)\n",
    "print(list(numeric_columns.columns))"
   ]
  },
  {
   "cell_type": "markdown",
   "metadata": {},
   "source": [
    "#### Explicación de Funciones\n",
    "\n",
    "1. **`DataFrame.corr()`**:\n",
    "   - Calcula la matriz de correlación entre las columnas numéricas de un DataFrame. La correlación mide la relación lineal entre dos variables, devolviendo un valor entre -1 y 1, donde 1 indica una correlación positiva perfecta, -1 una correlación negativa perfecta, y 0 indica que no hay correlación.\n",
    "\n",
    "2. **`DataFrame.abs()`**:\n",
    "   - Devuelve un nuevo DataFrame con el valor absoluto de cada elemento. Es útil para eliminar el signo de los números, permitiendo trabajar solo con la magnitud de los valores.\n",
    "\n",
    "3. **`plt.subplots(figsize=(width, height))`**:\n",
    "   - Crea una figura y un conjunto de subgráficas (axes) en Matplotlib. El parámetro `figsize` especifica el tamaño de la figura en pulgadas, permitiendo personalizar el espacio de visualización para gráficos.\n",
    "\n",
    "4. **`sns.heatmap(data, annot=False, fmt=None, ax=None)`**:\n",
    "   - Crea un mapa de calor a partir de los datos proporcionados. Los parámetros permiten personalizar la visualización:\n",
    "     - **`data`**: La matriz de datos que se va a visualizar.\n",
    "     - **`annot`**: Si se debe mostrar el valor de cada celda en el mapa de calor.\n",
    "     - **`fmt`**: Formato de los números que se mostrarán en las celdas.\n",
    "     - **`ax`**: El objeto de ejes en el que se dibujará el mapa de calor.\n",
    "\n"
   ]
  },
  {
   "cell_type": "code",
   "execution_count": 28,
   "metadata": {},
   "outputs": [
    {
     "data": {
      "text/plain": [
       "<Axes: >"
      ]
     },
     "execution_count": 28,
     "metadata": {},
     "output_type": "execute_result"
    },
    {
     "data": {
      "image/png": "[encoded data removed]",
      "text/plain": [
       "<Figure size 1100x600 with 2 Axes>"
      ]
     },
     "metadata": {},
     "output_type": "display_data"
    }
   ],
   "source": [
    "correlation_matrix=numeric_columns.corr().abs()\n",
    "f, ax = plt.subplots(figsize=(11, 6))\n",
    "sns.heatmap(correlation_matrix,annot=True,fmt='.1g',ax=ax)\n"
   ]
  },
  {
   "cell_type": "markdown",
   "metadata": {
    "id": "FhoSjKGQAdZk"
   },
   "source": [
    "### Guardar en un fichero *csv* el dataset preparado"
   ]
  },
  {
   "cell_type": "markdown",
   "metadata": {},
   "source": [
    "#### Función `df.to_csv()` en pandas\n",
    "\n",
    "La función `df.to_csv()` se utiliza para exportar un DataFrame de pandas a un archivo en formato CSV (Comma-Separated Values). Este formato es ampliamente utilizado para almacenar datos tabulares y es compatible con muchas aplicaciones, como hojas de cálculo y bases de datos.\n",
    "\n",
    "##### Sintaxis\n",
    "\n",
    "```python\n",
    "DataFrame.to_csv(path_or_buf=None, sep=',', na_rep='', header=True, index=True, encoding=None, ...)\n",
    "```\n",
    "\n",
    "##### Parámetros Clave\n",
    "\n",
    "- **`path_or_buf`**: Ruta del archivo donde se guardará el CSV.\n",
    "- **`sep`**: Separador de los valores en el archivo (por defecto es `,`).\n",
    "- **`na_rep`**: Representación de los valores nulos (por defecto es `''`).\n",
    "- **`header`**: Si se debe incluir la fila de encabezado (por defecto es `True`).\n",
    "- **`index`**: Si se debe incluir el índice del DataFrame (por defecto es `True`).\n",
    "- **`encoding`**: Codificación del archivo (por ejemplo, `utf-8`).\n"
   ]
  },
  {
   "cell_type": "code",
   "execution_count": 29,
   "metadata": {
    "id": "mkVJw2GqDzZj"
   },
   "outputs": [],
   "source": [
    "df.to_csv('02.1.auto_prices_filtered.csv')"
   ]
  }
 ],
 "metadata": {
  "colab": {
   "provenance": []
  },
  "kernelspec": {
   "display_name": "venv_dl",
   "language": "python",
   "name": "python3"
  },
  "language_info": {
   "codemirror_mode": {
    "name": "ipython",
    "version": 3
   },
   "file_extension": ".py",
   "mimetype": "text/x-python",
   "name": "python",
   "nbconvert_exporter": "python",
   "pygments_lexer": "ipython3",
   "version": "3.12.7"
  }
 },
 "nbformat": 4,
 "nbformat_minor": 0
}
