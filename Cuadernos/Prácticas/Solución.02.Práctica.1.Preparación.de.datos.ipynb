{
 "cells": [
  {
   "cell_type": "markdown",
   "metadata": {
    "id": "t3wQoAjmERnH"
   },
   "source": [
    "## Preparación de datos"
   ]
  },
  {
   "cell_type": "markdown",
   "metadata": {
    "id": "TuY9Co_4EfWN"
   },
   "source": [
    "### Importaciones"
   ]
  },
  {
   "cell_type": "code",
   "execution_count": 27,
   "metadata": {
    "executionInfo": {
     "elapsed": 2728,
     "status": "ok",
     "timestamp": 1740653326311,
     "user": {
      "displayName": "momentum uvigo",
      "userId": "17476504355103610358"
     },
     "user_tz": -60
    },
    "id": "4BizLLxtDzZO"
   },
   "outputs": [],
   "source": [
    "import pandas as pd\n",
    "import matplotlib.pyplot as plt\n",
    "import seaborn as sns\n",
    "import numpy as np\n",
    "import numpy.random as nr\n",
    "import math\n",
    "\n",
    "%matplotlib inline"
   ]
  },
  {
   "cell_type": "markdown",
   "metadata": {
    "id": "iwyHd_4BDzZN"
   },
   "source": [
    "### Carga del dataset\n",
    "\n",
    "Leer en un dataframe de pandas el dataset contenido en el fichero **Automobile_price.csv** y Muestra las primeras 10 líneas."
   ]
  },
  {
   "cell_type": "code",
   "execution_count": 28,
   "metadata": {
    "colab": {
     "base_uri": "https://localhost:8080/",
     "height": 499
    },
    "executionInfo": {
     "elapsed": 1451,
     "status": "ok",
     "timestamp": 1740653352490,
     "user": {
      "displayName": "momentum uvigo",
      "userId": "17476504355103610358"
     },
     "user_tz": -60
    },
    "id": "wg6NEPUGDzZQ",
    "outputId": "aff309f2-fd35-41ea-c9e9-4d85fd6bad91"
   },
   "outputs": [
    {
     "data": {
      "text/html": [
       "<div>\n",
       "<style scoped>\n",
       "    .dataframe tbody tr th:only-of-type {\n",
       "        vertical-align: middle;\n",
       "    }\n",
       "\n",
       "    .dataframe tbody tr th {\n",
       "        vertical-align: top;\n",
       "    }\n",
       "\n",
       "    .dataframe thead th {\n",
       "        text-align: right;\n",
       "    }\n",
       "</style>\n",
       "<table border=\"1\" class=\"dataframe\">\n",
       "  <thead>\n",
       "    <tr style=\"text-align: right;\">\n",
       "      <th></th>\n",
       "      <th>symboling</th>\n",
       "      <th>normalized-losses</th>\n",
       "      <th>make</th>\n",
       "      <th>fuel-type</th>\n",
       "      <th>aspiration</th>\n",
       "      <th>num-of-doors</th>\n",
       "      <th>body-style</th>\n",
       "      <th>drive-wheels</th>\n",
       "      <th>engine-location</th>\n",
       "      <th>wheel-base</th>\n",
       "      <th>...</th>\n",
       "      <th>engine-size</th>\n",
       "      <th>fuel-system</th>\n",
       "      <th>bore</th>\n",
       "      <th>stroke</th>\n",
       "      <th>compression-ratio</th>\n",
       "      <th>horsepower</th>\n",
       "      <th>peak-rpm</th>\n",
       "      <th>city-mpg</th>\n",
       "      <th>highway-mpg</th>\n",
       "      <th>price</th>\n",
       "    </tr>\n",
       "  </thead>\n",
       "  <tbody>\n",
       "    <tr>\n",
       "      <th>0</th>\n",
       "      <td>3</td>\n",
       "      <td>?</td>\n",
       "      <td>alfa-romero</td>\n",
       "      <td>gas</td>\n",
       "      <td>std</td>\n",
       "      <td>two</td>\n",
       "      <td>convertible</td>\n",
       "      <td>rwd</td>\n",
       "      <td>front</td>\n",
       "      <td>8860</td>\n",
       "      <td>...</td>\n",
       "      <td>130</td>\n",
       "      <td>mpfi</td>\n",
       "      <td>3.47</td>\n",
       "      <td>2.68</td>\n",
       "      <td>900</td>\n",
       "      <td>111</td>\n",
       "      <td>5000</td>\n",
       "      <td>21</td>\n",
       "      <td>27</td>\n",
       "      <td>12495€</td>\n",
       "    </tr>\n",
       "    <tr>\n",
       "      <th>1</th>\n",
       "      <td>3</td>\n",
       "      <td>?</td>\n",
       "      <td>alfa-romero</td>\n",
       "      <td>gas</td>\n",
       "      <td>std</td>\n",
       "      <td>two</td>\n",
       "      <td>convertible</td>\n",
       "      <td>rwd</td>\n",
       "      <td>front</td>\n",
       "      <td>8860</td>\n",
       "      <td>...</td>\n",
       "      <td>130</td>\n",
       "      <td>mpfi</td>\n",
       "      <td>3.47</td>\n",
       "      <td>2.68</td>\n",
       "      <td>900</td>\n",
       "      <td>111</td>\n",
       "      <td>5000</td>\n",
       "      <td>21</td>\n",
       "      <td>27</td>\n",
       "      <td>15278€</td>\n",
       "    </tr>\n",
       "    <tr>\n",
       "      <th>2</th>\n",
       "      <td>1</td>\n",
       "      <td>?</td>\n",
       "      <td>alfa-romero</td>\n",
       "      <td>gas</td>\n",
       "      <td>std</td>\n",
       "      <td>two</td>\n",
       "      <td>hatchback</td>\n",
       "      <td>rwd</td>\n",
       "      <td>front</td>\n",
       "      <td>9450</td>\n",
       "      <td>...</td>\n",
       "      <td>152</td>\n",
       "      <td>mpfi</td>\n",
       "      <td>2.68</td>\n",
       "      <td>3.47</td>\n",
       "      <td>900</td>\n",
       "      <td>154</td>\n",
       "      <td>5000</td>\n",
       "      <td>19</td>\n",
       "      <td>26</td>\n",
       "      <td>15278€</td>\n",
       "    </tr>\n",
       "    <tr>\n",
       "      <th>3</th>\n",
       "      <td>2</td>\n",
       "      <td>164</td>\n",
       "      <td>audi</td>\n",
       "      <td>gas</td>\n",
       "      <td>std</td>\n",
       "      <td>four</td>\n",
       "      <td>sedan</td>\n",
       "      <td>fwd</td>\n",
       "      <td>front</td>\n",
       "      <td>9980</td>\n",
       "      <td>...</td>\n",
       "      <td>109</td>\n",
       "      <td>mpfi</td>\n",
       "      <td>3.19</td>\n",
       "      <td>3.40</td>\n",
       "      <td>1000</td>\n",
       "      <td>102</td>\n",
       "      <td>5500</td>\n",
       "      <td>24</td>\n",
       "      <td>30</td>\n",
       "      <td>12917€</td>\n",
       "    </tr>\n",
       "    <tr>\n",
       "      <th>4</th>\n",
       "      <td>2</td>\n",
       "      <td>164</td>\n",
       "      <td>audi</td>\n",
       "      <td>gas</td>\n",
       "      <td>std</td>\n",
       "      <td>four</td>\n",
       "      <td>sedan</td>\n",
       "      <td>4wd</td>\n",
       "      <td>front</td>\n",
       "      <td>9940</td>\n",
       "      <td>...</td>\n",
       "      <td>136</td>\n",
       "      <td>mpfi</td>\n",
       "      <td>3.19</td>\n",
       "      <td>3.40</td>\n",
       "      <td>800</td>\n",
       "      <td>115</td>\n",
       "      <td>5500</td>\n",
       "      <td>18</td>\n",
       "      <td>22</td>\n",
       "      <td>16157€</td>\n",
       "    </tr>\n",
       "    <tr>\n",
       "      <th>5</th>\n",
       "      <td>2</td>\n",
       "      <td>?</td>\n",
       "      <td>audi</td>\n",
       "      <td>gas</td>\n",
       "      <td>std</td>\n",
       "      <td>two</td>\n",
       "      <td>sedan</td>\n",
       "      <td>fwd</td>\n",
       "      <td>front</td>\n",
       "      <td>9980</td>\n",
       "      <td>...</td>\n",
       "      <td>136</td>\n",
       "      <td>mpfi</td>\n",
       "      <td>3.19</td>\n",
       "      <td>3.40</td>\n",
       "      <td>850</td>\n",
       "      <td>110</td>\n",
       "      <td>5500</td>\n",
       "      <td>19</td>\n",
       "      <td>25</td>\n",
       "      <td>14120€</td>\n",
       "    </tr>\n",
       "    <tr>\n",
       "      <th>6</th>\n",
       "      <td>1</td>\n",
       "      <td>158</td>\n",
       "      <td>audi</td>\n",
       "      <td>gas</td>\n",
       "      <td>std</td>\n",
       "      <td>four</td>\n",
       "      <td>sedan</td>\n",
       "      <td>fwd</td>\n",
       "      <td>front</td>\n",
       "      <td>10580</td>\n",
       "      <td>...</td>\n",
       "      <td>136</td>\n",
       "      <td>mpfi</td>\n",
       "      <td>3.19</td>\n",
       "      <td>3.40</td>\n",
       "      <td>850</td>\n",
       "      <td>110</td>\n",
       "      <td>5500</td>\n",
       "      <td>19</td>\n",
       "      <td>25</td>\n",
       "      <td>16398€</td>\n",
       "    </tr>\n",
       "    <tr>\n",
       "      <th>7</th>\n",
       "      <td>1</td>\n",
       "      <td>?</td>\n",
       "      <td>audi</td>\n",
       "      <td>gas</td>\n",
       "      <td>std</td>\n",
       "      <td>four</td>\n",
       "      <td>wagon</td>\n",
       "      <td>fwd</td>\n",
       "      <td>front</td>\n",
       "      <td>10580</td>\n",
       "      <td>...</td>\n",
       "      <td>136</td>\n",
       "      <td>mpfi</td>\n",
       "      <td>3.19</td>\n",
       "      <td>3.40</td>\n",
       "      <td>850</td>\n",
       "      <td>110</td>\n",
       "      <td>5500</td>\n",
       "      <td>19</td>\n",
       "      <td>25</td>\n",
       "      <td>17519€</td>\n",
       "    </tr>\n",
       "    <tr>\n",
       "      <th>8</th>\n",
       "      <td>1</td>\n",
       "      <td>158</td>\n",
       "      <td>audi</td>\n",
       "      <td>gas</td>\n",
       "      <td>turbo</td>\n",
       "      <td>four</td>\n",
       "      <td>sedan</td>\n",
       "      <td>fwd</td>\n",
       "      <td>front</td>\n",
       "      <td>10580</td>\n",
       "      <td>...</td>\n",
       "      <td>131</td>\n",
       "      <td>mpfi</td>\n",
       "      <td>3.13</td>\n",
       "      <td>3.40</td>\n",
       "      <td>830</td>\n",
       "      <td>140</td>\n",
       "      <td>5500</td>\n",
       "      <td>17</td>\n",
       "      <td>20</td>\n",
       "      <td>22106€</td>\n",
       "    </tr>\n",
       "    <tr>\n",
       "      <th>9</th>\n",
       "      <td>0</td>\n",
       "      <td>?</td>\n",
       "      <td>audi</td>\n",
       "      <td>gas</td>\n",
       "      <td>turbo</td>\n",
       "      <td>two</td>\n",
       "      <td>hatchback</td>\n",
       "      <td>4wd</td>\n",
       "      <td>front</td>\n",
       "      <td>9950</td>\n",
       "      <td>...</td>\n",
       "      <td>131</td>\n",
       "      <td>mpfi</td>\n",
       "      <td>3.13</td>\n",
       "      <td>3.40</td>\n",
       "      <td>700</td>\n",
       "      <td>160</td>\n",
       "      <td>5500</td>\n",
       "      <td>16</td>\n",
       "      <td>22</td>\n",
       "      <td>?</td>\n",
       "    </tr>\n",
       "  </tbody>\n",
       "</table>\n",
       "<p>10 rows × 26 columns</p>\n",
       "</div>"
      ],
      "text/plain": [
       "   symboling normalized-losses         make fuel-type aspiration num-of-doors  \\\n",
       "0          3                 ?  alfa-romero       gas        std          two   \n",
       "1          3                 ?  alfa-romero       gas        std          two   \n",
       "2          1                 ?  alfa-romero       gas        std          two   \n",
       "3          2               164         audi       gas        std         four   \n",
       "4          2               164         audi       gas        std         four   \n",
       "5          2                 ?         audi       gas        std          two   \n",
       "6          1               158         audi       gas        std         four   \n",
       "7          1                 ?         audi       gas        std         four   \n",
       "8          1               158         audi       gas      turbo         four   \n",
       "9          0                 ?         audi       gas      turbo          two   \n",
       "\n",
       "    body-style drive-wheels engine-location  wheel-base  ...  engine-size  \\\n",
       "0  convertible          rwd           front        8860  ...          130   \n",
       "1  convertible          rwd           front        8860  ...          130   \n",
       "2    hatchback          rwd           front        9450  ...          152   \n",
       "3        sedan          fwd           front        9980  ...          109   \n",
       "4        sedan          4wd           front        9940  ...          136   \n",
       "5        sedan          fwd           front        9980  ...          136   \n",
       "6        sedan          fwd           front       10580  ...          136   \n",
       "7        wagon          fwd           front       10580  ...          136   \n",
       "8        sedan          fwd           front       10580  ...          131   \n",
       "9    hatchback          4wd           front        9950  ...          131   \n",
       "\n",
       "   fuel-system  bore  stroke compression-ratio horsepower  peak-rpm city-mpg  \\\n",
       "0         mpfi  3.47    2.68               900        111      5000       21   \n",
       "1         mpfi  3.47    2.68               900        111      5000       21   \n",
       "2         mpfi  2.68    3.47               900        154      5000       19   \n",
       "3         mpfi  3.19    3.40              1000        102      5500       24   \n",
       "4         mpfi  3.19    3.40               800        115      5500       18   \n",
       "5         mpfi  3.19    3.40               850        110      5500       19   \n",
       "6         mpfi  3.19    3.40               850        110      5500       19   \n",
       "7         mpfi  3.19    3.40               850        110      5500       19   \n",
       "8         mpfi  3.13    3.40               830        140      5500       17   \n",
       "9         mpfi  3.13    3.40               700        160      5500       16   \n",
       "\n",
       "  highway-mpg   price  \n",
       "0          27  12495€  \n",
       "1          27  15278€  \n",
       "2          26  15278€  \n",
       "3          30  12917€  \n",
       "4          22  16157€  \n",
       "5          25  14120€  \n",
       "6          25  16398€  \n",
       "7          25  17519€  \n",
       "8          20  22106€  \n",
       "9          22       ?  \n",
       "\n",
       "[10 rows x 26 columns]"
      ]
     },
     "execution_count": 28,
     "metadata": {},
     "output_type": "execute_result"
    }
   ],
   "source": [
    "auto_prices = pd.read_csv('02.1.auto_prices.csv')\n",
    "auto_prices.head(10)"
   ]
  },
  {
   "cell_type": "markdown",
   "metadata": {
    "id": "4K6WLSEvtfhf"
   },
   "source": [
    "### Eliminación de las filas duplicadas\n",
    "\n",
    "Mostrar las dimensiones del dataset antes y después de eliminar las filas repetidas:"
   ]
  },
  {
   "cell_type": "code",
   "execution_count": 29,
   "metadata": {
    "colab": {
     "base_uri": "https://localhost:8080/"
    },
    "executionInfo": {
     "elapsed": 10,
     "status": "ok",
     "timestamp": 1740653352497,
     "user": {
      "displayName": "momentum uvigo",
      "userId": "17476504355103610358"
     },
     "user_tz": -60
    },
    "id": "avUCAL1hte8d",
    "outputId": "39965888-7c94-4c95-c32e-9c7f4a3083c9"
   },
   "outputs": [
    {
     "name": "stdout",
     "output_type": "stream",
     "text": [
      "Dimensiones del dataset con duplicados: (228, 26)\n",
      "Dimensiones del dataset sin duplicados: (205, 26)\n"
     ]
    }
   ],
   "source": [
    "print(\"Dimensiones del dataset con duplicados:\",auto_prices.shape)\n",
    "auto_prices.drop_duplicates(inplace=True)\n",
    "print(\"Dimensiones del dataset sin duplicados:\",auto_prices.shape)"
   ]
  },
  {
   "cell_type": "markdown",
   "metadata": {
    "id": "el0Lae_rufxz"
   },
   "source": [
    "### Información del dataset\n",
    "Mostrar la información del dataset ofrecida por las instrucciones *describe* e *info*."
   ]
  },
  {
   "cell_type": "code",
   "execution_count": 30,
   "metadata": {
    "colab": {
     "base_uri": "https://localhost:8080/"
    },
    "executionInfo": {
     "elapsed": 16,
     "status": "ok",
     "timestamp": 1740653352505,
     "user": {
      "displayName": "momentum uvigo",
      "userId": "17476504355103610358"
     },
     "user_tz": -60
    },
    "id": "tjiiCYswugZz",
    "outputId": "78754a93-ac42-4f59-ee6a-1852548af803"
   },
   "outputs": [
    {
     "name": "stdout",
     "output_type": "stream",
     "text": [
      "<class 'pandas.core.frame.DataFrame'>\n",
      "Index: 205 entries, 0 to 204\n",
      "Data columns (total 26 columns):\n",
      " #   Column             Non-Null Count  Dtype \n",
      "---  ------             --------------  ----- \n",
      " 0   symboling          205 non-null    int64 \n",
      " 1   normalized-losses  205 non-null    object\n",
      " 2   make               205 non-null    object\n",
      " 3   fuel-type          205 non-null    object\n",
      " 4   aspiration         205 non-null    object\n",
      " 5   num-of-doors       205 non-null    object\n",
      " 6   body-style         205 non-null    object\n",
      " 7   drive-wheels       205 non-null    object\n",
      " 8   engine-location    205 non-null    object\n",
      " 9   wheel-base         205 non-null    int64 \n",
      " 10  length             205 non-null    int64 \n",
      " 11  width              205 non-null    int64 \n",
      " 12  height             205 non-null    int64 \n",
      " 13  curb-weight        205 non-null    int64 \n",
      " 14  engine-type        205 non-null    object\n",
      " 15  num-of-cylinders   205 non-null    object\n",
      " 16  engine-size        205 non-null    int64 \n",
      " 17  fuel-system        205 non-null    object\n",
      " 18  bore               205 non-null    object\n",
      " 19  stroke             205 non-null    object\n",
      " 20  compression-ratio  205 non-null    int64 \n",
      " 21  horsepower         205 non-null    object\n",
      " 22  peak-rpm           205 non-null    object\n",
      " 23  city-mpg           205 non-null    int64 \n",
      " 24  highway-mpg        205 non-null    int64 \n",
      " 25  price              205 non-null    object\n",
      "dtypes: int64(10), object(16)\n",
      "memory usage: 43.2+ KB\n"
     ]
    }
   ],
   "source": [
    "auto_prices.info();"
   ]
  },
  {
   "cell_type": "markdown",
   "metadata": {
    "id": "QkpI3ohUDzZQ"
   },
   "source": [
    "### Modificación de nombres de columnas\n",
    "\n",
    "Se deben eliminar o sustituir los caracteres en los nombres de las columnas que puedan generar errores en Python. Por ejemplo `'-'` , '`,`' , '`*`' , '`/`' , '`|`' , '`>`' , '`<`' , '`@`' , '`!`' etc.\n",
    "\n",
    "Recorrer los nombres de las columnas reemplazándo el carácter '`-`' por '`_`':"
   ]
  },
  {
   "cell_type": "code",
   "execution_count": 31,
   "metadata": {
    "executionInfo": {
     "elapsed": 95,
     "status": "ok",
     "timestamp": 1740653352601,
     "user": {
      "displayName": "momentum uvigo",
      "userId": "17476504355103610358"
     },
     "user_tz": -60
    },
    "id": "Iire6oJFDzZR"
   },
   "outputs": [],
   "source": [
    "auto_prices.columns = [str.replace('-', '_') for str in auto_prices.columns]"
   ]
  },
  {
   "cell_type": "markdown",
   "metadata": {
    "id": "iuzvS1MyDzZR"
   },
   "source": [
    "### Valores ausentes (*missing values*)\n",
    "\n",
    "En este dataset, los valores ausentes están representados por un signo de interrogación (?). Se deben reemplazar por `np.nan`."
   ]
  },
  {
   "cell_type": "code",
   "execution_count": 32,
   "metadata": {
    "executionInfo": {
     "elapsed": 14,
     "status": "ok",
     "timestamp": 1740653352616,
     "user": {
      "displayName": "momentum uvigo",
      "userId": "17476504355103610358"
     },
     "user_tz": -60
    },
    "id": "_wG5CXWXxwNb"
   },
   "outputs": [],
   "source": [
    "auto_prices.replace(\"?\", np.nan, inplace=True)"
   ]
  },
  {
   "cell_type": "markdown",
   "metadata": {
    "id": "xq4m0ReVysad"
   },
   "source": [
    "Mostrar cuantos valores ausentes (np.nan) hay en cada columna."
   ]
  },
  {
   "cell_type": "code",
   "execution_count": 33,
   "metadata": {
    "colab": {
     "base_uri": "https://localhost:8080/"
    },
    "executionInfo": {
     "elapsed": 33,
     "status": "ok",
     "timestamp": 1740653352636,
     "user": {
      "displayName": "momentum uvigo",
      "userId": "17476504355103610358"
     },
     "user_tz": -60
    },
    "id": "IW1oV_CUyeXl",
    "outputId": "f89f4f4a-0ef8-44ec-bbbe-d19ddeac6cc4"
   },
   "outputs": [
    {
     "name": "stdout",
     "output_type": "stream",
     "text": [
      "symboling             0\n",
      "normalized_losses    41\n",
      "make                  0\n",
      "fuel_type             0\n",
      "aspiration            0\n",
      "num_of_doors          2\n",
      "body_style            0\n",
      "drive_wheels          0\n",
      "engine_location       0\n",
      "wheel_base            0\n",
      "length                0\n",
      "width                 0\n",
      "height                0\n",
      "curb_weight           0\n",
      "engine_type           0\n",
      "num_of_cylinders      0\n",
      "engine_size           0\n",
      "fuel_system           0\n",
      "bore                  4\n",
      "stroke                4\n",
      "compression_ratio     0\n",
      "horsepower            2\n",
      "peak_rpm              2\n",
      "city_mpg              0\n",
      "highway_mpg           0\n",
      "price                 4\n",
      "dtype: int64\n"
     ]
    }
   ],
   "source": [
    "print(auto_prices.isnull().sum())"
   ]
  },
  {
   "cell_type": "markdown",
   "metadata": {
    "id": "cxrwYn-1JbfG"
   },
   "source": [
    "Se debe eliminar la  columna normalize_losses ya que tiene muchos valores ausentes."
   ]
  },
  {
   "cell_type": "code",
   "execution_count": 34,
   "metadata": {
    "executionInfo": {
     "elapsed": 3,
     "status": "ok",
     "timestamp": 1740653352658,
     "user": {
      "displayName": "momentum uvigo",
      "userId": "17476504355103610358"
     },
     "user_tz": -60
    },
    "id": "2dDWsFS9JqGp"
   },
   "outputs": [],
   "source": [
    "auto_prices.drop('normalized_losses', axis = 1, inplace = True)"
   ]
  },
  {
   "cell_type": "markdown",
   "metadata": {
    "id": "kgdkcXUcDzZT"
   },
   "source": [
    "\n",
    "Eliminar las filas que contengan `np.nan` y mostrar las dimensiones del dataset."
   ]
  },
  {
   "cell_type": "code",
   "execution_count": 35,
   "metadata": {
    "colab": {
     "base_uri": "https://localhost:8080/"
    },
    "executionInfo": {
     "elapsed": 17,
     "status": "ok",
     "timestamp": 1740653352679,
     "user": {
      "displayName": "momentum uvigo",
      "userId": "17476504355103610358"
     },
     "user_tz": -60
    },
    "id": "Rsw_DNuxDzZT",
    "outputId": "64b3ef61-609e-499b-c1e9-be0cedb4f932"
   },
   "outputs": [
    {
     "data": {
      "text/plain": [
       "(193, 25)"
      ]
     },
     "execution_count": 35,
     "metadata": {},
     "output_type": "execute_result"
    }
   ],
   "source": [
    "auto_prices.dropna(axis = 0, inplace = True)\n",
    "auto_prices.shape"
   ]
  },
  {
   "cell_type": "markdown",
   "metadata": {
    "id": "tft7qiVHDzZS"
   },
   "source": [
    "Mostrar los tipos de todas las columnas."
   ]
  },
  {
   "cell_type": "code",
   "execution_count": 36,
   "metadata": {
    "colab": {
     "base_uri": "https://localhost:8080/",
     "height": 868
    },
    "executionInfo": {
     "elapsed": 47,
     "status": "ok",
     "timestamp": 1740653352736,
     "user": {
      "displayName": "momentum uvigo",
      "userId": "17476504355103610358"
     },
     "user_tz": -60
    },
    "id": "8n-yZHlFDzZS",
    "outputId": "06fa3283-a266-4beb-81c9-713a2b9bb8c4"
   },
   "outputs": [
    {
     "data": {
      "text/plain": [
       "symboling             int64\n",
       "make                 object\n",
       "fuel_type            object\n",
       "aspiration           object\n",
       "num_of_doors         object\n",
       "body_style           object\n",
       "drive_wheels         object\n",
       "engine_location      object\n",
       "wheel_base            int64\n",
       "length                int64\n",
       "width                 int64\n",
       "height                int64\n",
       "curb_weight           int64\n",
       "engine_type          object\n",
       "num_of_cylinders     object\n",
       "engine_size           int64\n",
       "fuel_system          object\n",
       "bore                 object\n",
       "stroke               object\n",
       "compression_ratio     int64\n",
       "horsepower           object\n",
       "peak_rpm             object\n",
       "city_mpg              int64\n",
       "highway_mpg           int64\n",
       "price                object\n",
       "dtype: object"
      ]
     },
     "execution_count": 36,
     "metadata": {},
     "output_type": "execute_result"
    }
   ],
   "source": [
    "auto_prices.dtypes"
   ]
  },
  {
   "cell_type": "markdown",
   "metadata": {
    "id": "T-jFJsqpIBwM"
   },
   "source": [
    "La columna *price* contiene valores en dólares y en euros. Unificar el precio en dólares omitiendo el símbolo $.\n",
    "\n",
    "Mostrar las primeras filas para confirmar el cambio."
   ]
  },
  {
   "cell_type": "code",
   "execution_count": 37,
   "metadata": {
    "colab": {
     "base_uri": "https://localhost:8080/",
     "height": 307
    },
    "executionInfo": {
     "elapsed": 68,
     "status": "ok",
     "timestamp": 1740653352805,
     "user": {
      "displayName": "momentum uvigo",
      "userId": "17476504355103610358"
     },
     "user_tz": -60
    },
    "id": "PD9lkVneIjfj",
    "outputId": "a586308b-4abd-4706-a57e-2e3adbd500c6"
   },
   "outputs": [
    {
     "data": {
      "text/html": [
       "<div>\n",
       "<style scoped>\n",
       "    .dataframe tbody tr th:only-of-type {\n",
       "        vertical-align: middle;\n",
       "    }\n",
       "\n",
       "    .dataframe tbody tr th {\n",
       "        vertical-align: top;\n",
       "    }\n",
       "\n",
       "    .dataframe thead th {\n",
       "        text-align: right;\n",
       "    }\n",
       "</style>\n",
       "<table border=\"1\" class=\"dataframe\">\n",
       "  <thead>\n",
       "    <tr style=\"text-align: right;\">\n",
       "      <th></th>\n",
       "      <th>symboling</th>\n",
       "      <th>make</th>\n",
       "      <th>fuel_type</th>\n",
       "      <th>aspiration</th>\n",
       "      <th>num_of_doors</th>\n",
       "      <th>body_style</th>\n",
       "      <th>drive_wheels</th>\n",
       "      <th>engine_location</th>\n",
       "      <th>wheel_base</th>\n",
       "      <th>length</th>\n",
       "      <th>...</th>\n",
       "      <th>engine_size</th>\n",
       "      <th>fuel_system</th>\n",
       "      <th>bore</th>\n",
       "      <th>stroke</th>\n",
       "      <th>compression_ratio</th>\n",
       "      <th>horsepower</th>\n",
       "      <th>peak_rpm</th>\n",
       "      <th>city_mpg</th>\n",
       "      <th>highway_mpg</th>\n",
       "      <th>price</th>\n",
       "    </tr>\n",
       "  </thead>\n",
       "  <tbody>\n",
       "    <tr>\n",
       "      <th>0</th>\n",
       "      <td>3</td>\n",
       "      <td>alfa-romero</td>\n",
       "      <td>gas</td>\n",
       "      <td>std</td>\n",
       "      <td>two</td>\n",
       "      <td>convertible</td>\n",
       "      <td>rwd</td>\n",
       "      <td>front</td>\n",
       "      <td>8860</td>\n",
       "      <td>16880</td>\n",
       "      <td>...</td>\n",
       "      <td>130</td>\n",
       "      <td>mpfi</td>\n",
       "      <td>3.47</td>\n",
       "      <td>2.68</td>\n",
       "      <td>900</td>\n",
       "      <td>111</td>\n",
       "      <td>5000</td>\n",
       "      <td>21</td>\n",
       "      <td>27</td>\n",
       "      <td>13494</td>\n",
       "    </tr>\n",
       "    <tr>\n",
       "      <th>1</th>\n",
       "      <td>3</td>\n",
       "      <td>alfa-romero</td>\n",
       "      <td>gas</td>\n",
       "      <td>std</td>\n",
       "      <td>two</td>\n",
       "      <td>convertible</td>\n",
       "      <td>rwd</td>\n",
       "      <td>front</td>\n",
       "      <td>8860</td>\n",
       "      <td>16880</td>\n",
       "      <td>...</td>\n",
       "      <td>130</td>\n",
       "      <td>mpfi</td>\n",
       "      <td>3.47</td>\n",
       "      <td>2.68</td>\n",
       "      <td>900</td>\n",
       "      <td>111</td>\n",
       "      <td>5000</td>\n",
       "      <td>21</td>\n",
       "      <td>27</td>\n",
       "      <td>16500</td>\n",
       "    </tr>\n",
       "    <tr>\n",
       "      <th>2</th>\n",
       "      <td>1</td>\n",
       "      <td>alfa-romero</td>\n",
       "      <td>gas</td>\n",
       "      <td>std</td>\n",
       "      <td>two</td>\n",
       "      <td>hatchback</td>\n",
       "      <td>rwd</td>\n",
       "      <td>front</td>\n",
       "      <td>9450</td>\n",
       "      <td>17120</td>\n",
       "      <td>...</td>\n",
       "      <td>152</td>\n",
       "      <td>mpfi</td>\n",
       "      <td>2.68</td>\n",
       "      <td>3.47</td>\n",
       "      <td>900</td>\n",
       "      <td>154</td>\n",
       "      <td>5000</td>\n",
       "      <td>19</td>\n",
       "      <td>26</td>\n",
       "      <td>16500</td>\n",
       "    </tr>\n",
       "    <tr>\n",
       "      <th>3</th>\n",
       "      <td>2</td>\n",
       "      <td>audi</td>\n",
       "      <td>gas</td>\n",
       "      <td>std</td>\n",
       "      <td>four</td>\n",
       "      <td>sedan</td>\n",
       "      <td>fwd</td>\n",
       "      <td>front</td>\n",
       "      <td>9980</td>\n",
       "      <td>17660</td>\n",
       "      <td>...</td>\n",
       "      <td>109</td>\n",
       "      <td>mpfi</td>\n",
       "      <td>3.19</td>\n",
       "      <td>3.40</td>\n",
       "      <td>1000</td>\n",
       "      <td>102</td>\n",
       "      <td>5500</td>\n",
       "      <td>24</td>\n",
       "      <td>30</td>\n",
       "      <td>13950</td>\n",
       "    </tr>\n",
       "    <tr>\n",
       "      <th>4</th>\n",
       "      <td>2</td>\n",
       "      <td>audi</td>\n",
       "      <td>gas</td>\n",
       "      <td>std</td>\n",
       "      <td>four</td>\n",
       "      <td>sedan</td>\n",
       "      <td>4wd</td>\n",
       "      <td>front</td>\n",
       "      <td>9940</td>\n",
       "      <td>17660</td>\n",
       "      <td>...</td>\n",
       "      <td>136</td>\n",
       "      <td>mpfi</td>\n",
       "      <td>3.19</td>\n",
       "      <td>3.40</td>\n",
       "      <td>800</td>\n",
       "      <td>115</td>\n",
       "      <td>5500</td>\n",
       "      <td>18</td>\n",
       "      <td>22</td>\n",
       "      <td>17449</td>\n",
       "    </tr>\n",
       "  </tbody>\n",
       "</table>\n",
       "<p>5 rows × 25 columns</p>\n",
       "</div>"
      ],
      "text/plain": [
       "   symboling         make fuel_type aspiration num_of_doors   body_style  \\\n",
       "0          3  alfa-romero       gas        std          two  convertible   \n",
       "1          3  alfa-romero       gas        std          two  convertible   \n",
       "2          1  alfa-romero       gas        std          two    hatchback   \n",
       "3          2         audi       gas        std         four        sedan   \n",
       "4          2         audi       gas        std         four        sedan   \n",
       "\n",
       "  drive_wheels engine_location  wheel_base  length  ...  engine_size  \\\n",
       "0          rwd           front        8860   16880  ...          130   \n",
       "1          rwd           front        8860   16880  ...          130   \n",
       "2          rwd           front        9450   17120  ...          152   \n",
       "3          fwd           front        9980   17660  ...          109   \n",
       "4          4wd           front        9940   17660  ...          136   \n",
       "\n",
       "   fuel_system  bore stroke compression_ratio  horsepower peak_rpm city_mpg  \\\n",
       "0         mpfi  3.47   2.68               900         111     5000       21   \n",
       "1         mpfi  3.47   2.68               900         111     5000       21   \n",
       "2         mpfi  2.68   3.47               900         154     5000       19   \n",
       "3         mpfi  3.19   3.40              1000         102     5500       24   \n",
       "4         mpfi  3.19   3.40               800         115     5500       18   \n",
       "\n",
       "  highway_mpg  price  \n",
       "0          27  13494  \n",
       "1          27  16500  \n",
       "2          26  16500  \n",
       "3          30  13950  \n",
       "4          22  17449  \n",
       "\n",
       "[5 rows x 25 columns]"
      ]
     },
     "execution_count": 37,
     "metadata": {},
     "output_type": "execute_result"
    }
   ],
   "source": [
    "def unifica_moneda(fila):\n",
    "  precio = fila.iloc[24]\n",
    "  if fila.iloc[24].endswith(\"$\"):\n",
    "    return int(precio[:-1])\n",
    "  else:\n",
    "    return int(float(precio[:-1])*1.08)\n",
    "\n",
    "auto_prices['price'] = auto_prices.apply(unifica_moneda, axis=1)\n",
    "auto_prices.head()"
   ]
  },
  {
   "cell_type": "markdown",
   "metadata": {
    "id": "J1QRaahbDzZU"
   },
   "source": [
    "### Transformación del tipo de dato de las columnas\n",
    "\n",
    "Las columnas *bore*, *stroke*, *horsepower* y *peak_rpm* se cargaron como tipo `object` en lugar de numéricas porque contenían el símbolo `?`.\n",
    "\n",
    "Convertir dichas columnas a tipo numérico y mostrar los nuevos tipos."
   ]
  },
  {
   "cell_type": "code",
   "execution_count": 38,
   "metadata": {
    "colab": {
     "base_uri": "https://localhost:8080/",
     "height": 209
    },
    "executionInfo": {
     "elapsed": 36,
     "status": "ok",
     "timestamp": 1740653352857,
     "user": {
      "displayName": "momentum uvigo",
      "userId": "17476504355103610358"
     },
     "user_tz": -60
    },
    "id": "vAa46cfkDzZU",
    "outputId": "cd917e4f-8e94-4704-e7e7-e7a837b31b7f"
   },
   "outputs": [
    {
     "data": {
      "text/plain": [
       "bore          float64\n",
       "stroke        float64\n",
       "horsepower      int64\n",
       "peak_rpm        int64\n",
       "dtype: object"
      ]
     },
     "execution_count": 38,
     "metadata": {},
     "output_type": "execute_result"
    }
   ],
   "source": [
    "cols = [\"bore\", \"stroke\", \"horsepower\", \"peak_rpm\"]\n",
    "for column in cols:\n",
    "    auto_prices[column] = pd.to_numeric(auto_prices[column])\n",
    "auto_prices[cols].dtypes"
   ]
  },
  {
   "cell_type": "markdown",
   "metadata": {
    "id": "4BSQqHrSDzZU"
   },
   "source": [
    "### Feature engineering y transformación de variables"
   ]
  },
  {
   "cell_type": "markdown",
   "metadata": {
    "id": "H6-m0kPGDzZU"
   },
   "source": [
    "#### Agregación de variables categóricas\n",
    "\n",
    "Calcular y mostrar la tabla de frecuencias de la columna `num_of_cylinders`. Interpreta el resultado."
   ]
  },
  {
   "cell_type": "code",
   "execution_count": 39,
   "metadata": {
    "colab": {
     "base_uri": "https://localhost:8080/",
     "height": 303
    },
    "executionInfo": {
     "elapsed": 31,
     "status": "ok",
     "timestamp": 1740653352889,
     "user": {
      "displayName": "momentum uvigo",
      "userId": "17476504355103610358"
     },
     "user_tz": -60
    },
    "id": "N38OpH8JDzZU",
    "outputId": "25211089-702e-46aa-9ec7-50c1e132da04"
   },
   "outputs": [
    {
     "data": {
      "text/plain": [
       "num_of_cylinders\n",
       "four      153\n",
       "six        24\n",
       "five       10\n",
       "eight       4\n",
       "three       1\n",
       "twelve      1\n",
       "Name: count, dtype: int64"
      ]
     },
     "execution_count": 39,
     "metadata": {},
     "output_type": "execute_result"
    }
   ],
   "source": [
    "auto_prices['num_of_cylinders'].value_counts()"
   ]
  },
  {
   "cell_type": "markdown",
   "metadata": {
    "id": "YdnsmmBODzZU"
   },
   "source": [
    "Las categorías con muy pocas instancias (`three`, `five`, `eight` y `twelve`), son estadísticamente muy poco relevantes, por lo que se agregarán en un número menor de categorías: `three_four`, `five_six` y `eight_twelve`.\n",
    "\n",
    "Mostrar las nuevas categorías y sus frecuencias."
   ]
  },
  {
   "cell_type": "code",
   "execution_count": 40,
   "metadata": {
    "colab": {
     "base_uri": "https://localhost:8080/",
     "height": 209
    },
    "executionInfo": {
     "elapsed": 6,
     "status": "ok",
     "timestamp": 1740653352897,
     "user": {
      "displayName": "momentum uvigo",
      "userId": "17476504355103610358"
     },
     "user_tz": -60
    },
    "id": "FocDI99UDzZV",
    "outputId": "78ca25e3-135f-431a-9510-c6c7397a1c7d"
   },
   "outputs": [
    {
     "data": {
      "text/plain": [
       "num_of_cylinders\n",
       "three_four      154\n",
       "five_six         34\n",
       "eight_twelve      5\n",
       "Name: count, dtype: int64"
      ]
     },
     "execution_count": 40,
     "metadata": {},
     "output_type": "execute_result"
    }
   ],
   "source": [
    "\n",
    "cylinder_categories = {'three':'three_four', 'four':'three_four',\n",
    "                    'five':'five_six', 'six':'five_six',\n",
    "                    'eight':'eight_twelve', 'twelve':'eight_twelve'}\n",
    "\n",
    "auto_prices.replace({'num_of_cylinders': cylinder_categories},inplace=True)\n",
    "auto_prices['num_of_cylinders'].value_counts()\n"
   ]
  },
  {
   "cell_type": "markdown",
   "metadata": {
    "id": "ijnbUOc6DzZV"
   },
   "source": [
    "Mostrar con diagramas de cajas (*boxplot*) la distribución de precios para cada una de las tres categorias de la columna `num_of_cylinders`."
   ]
  },
  {
   "cell_type": "code",
   "execution_count": 41,
   "metadata": {
    "colab": {
     "base_uri": "https://localhost:8080/",
     "height": 449
    },
    "executionInfo": {
     "elapsed": 78,
     "status": "ok",
     "timestamp": 1740653352978,
     "user": {
      "displayName": "momentum uvigo",
      "userId": "17476504355103610358"
     },
     "user_tz": -60
    },
    "id": "jg2kIn7GDzZV",
    "outputId": "57f4a2dc-ec0a-43c8-ac01-6e001eb51e18"
   },
   "outputs": [
    {
     "data": {
      "image/png": "[encoded data removed]",
      "text/plain": [
       "<Figure size 640x480 with 1 Axes>"
      ]
     },
     "metadata": {},
     "output_type": "display_data"
    }
   ],
   "source": [
    "sns.set_style(\"whitegrid\")\n",
    "sns.boxplot(x='price', y='num_of_cylinders', data=auto_prices)\n",
    "plt.xlabel('price')\n",
    "plt.ylabel('num_of_cylinders');\n"
   ]
  },
  {
   "cell_type": "markdown",
   "metadata": {
    "id": "5aLXOXcbDzZV"
   },
   "source": [
    "Calcular la frecuencia de cada categoría de la columna 'body_style'."
   ]
  },
  {
   "cell_type": "code",
   "execution_count": 42,
   "metadata": {
    "colab": {
     "base_uri": "https://localhost:8080/",
     "height": 272
    },
    "executionInfo": {
     "elapsed": 24,
     "status": "ok",
     "timestamp": 1740653353003,
     "user": {
      "displayName": "momentum uvigo",
      "userId": "17476504355103610358"
     },
     "user_tz": -60
    },
    "id": "RXsLppAUDzZV",
    "outputId": "35fe434c-54d7-4a13-a325-af81167bb204"
   },
   "outputs": [
    {
     "data": {
      "text/plain": [
       "body_style\n",
       "sedan          92\n",
       "hatchback      63\n",
       "wagon          24\n",
       "hardtop         8\n",
       "convertible     6\n",
       "Name: count, dtype: int64"
      ]
     },
     "execution_count": 42,
     "metadata": {},
     "output_type": "execute_result"
    }
   ],
   "source": [
    "auto_prices['body_style'].value_counts()"
   ]
  },
  {
   "cell_type": "markdown",
   "metadata": {
    "id": "EXjDutCuDzZV"
   },
   "source": [
    "Dos de las categorías tienen un número bajo de ocurrencias. Estas categorías  se pueden agregar de forma similar a cómo se hizo con la columna '`num_of_cylinders`'.\n",
    "\n",
    "Los valores '`hardtop`' y '`convertible`' se agruparán en '`hardtop_convert`."
   ]
  },
  {
   "cell_type": "code",
   "execution_count": 43,
   "metadata": {
    "colab": {
     "base_uri": "https://localhost:8080/",
     "height": 241
    },
    "executionInfo": {
     "elapsed": 10,
     "status": "ok",
     "timestamp": 1740653353014,
     "user": {
      "displayName": "momentum uvigo",
      "userId": "17476504355103610358"
     },
     "user_tz": -60
    },
    "id": "zGnaZJFSDzZV",
    "outputId": "8ac5edd1-63ba-40f2-979c-e5ddb45040c2"
   },
   "outputs": [
    {
     "data": {
      "text/plain": [
       "body_style\n",
       "sedan              92\n",
       "hatchback          63\n",
       "wagon              24\n",
       "hardtop_convert    14\n",
       "Name: count, dtype: int64"
      ]
     },
     "execution_count": 43,
     "metadata": {},
     "output_type": "execute_result"
    }
   ],
   "source": [
    "body_cats = {'sedan':'sedan', 'hatchback':'hatchback', 'wagon':'wagon',\n",
    "             'hardtop':'hardtop_convert', 'convertible':'hardtop_convert'}\n",
    "auto_prices.replace({'body_style': body_cats},inplace=True)\n",
    "\n",
    "auto_prices['body_style'].value_counts()"
   ]
  },
  {
   "cell_type": "markdown",
   "metadata": {
    "id": "PL5tlLS2DzZW"
   },
   "source": [
    "Mostrar con diagramas de cajas (boxplot) la distribución de precios para cada una de las categorias de la columna `body_style`."
   ]
  },
  {
   "cell_type": "code",
   "execution_count": 44,
   "metadata": {
    "colab": {
     "base_uri": "https://localhost:8080/",
     "height": 449
    },
    "executionInfo": {
     "elapsed": 204,
     "status": "ok",
     "timestamp": 1740653353234,
     "user": {
      "displayName": "momentum uvigo",
      "userId": "17476504355103610358"
     },
     "user_tz": -60
    },
    "id": "k5Wn9lcyDzZW",
    "outputId": "a2bae9a8-940d-4542-ba1a-003c750f947d"
   },
   "outputs": [
    {
     "data": {
      "image/png": "[encoded data removed]",
      "text/plain": [
       "<Figure size 640x480 with 1 Axes>"
      ]
     },
     "metadata": {},
     "output_type": "display_data"
    }
   ],
   "source": [
    "sns.boxplot(x='price', y='body_style', data=auto_prices)\n",
    "plt.xlabel('price')\n",
    "plt.ylabel('body_style');"
   ]
  },
  {
   "cell_type": "markdown",
   "metadata": {
    "id": "k9q2tQ-PAp7s"
   },
   "source": [
    "Usar `matplotlib.cbook.boxplot_stats` para mostrar la información del precio del las filas con valor '*sedan*' en la columna '*body_style*'."
   ]
  },
  {
   "cell_type": "code",
   "execution_count": 45,
   "metadata": {
    "colab": {
     "base_uri": "https://localhost:8080/"
    },
    "executionInfo": {
     "elapsed": 10,
     "status": "ok",
     "timestamp": 1740653353262,
     "user": {
      "displayName": "momentum uvigo",
      "userId": "17476504355103610358"
     },
     "user_tz": -60
    },
    "id": "CNRRPAL38txG",
    "outputId": "7471c783-26c8-4b03-9f9b-d85a74ea35a3"
   },
   "outputs": [
    {
     "data": {
      "text/plain": [
       "(193, 25)"
      ]
     },
     "execution_count": 45,
     "metadata": {},
     "output_type": "execute_result"
    }
   ],
   "source": [
    "from matplotlib.cbook import boxplot_stats\n",
    "\n",
    "sedan_prices = auto_prices[auto_prices['body_style']=='sedan']['price'].values\n",
    "diccioStats=boxplot_stats(sedan_prices)\n",
    "diccioStats\n",
    "auto_prices.shape"
   ]
  },
  {
   "cell_type": "markdown",
   "metadata": {
    "id": "TvLmBKshBI0I"
   },
   "source": [
    "Usando el valor '`whishi`' recién calculado, eliminar las filas que tienen ese precio cuando en la columna '*body_style*' se encuentra el valor '*sedan*'."
   ]
  },
  {
   "cell_type": "code",
   "execution_count": 22,
   "metadata": {
    "executionInfo": {
     "elapsed": 5,
     "status": "ok",
     "timestamp": 1740653353263,
     "user": {
      "displayName": "momentum uvigo",
      "userId": "17476504355103610358"
     },
     "user_tz": -60
    },
    "id": "pus2kFT198i3"
   },
   "outputs": [
    {
     "data": {
      "text/plain": [
       "(186, 25)"
      ]
     },
     "execution_count": 22,
     "metadata": {},
     "output_type": "execute_result"
    }
   ],
   "source": [
    "limit = diccioStats[0]['whishi']\n",
    "auto_prices = auto_prices.drop(auto_prices[(auto_prices['price']>= limit) & (auto_prices['body_style']=='sedan')].index)\n",
    "auto_prices.shape"
   ]
  },
  {
   "cell_type": "markdown",
   "metadata": {
    "id": "7FwGJVeDBnaA"
   },
   "source": [
    "Comprobar el efecto volviendo a mostrar el diagrama de cajas del precio en función de la columna '*body_style*'."
   ]
  },
  {
   "cell_type": "code",
   "execution_count": 23,
   "metadata": {
    "colab": {
     "base_uri": "https://localhost:8080/",
     "height": 449
    },
    "executionInfo": {
     "elapsed": 257,
     "status": "ok",
     "timestamp": 1740653353518,
     "user": {
      "displayName": "momentum uvigo",
      "userId": "17476504355103610358"
     },
     "user_tz": -60
    },
    "id": "PyuWGoB3_wj3",
    "outputId": "9cad7d67-20bd-4940-ec1d-2aac5b1481b7"
   },
   "outputs": [
    {
     "data": {
      "image/png": "[encoded data removed]",
      "text/plain": [
       "<Figure size 640x480 with 1 Axes>"
      ]
     },
     "metadata": {},
     "output_type": "display_data"
    }
   ],
   "source": [
    "sns.boxplot(x='price', y='body_style', data=auto_prices)\n",
    "plt.xlabel('price')\n",
    "plt.ylabel('body_style');"
   ]
  },
  {
   "cell_type": "markdown",
   "metadata": {
    "id": "IXOj7UYhfdJb"
   },
   "source": [
    "### Mostrar un mapa de calor de las columnas numéricas\n"
   ]
  },
  {
   "cell_type": "code",
   "execution_count": 24,
   "metadata": {
    "colab": {
     "base_uri": "https://localhost:8080/"
    },
    "executionInfo": {
     "elapsed": 22,
     "status": "ok",
     "timestamp": 1740653353523,
     "user": {
      "displayName": "momentum uvigo",
      "userId": "17476504355103610358"
     },
     "user_tz": -60
    },
    "id": "g_zlz1ZSgGmE",
    "outputId": "2196c217-da46-4561-b73f-c97604c6e287"
   },
   "outputs": [
    {
     "name": "stdout",
     "output_type": "stream",
     "text": [
      "['symboling', 'wheel_base', 'length', 'width', 'height', 'curb_weight', 'engine_size', 'bore', 'stroke', 'compression_ratio', 'horsepower', 'peak_rpm', 'city_mpg', 'highway_mpg', 'price']\n"
     ]
    }
   ],
   "source": [
    "# Localizar el nombre de las columnas numéricas\n",
    "cols = auto_prices.select_dtypes([np.number]).columns\n",
    "print (list(cols))\n"
   ]
  },
  {
   "cell_type": "code",
   "execution_count": 25,
   "metadata": {
    "colab": {
     "base_uri": "https://localhost:8080/",
     "height": 641
    },
    "executionInfo": {
     "elapsed": 1501,
     "status": "ok",
     "timestamp": 1740653355023,
     "user": {
      "displayName": "momentum uvigo",
      "userId": "17476504355103610358"
     },
     "user_tz": -60
    },
    "id": "ALII4ndhiPsN",
    "outputId": "a1faad50-b429-4e39-b7c1-6cf814f3fbb7"
   },
   "outputs": [
    {
     "data": {
      "image/png": "[encoded data removed]",
      "text/plain": [
       "<Figure size 1100x600 with 2 Axes>"
      ]
     },
     "metadata": {},
     "output_type": "display_data"
    }
   ],
   "source": [
    "# Valores absolutos de las correlaciones\n",
    "corr = auto_prices.select_dtypes([np.number]).corr().abs()\n",
    "\n",
    "# Mapa de calor\n",
    "f, ax = plt.subplots(figsize=(11, 6))\n",
    "sns.heatmap(corr.abs(), annot=True, fmt=\".2f\", linewidths=.5, ax=ax);\n"
   ]
  },
  {
   "cell_type": "markdown",
   "metadata": {
    "id": "FhoSjKGQAdZk"
   },
   "source": [
    "### Guardar en un fichero *csv* el dataset preparado"
   ]
  },
  {
   "cell_type": "code",
   "execution_count": 26,
   "metadata": {
    "executionInfo": {
     "elapsed": 2,
     "status": "ok",
     "timestamp": 1740653355028,
     "user": {
      "displayName": "momentum uvigo",
      "userId": "17476504355103610358"
     },
     "user_tz": -60
    },
    "id": "mkVJw2GqDzZj"
   },
   "outputs": [],
   "source": [
    "auto_prices.to_csv('Auto_prices_prep.csv', index = False, header = True)"
   ]
  }
 ],
 "metadata": {
  "colab": {
   "provenance": []
  },
  "kernelspec": {
   "display_name": "Python 3",
   "language": "python",
   "name": "python3"
  },
  "language_info": {
   "codemirror_mode": {
    "name": "ipython",
    "version": 3
   },
   "file_extension": ".py",
   "mimetype": "text/x-python",
   "name": "python",
   "nbconvert_exporter": "python",
   "pygments_lexer": "ipython3",
   "version": "3.13.2"
  }
 },
 "nbformat": 4,
 "nbformat_minor": 0
}
